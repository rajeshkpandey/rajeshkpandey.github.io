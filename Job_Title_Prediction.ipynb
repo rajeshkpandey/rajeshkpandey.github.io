{
  "cells": [
    {
      "cell_type": "markdown",
      "metadata": {
        "id": "view-in-github",
        "colab_type": "text"
      },
      "source": [
        "<a href=\"https://colab.research.google.com/github/rajeshkpandey/rajeshkpandey.github.io/blob/main/Job_Title_Prediction.ipynb\" target=\"_parent\"><img src=\"https://colab.research.google.com/assets/colab-badge.svg\" alt=\"Open In Colab\"/></a>"
      ]
    },
    {
      "cell_type": "code",
      "execution_count": null,
      "id": "7b456947",
      "metadata": {
        "id": "7b456947",
        "outputId": "e2349ad9-44bb-4aa0-99a7-063d82ff6ef2"
      },
      "outputs": [
        {
          "name": "stdout",
          "output_type": "stream",
          "text": [
            "['.ipynb_checkpoints', '.ipython', '.jupyter', '.matplotlib', '3D Objects', 'anaconda3', 'AppData', 'Application Data', 'Contacts', 'Cookies', 'Documents', 'Downloads', 'Dropbox', 'Favorites', 'Job_Title_Prediction.ipynb', 'Job_Title_Prediction_9000.ipynb', 'Links', 'Local Settings', 'Music', 'My Documents', 'NetHood', 'NTUSER.DAT', 'ntuser.dat.LOG1', 'ntuser.dat.LOG2', 'NTUSER.DAT{53b39e87-18c4-11ea-a811-000d3aa4692b}.TxR.0.regtrans-ms', 'NTUSER.DAT{53b39e87-18c4-11ea-a811-000d3aa4692b}.TxR.1.regtrans-ms', 'NTUSER.DAT{53b39e87-18c4-11ea-a811-000d3aa4692b}.TxR.2.regtrans-ms', 'NTUSER.DAT{53b39e87-18c4-11ea-a811-000d3aa4692b}.TxR.blf', 'NTUSER.DAT{53b39e88-18c4-11ea-a811-000d3aa4692b}.TM.blf', 'NTUSER.DAT{53b39e88-18c4-11ea-a811-000d3aa4692b}.TMContainer00000000000000000001.regtrans-ms', 'NTUSER.DAT{53b39e88-18c4-11ea-a811-000d3aa4692b}.TMContainer00000000000000000002.regtrans-ms', 'ntuser.ini', 'OneDrive', 'PrintHood', 'Recent', 'Saved Games', 'Searches', 'SendTo', 'Start Menu', 'Templates', 'test.csv', 'Tracing', 'train.csv', 'Videos']\n"
          ]
        }
      ],
      "source": [
        "import os\n",
        "print(os.listdir(\"./\"))\n",
        "\n",
        "import pandas as pd\n",
        "import numpy as np\n",
        "from scipy.stats import randint\n",
        "import matplotlib.pyplot as plt\n",
        "import seaborn as sns\n",
        "from io import StringIO\n",
        "import string\n",
        "import nltk\n",
        "from nltk.corpus import stopwords\n",
        "from nltk.stem.porter import PorterStemmer\n",
        "from nltk.stem import WordNetLemmatizer\n",
        "from sklearn.feature_extraction.text import TfidfVectorizer\n",
        "from sklearn.feature_selection import chi2\n",
        "from IPython.display import display\n",
        "from sklearn.model_selection import train_test_split\n",
        "from sklearn.feature_extraction.text import TfidfTransformer\n",
        "from sklearn.naive_bayes import MultinomialNB\n",
        "from sklearn.linear_model import LogisticRegression\n",
        "from sklearn.ensemble import RandomForestClassifier\n",
        "from sklearn.svm import LinearSVC\n",
        "from sklearn.model_selection import cross_val_score\n",
        "from sklearn.metrics import confusion_matrix\n",
        "from sklearn import metrics"
      ]
    },
    {
      "cell_type": "code",
      "execution_count": null,
      "id": "0ef48701",
      "metadata": {
        "id": "0ef48701",
        "outputId": "2daf3efd-00f0-48b4-da43-4e7b034b322f"
      },
      "outputs": [
        {
          "data": {
            "text/html": [
              "<div>\n",
              "<style scoped>\n",
              "    .dataframe tbody tr th:only-of-type {\n",
              "        vertical-align: middle;\n",
              "    }\n",
              "\n",
              "    .dataframe tbody tr th {\n",
              "        vertical-align: top;\n",
              "    }\n",
              "\n",
              "    .dataframe thead th {\n",
              "        text-align: right;\n",
              "    }\n",
              "</style>\n",
              "<table border=\"1\" class=\"dataframe\">\n",
              "  <thead>\n",
              "    <tr style=\"text-align: right;\">\n",
              "      <th></th>\n",
              "      <th>Job ID</th>\n",
              "      <th>Job Description</th>\n",
              "      <th>Title</th>\n",
              "    </tr>\n",
              "  </thead>\n",
              "  <tbody>\n",
              "    <tr>\n",
              "      <th>0</th>\n",
              "      <td>JOB0002000</td>\n",
              "      <td>Description   Are you interested in the opport...</td>\n",
              "      <td>HAI Prevention Data Analyst</td>\n",
              "    </tr>\n",
              "    <tr>\n",
              "      <th>1</th>\n",
              "      <td>JOB0002001</td>\n",
              "      <td>Instructional Designer needed for a contract o...</td>\n",
              "      <td>Instructional Designer</td>\n",
              "    </tr>\n",
              "    <tr>\n",
              "      <th>2</th>\n",
              "      <td>JOB0002002</td>\n",
              "      <td>Faith Church Office ManagerPosition Focus Shee...</td>\n",
              "      <td>Office Manager</td>\n",
              "    </tr>\n",
              "    <tr>\n",
              "      <th>3</th>\n",
              "      <td>JOB0002003</td>\n",
              "      <td>NO C2C FOR THIS REQUIREMENT Our LARGE and stab...</td>\n",
              "      <td>ETL Developer</td>\n",
              "    </tr>\n",
              "    <tr>\n",
              "      <th>4</th>\n",
              "      <td>JOB0002004</td>\n",
              "      <td>Event Promotions: Marketing / Advertising / Pu...</td>\n",
              "      <td>Event Promotions: Marketing / Advertising / Pu...</td>\n",
              "    </tr>\n",
              "  </tbody>\n",
              "</table>\n",
              "</div>"
            ],
            "text/plain": [
              "       Job ID                                    Job Description  \\\n",
              "0  JOB0002000  Description   Are you interested in the opport...   \n",
              "1  JOB0002001  Instructional Designer needed for a contract o...   \n",
              "2  JOB0002002  Faith Church Office ManagerPosition Focus Shee...   \n",
              "3  JOB0002003  NO C2C FOR THIS REQUIREMENT Our LARGE and stab...   \n",
              "4  JOB0002004  Event Promotions: Marketing / Advertising / Pu...   \n",
              "\n",
              "                                               Title  \n",
              "0                        HAI Prevention Data Analyst  \n",
              "1                             Instructional Designer  \n",
              "2                                     Office Manager  \n",
              "3                                      ETL Developer  \n",
              "4  Event Promotions: Marketing / Advertising / Pu...  "
            ]
          },
          "execution_count": 2,
          "metadata": {},
          "output_type": "execute_result"
        }
      ],
      "source": [
        "df = pd.read_csv('train.csv')\n",
        "df.dropna()\n",
        "df.head()"
      ]
    },
    {
      "cell_type": "code",
      "execution_count": null,
      "id": "3d38f18d",
      "metadata": {
        "id": "3d38f18d",
        "outputId": "dd3bb5a0-33d5-4766-f658-4e05eaae6024"
      },
      "outputs": [
        {
          "data": {
            "text/html": [
              "<div>\n",
              "<style scoped>\n",
              "    .dataframe tbody tr th:only-of-type {\n",
              "        vertical-align: middle;\n",
              "    }\n",
              "\n",
              "    .dataframe tbody tr th {\n",
              "        vertical-align: top;\n",
              "    }\n",
              "\n",
              "    .dataframe thead th {\n",
              "        text-align: right;\n",
              "    }\n",
              "</style>\n",
              "<table border=\"1\" class=\"dataframe\">\n",
              "  <thead>\n",
              "    <tr style=\"text-align: right;\">\n",
              "      <th></th>\n",
              "      <th>Job ID</th>\n",
              "      <th>Job Description</th>\n",
              "      <th>Title</th>\n",
              "    </tr>\n",
              "  </thead>\n",
              "  <tbody>\n",
              "    <tr>\n",
              "      <th>0</th>\n",
              "      <td>JOB0000</td>\n",
              "      <td>TeamSoft is seeing an IT Support Specialist to...</td>\n",
              "      <td>NaN</td>\n",
              "    </tr>\n",
              "    <tr>\n",
              "      <th>1</th>\n",
              "      <td>JOB0001</td>\n",
              "      <td>The Wisconsin State Journal is seeking a flexi...</td>\n",
              "      <td>NaN</td>\n",
              "    </tr>\n",
              "    <tr>\n",
              "      <th>2</th>\n",
              "      <td>JOB0002</td>\n",
              "      <td>Report this job About the Job DePuy Synthes Co...</td>\n",
              "      <td>NaN</td>\n",
              "    </tr>\n",
              "    <tr>\n",
              "      <th>3</th>\n",
              "      <td>JOB0003</td>\n",
              "      <td>Why Join Altec? If you’re considering a career...</td>\n",
              "      <td>NaN</td>\n",
              "    </tr>\n",
              "    <tr>\n",
              "      <th>4</th>\n",
              "      <td>JOB0004</td>\n",
              "      <td>Position ID#  76162 # Positions  1 State  CT C...</td>\n",
              "      <td>NaN</td>\n",
              "    </tr>\n",
              "  </tbody>\n",
              "</table>\n",
              "</div>"
            ],
            "text/plain": [
              "    Job ID                                    Job Description  Title\n",
              "0  JOB0000  TeamSoft is seeing an IT Support Specialist to...    NaN\n",
              "1  JOB0001  The Wisconsin State Journal is seeking a flexi...    NaN\n",
              "2  JOB0002  Report this job About the Job DePuy Synthes Co...    NaN\n",
              "3  JOB0003  Why Join Altec? If you’re considering a career...    NaN\n",
              "4  JOB0004  Position ID#  76162 # Positions  1 State  CT C...    NaN"
            ]
          },
          "execution_count": 3,
          "metadata": {},
          "output_type": "execute_result"
        }
      ],
      "source": [
        "test_df = pd.read_csv('test.csv')\n",
        "test_df.dropna()\n",
        "test_df.head()"
      ]
    },
    {
      "cell_type": "code",
      "execution_count": null,
      "id": "feac23d1",
      "metadata": {
        "id": "feac23d1",
        "outputId": "03901eac-f46c-4c5b-8ef4-6fc3d3a04cce"
      },
      "outputs": [
        {
          "data": {
            "text/plain": [
              "(20000, 3)"
            ]
          },
          "execution_count": 4,
          "metadata": {},
          "output_type": "execute_result"
        }
      ],
      "source": [
        "df.shape\n"
      ]
    },
    {
      "cell_type": "code",
      "execution_count": null,
      "id": "d0ff5610",
      "metadata": {
        "id": "d0ff5610",
        "outputId": "3a550991-e0c2-4f2e-e47a-26e2e6dd4a67"
      },
      "outputs": [
        {
          "data": {
            "text/plain": [
              "(2000, 3)"
            ]
          },
          "execution_count": 5,
          "metadata": {},
          "output_type": "execute_result"
        }
      ],
      "source": [
        "test_df.shape"
      ]
    },
    {
      "cell_type": "code",
      "execution_count": null,
      "id": "736349dd",
      "metadata": {
        "id": "736349dd",
        "outputId": "665c3467-fbf0-4964-a68f-717806e499bf"
      },
      "outputs": [
        {
          "data": {
            "text/html": [
              "<div>\n",
              "<style scoped>\n",
              "    .dataframe tbody tr th:only-of-type {\n",
              "        vertical-align: middle;\n",
              "    }\n",
              "\n",
              "    .dataframe tbody tr th {\n",
              "        vertical-align: top;\n",
              "    }\n",
              "\n",
              "    .dataframe thead th {\n",
              "        text-align: right;\n",
              "    }\n",
              "</style>\n",
              "<table border=\"1\" class=\"dataframe\">\n",
              "  <thead>\n",
              "    <tr style=\"text-align: right;\">\n",
              "      <th></th>\n",
              "      <th>Job ID</th>\n",
              "      <th>Job Description</th>\n",
              "      <th>Title</th>\n",
              "    </tr>\n",
              "  </thead>\n",
              "  <tbody>\n",
              "    <tr>\n",
              "      <th>19995</th>\n",
              "      <td>JOB00021995</td>\n",
              "      <td>This is a major premier Cincinnati based finan...</td>\n",
              "      <td>Assistant Vice President</td>\n",
              "    </tr>\n",
              "    <tr>\n",
              "      <th>19996</th>\n",
              "      <td>JOB00021996</td>\n",
              "      <td>Luxury homebuilder in Cincinnati seeking multi...</td>\n",
              "      <td>Accountant</td>\n",
              "    </tr>\n",
              "    <tr>\n",
              "      <th>19997</th>\n",
              "      <td>JOB00021997</td>\n",
              "      <td>RE: Adobe AEM-          Client -          Loca...</td>\n",
              "      <td>AEM/CQ developer</td>\n",
              "    </tr>\n",
              "    <tr>\n",
              "      <th>19998</th>\n",
              "      <td>JOB00021998</td>\n",
              "      <td>Jernberg Industries was established in 1937 an...</td>\n",
              "      <td>Electrician</td>\n",
              "    </tr>\n",
              "    <tr>\n",
              "      <th>19999</th>\n",
              "      <td>JOB00021999</td>\n",
              "      <td>Contract AdministratorCan you be the point per...</td>\n",
              "      <td>Contract Administrator</td>\n",
              "    </tr>\n",
              "  </tbody>\n",
              "</table>\n",
              "</div>"
            ],
            "text/plain": [
              "            Job ID                                    Job Description  \\\n",
              "19995  JOB00021995  This is a major premier Cincinnati based finan...   \n",
              "19996  JOB00021996  Luxury homebuilder in Cincinnati seeking multi...   \n",
              "19997  JOB00021997  RE: Adobe AEM-          Client -          Loca...   \n",
              "19998  JOB00021998  Jernberg Industries was established in 1937 an...   \n",
              "19999  JOB00021999  Contract AdministratorCan you be the point per...   \n",
              "\n",
              "                          Title  \n",
              "19995  Assistant Vice President  \n",
              "19996                Accountant  \n",
              "19997          AEM/CQ developer  \n",
              "19998               Electrician  \n",
              "19999    Contract Administrator  "
            ]
          },
          "execution_count": 6,
          "metadata": {},
          "output_type": "execute_result"
        }
      ],
      "source": [
        "df.tail()"
      ]
    },
    {
      "cell_type": "code",
      "execution_count": null,
      "id": "86c3a2bb",
      "metadata": {
        "id": "86c3a2bb",
        "outputId": "49782fb3-4fa3-4909-816d-e5bc0a8913ad"
      },
      "outputs": [
        {
          "data": {
            "text/html": [
              "<div>\n",
              "<style scoped>\n",
              "    .dataframe tbody tr th:only-of-type {\n",
              "        vertical-align: middle;\n",
              "    }\n",
              "\n",
              "    .dataframe tbody tr th {\n",
              "        vertical-align: top;\n",
              "    }\n",
              "\n",
              "    .dataframe thead th {\n",
              "        text-align: right;\n",
              "    }\n",
              "</style>\n",
              "<table border=\"1\" class=\"dataframe\">\n",
              "  <thead>\n",
              "    <tr style=\"text-align: right;\">\n",
              "      <th></th>\n",
              "      <th>Job ID</th>\n",
              "      <th>Job Description</th>\n",
              "      <th>Title</th>\n",
              "    </tr>\n",
              "  </thead>\n",
              "  <tbody>\n",
              "    <tr>\n",
              "      <th>1995</th>\n",
              "      <td>JOB0001995</td>\n",
              "      <td>GENERAL DESCRIPTIONResponsible for ensuring th...</td>\n",
              "      <td>NaN</td>\n",
              "    </tr>\n",
              "    <tr>\n",
              "      <th>1996</th>\n",
              "      <td>JOB0001996</td>\n",
              "      <td>Job ID:  94448Non-Exempt  Oldcastle Precast i...</td>\n",
              "      <td>NaN</td>\n",
              "    </tr>\n",
              "    <tr>\n",
              "      <th>1997</th>\n",
              "      <td>JOB0001997</td>\n",
              "      <td>GENERAL DESCRIPTIONIs responsible for all phas...</td>\n",
              "      <td>NaN</td>\n",
              "    </tr>\n",
              "    <tr>\n",
              "      <th>1998</th>\n",
              "      <td>JOB0001998</td>\n",
              "      <td>Report this job About the Job Skilled Nursing ...</td>\n",
              "      <td>NaN</td>\n",
              "    </tr>\n",
              "    <tr>\n",
              "      <th>1999</th>\n",
              "      <td>JOB0001999</td>\n",
              "      <td>Job ID:  99428 Georgia Masonry Supply is a di...</td>\n",
              "      <td>NaN</td>\n",
              "    </tr>\n",
              "  </tbody>\n",
              "</table>\n",
              "</div>"
            ],
            "text/plain": [
              "          Job ID                                    Job Description  Title\n",
              "1995  JOB0001995  GENERAL DESCRIPTIONResponsible for ensuring th...    NaN\n",
              "1996  JOB0001996   Job ID:  94448Non-Exempt  Oldcastle Precast i...    NaN\n",
              "1997  JOB0001997  GENERAL DESCRIPTIONIs responsible for all phas...    NaN\n",
              "1998  JOB0001998  Report this job About the Job Skilled Nursing ...    NaN\n",
              "1999  JOB0001999   Job ID:  99428 Georgia Masonry Supply is a di...    NaN"
            ]
          },
          "execution_count": 7,
          "metadata": {},
          "output_type": "execute_result"
        }
      ],
      "source": [
        "test_df.tail()"
      ]
    },
    {
      "cell_type": "code",
      "execution_count": null,
      "id": "e25b1467",
      "metadata": {
        "id": "e25b1467",
        "outputId": "580efb14-6eb0-44a0-e748-e863c26a70d6"
      },
      "outputs": [
        {
          "name": "stderr",
          "output_type": "stream",
          "text": [
            "[nltk_data] Downloading package wordnet to\n",
            "[nltk_data]     C:\\Users\\urmi8\\AppData\\Roaming\\nltk_data...\n",
            "[nltk_data]   Package wordnet is already up-to-date!\n",
            "[nltk_data] Downloading package stopwords to\n",
            "[nltk_data]     C:\\Users\\urmi8\\AppData\\Roaming\\nltk_data...\n",
            "[nltk_data]   Package stopwords is already up-to-date!\n"
          ]
        },
        {
          "data": {
            "text/plain": [
              "True"
            ]
          },
          "execution_count": 8,
          "metadata": {},
          "output_type": "execute_result"
        }
      ],
      "source": [
        "nltk.download('wordnet')\n",
        "nltk.download('stopwords')"
      ]
    },
    {
      "cell_type": "code",
      "execution_count": null,
      "id": "e7efdefc",
      "metadata": {
        "id": "e7efdefc"
      },
      "outputs": [],
      "source": [
        "#cleaning training dataset\n",
        "for i in range(len(df)):\n",
        "  df['Job Description'][i] = df['Job Description'][i].lower()\n",
        "  df['Job Description'][i]=\"\".join(char for char in df['Job Description'][i] if char not in string.punctuation)\n",
        "  ps = PorterStemmer()\n",
        "  wml = WordNetLemmatizer()\n",
        "  df['Job Description'][i]=ps.stem(df['Job Description'][i])\n",
        "  df['Job Description'][i]=wml.lemmatize(df['Job Description'][i])\n",
        "  df['Job Description'][i]=df['Job Description'][i].split()\n",
        "  filter_words = []\n",
        "  Stopwords = set(stopwords.words('english'))\n",
        "  for word in df['Job Description'][i]:\n",
        "    if word not in Stopwords:\n",
        "         filter_words.append(word)\n",
        "  df['Job Description'][i] = filter_words \n",
        "  df['Job Description'][i] = \" \".join(df['Job Description'][i])"
      ]
    },
    {
      "cell_type": "code",
      "execution_count": null,
      "id": "faa1dbc4",
      "metadata": {
        "id": "faa1dbc4",
        "outputId": "1b447d64-6d48-49d1-f0be-2679390baa07"
      },
      "outputs": [
        {
          "name": "stderr",
          "output_type": "stream",
          "text": [
            "C:\\Users\\urmi8\\AppData\\Local\\Temp/ipykernel_6460/3920492779.py:3: SettingWithCopyWarning: \n",
            "A value is trying to be set on a copy of a slice from a DataFrame\n",
            "\n",
            "See the caveats in the documentation: https://pandas.pydata.org/pandas-docs/stable/user_guide/indexing.html#returning-a-view-versus-a-copy\n",
            "  test_df['Job Description'][i] = test_df['Job Description'][i].lower()\n",
            "C:\\Users\\urmi8\\AppData\\Local\\Temp/ipykernel_6460/3920492779.py:4: SettingWithCopyWarning: \n",
            "A value is trying to be set on a copy of a slice from a DataFrame\n",
            "\n",
            "See the caveats in the documentation: https://pandas.pydata.org/pandas-docs/stable/user_guide/indexing.html#returning-a-view-versus-a-copy\n",
            "  test_df['Job Description'][i]=\"\".join(char for char in test_df['Job Description'][i] if char not in string.punctuation)\n",
            "C:\\Users\\urmi8\\AppData\\Local\\Temp/ipykernel_6460/3920492779.py:7: SettingWithCopyWarning: \n",
            "A value is trying to be set on a copy of a slice from a DataFrame\n",
            "\n",
            "See the caveats in the documentation: https://pandas.pydata.org/pandas-docs/stable/user_guide/indexing.html#returning-a-view-versus-a-copy\n",
            "  test_df['Job Description'][i]=ps.stem(test_df['Job Description'][i])\n",
            "C:\\Users\\urmi8\\AppData\\Local\\Temp/ipykernel_6460/3920492779.py:8: SettingWithCopyWarning: \n",
            "A value is trying to be set on a copy of a slice from a DataFrame\n",
            "\n",
            "See the caveats in the documentation: https://pandas.pydata.org/pandas-docs/stable/user_guide/indexing.html#returning-a-view-versus-a-copy\n",
            "  test_df['Job Description'][i]=wml.lemmatize(test_df['Job Description'][i])\n",
            "C:\\Users\\urmi8\\AppData\\Local\\Temp/ipykernel_6460/3920492779.py:9: SettingWithCopyWarning: \n",
            "A value is trying to be set on a copy of a slice from a DataFrame\n",
            "\n",
            "See the caveats in the documentation: https://pandas.pydata.org/pandas-docs/stable/user_guide/indexing.html#returning-a-view-versus-a-copy\n",
            "  test_df['Job Description'][i]=test_df['Job Description'][i].split()\n",
            "C:\\Users\\urmi8\\AppData\\Local\\Temp/ipykernel_6460/3920492779.py:15: SettingWithCopyWarning: \n",
            "A value is trying to be set on a copy of a slice from a DataFrame\n",
            "\n",
            "See the caveats in the documentation: https://pandas.pydata.org/pandas-docs/stable/user_guide/indexing.html#returning-a-view-versus-a-copy\n",
            "  test_df['Job Description'][i] = filter_words\n",
            "C:\\Users\\urmi8\\AppData\\Local\\Temp/ipykernel_6460/3920492779.py:16: SettingWithCopyWarning: \n",
            "A value is trying to be set on a copy of a slice from a DataFrame\n",
            "\n",
            "See the caveats in the documentation: https://pandas.pydata.org/pandas-docs/stable/user_guide/indexing.html#returning-a-view-versus-a-copy\n",
            "  test_df['Job Description'][i] = \" \".join(test_df['Job Description'][i])\n"
          ]
        }
      ],
      "source": [
        "#cleaning testing set\n",
        "for i in range(len(test_df)):\n",
        "  test_df['Job Description'][i] = test_df['Job Description'][i].lower()\n",
        "  test_df['Job Description'][i]=\"\".join(char for char in test_df['Job Description'][i] if char not in string.punctuation)\n",
        "  ps = PorterStemmer()\n",
        "  wml = WordNetLemmatizer()\n",
        "  test_df['Job Description'][i]=ps.stem(test_df['Job Description'][i])\n",
        "  test_df['Job Description'][i]=wml.lemmatize(test_df['Job Description'][i])\n",
        "  test_df['Job Description'][i]=test_df['Job Description'][i].split()\n",
        "  filter_words = []\n",
        "  Stopwords = set(stopwords.words('english'))\n",
        "  for word in test_df['Job Description'][i]:\n",
        "    if word not in Stopwords:\n",
        "         filter_words.append(word)\n",
        "  test_df['Job Description'][i] = filter_words\n",
        "  test_df['Job Description'][i] = \" \".join(test_df['Job Description'][i])"
      ]
    },
    {
      "cell_type": "code",
      "execution_count": null,
      "id": "eddb3b9a",
      "metadata": {
        "id": "eddb3b9a",
        "outputId": "1c2e65f5-b789-4476-bb61-a43c1abcb16d"
      },
      "outputs": [
        {
          "data": {
            "text/plain": [
              "'hai prevention data analyst'"
            ]
          },
          "execution_count": 11,
          "metadata": {},
          "output_type": "execute_result"
        }
      ],
      "source": [
        "df['Title'][0].lower()"
      ]
    },
    {
      "cell_type": "code",
      "execution_count": null,
      "id": "0ff8a458",
      "metadata": {
        "id": "0ff8a458"
      },
      "outputs": [],
      "source": [
        "#cleaning Response Variable i.e. Title for training data (lowercasing and removing punctuation)\n",
        "for i in range(len(df)):\n",
        "    df['Title'][i]=str(df['Title'][i]).lower()\n",
        "    df['Title'][i]=\"\".join(char for char in df['Title'][i] if char not in string.punctuation)"
      ]
    },
    {
      "cell_type": "code",
      "execution_count": null,
      "id": "53cda912",
      "metadata": {
        "id": "53cda912"
      },
      "outputs": [],
      "source": [
        "#observing the data and its class count\n",
        "temp_df=df.groupby('Title').count()"
      ]
    },
    {
      "cell_type": "code",
      "execution_count": null,
      "id": "02fd9691",
      "metadata": {
        "id": "02fd9691",
        "outputId": "c42c285f-26c9-4f7f-d7f6-b291b9376968"
      },
      "outputs": [
        {
          "data": {
            "text/plain": [
              "Index(['Job ID', 'Job Description'], dtype='object')"
            ]
          },
          "execution_count": 14,
          "metadata": {},
          "output_type": "execute_result"
        }
      ],
      "source": [
        "temp_df.columns"
      ]
    },
    {
      "cell_type": "code",
      "execution_count": null,
      "id": "811038fc",
      "metadata": {
        "id": "811038fc",
        "outputId": "c1e55167-4f0e-42dc-9ee0-146a26ba0b76"
      },
      "outputs": [
        {
          "data": {
            "text/plain": [
              "10539"
            ]
          },
          "execution_count": 15,
          "metadata": {},
          "output_type": "execute_result"
        }
      ],
      "source": [
        "temp_df.shape[0]"
      ]
    },
    {
      "cell_type": "code",
      "execution_count": null,
      "id": "4eebff94",
      "metadata": {
        "id": "4eebff94",
        "outputId": "e0d0ed40-e49b-4963-ad48-c8968e404950"
      },
      "outputs": [
        {
          "data": {
            "text/plain": [
              "1"
            ]
          },
          "execution_count": 16,
          "metadata": {},
          "output_type": "execute_result"
        }
      ],
      "source": [
        "temp_df['Job Description'].min()"
      ]
    },
    {
      "cell_type": "code",
      "execution_count": null,
      "id": "9ba6d30f",
      "metadata": {
        "id": "9ba6d30f",
        "outputId": "7e5497ca-e2b7-4b5b-c01a-0a83741ca1bf"
      },
      "outputs": [
        {
          "data": {
            "text/plain": [
              "329"
            ]
          },
          "execution_count": 17,
          "metadata": {},
          "output_type": "execute_result"
        }
      ],
      "source": [
        "temp_df['Job Description'].max()"
      ]
    },
    {
      "cell_type": "code",
      "execution_count": null,
      "id": "7e355128",
      "metadata": {
        "id": "7e355128",
        "outputId": "b11389d9-a8d6-4b61-8e01-ba1c3b56e868"
      },
      "outputs": [
        {
          "name": "stdout",
          "output_type": "stream",
          "text": [
            "8396\n",
            "1150\n",
            "339\n",
            "172\n",
            "100\n",
            "65\n",
            "50\n",
            "24\n",
            "24\n",
            "35\n",
            "21\n",
            "22\n",
            "10\n",
            "12\n",
            "9\n",
            "5\n",
            "6\n",
            "5\n",
            "8\n",
            "3\n",
            "7\n",
            "4\n",
            "1\n",
            "5\n",
            "1\n",
            "8\n",
            "4\n",
            "1\n",
            "4\n",
            "1\n",
            "4\n",
            "3\n",
            "2\n",
            "1\n",
            "2\n",
            "0\n",
            "1\n",
            "1\n",
            "0\n",
            "0\n",
            "1\n",
            "3\n",
            "0\n",
            "2\n",
            "1\n",
            "0\n",
            "2\n",
            "0\n",
            "0\n",
            "1\n",
            "1\n",
            "1\n",
            "0\n",
            "0\n",
            "1\n",
            "1\n",
            "1\n",
            "0\n",
            "1\n",
            "1\n",
            "1\n",
            "1\n",
            "0\n",
            "0\n",
            "0\n",
            "0\n",
            "0\n",
            "0\n",
            "1\n",
            "0\n",
            "0\n",
            "0\n",
            "1\n",
            "0\n",
            "0\n",
            "0\n",
            "1\n",
            "0\n",
            "0\n",
            "0\n",
            "1\n",
            "0\n",
            "0\n",
            "0\n",
            "0\n",
            "0\n",
            "1\n",
            "0\n",
            "0\n",
            "1\n",
            "0\n",
            "0\n",
            "0\n",
            "0\n",
            "0\n",
            "0\n",
            "0\n",
            "1\n",
            "1\n",
            "0\n",
            "1\n",
            "0\n",
            "0\n",
            "0\n",
            "0\n",
            "0\n",
            "0\n",
            "0\n",
            "0\n",
            "0\n",
            "0\n",
            "0\n",
            "0\n",
            "0\n",
            "0\n",
            "0\n",
            "0\n",
            "0\n",
            "0\n",
            "0\n",
            "0\n",
            "0\n",
            "1\n",
            "0\n",
            "0\n",
            "0\n",
            "0\n",
            "0\n",
            "0\n",
            "0\n",
            "0\n",
            "0\n",
            "0\n",
            "0\n",
            "0\n",
            "0\n",
            "0\n",
            "1\n",
            "0\n",
            "0\n",
            "0\n",
            "0\n",
            "0\n",
            "0\n",
            "0\n",
            "0\n",
            "0\n",
            "0\n",
            "0\n",
            "0\n",
            "0\n",
            "0\n",
            "0\n",
            "0\n",
            "0\n",
            "0\n",
            "0\n",
            "0\n",
            "0\n",
            "0\n",
            "0\n",
            "0\n",
            "0\n",
            "0\n",
            "0\n",
            "0\n",
            "0\n",
            "0\n",
            "0\n",
            "0\n",
            "0\n",
            "0\n",
            "0\n",
            "0\n",
            "0\n",
            "0\n",
            "0\n",
            "0\n",
            "0\n",
            "0\n",
            "0\n",
            "0\n",
            "0\n",
            "0\n",
            "0\n",
            "0\n",
            "0\n",
            "0\n",
            "0\n",
            "0\n",
            "0\n",
            "0\n",
            "0\n",
            "0\n",
            "0\n",
            "0\n",
            "0\n",
            "0\n",
            "0\n",
            "0\n",
            "0\n",
            "0\n",
            "0\n",
            "0\n",
            "0\n",
            "0\n",
            "0\n",
            "0\n",
            "0\n",
            "0\n",
            "0\n",
            "0\n",
            "0\n",
            "0\n",
            "0\n",
            "1\n",
            "0\n",
            "0\n",
            "0\n",
            "0\n",
            "0\n",
            "0\n",
            "0\n",
            "0\n",
            "0\n",
            "0\n",
            "0\n",
            "0\n",
            "0\n",
            "0\n",
            "0\n",
            "0\n",
            "0\n",
            "0\n",
            "0\n",
            "0\n",
            "0\n",
            "0\n",
            "0\n",
            "0\n",
            "0\n",
            "0\n",
            "0\n",
            "0\n",
            "0\n",
            "0\n",
            "0\n",
            "0\n",
            "0\n",
            "0\n",
            "0\n",
            "0\n",
            "0\n",
            "0\n",
            "0\n",
            "0\n",
            "0\n",
            "0\n",
            "0\n",
            "0\n",
            "0\n",
            "0\n",
            "0\n",
            "0\n",
            "0\n",
            "0\n",
            "0\n",
            "0\n",
            "0\n",
            "0\n",
            "0\n",
            "0\n",
            "0\n",
            "0\n",
            "0\n",
            "0\n",
            "0\n",
            "0\n",
            "0\n",
            "0\n",
            "0\n",
            "0\n",
            "0\n",
            "0\n",
            "0\n",
            "0\n",
            "0\n",
            "0\n",
            "0\n",
            "0\n",
            "0\n",
            "0\n",
            "1\n",
            "0\n",
            "0\n",
            "0\n",
            "0\n",
            "0\n",
            "0\n",
            "0\n",
            "0\n",
            "0\n",
            "0\n",
            "0\n",
            "0\n",
            "0\n",
            "0\n",
            "0\n",
            "0\n",
            "0\n",
            "0\n",
            "0\n",
            "0\n",
            "0\n",
            "0\n",
            "0\n",
            "0\n",
            "0\n",
            "0\n",
            "0\n",
            "0\n",
            "0\n",
            "0\n",
            "0\n",
            "0\n",
            "0\n",
            "0\n",
            "0\n",
            "1\n",
            "10539\n"
          ]
        }
      ],
      "source": [
        "count=0\n",
        "for i in range(1,330):\n",
        "    print(len(temp_df[temp_df['Job Description']==i]))\n",
        "    count+=len(temp_df[temp_df['Job Description']==i])\n",
        "print(count)"
      ]
    },
    {
      "cell_type": "code",
      "execution_count": null,
      "id": "c9bab4d4",
      "metadata": {
        "id": "c9bab4d4",
        "outputId": "8849f1ea-1c00-4058-bdcf-1c1955920e0f"
      },
      "outputs": [
        {
          "data": {
            "text/plain": [
              "(20000, 2)"
            ]
          },
          "execution_count": 19,
          "metadata": {},
          "output_type": "execute_result"
        }
      ],
      "source": [
        "# Create a new dataframe with two columns\n",
        "df1 = df[['Job Description', 'Title']].copy()\n",
        "\n",
        "# Remove missing values (NaN)\n",
        "df1 = df1[pd.notnull(df1['Job Description'])]\n",
        "\n",
        "# Renaming job description column for a simpler name\n",
        "df1.columns = ['Job_Description', 'Title'] \n",
        "\n",
        "df1.shape"
      ]
    },
    {
      "cell_type": "code",
      "execution_count": null,
      "id": "3cb79c3e",
      "metadata": {
        "id": "3cb79c3e",
        "outputId": "3ad48b9e-5b2f-4644-dc2a-604f5a94ff42"
      },
      "outputs": [
        {
          "data": {
            "text/plain": [
              "100.0"
            ]
          },
          "execution_count": 20,
          "metadata": {},
          "output_type": "execute_result"
        }
      ],
      "source": [
        "# Percentage of Job Description with text\n",
        "total = df1['Job_Description'].notnull().sum()\n",
        "round((total/len(df)*100),1)"
      ]
    },
    {
      "cell_type": "code",
      "execution_count": null,
      "id": "7cddc618",
      "metadata": {
        "id": "7cddc618",
        "outputId": "cae350d3-7f3c-4fe7-f2e8-a8c0ff6bfad0"
      },
      "outputs": [
        {
          "data": {
            "text/plain": [
              "array([['hai prevention data analyst'],\n",
              "       ['instructional designer'],\n",
              "       ['office manager'],\n",
              "       ...,\n",
              "       ['patient access representative'],\n",
              "       ['assistant vice president'],\n",
              "       ['aemcq developer']], dtype=object)"
            ]
          },
          "execution_count": 21,
          "metadata": {},
          "output_type": "execute_result"
        }
      ],
      "source": [
        "pd.DataFrame(df.Title.unique()).values"
      ]
    },
    {
      "cell_type": "code",
      "execution_count": null,
      "id": "bfde083d",
      "metadata": {
        "id": "bfde083d",
        "outputId": "e40ab0f8-9229-401c-dc57-56008ec5031c"
      },
      "outputs": [
        {
          "data": {
            "text/plain": [
              "10539"
            ]
          },
          "execution_count": 22,
          "metadata": {},
          "output_type": "execute_result"
        }
      ],
      "source": [
        "len(df.Title.unique())"
      ]
    },
    {
      "cell_type": "code",
      "execution_count": null,
      "id": "44d3c9e6",
      "metadata": {
        "id": "44d3c9e6"
      },
      "outputs": [],
      "source": [
        "df2 = df1.sample(9000, random_state=1).copy()\n"
      ]
    },
    {
      "cell_type": "code",
      "execution_count": null,
      "id": "354667a3",
      "metadata": {
        "id": "354667a3",
        "outputId": "5d80ce3a-1b0c-4f84-b755-c5cbdc43e36f"
      },
      "outputs": [
        {
          "data": {
            "text/html": [
              "<div>\n",
              "<style scoped>\n",
              "    .dataframe tbody tr th:only-of-type {\n",
              "        vertical-align: middle;\n",
              "    }\n",
              "\n",
              "    .dataframe tbody tr th {\n",
              "        vertical-align: top;\n",
              "    }\n",
              "\n",
              "    .dataframe thead th {\n",
              "        text-align: right;\n",
              "    }\n",
              "</style>\n",
              "<table border=\"1\" class=\"dataframe\">\n",
              "  <thead>\n",
              "    <tr style=\"text-align: right;\">\n",
              "      <th></th>\n",
              "      <th>0</th>\n",
              "    </tr>\n",
              "  </thead>\n",
              "  <tbody>\n",
              "    <tr>\n",
              "      <th>0</th>\n",
              "      <td>construction management</td>\n",
              "    </tr>\n",
              "    <tr>\n",
              "      <th>1</th>\n",
              "      <td>certified medical assistant</td>\n",
              "    </tr>\n",
              "    <tr>\n",
              "      <th>2</th>\n",
              "      <td>associate attorney</td>\n",
              "    </tr>\n",
              "    <tr>\n",
              "      <th>3</th>\n",
              "      <td>monster</td>\n",
              "    </tr>\n",
              "    <tr>\n",
              "      <th>4</th>\n",
              "      <td>physical therapist</td>\n",
              "    </tr>\n",
              "    <tr>\n",
              "      <th>...</th>\n",
              "      <td>...</td>\n",
              "    </tr>\n",
              "    <tr>\n",
              "      <th>5498</th>\n",
              "      <td>cybercoders job application for hotel construc...</td>\n",
              "    </tr>\n",
              "    <tr>\n",
              "      <th>5499</th>\n",
              "      <td>slitter assistant</td>\n",
              "    </tr>\n",
              "    <tr>\n",
              "      <th>5500</th>\n",
              "      <td>rd shift production supervisor</td>\n",
              "    </tr>\n",
              "    <tr>\n",
              "      <th>5501</th>\n",
              "      <td>bakery clerk parttime canfield giant eagle</td>\n",
              "    </tr>\n",
              "    <tr>\n",
              "      <th>5502</th>\n",
              "      <td>business analyst project manager</td>\n",
              "    </tr>\n",
              "  </tbody>\n",
              "</table>\n",
              "<p>5503 rows × 1 columns</p>\n",
              "</div>"
            ],
            "text/plain": [
              "                                                      0\n",
              "0                               construction management\n",
              "1                           certified medical assistant\n",
              "2                                    associate attorney\n",
              "3                                               monster\n",
              "4                                    physical therapist\n",
              "...                                                 ...\n",
              "5498  cybercoders job application for hotel construc...\n",
              "5499                                  slitter assistant\n",
              "5500                     rd shift production supervisor\n",
              "5501         bakery clerk parttime canfield giant eagle\n",
              "5502                   business analyst project manager\n",
              "\n",
              "[5503 rows x 1 columns]"
            ]
          },
          "execution_count": 24,
          "metadata": {},
          "output_type": "execute_result"
        }
      ],
      "source": [
        "pd.DataFrame(df2.Title.unique())"
      ]
    },
    {
      "cell_type": "code",
      "execution_count": null,
      "id": "8ec6b738",
      "metadata": {
        "id": "8ec6b738",
        "outputId": "b4294b50-3e5a-4c64-b32a-0052111c5b27"
      },
      "outputs": [
        {
          "data": {
            "text/html": [
              "<div>\n",
              "<style scoped>\n",
              "    .dataframe tbody tr th:only-of-type {\n",
              "        vertical-align: middle;\n",
              "    }\n",
              "\n",
              "    .dataframe tbody tr th {\n",
              "        vertical-align: top;\n",
              "    }\n",
              "\n",
              "    .dataframe thead th {\n",
              "        text-align: right;\n",
              "    }\n",
              "</style>\n",
              "<table border=\"1\" class=\"dataframe\">\n",
              "  <thead>\n",
              "    <tr style=\"text-align: right;\">\n",
              "      <th></th>\n",
              "      <th>Job_Description</th>\n",
              "      <th>Title</th>\n",
              "      <th>category_id</th>\n",
              "    </tr>\n",
              "  </thead>\n",
              "  <tbody>\n",
              "    <tr>\n",
              "      <th>11456</th>\n",
              "      <td>construction management – project managerslam ...</td>\n",
              "      <td>construction management</td>\n",
              "      <td>0</td>\n",
              "    </tr>\n",
              "    <tr>\n",
              "      <th>16528</th>\n",
              "      <td>certified medical assistant healthcare medical...</td>\n",
              "      <td>certified medical assistant</td>\n",
              "      <td>1</td>\n",
              "    </tr>\n",
              "    <tr>\n",
              "      <th>3253</th>\n",
              "      <td>established scottsdale general practice law fi...</td>\n",
              "      <td>associate attorney</td>\n",
              "      <td>2</td>\n",
              "    </tr>\n",
              "    <tr>\n",
              "      <th>18614</th>\n",
              "      <td>job title data architectlocation austintx• ext...</td>\n",
              "      <td>monster</td>\n",
              "      <td>3</td>\n",
              "    </tr>\n",
              "    <tr>\n",
              "      <th>1544</th>\n",
              "      <td>job description physical therapist responsibil...</td>\n",
              "      <td>physical therapist</td>\n",
              "      <td>4</td>\n",
              "    </tr>\n",
              "  </tbody>\n",
              "</table>\n",
              "</div>"
            ],
            "text/plain": [
              "                                         Job_Description  \\\n",
              "11456  construction management – project managerslam ...   \n",
              "16528  certified medical assistant healthcare medical...   \n",
              "3253   established scottsdale general practice law fi...   \n",
              "18614  job title data architectlocation austintx• ext...   \n",
              "1544   job description physical therapist responsibil...   \n",
              "\n",
              "                             Title  category_id  \n",
              "11456      construction management            0  \n",
              "16528  certified medical assistant            1  \n",
              "3253            associate attorney            2  \n",
              "18614                      monster            3  \n",
              "1544            physical therapist            4  "
            ]
          },
          "execution_count": 25,
          "metadata": {},
          "output_type": "execute_result"
        }
      ],
      "source": [
        "# Create a new column 'category_id' with encoded categories \n",
        "df2['category_id'] = df2['Title'].factorize()[0]\n",
        "category_id_df = df2[['Title', 'category_id']].drop_duplicates()\n",
        "\n",
        "\n",
        "# Dictionaries for future use\n",
        "category_to_id = dict(category_id_df.values)\n",
        "id_to_category = dict(category_id_df[['category_id', 'Title']].values)\n",
        "\n",
        "# New dataframe head\n",
        "df2.head()"
      ]
    },
    {
      "cell_type": "code",
      "execution_count": null,
      "id": "8b3613fd",
      "metadata": {
        "id": "8b3613fd",
        "outputId": "cc87f86f-5f81-43ba-fdd6-726750e44ded"
      },
      "outputs": [
        {
          "data": {
            "text/html": [
              "<div>\n",
              "<style scoped>\n",
              "    .dataframe tbody tr th:only-of-type {\n",
              "        vertical-align: middle;\n",
              "    }\n",
              "\n",
              "    .dataframe tbody tr th {\n",
              "        vertical-align: top;\n",
              "    }\n",
              "\n",
              "    .dataframe thead th {\n",
              "        text-align: right;\n",
              "    }\n",
              "</style>\n",
              "<table border=\"1\" class=\"dataframe\">\n",
              "  <thead>\n",
              "    <tr style=\"text-align: right;\">\n",
              "      <th></th>\n",
              "      <th>Job_Description</th>\n",
              "      <th>Title</th>\n",
              "      <th>category_id</th>\n",
              "    </tr>\n",
              "  </thead>\n",
              "  <tbody>\n",
              "    <tr>\n",
              "      <th>8190</th>\n",
              "      <td>join tosca team key role within salinas plant ...</td>\n",
              "      <td>rd shift production supervisor</td>\n",
              "      <td>5500</td>\n",
              "    </tr>\n",
              "    <tr>\n",
              "      <th>19715</th>\n",
              "      <td>sears roebuck co member sears holdings corpora...</td>\n",
              "      <td>consultative sales associate – home appliances</td>\n",
              "      <td>5000</td>\n",
              "    </tr>\n",
              "    <tr>\n",
              "      <th>12845</th>\n",
              "      <td>position summary together improve peoples ever...</td>\n",
              "      <td>bakery clerk parttime canfield giant eagle</td>\n",
              "      <td>5501</td>\n",
              "    </tr>\n",
              "    <tr>\n",
              "      <th>13849</th>\n",
              "      <td>business analyst project managerbusiness analy...</td>\n",
              "      <td>business analyst project manager</td>\n",
              "      <td>5502</td>\n",
              "    </tr>\n",
              "    <tr>\n",
              "      <th>12185</th>\n",
              "      <td>electrical engineer 110k 120k great benefits s...</td>\n",
              "      <td>electrical engineer</td>\n",
              "      <td>784</td>\n",
              "    </tr>\n",
              "  </tbody>\n",
              "</table>\n",
              "</div>"
            ],
            "text/plain": [
              "                                         Job_Description  \\\n",
              "8190   join tosca team key role within salinas plant ...   \n",
              "19715  sears roebuck co member sears holdings corpora...   \n",
              "12845  position summary together improve peoples ever...   \n",
              "13849  business analyst project managerbusiness analy...   \n",
              "12185  electrical engineer 110k 120k great benefits s...   \n",
              "\n",
              "                                                Title  category_id  \n",
              "8190                   rd shift production supervisor         5500  \n",
              "19715  consultative sales associate – home appliances         5000  \n",
              "12845      bakery clerk parttime canfield giant eagle         5501  \n",
              "13849                business analyst project manager         5502  \n",
              "12185                             electrical engineer          784  "
            ]
          },
          "execution_count": 26,
          "metadata": {},
          "output_type": "execute_result"
        }
      ],
      "source": [
        "# New dataframe tail\n",
        "df2.tail()"
      ]
    },
    {
      "cell_type": "code",
      "execution_count": null,
      "id": "496b9d23",
      "metadata": {
        "id": "496b9d23",
        "outputId": "f6323134-4be0-4bb2-869f-b23eaa93158c"
      },
      "outputs": [
        {
          "name": "stdout",
          "output_type": "stream",
          "text": [
            "Each of the 9000 job descriptions is represented by 73519 features (TF-IDF score of unigrams and bigrams)\n"
          ]
        }
      ],
      "source": [
        "tfidf = TfidfVectorizer(sublinear_tf=True, min_df=5,\n",
        "                        ngram_range=(1,2), \n",
        "                        stop_words='english')\n",
        "\n",
        "# We transform each Job Description into a vector\n",
        "features = tfidf.fit_transform(df2.Job_Description).toarray()\n",
        "\n",
        "labels = df2.category_id\n",
        "\n",
        "print(\"Each of the %d job descriptions is represented by %d features (TF-IDF score of unigrams and bigrams)\" %(features.shape))"
      ]
    },
    {
      "cell_type": "code",
      "execution_count": null,
      "id": "c8bad425",
      "metadata": {
        "id": "c8bad425",
        "outputId": "7d2a360b-c55f-4b8c-9092-70643489a992"
      },
      "outputs": [
        {
          "name": "stderr",
          "output_type": "stream",
          "text": [
            "C:\\Users\\urmi8\\anaconda3\\lib\\site-packages\\sklearn\\model_selection\\_split.py:666: UserWarning: The least populated class in y has only 1 members, which is less than n_splits=3.\n",
            "  warnings.warn((\"The least populated class in y has only %d\"\n",
            "C:\\Users\\urmi8\\anaconda3\\lib\\site-packages\\sklearn\\model_selection\\_split.py:666: UserWarning: The least populated class in y has only 1 members, which is less than n_splits=3.\n",
            "  warnings.warn((\"The least populated class in y has only %d\"\n"
          ]
        }
      ],
      "source": [
        "models = [\n",
        "    RandomForestClassifier(n_estimators=100, max_depth=5, random_state=0),\n",
        "    LinearSVC(),\n",
        "    #MultinomialNB(),\n",
        "    #LogisticRegression(random_state=0),\n",
        "]\n",
        "\n",
        "# 3 Cross-validation\n",
        "CV = 3\n",
        "cv_df = pd.DataFrame(index=range(CV * len(models)))\n",
        "\n",
        "entries = []\n",
        "for model in models:\n",
        "  model_name = model.__class__.__name__\n",
        "  accuracies = cross_val_score(model, features, labels, scoring='accuracy', cv=CV)\n",
        "  for fold_idx, accuracy in enumerate(accuracies):\n",
        "    entries.append((model_name, fold_idx, accuracy))\n",
        "    \n",
        "cv_df = pd.DataFrame(entries, columns=['model_name', 'fold_idx', 'accuracy'])"
      ]
    },
    {
      "cell_type": "code",
      "execution_count": null,
      "id": "3acc4490",
      "metadata": {
        "id": "3acc4490",
        "outputId": "8228217a-8999-4e29-f895-c7e493538920"
      },
      "outputs": [
        {
          "data": {
            "text/html": [
              "<div>\n",
              "<style scoped>\n",
              "    .dataframe tbody tr th:only-of-type {\n",
              "        vertical-align: middle;\n",
              "    }\n",
              "\n",
              "    .dataframe tbody tr th {\n",
              "        vertical-align: top;\n",
              "    }\n",
              "\n",
              "    .dataframe thead th {\n",
              "        text-align: right;\n",
              "    }\n",
              "</style>\n",
              "<table border=\"1\" class=\"dataframe\">\n",
              "  <thead>\n",
              "    <tr style=\"text-align: right;\">\n",
              "      <th></th>\n",
              "      <th>Mean Accuracy</th>\n",
              "      <th>Standard deviation</th>\n",
              "    </tr>\n",
              "    <tr>\n",
              "      <th>model_name</th>\n",
              "      <th></th>\n",
              "      <th></th>\n",
              "    </tr>\n",
              "  </thead>\n",
              "  <tbody>\n",
              "    <tr>\n",
              "      <th>LinearSVC</th>\n",
              "      <td>0.292444</td>\n",
              "      <td>0.005719</td>\n",
              "    </tr>\n",
              "    <tr>\n",
              "      <th>RandomForestClassifier</th>\n",
              "      <td>0.083778</td>\n",
              "      <td>0.002037</td>\n",
              "    </tr>\n",
              "  </tbody>\n",
              "</table>\n",
              "</div>"
            ],
            "text/plain": [
              "                        Mean Accuracy  Standard deviation\n",
              "model_name                                               \n",
              "LinearSVC                    0.292444            0.005719\n",
              "RandomForestClassifier       0.083778            0.002037"
            ]
          },
          "execution_count": 29,
          "metadata": {},
          "output_type": "execute_result"
        }
      ],
      "source": [
        "mean_accuracy = cv_df.groupby('model_name').accuracy.mean()\n",
        "std_accuracy = cv_df.groupby('model_name').accuracy.std()\n",
        "\n",
        "acc = pd.concat([mean_accuracy, std_accuracy], axis= 1, \n",
        "          ignore_index=True)\n",
        "acc.columns = ['Mean Accuracy', 'Standard deviation']\n",
        "acc"
      ]
    },
    {
      "cell_type": "code",
      "execution_count": null,
      "id": "b9276a29",
      "metadata": {
        "id": "b9276a29"
      },
      "outputs": [],
      "source": [
        "X = df2['Job_Description'] # Collection of Job descriptions\n",
        "y = df2['Title'] # Target or the labels we want to predict"
      ]
    },
    {
      "cell_type": "code",
      "execution_count": null,
      "id": "d3775b45",
      "metadata": {
        "id": "d3775b45"
      },
      "outputs": [],
      "source": [
        "X_train, X_test, y_train, y_test = train_test_split(X, y, \n",
        "                                                    test_size=0.25,\n",
        "                                                    random_state = 0)\n",
        "\n",
        "tfidf = TfidfVectorizer(sublinear_tf=True, min_df=5,\n",
        "                        ngram_range=(1, 2), \n",
        "                        stop_words='english')\n",
        "\n",
        "fitted_vectorizer = tfidf.fit(X_train)\n",
        "tfidf_vectorizer_vectors = fitted_vectorizer.transform(X_train)\n",
        "\n",
        "model = LinearSVC().fit(tfidf_vectorizer_vectors, y_train)"
      ]
    },
    {
      "cell_type": "code",
      "execution_count": null,
      "id": "053e065c",
      "metadata": {
        "id": "053e065c"
      },
      "outputs": [],
      "source": [
        "predictions=[]\n",
        "for i in range(len(test_df)):\n",
        "  predictions.append(model.predict(fitted_vectorizer.transform([test_df['Job Description'][i]])))"
      ]
    },
    {
      "cell_type": "code",
      "execution_count": null,
      "id": "2522dfd0",
      "metadata": {
        "id": "2522dfd0",
        "outputId": "3b710951-7d04-4e5e-da0e-676b2e79d476"
      },
      "outputs": [
        {
          "name": "stdout",
          "output_type": "stream",
          "text": [
            "[array(['digital marketing project manager'], dtype=object), array(['district service manager assistant'], dtype=object), array(['monster'], dtype=object), array(['supplier quality engineer'], dtype=object), array(['shift supervisor'], dtype=object), array(['tmobjp'], dtype=object), array(['monster'], dtype=object), array(['accounts payable clerk'], dtype=object), array(['server'], dtype=object), array(['body shop manager'], dtype=object), array(['aflac insurance sales agent'], dtype=object), array(['sales associate'], dtype=object), array(['graphic designer'], dtype=object), array(['teddy bear christian child development center job application for teachers needed  monstercom var monslogvars  jobid'],\n",
            "      dtype=object), array(['industrial construction superintendent'], dtype=object), array(['engineer i  engineer ii  construction project administrator'],\n",
            "      dtype=object), array(['n horizontal construction engineers'], dtype=object), array(['pest control technician – field service rep entry level'],\n",
            "      dtype=object), array(['content developer for matlabhdl code generation'], dtype=object), array(['articulated robot repair technician'], dtype=object), array(['database administrator'], dtype=object), array(['lending compliance officer'], dtype=object), array(['b combat engineer'], dtype=object), array(['construction project manager'], dtype=object), array(['project manager'], dtype=object), array(['design engineer'], dtype=object), array(['att business sales leadership development program bilingual spanish'],\n",
            "      dtype=object), array(['traveling customer training professional'], dtype=object), array(['resident care specialist'], dtype=object), array(['quality engineer'], dtype=object), array(['quality engineer'], dtype=object), array(['activity coordinator'], dtype=object), array(['sr controls engineer'], dtype=object), array(['service manager'], dtype=object), array(['program manager'], dtype=object), array(['technical writer'], dtype=object), array(['help desk  desktop support technician'], dtype=object), array(['quality engineer'], dtype=object), array(['it infrastructure project manager'], dtype=object), array(['java developer'], dtype=object), array(['customer service'], dtype=object), array(['japanese translator'], dtype=object), array(['administrative assistant '], dtype=object), array(['surveyor'], dtype=object), array(['b combat engineer'], dtype=object), array(['registered respiratory therapist'], dtype=object), array(['project manager'], dtype=object), array(['project manager  z '], dtype=object), array(['accounts receivable specialistoffice manager'], dtype=object), array(['technical writer'], dtype=object), array(['web developer'], dtype=object), array(['plumbing  fire protection engineer designer'], dtype=object), array(['school bus driver'], dtype=object), array(['software engineer'], dtype=object), array(['customer service representative'], dtype=object), array(['project engineer'], dtype=object), array(['cashier'], dtype=object), array(['technical writer'], dtype=object), array(['sales manager'], dtype=object), array(['community service coordinator'], dtype=object), array(['public health rns'], dtype=object), array(['upscale steakhouse restaurant managers'], dtype=object), array(['fixed equipment coatings inspector'], dtype=object), array(['tax accountant'], dtype=object), array(['medical biller accounts receivable specialist'], dtype=object), array(['senior associate'], dtype=object), array(['director of major gift fundraising'], dtype=object), array(['nursing instructors'], dtype=object), array(['warehouse associate'], dtype=object), array(['cosmetic sales consultant'], dtype=object), array(['cybercoders job application for construction superintendent multifamily  monstercom var monslogvars  jobid'],\n",
            "      dtype=object), array(['electrical engineer'], dtype=object), array(['formulation chemist solid dose formulation'], dtype=object), array(['quality engineer'], dtype=object), array(['project manager'], dtype=object), array(['graphic designer'], dtype=object), array(['quality control manager'], dtype=object), array(['technical writer'], dtype=object), array(['engineer i  engineer ii  construction project administrator'],\n",
            "      dtype=object), array(['commercial superintendent'], dtype=object), array(['transmission designer'], dtype=object), array(['utility miner  equipment operator underground mine rd shift'],\n",
            "      dtype=object), array(['quality  qc manager'], dtype=object), array(['mechancal designerinventor'], dtype=object), array(['ups otr cdl a tractortrailer truckload driver hazmat req dedicated'],\n",
            "      dtype=object), array(['petroleum laboratory specialist'], dtype=object), array(['technical scientist'], dtype=object), array(['contracts manager  '], dtype=object), array(['senior accountant'], dtype=object), array(['desktop support'], dtype=object), array(['administrative assistant'], dtype=object), array(['customer service representatives se san antonio'], dtype=object), array(['estimator'], dtype=object), array(['sales development representative'], dtype=object), array(['design engineer'], dtype=object), array(['scrum master'], dtype=object), array(['financial advisor  financial sales representative'], dtype=object), array(['personal banker'], dtype=object), array(['experienced chemical lab tech relocate to peoria'], dtype=object), array(['outside plant osp field engineer'], dtype=object), array(['paralegal'], dtype=object), array(['director of programs – military electrooptical infrared eoir systems programs'],\n",
            "      dtype=object), array(['customer service representative'], dtype=object), array(['patient representative ii'], dtype=object), array(['n horizontal construction engineers'], dtype=object), array(['registered nurseicu nights kindred hospital spring'], dtype=object), array(['debt finance associate'], dtype=object), array(['scrum master'], dtype=object), array(['petroleum laboratory specialist'], dtype=object), array(['project manager'], dtype=object), array(['technical writer'], dtype=object), array(['project manager'], dtype=object), array(['customer service representative'], dtype=object), array(['part time planning intern'], dtype=object), array(['special events'], dtype=object), array(['registered nurseicu nights kindred hospital spring'], dtype=object), array(['service manager'], dtype=object), array(['sr controls engineer'], dtype=object), array(['account manager'], dtype=object), array(['electrical engineer'], dtype=object), array(['technical writer'], dtype=object), array(['maintenance technician'], dtype=object), array(['lead teacher'], dtype=object), array(['b combat engineer'], dtype=object), array(['account consultant'], dtype=object), array(['parts fulfillment center supervisor'], dtype=object), array(['experienced bartenders'], dtype=object), array(['quality engineer'], dtype=object), array(['lead legal document specialist'], dtype=object), array(['now hiring'], dtype=object), array(['project manager'], dtype=object), array(['devops release administrator'], dtype=object), array(['manager'], dtype=object), array(['field chemist'], dtype=object), array(['restaurant manager'], dtype=object), array(['g aircraft structural repairer'], dtype=object), array(['project engineer'], dtype=object), array(['revitarchitectual design'], dtype=object), array(['registered nurseicu nights kindred hospital spring'], dtype=object), array(['oracle identityaccess manager administrator'], dtype=object), array(['operations support manager'], dtype=object), array(['b combat engineer'], dtype=object), array(['retail – sales management trainee'], dtype=object), array(['design engineer'], dtype=object), array(['software education representative'], dtype=object), array(['n horizontal construction engineers'], dtype=object), array(['business development manager'], dtype=object), array(['productionwholesale sr analyst'], dtype=object), array(['manager'], dtype=object), array(['administrative assistant i'], dtype=object), array(['lending compliance officer'], dtype=object), array(['bilingual newborn photographersales representative parttime'],\n",
            "      dtype=object), array(['business analyst'], dtype=object), array(['technical writer'], dtype=object), array(['administrative assistant'], dtype=object), array(['instructional designer'], dtype=object), array(['cloud technical account manager'], dtype=object), array(['project manager'], dtype=object), array(['medical secretary'], dtype=object), array(['technical writer'], dtype=object), array(['cloud technical account manager'], dtype=object), array(['account executive'], dtype=object), array(['experienced restaurant manager'], dtype=object), array(['quality engineer'], dtype=object), array(['qa analyst'], dtype=object), array(['enrollment agent i '], dtype=object), array(['loan doc specialist'], dtype=object), array(['engineer systems'], dtype=object), array(['laboratory technician'], dtype=object), array(['technical writer'], dtype=object), array(['kb home estimator'], dtype=object), array(['customer service representative'], dtype=object), array(['account executive'], dtype=object), array(['field based rn case manager'], dtype=object), array(['n horizontal construction engineers'], dtype=object), array(['electrical engineer'], dtype=object), array(['estimator'], dtype=object), array(['editor'], dtype=object), array(['working vacations in china co ltd job application for english and subject teachersany city in china  monstercom var monslogvars  jobid'],\n",
            "      dtype=object), array(['sous chefs'], dtype=object), array(['project engineer'], dtype=object), array(['plumbingmaintenancetechnician'], dtype=object), array(['commercial superintendent'], dtype=object), array(['quality engineer'], dtype=object), array(['maintenance tech'], dtype=object), array(['mobile application software developer'], dtype=object), array(['customer service representative'], dtype=object), array(['restaurant manager'], dtype=object), array(['customer service representative'], dtype=object), array(['associate editor'], dtype=object), array(['heavy civil estimator'], dtype=object), array(['manager'], dtype=object), array(['monster'], dtype=object), array(['content developer for matlabhdl code generation'], dtype=object), array(['maintenance technician'], dtype=object), array(['b combat engineer'], dtype=object), array(['monster'], dtype=object), array(['ups social media intern'], dtype=object), array(['personal banker'], dtype=object), array(['manager'], dtype=object), array(['manufacturing engineer'], dtype=object), array(['customer service representative'], dtype=object), array(['senior systems engineer'], dtype=object), array(['maintenance technician'], dtype=object), array(['senior accountant'], dtype=object), array(['account executive'], dtype=object), array(['cloud architect'], dtype=object), array(['svp trust department manager'], dtype=object), array(['machine operator'], dtype=object), array(['litigation paralegal'], dtype=object), array(['proposal writer'], dtype=object), array(['licensed inside sales financial consultant'], dtype=object), array(['associate'], dtype=object), array(['design engineer'], dtype=object), array(['administrative assistant'], dtype=object), array(['quality engineer'], dtype=object), array(['assistant store manager'], dtype=object), array(['personal banker safe  west owens  hours'], dtype=object), array(['programmer analys'], dtype=object), array(['outside sales representative trainee'], dtype=object), array(['ups automotive mechanic'], dtype=object), array(['sales agent'], dtype=object), array(['monster'], dtype=object), array(['project coordinator'], dtype=object), array(['manufacturing engineer'], dtype=object), array(['office manager'], dtype=object), array(['project engineer'], dtype=object), array(['sql dba'], dtype=object), array(['maintenance technician'], dtype=object), array(['housekeeper'], dtype=object), array(['sales associate'], dtype=object), array(['bi software developer'], dtype=object), array(['quality engineer'], dtype=object), array(['project engineer'], dtype=object), array(['manager'], dtype=object), array(['targeting systems program manager'], dtype=object), array(['registered nurse'], dtype=object), array(['proposal writer'], dtype=object), array(['design engineer'], dtype=object), array(['qa inspector'], dtype=object), array(['cybercoders job application for tax director  monstercom var monslogvars  jobid'],\n",
            "      dtype=object), array(['sr systems engineer'], dtype=object), array(['cloud technical account manager'], dtype=object), array(['lending compliance officer'], dtype=object), array(['project coordinator'], dtype=object), array(['it'], dtype=object), array(['project engineer'], dtype=object), array(['facilities maintenance technician ii'], dtype=object), array(['senior associate'], dtype=object), array(['packaging engineer'], dtype=object), array(['registered nurse rn'], dtype=object), array(['field chemist'], dtype=object), array(['administrative assist any'], dtype=object), array(['project manager'], dtype=object), array(['field service technician'], dtype=object), array(['registered nurse rn'], dtype=object), array(['project manager'], dtype=object), array(['shibboleth devmust have version  experiencework remotely'],\n",
            "      dtype=object), array(['customer service representative csr'], dtype=object), array(['senior sourcing specialist'], dtype=object), array(['project manager'], dtype=object), array(['instructor'], dtype=object), array(['project manager'], dtype=object), array(['truck driver – experienced – full time'], dtype=object), array(['truck driver – experienced – full time'], dtype=object), array(['music instructor'], dtype=object), array(['project manager'], dtype=object), array(['contracts manager'], dtype=object), array(['desktop support'], dtype=object), array(['warehouse processornd shift'], dtype=object), array(['unit manager rn'], dtype=object), array(['tailored brands job application for noncdl route driver fulltime  monstercom var monslogvars  jobid'],\n",
            "      dtype=object), array(['enrollment agent i '], dtype=object), array(['personal care attendants'], dtype=object), array(['customer service representative'], dtype=object), array(['enrollment agent i '], dtype=object), array(['enrollment agent i '], dtype=object), array(['enrollment agent i '], dtype=object), array(['enrollment agent i '], dtype=object), array(['licensed insurance sales assistant customer service agent'],\n",
            "      dtype=object), array(['enrollment agent i '], dtype=object), array(['certified nursing assistant'], dtype=object), array(['management training  entry level sales  entry level marketing'],\n",
            "      dtype=object), array(['inside sales representative'], dtype=object), array(['monster'], dtype=object), array(['customer service professionals consider a career as a sales management trainee'],\n",
            "      dtype=object), array(['social worker'], dtype=object), array(['contractor sales rep  d '], dtype=object), array(['service manager'], dtype=object), array(['director of nursing'], dtype=object), array(['retail sales associate'], dtype=object), array(['outside sales representative'], dtype=object), array(['t military intelligence systems maintainerintegrator'],\n",
            "      dtype=object), array(['security supervisor'], dtype=object), array(['c indirect fire infantryman'], dtype=object), array(['legal assistant'], dtype=object), array(['generic job template'], dtype=object), array(['project coordinator'], dtype=object), array(['american income life job application for finally…a sales job that makes a difference  monstercom var monslogvars  jobid'],\n",
            "      dtype=object), array(['recruiter'], dtype=object), array(['emergency room registered nurse rnnight'], dtype=object), array(['patient care tech full time'], dtype=object), array(['seasonal holiday retail sales'], dtype=object), array(['please apply only if you are qualified'], dtype=object), array(['monster'], dtype=object), array(['please apply only if you are qualified'], dtype=object), array(['cryptologic linguist'], dtype=object), array(['please apply only if you are qualified'], dtype=object), array(['utility'], dtype=object), array(['sales agent'], dtype=object), array(['hr administrative assistant'], dtype=object), array(['quality assurance manager'], dtype=object), array(['restaurant manager'], dtype=object), array(['b lightwheel vehicle mechanic'], dtype=object), array(['project coordinator'], dtype=object), array(['sales associate'], dtype=object), array(['ip  op sds coder'], dtype=object), array(['sales professional'], dtype=object), array(['aflac insurance sales agent'], dtype=object), array(['dietary aide'], dtype=object), array(['monster'], dtype=object), array(['monster'], dtype=object), array(['learning experience consultant'], dtype=object), array(['nurse manager'], dtype=object), array(['tmobjp'], dtype=object), array(['monster'], dtype=object), array(['business analyst'], dtype=object), array(['marketing communications'], dtype=object), array(['medical device sales'], dtype=object), array(['nurse practitioner'], dtype=object), array(['operations manager'], dtype=object), array(['financial analyst'], dtype=object), array(['marketing assistant'], dtype=object), array(['monster'], dtype=object), array(['general utility worker'], dtype=object), array(['data entry'], dtype=object), array(['administrative assistant'], dtype=object), array(['registered nurse rn'], dtype=object), array(['sales representative'], dtype=object), array(['promotional marketing  sales coordinator'], dtype=object), array(['product manager'], dtype=object), array(['quality engineer'], dtype=object), array(['dietary aide'], dtype=object), array(['financial analyst'], dtype=object), array(['entry level management'], dtype=object), array(['monster'], dtype=object), array(['retail reset merchandiser kroger full time'], dtype=object), array(['scrum master'], dtype=object), array(['cybercoders job application for voip engineer'], dtype=object), array(['monster'], dtype=object), array(['accounts receivable  payroll'], dtype=object), array(['cook'], dtype=object), array(['monster'], dtype=object), array(['compliance analyst'], dtype=object), array(['dermatology dupilumab area business manager'], dtype=object), array(['vp aml compliance'], dtype=object), array(['assistant restaurant manager'], dtype=object), array(['financial advisor'], dtype=object), array(['receptionist needed'], dtype=object), array(['bi reports developer ssrs'], dtype=object), array(['event specialist part time sales'], dtype=object), array(['phlebotomist'], dtype=object), array(['customer service'], dtype=object), array(['construction project manager'], dtype=object), array(['registered respiratory therapist'], dtype=object), array(['sr technical program manager'], dtype=object), array(['facility technician cbpp'], dtype=object), array(['pr and brand management'], dtype=object), array(['field sales managerdistributor'], dtype=object), array(['accounts receivable  payroll'], dtype=object), array(['assistant operations manager'], dtype=object), array(['sql dba'], dtype=object), array(['sales representative'], dtype=object), array(['accounts receivable analyst'], dtype=object), array(['administrative assistant'], dtype=object), array(['warehouse associate'], dtype=object), array(['safetyosha leader'], dtype=object), array(['net developer'], dtype=object), array(['android developer'], dtype=object), array(['monster'], dtype=object), array(['cybercoders job application for senior android engineer'],\n",
            "      dtype=object), array(['recruiter'], dtype=object), array(['cybercoders job application for aws cloud architect work  months in singapore'],\n",
            "      dtype=object), array(['teddy bear christian child development center job application for teachers needed  monstercom var monslogvars  jobid'],\n",
            "      dtype=object), array(['hosthostess'], dtype=object), array(['administrative assistant'], dtype=object), array(['staff accountant'], dtype=object), array(['aflac insurance sales agent'], dtype=object), array(['data center equipment technician'], dtype=object), array(['project engineer'], dtype=object), array(['monster'], dtype=object), array(['monster'], dtype=object), array(['please apply only if you are qualified'], dtype=object), array(['maintenance technician'], dtype=object), array(['hamilton county adult case manager'], dtype=object), array(['alterations specialist parttime'], dtype=object), array(['event specialist part time sales'], dtype=object), array(['administrative assistant'], dtype=object), array(['financial professional associate'], dtype=object), array(['administrative assistant'], dtype=object), array(['cook'], dtype=object), array(['parttime accounts receivable'], dtype=object), array(['seasonal holiday lakeshore grill restaurant prep cook part time macys ridgedale center'],\n",
            "      dtype=object), array(['cook'], dtype=object), array(['accounts payable clerk'], dtype=object), array(['accounts receivable specialist'], dtype=object), array(['assistant restaurant manager'], dtype=object), array(['supervisor'], dtype=object), array(['staff accountant'], dtype=object), array(['monster'], dtype=object), array(['west central delivery lead'], dtype=object), array(['accounts payable specialist'], dtype=object), array(['real estate investments attorney'], dtype=object), array(['public relations associate'], dtype=object), array(['seasonal holiday lakeshore grill restaurant prep cook part time macys ridgedale center'],\n",
            "      dtype=object), array(['grill cook'], dtype=object), array(['restaurant manager'], dtype=object), array(['ed patient registration munciehartford city'], dtype=object), array(['west central delivery lead'], dtype=object), array(['monster'], dtype=object), array(['business development rep  bb sales  outside sales'], dtype=object), array(['financial professional associate'], dtype=object), array(['senior internal audit'], dtype=object), array(['quality inspector'], dtype=object), array(['seasonal holiday lakeshore grill restaurant prep cook part time macys ridgedale center'],\n",
            "      dtype=object), array(['tax accountant'], dtype=object), array(['accounts payable clerk'], dtype=object), array(['senior accountant'], dtype=object), array(['visual  ux designer'], dtype=object), array(['staff accountant'], dtype=object), array(['account receivable  credit and collections department'],\n",
            "      dtype=object), array(['general utility worker'], dtype=object), array(['corrections officer'], dtype=object), array(['programmer analys'], dtype=object), array(['corrections officer'], dtype=object), array(['account manager'], dtype=object), array(['corrections officer'], dtype=object), array(['monster'], dtype=object), array(['corrections officer'], dtype=object), array(['corrections officer'], dtype=object), array(['restaurant manager'], dtype=object), array(['corrections officer'], dtype=object), array(['monster'], dtype=object), array(['project coordinator'], dtype=object), array(['government'], dtype=object), array(['design engineer'], dtype=object), array(['restaurant manager'], dtype=object), array(['senior project manager'], dtype=object), array(['quality manager'], dtype=object), array(['illustrator'], dtype=object), array(['sales associate'], dtype=object), array(['telecommunications analyst'], dtype=object), array(['restaurant manager'], dtype=object), array(['corrections officer'], dtype=object), array(['corrections officer'], dtype=object), array(['server technician'], dtype=object), array(['lpn'], dtype=object), array(['corrections officer'], dtype=object), array(['assistant manager'], dtype=object), array(['corrections officer'], dtype=object), array(['customer service representative'], dtype=object), array(['corrections officer'], dtype=object), array(['executive administrative assistant'], dtype=object), array(['retail brand ambassador'], dtype=object), array(['quality engineer'], dtype=object), array(['corrections officer'], dtype=object), array(['shipping  receiving clerk'], dtype=object), array(['front desk receptionist'], dtype=object), array(['government'], dtype=object), array(['corrections officer'], dtype=object), array(['corrections officer'], dtype=object), array(['receptionist'], dtype=object), array(['area maintenance specialist'], dtype=object), array(['corrections officer'], dtype=object), array(['shoe sales associate'], dtype=object), array(['corrections officer'], dtype=object), array(['restaurant manager'], dtype=object), array(['customer service representative'], dtype=object), array(['manager'], dtype=object), array(['corrections officer'], dtype=object), array(['drivers'], dtype=object), array(['monster'], dtype=object), array(['restaurant manager'], dtype=object), array(['corrections officer'], dtype=object), array(['government'], dtype=object), array(['corrections officer'], dtype=object), array(['senior construction superintendent'], dtype=object), array(['corrections officer'], dtype=object), array(['sales account executive'], dtype=object), array(['retail sales merchandiser full time'], dtype=object), array(['corrections officer'], dtype=object), array(['assistant manager'], dtype=object), array(['corrections officer'], dtype=object), array(['alarm technician'], dtype=object), array(['sr full stack developer'], dtype=object), array(['restaurant general manager'], dtype=object), array(['security supervisor'], dtype=object), array(['police chief'], dtype=object), array(['corrections officer'], dtype=object), array(['tree maintenance worker'], dtype=object), array(['cytotechnologist'], dtype=object), array(['corrections officer'], dtype=object), array(['customer service representative'], dtype=object), array(['customer service representative'], dtype=object), array(['constitutional defense attorney'], dtype=object), array(['corrections officer'], dtype=object), array(['restaurant manager'], dtype=object), array(['restaurant manager'], dtype=object), array(['maintenance'], dtype=object), array(['government'], dtype=object), array(['corrections officer'], dtype=object), array(['assistant manager'], dtype=object), array(['monster'], dtype=object), array(['deputy program manager'], dtype=object), array(['corrections officer'], dtype=object), array(['restaurant manager'], dtype=object), array(['gap inc direct job application for warehouse positions  monstercom var monslogvars  jobid'],\n",
            "      dtype=object), array(['monster'], dtype=object), array(['security supervisor'], dtype=object), array(['corrections officer'], dtype=object), array(['corrections officer'], dtype=object), array(['assistant security manager '], dtype=object), array(['customer service representative'], dtype=object), array(['monster'], dtype=object), array(['corrections officer'], dtype=object), array(['deputy program manager'], dtype=object), array(['corrections officer'], dtype=object), array(['front desk receptionist'], dtype=object), array(['dispatcher'], dtype=object), array(['customer service representative'], dtype=object), array(['qa inspector'], dtype=object), array(['corrections officer'], dtype=object), array(['insurance agent'], dtype=object), array(['corrections officer'], dtype=object), array(['corrections officer'], dtype=object), array(['corrections officer'], dtype=object), array(['assistant contractor special security officer acsso'],\n",
            "      dtype=object), array(['corrections officer'], dtype=object), array(['corrections officer'], dtype=object), array(['monster'], dtype=object), array(['building engineer'], dtype=object), array(['restaurant manager'], dtype=object), array(['sales associate'], dtype=object), array(['field service technician'], dtype=object), array(['monster'], dtype=object), array(['monster'], dtype=object), array(['insurance agent'], dtype=object), array(['restaurant manager'], dtype=object), array(['recruiter'], dtype=object), array(['customer service representative'], dtype=object), array(['seasonal  pt housekeeping  food service'], dtype=object), array(['cyber security engineer government'], dtype=object), array(['bosch certified technician'], dtype=object), array(['open house monday '], dtype=object), array(['corrections officer'], dtype=object), array(['corrections officer'], dtype=object), array(['monster'], dtype=object), array(['restaurant manager'], dtype=object), array(['customer service representative'], dtype=object), array(['corrections officer'], dtype=object), array(['executive administrative assistant'], dtype=object), array(['dietary assistants'], dtype=object), array(['corrections officer'], dtype=object), array(['corrections officer'], dtype=object), array(['shift supervisor'], dtype=object), array(['certified nursing assistant'], dtype=object), array(['briefingmotionsappeals attorney'], dtype=object), array(['programmer analys'], dtype=object), array(['monster'], dtype=object), array(['monster'], dtype=object), array(['corrections officer'], dtype=object), array(['assistant manager'], dtype=object), array(['corrections officer'], dtype=object), array(['driver'], dtype=object), array(['restaurant manager'], dtype=object), array(['corrections officer'], dtype=object), array(['programmer analys'], dtype=object), array(['quality engineer'], dtype=object), array(['quality technician'], dtype=object), array(['parttime accounts receivable'], dtype=object), array(['residential lawn specialist'], dtype=object), array(['financial analyst iii accounts payable supervisor'], dtype=object), array(['real estate sales'], dtype=object), array(['quality engineer'], dtype=object), array(['materials manager'], dtype=object), array(['government'], dtype=object), array(['senior consultant – local optimization'], dtype=object), array(['sales associate'], dtype=object), array(['customer service representative'], dtype=object), array(['field service technician'], dtype=object), array(['personal banker safe  west owens  hours'], dtype=object), array(['enrollment agent i '], dtype=object), array(['proposal writer'], dtype=object), array(['corrections officer'], dtype=object), array(['corrections officer'], dtype=object), array(['auto detailercleanup'], dtype=object), array(['corrections officer'], dtype=object), array(['certified nursing assistant'], dtype=object), array(['account executive'], dtype=object), array(['corrections officer'], dtype=object), array(['senior financial analyst'], dtype=object), array(['senior network engineer'], dtype=object), array(['au bon pain job fair'], dtype=object), array(['electrical engineer'], dtype=object), array(['experienced cdla driver needed in california'], dtype=object), array(['monster'], dtype=object), array(['corrections officer'], dtype=object), array(['insurance agent'], dtype=object), array(['cable technician'], dtype=object), array(['corrections officer'], dtype=object), array(['monster'], dtype=object), array(['shoe sales associate'], dtype=object), array(['specialty insurance underwriter'], dtype=object), array(['police chief'], dtype=object), array(['inside sales representative'], dtype=object), array(['claim representative'], dtype=object), array(['database administrator'], dtype=object), array(['truck driver'], dtype=object), array(['briefingmotionsappeals attorney'], dtype=object), array(['monster'], dtype=object), array(['compensation consultant'], dtype=object), array(['monster'], dtype=object), array(['commerical accounts receivable  experience with government accounts  soft collector'],\n",
            "      dtype=object), array(['personal banker safe  west owens  hours'], dtype=object), array(['it director'], dtype=object), array(['corrections officer'], dtype=object), array(['account executive'], dtype=object), array(['monster'], dtype=object), array(['executive assistant'], dtype=object), array(['customer service representative'], dtype=object), array(['alarm technician'], dtype=object), array(['maintenance technician'], dtype=object), array(['restaurant general manager'], dtype=object), array(['restaurant manager'], dtype=object), array(['monster'], dtype=object), array(['maintenance technician'], dtype=object), array(['outside plant osp field engineer'], dtype=object), array(['field sales supervisor'], dtype=object), array(['rn'], dtype=object), array(['nurse manager pacu – rn – nurse manager – k'], dtype=object), array(['corrections officer'], dtype=object), array(['lead developer'], dtype=object), array(['lab technicianrd shift'], dtype=object), array(['transmission construction – vice president'], dtype=object), array(['corrections officer'], dtype=object), array(['part time planning intern'], dtype=object), array(['territory manager'], dtype=object), array(['experienced cdla driver needed in california'], dtype=object), array(['cable technician'], dtype=object), array(['real estate sales'], dtype=object), array(['corrections officer'], dtype=object), array(['corrections officer'], dtype=object), array(['it director'], dtype=object), array(['customer service representative'], dtype=object), array(['forensic case file manager'], dtype=object), array(['account manager'], dtype=object), array(['corrections officer'], dtype=object), array(['diamond sales consultant'], dtype=object), array(['class a cdl delivery driver'], dtype=object), array(['truck driver'], dtype=object), array(['recruiter'], dtype=object), array(['service tech iv'], dtype=object), array(['senior product manager'], dtype=object), array(['executive administrative assistant'], dtype=object), array(['corrections officer'], dtype=object), array(['monster'], dtype=object), array(['personal banker safe  west owens  hours'], dtype=object), array(['customer service representative'], dtype=object), array(['police chief'], dtype=object), array(['corrections officer'], dtype=object), array(['quality manager'], dtype=object), array(['entry level event coordinator marketing'], dtype=object), array(['corrections officer'], dtype=object), array(['assistant manager'], dtype=object), array(['corrections officer'], dtype=object), array(['cmm programmer'], dtype=object), array(['corrections officer'], dtype=object), array(['security architect'], dtype=object), array(['corrections officer'], dtype=object), array(['licensed practical nurse lpn'], dtype=object), array(['trailer mechanic'], dtype=object), array(['analyst'], dtype=object), array(['service writer'], dtype=object), array(['licensed practical nurses lpn'], dtype=object), array(['truck driver – entry level  cdl not required  transportation – full time'],\n",
            "      dtype=object), array(['asphalt paving project coordinator'], dtype=object), array(['drivers'], dtype=object), array(['business analyst'], dtype=object), array(['monster'], dtype=object), array(['security supervisor'], dtype=object), array(['shift supervisor'], dtype=object), array(['medical insurance verification specialist'], dtype=object), array(['corrections officer'], dtype=object), array(['receptionist'], dtype=object), array(['telecommunications analyst'], dtype=object), array(['landscape foreman'], dtype=object), array(['corrections officer'], dtype=object), array(['corrections officer'], dtype=object), array(['corrections officer'], dtype=object), array(['briefingmotionsappeals attorney'], dtype=object), array(['briefingmotionsappeals attorney'], dtype=object), array(['assistant manager'], dtype=object), array(['customer service representative'], dtype=object), array(['monster'], dtype=object), array(['automotive service technician'], dtype=object), array(['graphic designer'], dtype=object), array(['account manager'], dtype=object), array(['corrections officer'], dtype=object), array(['alarm technician'], dtype=object), array(['corrections officer'], dtype=object), array(['database administrator'], dtype=object), array(['dietary assistants'], dtype=object), array(['corrections officer'], dtype=object), array(['receptionist'], dtype=object), array(['quality manager'], dtype=object), array(['database administrator'], dtype=object), array(['case manager'], dtype=object), array(['front end developer'], dtype=object), array(['customer service representative'], dtype=object), array(['corrections officer'], dtype=object), array(['senior accountant'], dtype=object), array(['cnc lathe specialist'], dtype=object), array(['manager'], dtype=object), array(['restaurant manager'], dtype=object), array(['monster'], dtype=object), array(['maintenance technician'], dtype=object), array(['restaurant manager'], dtype=object), array(['quality inspector'], dtype=object), array(['receptionist'], dtype=object), array(['corrections officer'], dtype=object), array(['lead developer'], dtype=object), array(['assistant manager'], dtype=object), array(['monster'], dtype=object), array(['devops release administrator'], dtype=object), array(['senior network engineer'], dtype=object), array(['experienced cdla driver needed in california'], dtype=object), array(['cashier'], dtype=object), array(['database administrator'], dtype=object), array(['mental health counselor'], dtype=object), array(['corrections officer'], dtype=object), array(['sales account executive'], dtype=object), array(['personal banker safe  west owens  hours'], dtype=object), array(['sales associate'], dtype=object), array(['press brake operator'], dtype=object), array(['senior financial analyst'], dtype=object), array(['corrections officer'], dtype=object), array(['registered nurse rn'], dtype=object), array(['home health rn manager of clinical practice'], dtype=object), array(['sr network engineer'], dtype=object), array(['customer service representative'], dtype=object), array(['general labor'], dtype=object), array(['corrections officer'], dtype=object), array(['principal member of technical staff data scientist'], dtype=object), array(['recruiter'], dtype=object), array(['account executive'], dtype=object), array(['general manager'], dtype=object), array(['corrections officer'], dtype=object), array(['project manager'], dtype=object), array(['asset protection  loss prevention security guard part time columbus'],\n",
            "      dtype=object), array(['corrections officer'], dtype=object), array(['corrections officer'], dtype=object), array(['claims representativeworkers compensation'], dtype=object), array(['head of continuous manufacturing process development group'],\n",
            "      dtype=object), array(['receptionist'], dtype=object), array(['monster'], dtype=object), array(['customer service representative'], dtype=object), array(['lll support'], dtype=object), array(['physical therapist'], dtype=object), array(['project manager'], dtype=object), array(['corrections officer'], dtype=object), array(['sap business intelligence manager'], dtype=object), array(['corrections officer'], dtype=object), array(['security supervisor'], dtype=object), array(['associate'], dtype=object), array(['manager'], dtype=object), array(['personal banker safe  west owens  hours'], dtype=object), array(['tax director hedge fund'], dtype=object), array(['project manager'], dtype=object), array(['monster'], dtype=object), array(['monster'], dtype=object), array(['monster'], dtype=object), array(['licensed practical nurse lpn'], dtype=object), array(['financial analyst'], dtype=object), array(['quality manager'], dtype=object), array(['office assistant'], dtype=object), array(['case manager'], dtype=object), array(['field based rn case manager'], dtype=object), array(['corrections officer'], dtype=object), array(['programmer analys'], dtype=object), array(['personal banker safe  west owens  hours'], dtype=object), array(['residential hvac installer'], dtype=object), array(['computer operator'], dtype=object), array(['senior systems engineer'], dtype=object), array(['quality engineermanufacturing process'], dtype=object), array(['manager'], dtype=object), array([' columbus comanager'], dtype=object), array(['programmer analys'], dtype=object), array(['duty officer'], dtype=object), array(['senior network engineer'], dtype=object), array(['sales associate'], dtype=object), array(['junior it security analyst austin or houston'], dtype=object), array(['customer service representative'], dtype=object), array(['corrections officer'], dtype=object), array(['financial analyst'], dtype=object), array(['monster'], dtype=object), array(['personal banker safe  west owens  hours'], dtype=object), array(['monster'], dtype=object), array(['field nurse case manager rn '], dtype=object), array(['corrections officer'], dtype=object), array(['sr network engineer'], dtype=object), array(['technical analystquality'], dtype=object), array(['quality manager'], dtype=object), array(['labor  delivery staff rn – nurse – new hampshire – k'],\n",
            "      dtype=object), array(['monster'], dtype=object), array(['warehouse coordinator'], dtype=object), array(['project engineer'], dtype=object), array(['monster'], dtype=object), array(['systems administrator government'], dtype=object), array(['corrections officer'], dtype=object), array(['physical therapist'], dtype=object), array(['assistant security manager '], dtype=object), array(['licensed practical nurse lpn'], dtype=object), array(['retail cosmetics sales'], dtype=object), array(['corrections officer'], dtype=object), array(['warehouse associate'], dtype=object), array(['corrections officer'], dtype=object), array(['banquet servers'], dtype=object), array(['monster'], dtype=object), array(['accounting clerk'], dtype=object), array(['corrections officer'], dtype=object), array(['financial analyst'], dtype=object), array(['corrections officer'], dtype=object), array(['corrections officer'], dtype=object), array(['customer service representative'], dtype=object), array(['insurance agent'], dtype=object), array(['dock worker fulltime'], dtype=object), array(['receivingstock associate'], dtype=object), array(['nighttime help desk'], dtype=object), array(['general manager'], dtype=object), array(['monster'], dtype=object), array(['av engineer'], dtype=object), array(['monster'], dtype=object), array(['project manager'], dtype=object), array(['project manager'], dtype=object), array(['lead telecommunications engineer'], dtype=object), array(['investigative manager'], dtype=object), array(['assembler'], dtype=object), array(['sportsminded sales and marketing coordinator'], dtype=object), array(['alterations specialist parttime'], dtype=object), array(['engineercustomer support ii'], dtype=object), array(['office services associate'], dtype=object), array(['restaurant manager'], dtype=object), array(['corrections officer'], dtype=object), array(['quality engineer'], dtype=object), array(['legal assistant'], dtype=object), array(['citrix vmware support expert'], dtype=object), array(['security supervisor'], dtype=object), array(['sr network engineer'], dtype=object), array(['corrections officer'], dtype=object), array(['monster'], dtype=object), array(['account executive'], dtype=object), array(['operations supervisor'], dtype=object), array(['sales agent'], dtype=object), array(['monster'], dtype=object), array(['project manager'], dtype=object), array(['monster'], dtype=object), array(['monster'], dtype=object), array(['director'], dtype=object), array(['project manager'], dtype=object), array(['paralegal iii'], dtype=object), array(['government'], dtype=object), array(['corrections officer'], dtype=object), array(['project manager'], dtype=object), array(['assistant contractor special security officer acsso'],\n",
            "      dtype=object), array(['help desk technician ii'], dtype=object), array(['senior construction superintendent'], dtype=object), array(['restaurant manager'], dtype=object), array(['truck driver  cdl a  home nightly'], dtype=object), array(['senior accountant'], dtype=object), array(['principal member of technical staff data scientist'], dtype=object), array(['corrections officer'], dtype=object), array(['corrections officer'], dtype=object), array(['warehouse associate'], dtype=object), array(['corrections officer'], dtype=object), array(['retail cosmetics sales'], dtype=object), array(['monster'], dtype=object), array(['public relations  communications assistant'], dtype=object), array(['monster'], dtype=object), array(['account manager'], dtype=object), array(['staff accountant'], dtype=object), array(['program manager'], dtype=object), array(['customer service representative'], dtype=object), array(['corrections officer'], dtype=object), array(['corrections officer'], dtype=object), array(['entry level event coordinator marketing'], dtype=object), array(['cashier'], dtype=object), array(['call center csr in san diego'], dtype=object), array(['sales representative'], dtype=object), array(['nurse practitioner'], dtype=object), array(['maintenance manager'], dtype=object), array(['corrections officer'], dtype=object), array(['police chief'], dtype=object), array(['restaurant manager'], dtype=object), array(['customer service representative'], dtype=object), array(['restaurant manager'], dtype=object), array(['corrections officer'], dtype=object), array(['sr network engineer'], dtype=object), array(['corrections officer'], dtype=object), array(['ups senior accounting associate'], dtype=object), array(['corrections officer'], dtype=object), array(['truck driver – entry level  cdl not required  transportation – full time'],\n",
            "      dtype=object), array(['nursing instructors'], dtype=object), array(['corrections officer'], dtype=object), array(['shippingpacker'], dtype=object), array(['personal banker safe  west owens  hours'], dtype=object), array(['personal banker safe  west owens  hours'], dtype=object), array(['quality manager'], dtype=object), array(['senior construction superintendent'], dtype=object), array(['corrections officer'], dtype=object), array(['help desk'], dtype=object), array(['senior financial analyst'], dtype=object), array(['appliance technician'], dtype=object), array(['police chief'], dtype=object), array(['personal banker safe  west owens  hours'], dtype=object), array(['staff accountant'], dtype=object), array(['police chief'], dtype=object), array(['junior marketing assistant entry level marketing and advertising'],\n",
            "      dtype=object), array(['computer operator ii'], dtype=object), array(['service manager'], dtype=object), array(['monster'], dtype=object), array(['customer service representative'], dtype=object), array(['customer service representative'], dtype=object), array(['restaurant manager'], dtype=object), array(['cna caregiver'], dtype=object), array(['project manager'], dtype=object), array(['programmer analys'], dtype=object), array(['property manager'], dtype=object), array(['retail cosmetics sales'], dtype=object), array(['assistant manager'], dtype=object), array(['maintenance technician'], dtype=object), array(['corrections officer'], dtype=object), array(['security supervisor'], dtype=object), array(['utility miner  equipment operator underground mine rd shift'],\n",
            "      dtype=object), array(['infection preventionist'], dtype=object), array(['coram'], dtype=object), array(['maintenance technician'], dtype=object), array(['registered nurse rn'], dtype=object), array(['senior manager'], dtype=object), array(['insurance agent'], dtype=object), array(['asset protection  loss prevention security guard part time columbus'],\n",
            "      dtype=object), array(['director of nursing'], dtype=object), array(['sales associate'], dtype=object), array(['associate'], dtype=object), array(['corrections officer'], dtype=object), array(['corrections officer'], dtype=object), array(['senior project program manager'], dtype=object), array(['corrections officer'], dtype=object), array(['customer service representative'], dtype=object), array(['monster'], dtype=object), array(['monster'], dtype=object), array(['corrections officer'], dtype=object), array(['principal technical architect software resiliency engineer'],\n",
            "      dtype=object), array(['technical trainer'], dtype=object), array(['personal banker safe  west owens  hours'], dtype=object), array(['manager'], dtype=object), array(['lead telecommunications engineer'], dtype=object), array(['corrections officer'], dtype=object), array(['truck driver'], dtype=object), array(['manager'], dtype=object), array(['personal banker safe  west owens  hours'], dtype=object), array(['odyssey systems job application for epass f program manager aflcmcww sme  monstercom var monslogvars  jobid'],\n",
            "      dtype=object), array(['exceptional persons job application for human resources benefits manager  monstercom var monslogvars  jobid'],\n",
            "      dtype=object), array(['program assistant  analyst at eousa office of legal and victim programs'],\n",
            "      dtype=object), array(['customer service representative'], dtype=object), array(['bank teller'], dtype=object), array(['assistant director of nursing rn'], dtype=object), array(['information technology manager'], dtype=object), array(['customer service representative'], dtype=object), array(['senior systems engineer'], dtype=object), array(['customer service representative'], dtype=object), array(['customer service representative'], dtype=object), array(['project manager'], dtype=object), array(['cooks  cnas '], dtype=object), array(['quality control technician  manufacturing'], dtype=object), array(['driver'], dtype=object), array(['b military police'], dtype=object), array(['windows engineer'], dtype=object), array(['restaurant general manager'], dtype=object), array(['quality control inspectorlaredo'], dtype=object), array(['lawn care technician'], dtype=object), array(['business development manager'], dtype=object), array(['corrections officer'], dtype=object), array(['office assistant'], dtype=object), array(['cardiology sales specialist'], dtype=object), array(['monster'], dtype=object), array(['restaurant manager'], dtype=object), array(['class a cdl truck driver'], dtype=object), array(['corrections officer'], dtype=object), array(['assistant manager'], dtype=object), array(['water resources project managerengineer'], dtype=object), array(['executive assistant'], dtype=object), array(['investigative manager'], dtype=object), array(['personal banker safe  west owens  hours'], dtype=object), array(['ups fulltime city driver'], dtype=object), array(['monster'], dtype=object), array(['office manager'], dtype=object), array(['recruiter'], dtype=object), array(['help desk'], dtype=object), array(['rn'], dtype=object), array(['event specialist part time sales aco'], dtype=object), array(['truck driver – entry level  cdl not required  transportation – full time'],\n",
            "      dtype=object), array(['director of risk management  benefits'], dtype=object), array(['lll support'], dtype=object), array(['project manager'], dtype=object), array(['water resources project managerengineer'], dtype=object), array(['design engineer'], dtype=object), array(['field service technician'], dtype=object), array(['senior research scientist'], dtype=object), array(['sr product marketing mgr'], dtype=object), array(['hcmtime  labor peoplesoft analyst'], dtype=object), array(['project manager'], dtype=object), array(['claims representativeworkers compensation'], dtype=object), array(['cloud technical account manager'], dtype=object), array(['claim representative'], dtype=object), array(['personal banker safe  west owens  hours'], dtype=object), array(['help desk'], dtype=object), array(['qs  rc technician i'], dtype=object), array(['field nurse case manager rn '], dtype=object), array(['customer service'], dtype=object), array(['front desk supervisor'], dtype=object), array(['office assistant'], dtype=object), array(['cybercoders job application for fullstack c net developer leading media distribution platform  monstercom var monslogvars  jobid'],\n",
            "      dtype=object), array(['sr product marketing mgr'], dtype=object), array(['monster'], dtype=object), array(['project manager'], dtype=object), array(['director of risk management  benefits'], dtype=object), array(['speech language pathologist  slp'], dtype=object), array(['truck driver'], dtype=object), array(['business marketing senior project program manager'], dtype=object), array(['field based rn case manager'], dtype=object), array(['help desk technician ii'], dtype=object), array(['senior pricing manager'], dtype=object), array(['restaurant manager'], dtype=object), array(['project manager'], dtype=object), array(['cook'], dtype=object), array(['lll support'], dtype=object), array(['front desk supervisor'], dtype=object), array(['windows engineer'], dtype=object), array(['monster'], dtype=object), array(['admin assistant'], dtype=object), array(['territory manager'], dtype=object), array(['principal technical architect software resiliency engineer'],\n",
            "      dtype=object), array(['commercial sales representative'], dtype=object), array(['suite attendant'], dtype=object), array(['traveling superintendent'], dtype=object), array(['director of sales'], dtype=object), array(['sales representative'], dtype=object), array(['project coordinator'], dtype=object), array(['delivery associate'], dtype=object), array(['sous chef'], dtype=object), array(['field based rn case manager'], dtype=object), array(['event specialist part time sales aco'], dtype=object), array(['sous chef'], dtype=object), array(['monster'], dtype=object), array(['outside sales representative'], dtype=object), array(['payroll specialist'], dtype=object), array(['project manager'], dtype=object), array(['truck driver'], dtype=object), array(['monster'], dtype=object), array(['lead of service'], dtype=object), array(['associate engineerrf net'], dtype=object), array(['help desk'], dtype=object), array(['monster'], dtype=object), array(['restaurant manager'], dtype=object), array(['event specialist part time sales aco'], dtype=object), array(['office assistant'], dtype=object), array(['truck driver'], dtype=object), array(['production lead'], dtype=object), array(['monster'], dtype=object), array(['claim representative'], dtype=object), array(['bilingual spanish required retail sales consultant queens west hit'],\n",
            "      dtype=object), array(['field service technician'], dtype=object), array(['cashier'], dtype=object), array(['desktop support'], dtype=object), array(['service manager'], dtype=object), array(['itsm analyst servicenow'], dtype=object), array(['financial analyst'], dtype=object), array(['event specialist part time sales aco'], dtype=object), array(['energy specialist'], dtype=object), array(['analytical accountant'], dtype=object), array(['training and recruiting for sports minded athletes'], dtype=object), array(['director of sales'], dtype=object), array(['front desk supervisor'], dtype=object), array(['business analyst'], dtype=object), array(['real estate sales'], dtype=object), array(['engineercustomer support ii'], dtype=object), array(['project manager'], dtype=object), array(['store manager'], dtype=object), array(['java developer'], dtype=object), array(['director of risk management  benefits'], dtype=object), array(['revenue cycle optimization manager'], dtype=object), array(['emergency room registered nurse rnnight'], dtype=object), array(['truck driver – cdl  class a  transportation – full time  training provided'],\n",
            "      dtype=object), array(['service writer'], dtype=object), array(['office manager'], dtype=object), array(['restaurant manager'], dtype=object), array(['project manager'], dtype=object), array(['vp'], dtype=object), array(['project manager'], dtype=object), array(['sr application developer'], dtype=object), array(['sales associate'], dtype=object), array(['director of information technology erp'], dtype=object), array(['sap business intelligence manager'], dtype=object), array(['pc and mac field technicians'], dtype=object), array(['contracts manager  '], dtype=object), array(['intelligent transportation systems its senior technician'],\n",
            "      dtype=object), array(['alterations specialist parttime'], dtype=object), array(['paralegal'], dtype=object), array(['personal banker safe  west owens  hours'], dtype=object), array(['monster'], dtype=object), array(['manager'], dtype=object), array(['retail sales merchandiser full time'], dtype=object), array(['pt bookkeeper'], dtype=object), array(['it systems analyst'], dtype=object), array(['network technician'], dtype=object), array(['graphic designer'], dtype=object), array(['sales representative'], dtype=object), array(['financial professional associate'], dtype=object), array(['coram'], dtype=object), array(['monster'], dtype=object), array(['network admin'], dtype=object), array(['project manager'], dtype=object), array(['tier supporthelp desk positions'], dtype=object), array(['senior construction superintendent'], dtype=object), array(['project manager'], dtype=object), array(['director of software quality assurance sqa'], dtype=object), array(['cust service tech ii'], dtype=object), array(['business marketing senior project program manager'], dtype=object), array(['pharmacy technician'], dtype=object), array(['sr java developer'], dtype=object), array(['project manager'], dtype=object), array(['tankwasher'], dtype=object), array(['cybercoders job application for senior ux designer  monstercom var monslogvars  jobid'],\n",
            "      dtype=object), array(['coram'], dtype=object), array(['senior software engineer'], dtype=object), array(['aspnetc developer'], dtype=object), array(['applications consultant'], dtype=object), array(['senior data scientist'], dtype=object), array(['digital marketing intern'], dtype=object), array(['project manager job'], dtype=object), array(['account consultant'], dtype=object), array(['system administrator'], dtype=object), array(['project manager'], dtype=object), array(['monster'], dtype=object), array(['project manager'], dtype=object), array(['cyber security engineer'], dtype=object), array(['sap business intelligence manager'], dtype=object), array(['machine learning engineer'], dtype=object), array(['business analyst'], dtype=object), array(['restaurant manager'], dtype=object), array(['data analyst'], dtype=object), array(['help desk technician'], dtype=object), array(['it security lead'], dtype=object), array(['it'], dtype=object), array(['csf designer developer'], dtype=object), array(['slait consulting job application for telecommunications tech  monstercom var monslogvars  jobid'],\n",
            "      dtype=object), array(['data center support datacenter build and implementation'],\n",
            "      dtype=object), array(['desktop support'], dtype=object), array(['sap business intelligence manager'], dtype=object), array(['data assurance manager'], dtype=object), array(['lead telecommunications engineer'], dtype=object), array(['network engineer'], dtype=object), array(['sr web developeranalyst'], dtype=object), array(['pc and mac field technicians'], dtype=object), array(['technical writer'], dtype=object), array(['graphic designer'], dtype=object), array(['clinical contracts associate i'], dtype=object), array(['monster'], dtype=object), array(['monster'], dtype=object), array(['desktop support technician'], dtype=object), array(['rest developer'], dtype=object), array(['data integration specialist'], dtype=object), array(['shibboleth devmust have version  experiencework remotely'],\n",
            "      dtype=object), array(['systems admin mid'], dtype=object), array(['computer operator'], dtype=object), array(['java developer'], dtype=object), array(['senior sap fiar functional consultant'], dtype=object), array(['software design engineer intest'], dtype=object), array(['monster'], dtype=object), array(['project manager'], dtype=object), array(['scrum master'], dtype=object), array(['sql dba'], dtype=object), array(['business systems analyst'], dtype=object), array(['senior construction superintendent'], dtype=object), array(['data analyst'], dtype=object), array(['project manager'], dtype=object), array(['project coordinator'], dtype=object), array(['systems admin mid'], dtype=object), array(['junior systems administrator'], dtype=object), array(['information security specialist'], dtype=object), array(['monster'], dtype=object), array(['sap business intelligence manager'], dtype=object), array(['entry level analyst'], dtype=object), array(['project manager'], dtype=object), array(['project manager'], dtype=object), array(['data center support datacenter build and implementation'],\n",
            "      dtype=object), array(['credit and collection'], dtype=object), array(['gpo administrator'], dtype=object), array(['sql dba'], dtype=object), array(['applications systems consultant'], dtype=object), array(['net developer'], dtype=object), array(['associate engineerrf net'], dtype=object), array(['genius'], dtype=object), array(['java developer'], dtype=object), array(['project coordinator'], dtype=object), array(['benefits finance analyst'], dtype=object), array(['cust service tech ii'], dtype=object), array(['project manager'], dtype=object), array(['operations support analyst pricing'], dtype=object), array(['network admin'], dtype=object), array(['tech support analyst'], dtype=object), array(['graphic designer'], dtype=object), array(['python developer ii'], dtype=object), array(['technical project manager'], dtype=object), array(['help desk  desktop support technician'], dtype=object), array(['project manager'], dtype=object), array(['scrum master'], dtype=object), array(['monster'], dtype=object), array(['cyber security engineer'], dtype=object), array(['sr web developeranalyst'], dtype=object), array(['project coordinator'], dtype=object), array(['customer service representative'], dtype=object), array(['desktop support'], dtype=object), array(['sales associate'], dtype=object), array(['manager'], dtype=object), array(['front deskadmin support'], dtype=object), array(['project manager'], dtype=object), array(['business analyst'], dtype=object), array(['bi reports developer ssrs'], dtype=object), array(['manager'], dtype=object), array(['senior technical project manager'], dtype=object), array(['network communications'], dtype=object), array(['mold technicianinjection molding'], dtype=object), array(['coram'], dtype=object), array(['fixed equipment coatings inspector'], dtype=object), array(['monster'], dtype=object), array(['net developer'], dtype=object), array(['senior accountant'], dtype=object), array(['bi reports developer ssrs'], dtype=object), array(['sap business intelligence manager'], dtype=object), array(['data analyst'], dtype=object), array(['desktop support'], dtype=object), array(['pt bookkeeper'], dtype=object), array(['apple  pc desktop support technician'], dtype=object), array(['net developer'], dtype=object), array(['monster'], dtype=object), array(['manager'], dtype=object), array(['it'], dtype=object), array(['project coordinator'], dtype=object), array(['provisioning technician'], dtype=object), array(['customer service representative'], dtype=object), array(['senior network engineer'], dtype=object), array(['software engineer'], dtype=object), array(['systems administrator government'], dtype=object), array(['monster'], dtype=object), array(['technical pm'], dtype=object), array(['cnc high speed mill machinist'], dtype=object), array(['scheduler'], dtype=object), array(['network admin'], dtype=object), array(['data center support datacenter build and implementation'],\n",
            "      dtype=object), array(['senior java developer'], dtype=object), array(['java developer'], dtype=object), array(['asphalt paving project coordinator'], dtype=object), array(['project manager'], dtype=object), array(['windows architect'], dtype=object), array(['sr network engineer'], dtype=object), array(['windows systems administrator'], dtype=object), array(['uiux designer'], dtype=object), array(['customer service representative'], dtype=object), array(['monster'], dtype=object), array(['maintenance technician'], dtype=object), array(['cnas'], dtype=object), array(['quality engineer'], dtype=object), array(['project manager'], dtype=object), array(['quality control specialist'], dtype=object), array(['benefits finance analyst'], dtype=object), array(['director of development'], dtype=object), array(['senior financial analyst'], dtype=object), array(['pc and mac field technicians'], dtype=object), array(['network technician'], dtype=object), array(['remote lead product architect'], dtype=object), array(['project manager'], dtype=object), array(['desktop support'], dtype=object), array(['senior project program manager'], dtype=object), array(['pc and mac field technicians'], dtype=object), array(['monster'], dtype=object), array(['solutions architect'], dtype=object), array(['javaangular js developer'], dtype=object), array(['business marketing senior project program manager'], dtype=object), array(['csf designer developer'], dtype=object), array(['entry level analyst'], dtype=object), array(['shibboleth devmust have version  experiencework remotely'],\n",
            "      dtype=object), array(['project manager'], dtype=object), array(['technical trainer'], dtype=object), array(['executive assistant'], dtype=object), array(['casino analyst'], dtype=object), array(['genius'], dtype=object), array(['desktop support'], dtype=object), array(['associate engineerrf net'], dtype=object), array(['monster'], dtype=object), array(['javaangular js developer'], dtype=object), array(['sap business intelligence manager'], dtype=object), array(['sap business intelligence manager'], dtype=object), array(['telecom technician'], dtype=object), array(['devops engineer'], dtype=object), array(['public health rns'], dtype=object), array(['sap business intelligence manager'], dtype=object), array(['design engineer'], dtype=object), array(['av engineer'], dtype=object), array(['project manager'], dtype=object), array(['monster'], dtype=object), array(['application support analyst'], dtype=object), array(['project manager'], dtype=object), array(['it'], dtype=object), array(['monster'], dtype=object), array(['technical trainer'], dtype=object), array(['project manager'], dtype=object), array(['monster'], dtype=object), array(['sr monitoring and incident response analys'], dtype=object), array(['lll support'], dtype=object), array(['business analyst'], dtype=object), array(['senior construction superintendent'], dtype=object), array(['monster'], dtype=object), array(['migration engineer active directory'], dtype=object), array(['manager'], dtype=object), array(['junior it security analyst austin or houston'], dtype=object), array(['scrum master'], dtype=object), array(['sap business intelligence manager'], dtype=object), array(['help desk'], dtype=object), array(['solutions architect'], dtype=object), array(['it infrastructure project manager'], dtype=object), array(['monster'], dtype=object), array(['sap business intelligence manager'], dtype=object), array(['southern pan service job application for construction workers  monstercom var monslogvars  jobid'],\n",
            "      dtype=object), array(['monster'], dtype=object), array(['project manager'], dtype=object), array(['licensing coordinator'], dtype=object), array(['hr generalist'], dtype=object), array(['desktop support'], dtype=object), array(['material handler'], dtype=object), array(['claim representative'], dtype=object), array(['tech support analyst'], dtype=object), array(['quality engineer'], dtype=object), array(['software engineer'], dtype=object), array(['senior project program manager'], dtype=object), array(['senior ui developer'], dtype=object), array(['project manager'], dtype=object), array(['quality assurance administrative assistant'], dtype=object), array(['application support analyst'], dtype=object), array(['systems administrator government'], dtype=object), array(['project manager'], dtype=object), array(['sr web developeranalyst'], dtype=object), array(['project manager'], dtype=object), array(['javaangular js developer'], dtype=object), array(['network admin'], dtype=object), array(['crystal reports developer'], dtype=object), array(['customer service representative'], dtype=object), array(['project manager'], dtype=object), array(['graphic designer'], dtype=object), array(['applications systems consultant'], dtype=object), array(['pc and mac field technicians'], dtype=object), array(['systems admin mid'], dtype=object), array(['sap business intelligence manager'], dtype=object), array(['account executive'], dtype=object), array(['project coordinator'], dtype=object), array(['coram'], dtype=object), array(['graphic designer'], dtype=object), array(['business analyst'], dtype=object), array(['oracle plsql developer'], dtype=object), array(['retail sales'], dtype=object), array(['quality engineer'], dtype=object), array(['lll support'], dtype=object), array(['cognos developer'], dtype=object), array(['lll support'], dtype=object), array(['project engineer'], dtype=object), array(['ikea food coworker coldprep server'], dtype=object), array(['assistant manager'], dtype=object), array(['quality engineer'], dtype=object), array(['customer service representative'], dtype=object), array(['sales management trainee'], dtype=object), array(['machinist'], dtype=object), array(['document review specialist iii'], dtype=object), array(['document review specialist iii'], dtype=object), array(['monster'], dtype=object), array(['project engineer'], dtype=object), array(['retail sales'], dtype=object), array(['macys seasonal holiday retail sales'], dtype=object), array(['laboratory technician'], dtype=object), array(['account manager'], dtype=object), array(['golf retail sales leader'], dtype=object), array(['territory sales representative'], dtype=object), array(['private brand stock support pbss'], dtype=object), array(['wedding  event assistant'], dtype=object), array(['seasonal holiday retail merchandising'], dtype=object), array(['marketing advertising and branding associate for expanding firm'],\n",
            "      dtype=object), array(['retail commission sales'], dtype=object), array(['macys seasonal holiday retail receiving flex stanford ca'],\n",
            "      dtype=object), array(['monster'], dtype=object), array(['clinical sas programmer'], dtype=object), array(['seasonal holiday retail merchandising'], dtype=object), array(['house keeping attendant'], dtype=object), array(['kitsap community resources job application for kitsap youth in action kya support specialist  monstercom var monslogvars  jobid'],\n",
            "      dtype=object), array(['electrical engineer'], dtype=object), array(['retail cosmetics sales'], dtype=object), array(['sales associate'], dtype=object), array(['sales management trainee'], dtype=object), array(['macys seasonal holiday retail receiving flex stanford ca'],\n",
            "      dtype=object), array(['monster'], dtype=object), array(['targeting systems program manager'], dtype=object), array(['feed sales representative'], dtype=object), array(['laboratory technician'], dtype=object), array(['retail cosmetics sales'], dtype=object), array(['controls specialist'], dtype=object), array(['clinical lab scientist'], dtype=object), array(['evangelist'], dtype=object), array(['quality control inspector'], dtype=object), array(['technologist'], dtype=object), array(['biostatistician'], dtype=object), array(['specialty sales representative'], dtype=object), array(['retail commission sales'], dtype=object), array(['customer service representative'], dtype=object), array(['retail sales jewelry clerical'], dtype=object), array(['macys seasonal holiday retail sales'], dtype=object), array(['monster'], dtype=object), array(['customer service representative'], dtype=object), array(['asst director'], dtype=object), array(['receptionist'], dtype=object), array(['maintenance technician'], dtype=object), array(['laboratory technician'], dtype=object), array(['project manager'], dtype=object), array(['manager'], dtype=object), array(['entry level sales  business trainee'], dtype=object), array(['project engineer'], dtype=object), array(['seasonal sales associate'], dtype=object), array(['automotive service advisors'], dtype=object), array(['seasonal holiday retail sales'], dtype=object), array(['hamilton county adult case manager'], dtype=object), array(['social services assistant'], dtype=object), array(['tutors '], dtype=object), array(['production manager'], dtype=object), array(['forklift operator'], dtype=object), array(['driver'], dtype=object), array(['event specialist part time sales'], dtype=object), array(['senior sap fiar functional consultant'], dtype=object), array(['driver'], dtype=object), array(['instore sales rep advancement opportunities'], dtype=object), array(['project coordinator'], dtype=object), array(['customer service representative'], dtype=object), array(['project manager'], dtype=object), array(['packaging engineer'], dtype=object), array(['customer service'], dtype=object), array(['public relations  communications assistant'], dtype=object), array(['project manager'], dtype=object), array(['sales representative entry level'], dtype=object), array(['shift supervisor'], dtype=object), array(['cybercoders job application for project architect'], dtype=object), array(['human resources generalist'], dtype=object), array(['project manager'], dtype=object), array(['planner media amp'], dtype=object), array(['entry level sales  business trainee'], dtype=object), array(['pharmacy technician'], dtype=object), array(['customer service representative'], dtype=object), array(['shift supervisor'], dtype=object), array(['marketing coordinator'], dtype=object), array(['marketing representative'], dtype=object), array(['sap sales order entry support'], dtype=object), array(['monster'], dtype=object), array(['quality engineer'], dtype=object), array(['systems quality assurance analyst'], dtype=object), array(['food service manager'], dtype=object), array(['manager'], dtype=object), array(['cognos developer'], dtype=object), array(['quality engineer  manufacturing'], dtype=object), array(['quality control technician  manufacturing'], dtype=object), array(['monster'], dtype=object), array(['monster'], dtype=object), array(['automation qa engineer'], dtype=object), array(['production supervisor'], dtype=object), array(['safety manager'], dtype=object), array(['biologist'], dtype=object), array(['lean manufacturing engineer'], dtype=object), array(['food science senior formulator  sf'], dtype=object), array(['monster'], dtype=object), array(['monster'], dtype=object), array(['quality engineer'], dtype=object), array(['quality engineer'], dtype=object), array(['maintenance and repair mechanic apprentice'], dtype=object), array(['sr regulatory affairs specialist'], dtype=object), array(['maintenance and repair mechanic apprentice'], dtype=object), array(['quality engineer'], dtype=object), array(['data analyst'], dtype=object), array(['quality control tech'], dtype=object), array(['quality engineer'], dtype=object), array(['quality engineer'], dtype=object), array(['microbiologist ii food microbiology'], dtype=object), array(['quality assurance tester'], dtype=object), array(['qa tester'], dtype=object), array(['monster'], dtype=object), array(['assistant audit manager'], dtype=object), array(['quality engineer'], dtype=object), array(['monster'], dtype=object), array(['risk and safety manager'], dtype=object), array(['quality supervisor'], dtype=object), array(['atr international job application for business analyst w payment messaging experience  swift”  monstercom var monslogvars  jobid'],\n",
            "      dtype=object), array(['articulated robot repair technician'], dtype=object), array(['custodian'], dtype=object), array(['monster'], dtype=object), array(['monster'], dtype=object), array(['research associate microbe screening'], dtype=object), array(['cnc high speed mill machinist'], dtype=object), array(['monster'], dtype=object), array(['monster'], dtype=object), array(['monster'], dtype=object), array(['food service manager'], dtype=object), array(['safety manager'], dtype=object), array(['tmobjp'], dtype=object), array(['investigative manager'], dtype=object), array(['industrial hygienist'], dtype=object), array(['quality engineer'], dtype=object), array(['laboratory technician'], dtype=object), array(['quality assurance manager'], dtype=object), array(['monster'], dtype=object), array(['site manager'], dtype=object), array(['monster'], dtype=object), array(['quality assurance manager'], dtype=object), array(['quality engineer'], dtype=object), array(['monster'], dtype=object), array(['attorney'], dtype=object), array(['microbiology analyst'], dtype=object), array(['customer service representative'], dtype=object), array(['monster'], dtype=object), array(['monster'], dtype=object), array(['quality engineer'], dtype=object), array(['monster'], dtype=object), array(['quality assurance supervisor'], dtype=object), array(['manager'], dtype=object), array(['quality engineer'], dtype=object), array(['retail managerjohnson  walesdenver'], dtype=object), array(['monster'], dtype=object), array(['retail managerjohnson  walesdenver'], dtype=object), array(['utility miner  equipment operator underground mine rd shift'],\n",
            "      dtype=object), array(['monster'], dtype=object), array(['food service manager'], dtype=object), array(['staff accountant'], dtype=object), array(['sr regulatory affairs specialist'], dtype=object), array(['quality engineer'], dtype=object), array(['maintenance and repair mechanic apprentice'], dtype=object), array(['quality engineer'], dtype=object), array(['monster'], dtype=object), array(['tool and die maker'], dtype=object), array(['articulated robot repair technician'], dtype=object), array(['software developer'], dtype=object), array(['monster'], dtype=object), array(['automotive technician'], dtype=object), array(['asst director'], dtype=object), array(['cnc high speed mill machinist'], dtype=object), array(['monster'], dtype=object), array(['monster'], dtype=object), array(['quality assurance manager'], dtype=object), array(['field construction manager i precast'], dtype=object), array(['monster'], dtype=object), array(['technical writer'], dtype=object), array(['quality engineer'], dtype=object), array(['quality technician'], dtype=object), array(['monster'], dtype=object), array(['systems  load test engineer'], dtype=object), array(['quality control technician  manufacturing'], dtype=object), array(['financial analyst fpa'], dtype=object), array(['monster'], dtype=object), array(['monster'], dtype=object), array(['accounts receivable  payroll'], dtype=object), array(['scrum master'], dtype=object), array(['program manager'], dtype=object), array(['monster'], dtype=object), array(['facilities maintenance technician ii'], dtype=object), array(['pharmacist'], dtype=object), array(['monster'], dtype=object), array(['net developer'], dtype=object), array(['quality engineer'], dtype=object), array(['quality assurance manager'], dtype=object), array(['laboratory technician'], dtype=object), array(['maintenance and repair mechanic apprentice'], dtype=object), array(['dietary aides'], dtype=object), array(['truck driver  cdl a  home nightly'], dtype=object), array(['quality engineer'], dtype=object), array(['monster'], dtype=object), array(['phlebotomist'], dtype=object), array(['truck driver  cdl a  home nightly'], dtype=object), array(['quality engineer'], dtype=object), array(['quality engineer'], dtype=object), array(['investigative manager'], dtype=object), array(['monster'], dtype=object), array(['quality engineer'], dtype=object), array(['biologist'], dtype=object), array(['quality engineer'], dtype=object), array(['quality assurance manager'], dtype=object), array(['asphalt construction superintendent'], dtype=object), array(['monster'], dtype=object), array(['systems quality assurance analyst'], dtype=object), array(['monster'], dtype=object), array(['quality engineer'], dtype=object), array(['quality engineer'], dtype=object), array(['maintenance and repair mechanic apprentice'], dtype=object), array(['quality assurance automation engineer'], dtype=object), array(['monster'], dtype=object), array(['diedre moire corp job application for mechanical engineer'],\n",
            "      dtype=object), array(['production workers'], dtype=object), array(['quality manager'], dtype=object), array(['monster'], dtype=object), array(['test technician'], dtype=object), array(['quality control technician'], dtype=object), array(['quality control lab technician'], dtype=object), array(['project manager'], dtype=object), array(['quality assurance manager'], dtype=object), array(['quality assurance manager'], dtype=object), array(['biostatistician'], dtype=object), array(['retail cosmetics sales'], dtype=object), array(['project engineer'], dtype=object), array(['monster'], dtype=object), array(['performance engineer lead'], dtype=object), array(['quality manager'], dtype=object), array(['drivers'], dtype=object), array(['field construction manager i precast'], dtype=object), array(['shipping'], dtype=object), array(['quality engineer'], dtype=object), array(['monster'], dtype=object), array(['facilities maintenance technician ii'], dtype=object), array(['monster'], dtype=object), array(['monster'], dtype=object), array(['experienced meat cutter'], dtype=object), array(['quality engineer'], dtype=object), array(['quality engineer'], dtype=object), array(['safety specialist'], dtype=object), array(['asphalt construction superintendent'], dtype=object), array(['oklahoma department of transportation job application for bridge  roadway construction inspector  monstercom var monslogvars  jobid'],\n",
            "      dtype=object), array(['cnet developer'], dtype=object), array(['asphalt construction superintendent'], dtype=object), array(['project manager'], dtype=object), array(['customer service representative'], dtype=object), array(['monster'], dtype=object), array(['business analyst sap scm fico'], dtype=object), array(['monster'], dtype=object), array(['articulated robot repair technician'], dtype=object), array(['civil engineer highway design'], dtype=object), array(['exciting release managerqa lead job in downtown chicago'],\n",
            "      dtype=object), array(['maintenance manager'], dtype=object), array(['quality control manager'], dtype=object), array(['repair services associate i'], dtype=object), array(['monster'], dtype=object), array(['tmobjp'], dtype=object), array(['senior data scientist'], dtype=object), array(['monster'], dtype=object), array(['cadcam operator'], dtype=object), array(['monster'], dtype=object), array(['principal statistician'], dtype=object), array(['quality engineer'], dtype=object), array(['monster'], dtype=object), array(['nutrition assistantnutrition labeler'], dtype=object), array(['monster'], dtype=object), array(['helium filler'], dtype=object), array(['data assurance manager'], dtype=object), array(['food service manager'], dtype=object), array(['qc microbiology lab technician'], dtype=object), array(['monster'], dtype=object), array(['quality technician'], dtype=object), array(['tooling engineer'], dtype=object), array(['cybercoders job application for superintendent'], dtype=object), array(['field construction manager i precast'], dtype=object), array(['quality engineer'], dtype=object), array(['monster'], dtype=object), array(['six sigma black belt'], dtype=object), array(['qc technician'], dtype=object), array(['asphalt screed operator nc'], dtype=object), array(['monster'], dtype=object), array(['machine operator'], dtype=object), array(['quality engineer'], dtype=object), array(['associate director'], dtype=object), array(['sr pharma regulatory dossier publisher'], dtype=object), array(['monster'], dtype=object), array(['quality engineer'], dtype=object), array(['project manager'], dtype=object), array(['monster'], dtype=object), array(['registered nurse or lpn'], dtype=object), array(['monster'], dtype=object), array(['teller'], dtype=object), array(['svpcommercial loan officer'], dtype=object), array(['restaurant servers'], dtype=object), array(['dietary aide'], dtype=object), array(['rn case manager'], dtype=object), array(['patient representative ii'], dtype=object), array(['restaurant servers'], dtype=object), array(['kitchen'], dtype=object), array(['warehouse worker'], dtype=object), array(['med aidetech'], dtype=object), array(['cook'], dtype=object), array(['licensed practical nurses'], dtype=object), array(['seasonal holiday lakeshore grill restaurant prep cook part time macys ridgedale center'],\n",
            "      dtype=object), array(['restaurant manager'], dtype=object), array(['dietary aide'], dtype=object), array(['restaurant servers'], dtype=object), array(['restaurant servers'], dtype=object), array(['dietary aide'], dtype=object), array(['catering worker'], dtype=object), array(['field service technician'], dtype=object), array(['catering worker'], dtype=object), array(['student worker'], dtype=object), array(['restaurant manager'], dtype=object), array(['restaurant servers'], dtype=object), array(['procurement operations analyst'], dtype=object), array(['restaurant servers'], dtype=object), array(['seasonal holiday lakeshore grill restaurant prep cook part time macys ridgedale center'],\n",
            "      dtype=object), array(['restaurant servers'], dtype=object), array(['restaurant servers'], dtype=object), array(['patient representative ii'], dtype=object), array(['orthopedic foot  ankle center job application for medical receptionist  monstercom var monslogvars  jobid'],\n",
            "      dtype=object), array(['patient representative ii'], dtype=object), array(['restaurant servers'], dtype=object), array(['produce stock clerk part time britton parkway giant eagle'],\n",
            "      dtype=object), array(['physical therapist'], dtype=object), array(['cook'], dtype=object), array(['monster'], dtype=object), array(['nurse practitioner'], dtype=object), array(['social services assistant'], dtype=object), array(['restaurant servers'], dtype=object), array(['assistant restaurant manager'], dtype=object), array(['seasonal holiday lakeshore grill restaurant prep cook part time macys ridgedale center'],\n",
            "      dtype=object), array(['restaurant servers'], dtype=object), array(['seasonal holiday lakeshore grill restaurant prep cook part time macys ridgedale center'],\n",
            "      dtype=object), array(['restaurant servers'], dtype=object), array(['registered nurse rn'], dtype=object), array(['lead cook'], dtype=object), array(['used truck sales rep'], dtype=object), array(['plant electrician  electrical technician'], dtype=object), array(['maintenance technician'], dtype=object), array(['maintenance technician'], dtype=object), array(['production supervisor'], dtype=object), array(['pest control technician – field service rep entry level'],\n",
            "      dtype=object), array(['monster'], dtype=object), array(['senior research scientist'], dtype=object), array(['senior linux systems administrator'], dtype=object), array(['field based rn case manager'], dtype=object), array(['phlebotomist'], dtype=object), array(['assistant manager'], dtype=object), array(['heavy equipment mechanic'], dtype=object), array(['project manager'], dtype=object), array(['senior financial analyst'], dtype=object), array(['quality inspector'], dtype=object), array(['recruiter'], dtype=object), array(['sales professional'], dtype=object), array(['service technician  mechanic  automotive  lead shop tech'],\n",
            "      dtype=object), array(['payroll specialist'], dtype=object), array(['desktop support'], dtype=object), array(['recruiter'], dtype=object), array(['technical writer'], dtype=object), array(['project coordinator'], dtype=object), array(['trailer mechanic'], dtype=object), array(['sales representative'], dtype=object), array(['manager'], dtype=object), array(['cash processor'], dtype=object), array(['monster'], dtype=object), array(['warehouse associate'], dtype=object), array(['contract corporate paralegal'], dtype=object), array(['parts assistant'], dtype=object), array(['assistant county administrator'], dtype=object), array(['working vacations in china co ltd job application for english and subject teachersany city in china  monstercom var monslogvars  jobid'],\n",
            "      dtype=object), array(['monster'], dtype=object), array(['dock worker fulltime'], dtype=object), array(['cybercoders job application for project manager'], dtype=object), array(['electrical engineer'], dtype=object), array(['van drivers wanted in atlanta'], dtype=object), array(['marketing representative'], dtype=object), array(['assistant manager market management'], dtype=object), array(['assistant managerentry level'], dtype=object), array(['facilities maintenance technician ii'], dtype=object), array(['driver trainee no cdl required'], dtype=object), array(['dangerous goods shipper'], dtype=object), array(['deputy program manager'], dtype=object), array(['ambulatory clinic lpn'], dtype=object), array(['marketing communications assistant'], dtype=object), array(['monster'], dtype=object), array(['monster'], dtype=object), array(['resident care specialist'], dtype=object), array(['developer'], dtype=object), array(['monster'], dtype=object), array(['quality engineer'], dtype=object), array(['pwm iis envestnet fiduciary project manager'], dtype=object), array(['unit manager rn'], dtype=object), array(['litigation paralegals and legal secretaries'], dtype=object), array(['financial analyst'], dtype=object), array(['monster'], dtype=object), array(['business developmentsalesperson'], dtype=object), array(['project manager'], dtype=object), array(['production member'], dtype=object), array(['monster'], dtype=object), array(['customer service'], dtype=object), array(['it client systems administratorhelpdesk technician'], dtype=object), array(['monster'], dtype=object), array(['order planng specialist'], dtype=object), array(['facilities maintenance technician ii'], dtype=object), array(['entry level advertising account manager full training'],\n",
            "      dtype=object), array(['retail sales merchandiser full time'], dtype=object), array(['rm production support analyst'], dtype=object), array(['quality inspector'], dtype=object), array(['cybercoders job application for aws cloud architect work  months in singapore'],\n",
            "      dtype=object), array(['marketing communications assistant'], dtype=object), array(['monster'], dtype=object), array(['diesel mechanic'], dtype=object), array(['class a cdl driver'], dtype=object), array(['it sales consultant'], dtype=object), array(['desktop support'], dtype=object), array(['project engineer'], dtype=object), array(['assistant manager market management'], dtype=object), array(['monster'], dtype=object), array(['monster'], dtype=object), array(['professional maintenance and cleaning services'], dtype=object), array(['maintenance tech'], dtype=object), array(['packaging engineer'], dtype=object), array(['monster'], dtype=object), array(['developmentliii support unixwindows server'], dtype=object), array(['aflac insurance sales agent'], dtype=object), array(['project coordinator'], dtype=object), array(['business development manager'], dtype=object), array(['litigation paralegals and legal secretaries'], dtype=object), array(['class a cdl driver'], dtype=object), array(['production supervisor'], dtype=object), array(['real estate paralegal'], dtype=object), array(['devops'], dtype=object), array(['manager'], dtype=object), array(['delivery associate'], dtype=object), array(['monster'], dtype=object), array(['cybercoders job application for fullstack c net developer leading media distribution platform  monstercom var monslogvars  jobid'],\n",
            "      dtype=object), array(['retail project merchandiser part time'], dtype=object), array(['technician  termite inspector'], dtype=object), array(['customer service representative'], dtype=object), array(['collector  patient account representative'], dtype=object), array(['associate'], dtype=object), array(['director of sales'], dtype=object), array(['monster'], dtype=object), array(['customer service representative'], dtype=object), array(['office administrator'], dtype=object), array(['forensic case file manager'], dtype=object), array(['cybercoders job application for senior android engineer'],\n",
            "      dtype=object), array(['content manager'], dtype=object), array(['claims adjuster'], dtype=object), array(['monster'], dtype=object), array(['monster'], dtype=object), array(['security analyst'], dtype=object), array(['att job application for consultant professional services  atc'],\n",
            "      dtype=object), array(['rn operating room circulator full time'], dtype=object), array(['visual  ux designer'], dtype=object), array(['monster'], dtype=object), array(['truck driver  cdl a  home nightly'], dtype=object), array(['truck driver  cdl a  home nightly'], dtype=object), array(['att job application for consultant professional services  atc'],\n",
            "      dtype=object), array(['facilities operations manager'], dtype=object), array(['cybercoders job application for fullstack c net developer leading media distribution platform  monstercom var monslogvars  jobid'],\n",
            "      dtype=object), array(['monster'], dtype=object), array(['accounts payable specialist'], dtype=object), array(['cybercoders job application for senior gameplay engineer'],\n",
            "      dtype=object), array(['home health aide hha'], dtype=object), array(['lll support'], dtype=object), array(['certified forklift driverwarehouse worker'], dtype=object), array(['office services associate'], dtype=object), array(['monster'], dtype=object), array(['content manager'], dtype=object), array(['class a cdl driver'], dtype=object), array(['field service technician'], dtype=object), array(['computer forensics analyst'], dtype=object), array(['monster'], dtype=object), array(['business analyst'], dtype=object), array(['sales representative'], dtype=object), array(['medical biller'], dtype=object), array(['sales rep  outside sales  territory sales'], dtype=object), array(['technical support analyst'], dtype=object), array(['hospice account executive  hospice sales rep'], dtype=object), array(['full time home health registered nurse'], dtype=object), array(['project engineer'], dtype=object), array(['information systems security specialist associate'], dtype=object), array(['field service technician'], dtype=object), array(['monster'], dtype=object), array(['american income life job application for customer service associate needed before the new year  monstercom var monslogvars  jobid'],\n",
            "      dtype=object), array(['maintenance and repair mechanic apprentice'], dtype=object), array(['class a cdl driver'], dtype=object), array(['electrical engineer'], dtype=object), array(['tax reviewer'], dtype=object), array(['trailer mechanic'], dtype=object), array(['manager'], dtype=object), array(['regional managing director'], dtype=object), array(['claims adjuster'], dtype=object), array(['software developer'], dtype=object), array(['real estate sales'], dtype=object), array(['pest control technician – field service rep entry level'],\n",
            "      dtype=object), array(['restaurant manager'], dtype=object), array(['security analyst'], dtype=object), array(['aflac insurance sales agent'], dtype=object), array(['production supervisor'], dtype=object), array(['project manager'], dtype=object), array(['driver'], dtype=object), array(['monster'], dtype=object), array(['production supervisor'], dtype=object), array(['java developer'], dtype=object), array(['project manager'], dtype=object), array(['software developer iii'], dtype=object), array(['business solutions architect'], dtype=object), array(['preoppacu rn'], dtype=object), array(['accounting  finance associate'], dtype=object), array(['aflac insurance sales agent'], dtype=object), array(['forklift operator'], dtype=object), array(['measure tech'], dtype=object), array(['investigator'], dtype=object), array(['hr administrative assistant'], dtype=object), array(['quality control tech'], dtype=object), array(['mental health specialist'], dtype=object), array(['american income life job application for customer service associate needed before the new year  monstercom var monslogvars  jobid'],\n",
            "      dtype=object), array(['monster'], dtype=object), array(['driver'], dtype=object), array(['asphalt construction superintendent'], dtype=object), array(['sales representative'], dtype=object), array(['help desk technician'], dtype=object), array(['technical scientist'], dtype=object), array(['restaurant manager'], dtype=object), array(['monster'], dtype=object), array(['bilingual accounts payable specialist'], dtype=object), array(['facility technician cbpp'], dtype=object), array(['monster'], dtype=object), array(['monster'], dtype=object), array(['auto club group job application for sr service advisor  monstercom var monslogvars  jobid'],\n",
            "      dtype=object), array(['production member'], dtype=object), array(['monster'], dtype=object), array(['legal secretary'], dtype=object), array(['financial advisor  financial sales representative'], dtype=object), array(['truck driver  cdl a  home nightly'], dtype=object), array(['tmobjp'], dtype=object), array(['att job application for consultant professional services  atc'],\n",
            "      dtype=object), array(['systems engineer portage'], dtype=object), array(['executive assistant job in king of prussia'], dtype=object), array(['jr sharepoint admin'], dtype=object), array(['accounts receivable  payroll'], dtype=object), array(['outside sales'], dtype=object), array(['c radio operatormaintainer'], dtype=object), array(['deputy program manager'], dtype=object), array(['aflac insurance sales agent'], dtype=object), array(['project manager'], dtype=object), array(['project manager'], dtype=object), array(['senior financial analyst'], dtype=object), array(['content manager'], dtype=object), array(['b lightwheel vehicle mechanic'], dtype=object), array(['monster'], dtype=object), array(['sous chef  kitchen manager'], dtype=object), array(['parttime administrative assistant'], dtype=object), array(['project manager'], dtype=object), array(['web developer'], dtype=object), array(['project manager'], dtype=object), array(['monster'], dtype=object), array(['project manager'], dtype=object), array(['licensed agents  group benefit enrollers'], dtype=object), array(['project manager'], dtype=object), array(['b lightwheel vehicle mechanic'], dtype=object), array(['resident care specialist'], dtype=object), array(['supplier quality engineer tn mh'], dtype=object), array(['hospice account executive  hospice sales rep'], dtype=object), array(['software developer'], dtype=object), array(['assistant manager'], dtype=object), array(['outside sales representative trainee'], dtype=object), array(['warehouse associate'], dtype=object), array(['sales representative'], dtype=object), array(['immediate customer service position'], dtype=object), array(['g aircraft structural repairer'], dtype=object), array(['project manager'], dtype=object), array(['director of financial operations'], dtype=object), array(['aflac insurance sales agent'], dtype=object), array(['monster'], dtype=object), array(['retail project merchandiser part time'], dtype=object), array(['maintenance tech'], dtype=object), array(['sales manager'], dtype=object), array(['monster'], dtype=object), array(['asphalt construction superintendent'], dtype=object), array(['project manager'], dtype=object), array(['registered nurse rn'], dtype=object), array(['retail supervisor full time'], dtype=object), array(['monster'], dtype=object), array(['quality assurance supervisor'], dtype=object), array(['field service technician'], dtype=object), array(['customer service representative'], dtype=object), array(['tmobjp'], dtype=object), array(['process tech'], dtype=object), array(['field construction manager i precast'], dtype=object), array(['warehouse team lead'], dtype=object), array(['monster'], dtype=object), array(['truck driver  cdl a  home nightly'], dtype=object)]\n"
          ]
        }
      ],
      "source": [
        "print(predictions)"
      ]
    },
    {
      "cell_type": "code",
      "execution_count": null,
      "id": "6a9fbf20",
      "metadata": {
        "id": "6a9fbf20"
      },
      "outputs": [],
      "source": [
        "prediction_df = pd.DataFrame(predictions, columns=['Title'])\n"
      ]
    },
    {
      "cell_type": "code",
      "execution_count": null,
      "id": "f60db24f",
      "metadata": {
        "id": "f60db24f"
      },
      "outputs": [],
      "source": [
        "prediction_df.to_csv('predictions.csv',sep=',',index=True)"
      ]
    }
  ],
  "metadata": {
    "kernelspec": {
      "display_name": "Python 3 (ipykernel)",
      "language": "python",
      "name": "python3"
    },
    "language_info": {
      "codemirror_mode": {
        "name": "ipython",
        "version": 3
      },
      "file_extension": ".py",
      "mimetype": "text/x-python",
      "name": "python",
      "nbconvert_exporter": "python",
      "pygments_lexer": "ipython3",
      "version": "3.9.7"
    },
    "colab": {
      "name": "Job_Title_Prediction.ipynb",
      "provenance": [],
      "collapsed_sections": [],
      "include_colab_link": true
    }
  },
  "nbformat": 4,
  "nbformat_minor": 5
}