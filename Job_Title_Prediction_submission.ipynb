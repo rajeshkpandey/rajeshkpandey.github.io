{
  "cells": [
    {
      "cell_type": "markdown",
      "metadata": {
        "id": "view-in-github",
        "colab_type": "text"
      },
      "source": [
        "<a href=\"https://colab.research.google.com/github/rajeshkpandey/rajeshkpandey.github.io/blob/main/Job_Title_Prediction_submission.ipynb\" target=\"_parent\"><img src=\"https://colab.research.google.com/assets/colab-badge.svg\" alt=\"Open In Colab\"/></a>"
      ]
    },
    {
      "cell_type": "markdown",
      "source": [
        "**Importing Modules**"
      ],
      "metadata": {
        "id": "5gQM9UbUJIYY"
      },
      "id": "5gQM9UbUJIYY"
    },
    {
      "cell_type": "code",
      "execution_count": null,
      "id": "7b456947",
      "metadata": {
        "id": "7b456947",
        "outputId": "0760e156-95e5-4769-8a59-c80c3ff0bd3a"
      },
      "outputs": [
        {
          "name": "stdout",
          "output_type": "stream",
          "text": [
            "['.ipynb_checkpoints', '.ipython', '.jupyter', '.matplotlib', '3D Objects', 'anaconda3', 'AppData', 'Application Data', 'Contacts', 'Cookies', 'Documents', 'Downloads', 'Dropbox', 'Favorites', 'Job_Title_Prediction.ipynb', 'Job_Title_Prediction_13500.ipynb', 'Links', 'Local Settings', 'Music', 'My Documents', 'NetHood', 'NTUSER.DAT', 'ntuser.dat.LOG1', 'ntuser.dat.LOG2', 'NTUSER.DAT{53b39e87-18c4-11ea-a811-000d3aa4692b}.TxR.0.regtrans-ms', 'NTUSER.DAT{53b39e87-18c4-11ea-a811-000d3aa4692b}.TxR.1.regtrans-ms', 'NTUSER.DAT{53b39e87-18c4-11ea-a811-000d3aa4692b}.TxR.2.regtrans-ms', 'NTUSER.DAT{53b39e87-18c4-11ea-a811-000d3aa4692b}.TxR.blf', 'NTUSER.DAT{53b39e88-18c4-11ea-a811-000d3aa4692b}.TM.blf', 'NTUSER.DAT{53b39e88-18c4-11ea-a811-000d3aa4692b}.TMContainer00000000000000000001.regtrans-ms', 'NTUSER.DAT{53b39e88-18c4-11ea-a811-000d3aa4692b}.TMContainer00000000000000000002.regtrans-ms', 'ntuser.ini', 'OneDrive', 'predictions.csv', 'predictions1.csv', 'PrintHood', 'Recent', 'Saved Games', 'Searches', 'SendTo', 'Start Menu', 'Templates', 'test.csv', 'Tracing', 'train.csv', 'Videos']\n"
          ]
        }
      ],
      "source": [
        "#importing necessary python libraries and modules\n",
        "import os\n",
        "print(os.listdir(\"./\"))\n",
        "\n",
        "import pandas as pd\n",
        "import numpy as np\n",
        "from scipy.stats import randint\n",
        "import matplotlib.pyplot as plt\n",
        "import seaborn as sns\n",
        "from io import StringIO\n",
        "import string\n",
        "import nltk\n",
        "from nltk.corpus import stopwords\n",
        "from nltk.stem.porter import PorterStemmer\n",
        "from nltk.stem import WordNetLemmatizer\n",
        "from sklearn.feature_extraction.text import TfidfVectorizer\n",
        "from sklearn.feature_selection import chi2\n",
        "from IPython.display import display\n",
        "from sklearn.model_selection import train_test_split\n",
        "from sklearn.feature_extraction.text import TfidfTransformer\n",
        "from sklearn.naive_bayes import MultinomialNB\n",
        "from sklearn.linear_model import LogisticRegression\n",
        "from sklearn.ensemble import RandomForestClassifier\n",
        "from sklearn.svm import LinearSVC\n",
        "from sklearn.model_selection import cross_val_score\n",
        "from sklearn.metrics import confusion_matrix\n",
        "from sklearn import metrics"
      ]
    },
    {
      "cell_type": "code",
      "execution_count": null,
      "id": "0ef48701",
      "metadata": {
        "id": "0ef48701",
        "outputId": "a749a9ce-c148-45e5-a89c-c02a7a036f9f"
      },
      "outputs": [
        {
          "data": {
            "text/html": [
              "<div>\n",
              "<style scoped>\n",
              "    .dataframe tbody tr th:only-of-type {\n",
              "        vertical-align: middle;\n",
              "    }\n",
              "\n",
              "    .dataframe tbody tr th {\n",
              "        vertical-align: top;\n",
              "    }\n",
              "\n",
              "    .dataframe thead th {\n",
              "        text-align: right;\n",
              "    }\n",
              "</style>\n",
              "<table border=\"1\" class=\"dataframe\">\n",
              "  <thead>\n",
              "    <tr style=\"text-align: right;\">\n",
              "      <th></th>\n",
              "      <th>Job ID</th>\n",
              "      <th>Job Description</th>\n",
              "      <th>Title</th>\n",
              "    </tr>\n",
              "  </thead>\n",
              "  <tbody>\n",
              "    <tr>\n",
              "      <th>0</th>\n",
              "      <td>JOB0002000</td>\n",
              "      <td>Description   Are you interested in the opport...</td>\n",
              "      <td>HAI Prevention Data Analyst</td>\n",
              "    </tr>\n",
              "    <tr>\n",
              "      <th>1</th>\n",
              "      <td>JOB0002001</td>\n",
              "      <td>Instructional Designer needed for a contract o...</td>\n",
              "      <td>Instructional Designer</td>\n",
              "    </tr>\n",
              "    <tr>\n",
              "      <th>2</th>\n",
              "      <td>JOB0002002</td>\n",
              "      <td>Faith Church Office ManagerPosition Focus Shee...</td>\n",
              "      <td>Office Manager</td>\n",
              "    </tr>\n",
              "    <tr>\n",
              "      <th>3</th>\n",
              "      <td>JOB0002003</td>\n",
              "      <td>NO C2C FOR THIS REQUIREMENT Our LARGE and stab...</td>\n",
              "      <td>ETL Developer</td>\n",
              "    </tr>\n",
              "    <tr>\n",
              "      <th>4</th>\n",
              "      <td>JOB0002004</td>\n",
              "      <td>Event Promotions: Marketing / Advertising / Pu...</td>\n",
              "      <td>Event Promotions: Marketing / Advertising / Pu...</td>\n",
              "    </tr>\n",
              "  </tbody>\n",
              "</table>\n",
              "</div>"
            ],
            "text/plain": [
              "       Job ID                                    Job Description  \\\n",
              "0  JOB0002000  Description   Are you interested in the opport...   \n",
              "1  JOB0002001  Instructional Designer needed for a contract o...   \n",
              "2  JOB0002002  Faith Church Office ManagerPosition Focus Shee...   \n",
              "3  JOB0002003  NO C2C FOR THIS REQUIREMENT Our LARGE and stab...   \n",
              "4  JOB0002004  Event Promotions: Marketing / Advertising / Pu...   \n",
              "\n",
              "                                               Title  \n",
              "0                        HAI Prevention Data Analyst  \n",
              "1                             Instructional Designer  \n",
              "2                                     Office Manager  \n",
              "3                                      ETL Developer  \n",
              "4  Event Promotions: Marketing / Advertising / Pu...  "
            ]
          },
          "execution_count": 2,
          "metadata": {},
          "output_type": "execute_result"
        }
      ],
      "source": [
        "#Reading training data\n",
        "df = pd.read_csv('train.csv')\n",
        "df.dropna()\n",
        "df.head()"
      ]
    },
    {
      "cell_type": "code",
      "execution_count": null,
      "id": "3d38f18d",
      "metadata": {
        "id": "3d38f18d",
        "outputId": "b4d967a5-a336-44a1-a3ad-f0bdbee9560e"
      },
      "outputs": [
        {
          "data": {
            "text/html": [
              "<div>\n",
              "<style scoped>\n",
              "    .dataframe tbody tr th:only-of-type {\n",
              "        vertical-align: middle;\n",
              "    }\n",
              "\n",
              "    .dataframe tbody tr th {\n",
              "        vertical-align: top;\n",
              "    }\n",
              "\n",
              "    .dataframe thead th {\n",
              "        text-align: right;\n",
              "    }\n",
              "</style>\n",
              "<table border=\"1\" class=\"dataframe\">\n",
              "  <thead>\n",
              "    <tr style=\"text-align: right;\">\n",
              "      <th></th>\n",
              "      <th>Job ID</th>\n",
              "      <th>Job Description</th>\n",
              "      <th>Title</th>\n",
              "    </tr>\n",
              "  </thead>\n",
              "  <tbody>\n",
              "    <tr>\n",
              "      <th>0</th>\n",
              "      <td>JOB0000</td>\n",
              "      <td>TeamSoft is seeing an IT Support Specialist to...</td>\n",
              "      <td>NaN</td>\n",
              "    </tr>\n",
              "    <tr>\n",
              "      <th>1</th>\n",
              "      <td>JOB0001</td>\n",
              "      <td>The Wisconsin State Journal is seeking a flexi...</td>\n",
              "      <td>NaN</td>\n",
              "    </tr>\n",
              "    <tr>\n",
              "      <th>2</th>\n",
              "      <td>JOB0002</td>\n",
              "      <td>Report this job About the Job DePuy Synthes Co...</td>\n",
              "      <td>NaN</td>\n",
              "    </tr>\n",
              "    <tr>\n",
              "      <th>3</th>\n",
              "      <td>JOB0003</td>\n",
              "      <td>Why Join Altec? If you’re considering a career...</td>\n",
              "      <td>NaN</td>\n",
              "    </tr>\n",
              "    <tr>\n",
              "      <th>4</th>\n",
              "      <td>JOB0004</td>\n",
              "      <td>Position ID#  76162 # Positions  1 State  CT C...</td>\n",
              "      <td>NaN</td>\n",
              "    </tr>\n",
              "  </tbody>\n",
              "</table>\n",
              "</div>"
            ],
            "text/plain": [
              "    Job ID                                    Job Description  Title\n",
              "0  JOB0000  TeamSoft is seeing an IT Support Specialist to...    NaN\n",
              "1  JOB0001  The Wisconsin State Journal is seeking a flexi...    NaN\n",
              "2  JOB0002  Report this job About the Job DePuy Synthes Co...    NaN\n",
              "3  JOB0003  Why Join Altec? If you’re considering a career...    NaN\n",
              "4  JOB0004  Position ID#  76162 # Positions  1 State  CT C...    NaN"
            ]
          },
          "execution_count": 3,
          "metadata": {},
          "output_type": "execute_result"
        }
      ],
      "source": [
        "#Reading testing data\n",
        "test_df = pd.read_csv('test.csv')\n",
        "test_df.dropna()\n",
        "test_df.head()"
      ]
    },
    {
      "cell_type": "code",
      "execution_count": null,
      "id": "feac23d1",
      "metadata": {
        "id": "feac23d1",
        "outputId": "3ddb6f83-24e5-4771-f961-520720097cc1"
      },
      "outputs": [
        {
          "data": {
            "text/plain": [
              "(20000, 3)"
            ]
          },
          "execution_count": 4,
          "metadata": {},
          "output_type": "execute_result"
        }
      ],
      "source": [
        "df.shape\n"
      ]
    },
    {
      "cell_type": "code",
      "execution_count": null,
      "id": "d71da2f0",
      "metadata": {
        "id": "d71da2f0",
        "outputId": "1eba5f3d-682b-44cc-fe4d-2ec6bfbd0e66"
      },
      "outputs": [
        {
          "data": {
            "text/plain": [
              "(2000, 3)"
            ]
          },
          "execution_count": 5,
          "metadata": {},
          "output_type": "execute_result"
        }
      ],
      "source": [
        "test_df.shape"
      ]
    },
    {
      "cell_type": "code",
      "execution_count": null,
      "id": "7f11390c",
      "metadata": {
        "id": "7f11390c",
        "outputId": "e2b9420e-71b2-43a9-fbe5-692ad202fc88"
      },
      "outputs": [
        {
          "data": {
            "text/html": [
              "<div>\n",
              "<style scoped>\n",
              "    .dataframe tbody tr th:only-of-type {\n",
              "        vertical-align: middle;\n",
              "    }\n",
              "\n",
              "    .dataframe tbody tr th {\n",
              "        vertical-align: top;\n",
              "    }\n",
              "\n",
              "    .dataframe thead th {\n",
              "        text-align: right;\n",
              "    }\n",
              "</style>\n",
              "<table border=\"1\" class=\"dataframe\">\n",
              "  <thead>\n",
              "    <tr style=\"text-align: right;\">\n",
              "      <th></th>\n",
              "      <th>Job ID</th>\n",
              "      <th>Job Description</th>\n",
              "      <th>Title</th>\n",
              "    </tr>\n",
              "  </thead>\n",
              "  <tbody>\n",
              "    <tr>\n",
              "      <th>19995</th>\n",
              "      <td>JOB00021995</td>\n",
              "      <td>This is a major premier Cincinnati based finan...</td>\n",
              "      <td>Assistant Vice President</td>\n",
              "    </tr>\n",
              "    <tr>\n",
              "      <th>19996</th>\n",
              "      <td>JOB00021996</td>\n",
              "      <td>Luxury homebuilder in Cincinnati seeking multi...</td>\n",
              "      <td>Accountant</td>\n",
              "    </tr>\n",
              "    <tr>\n",
              "      <th>19997</th>\n",
              "      <td>JOB00021997</td>\n",
              "      <td>RE: Adobe AEM-          Client -          Loca...</td>\n",
              "      <td>AEM/CQ developer</td>\n",
              "    </tr>\n",
              "    <tr>\n",
              "      <th>19998</th>\n",
              "      <td>JOB00021998</td>\n",
              "      <td>Jernberg Industries was established in 1937 an...</td>\n",
              "      <td>Electrician</td>\n",
              "    </tr>\n",
              "    <tr>\n",
              "      <th>19999</th>\n",
              "      <td>JOB00021999</td>\n",
              "      <td>Contract AdministratorCan you be the point per...</td>\n",
              "      <td>Contract Administrator</td>\n",
              "    </tr>\n",
              "  </tbody>\n",
              "</table>\n",
              "</div>"
            ],
            "text/plain": [
              "            Job ID                                    Job Description  \\\n",
              "19995  JOB00021995  This is a major premier Cincinnati based finan...   \n",
              "19996  JOB00021996  Luxury homebuilder in Cincinnati seeking multi...   \n",
              "19997  JOB00021997  RE: Adobe AEM-          Client -          Loca...   \n",
              "19998  JOB00021998  Jernberg Industries was established in 1937 an...   \n",
              "19999  JOB00021999  Contract AdministratorCan you be the point per...   \n",
              "\n",
              "                          Title  \n",
              "19995  Assistant Vice President  \n",
              "19996                Accountant  \n",
              "19997          AEM/CQ developer  \n",
              "19998               Electrician  \n",
              "19999    Contract Administrator  "
            ]
          },
          "execution_count": 6,
          "metadata": {},
          "output_type": "execute_result"
        }
      ],
      "source": [
        "df.tail()"
      ]
    },
    {
      "cell_type": "code",
      "execution_count": null,
      "id": "d8ccee47",
      "metadata": {
        "id": "d8ccee47",
        "outputId": "0dafa04e-568c-47c4-9e55-394c46327c4f"
      },
      "outputs": [
        {
          "data": {
            "text/html": [
              "<div>\n",
              "<style scoped>\n",
              "    .dataframe tbody tr th:only-of-type {\n",
              "        vertical-align: middle;\n",
              "    }\n",
              "\n",
              "    .dataframe tbody tr th {\n",
              "        vertical-align: top;\n",
              "    }\n",
              "\n",
              "    .dataframe thead th {\n",
              "        text-align: right;\n",
              "    }\n",
              "</style>\n",
              "<table border=\"1\" class=\"dataframe\">\n",
              "  <thead>\n",
              "    <tr style=\"text-align: right;\">\n",
              "      <th></th>\n",
              "      <th>Job ID</th>\n",
              "      <th>Job Description</th>\n",
              "      <th>Title</th>\n",
              "    </tr>\n",
              "  </thead>\n",
              "  <tbody>\n",
              "    <tr>\n",
              "      <th>1995</th>\n",
              "      <td>JOB0001995</td>\n",
              "      <td>GENERAL DESCRIPTIONResponsible for ensuring th...</td>\n",
              "      <td>NaN</td>\n",
              "    </tr>\n",
              "    <tr>\n",
              "      <th>1996</th>\n",
              "      <td>JOB0001996</td>\n",
              "      <td>Job ID:  94448Non-Exempt  Oldcastle Precast i...</td>\n",
              "      <td>NaN</td>\n",
              "    </tr>\n",
              "    <tr>\n",
              "      <th>1997</th>\n",
              "      <td>JOB0001997</td>\n",
              "      <td>GENERAL DESCRIPTIONIs responsible for all phas...</td>\n",
              "      <td>NaN</td>\n",
              "    </tr>\n",
              "    <tr>\n",
              "      <th>1998</th>\n",
              "      <td>JOB0001998</td>\n",
              "      <td>Report this job About the Job Skilled Nursing ...</td>\n",
              "      <td>NaN</td>\n",
              "    </tr>\n",
              "    <tr>\n",
              "      <th>1999</th>\n",
              "      <td>JOB0001999</td>\n",
              "      <td>Job ID:  99428 Georgia Masonry Supply is a di...</td>\n",
              "      <td>NaN</td>\n",
              "    </tr>\n",
              "  </tbody>\n",
              "</table>\n",
              "</div>"
            ],
            "text/plain": [
              "          Job ID                                    Job Description  Title\n",
              "1995  JOB0001995  GENERAL DESCRIPTIONResponsible for ensuring th...    NaN\n",
              "1996  JOB0001996   Job ID:  94448Non-Exempt  Oldcastle Precast i...    NaN\n",
              "1997  JOB0001997  GENERAL DESCRIPTIONIs responsible for all phas...    NaN\n",
              "1998  JOB0001998  Report this job About the Job Skilled Nursing ...    NaN\n",
              "1999  JOB0001999   Job ID:  99428 Georgia Masonry Supply is a di...    NaN"
            ]
          },
          "execution_count": 7,
          "metadata": {},
          "output_type": "execute_result"
        }
      ],
      "source": [
        "test_df.tail()"
      ]
    },
    {
      "cell_type": "markdown",
      "source": [
        "**Preprocessing and Feature Engineering**"
      ],
      "metadata": {
        "id": "NSbgp9ffJf08"
      },
      "id": "NSbgp9ffJf08"
    },
    {
      "cell_type": "code",
      "execution_count": null,
      "id": "8c9c06b4",
      "metadata": {
        "id": "8c9c06b4",
        "outputId": "cb04a2b7-2d56-46a9-c283-85bb047e729b"
      },
      "outputs": [
        {
          "name": "stderr",
          "output_type": "stream",
          "text": [
            "[nltk_data] Downloading package wordnet to\n",
            "[nltk_data]     C:\\Users\\urmi8\\AppData\\Roaming\\nltk_data...\n",
            "[nltk_data]   Package wordnet is already up-to-date!\n",
            "[nltk_data] Downloading package stopwords to\n",
            "[nltk_data]     C:\\Users\\urmi8\\AppData\\Roaming\\nltk_data...\n",
            "[nltk_data]   Package stopwords is already up-to-date!\n"
          ]
        },
        {
          "data": {
            "text/plain": [
              "True"
            ]
          },
          "execution_count": 8,
          "metadata": {},
          "output_type": "execute_result"
        }
      ],
      "source": [
        "nltk.download('wordnet')\n",
        "nltk.download('stopwords')"
      ]
    },
    {
      "cell_type": "code",
      "execution_count": null,
      "id": "4fa5fd8e",
      "metadata": {
        "id": "4fa5fd8e"
      },
      "outputs": [],
      "source": [
        "#cleaning training dataset\n",
        "for i in range(len(df)):\n",
        "  df['Job Description'][i] = df['Job Description'][i].lower()\n",
        "  df['Job Description'][i]=\"\".join(char for char in df['Job Description'][i] if char not in string.punctuation)\n",
        "  ps = PorterStemmer()\n",
        "  wml = WordNetLemmatizer()\n",
        "  df['Job Description'][i]=ps.stem(df['Job Description'][i])\n",
        "  df['Job Description'][i]=wml.lemmatize(df['Job Description'][i])\n",
        "  df['Job Description'][i]=df['Job Description'][i].split()\n",
        "  filter_words = []\n",
        "  Stopwords = set(stopwords.words('english'))\n",
        "  for word in df['Job Description'][i]:\n",
        "    if word not in Stopwords:\n",
        "         filter_words.append(word)\n",
        "  df['Job Description'][i] = filter_words \n",
        "  df['Job Description'][i] = \" \".join(df['Job Description'][i])"
      ]
    },
    {
      "cell_type": "code",
      "execution_count": null,
      "id": "46c37932",
      "metadata": {
        "id": "46c37932",
        "outputId": "f137666e-4cf8-461e-ec7d-afb08713cb58"
      },
      "outputs": [
        {
          "name": "stderr",
          "output_type": "stream",
          "text": [
            "C:\\Users\\urmi8\\AppData\\Local\\Temp/ipykernel_20328/3920492779.py:3: SettingWithCopyWarning: \n",
            "A value is trying to be set on a copy of a slice from a DataFrame\n",
            "\n",
            "See the caveats in the documentation: https://pandas.pydata.org/pandas-docs/stable/user_guide/indexing.html#returning-a-view-versus-a-copy\n",
            "  test_df['Job Description'][i] = test_df['Job Description'][i].lower()\n",
            "C:\\Users\\urmi8\\AppData\\Local\\Temp/ipykernel_20328/3920492779.py:4: SettingWithCopyWarning: \n",
            "A value is trying to be set on a copy of a slice from a DataFrame\n",
            "\n",
            "See the caveats in the documentation: https://pandas.pydata.org/pandas-docs/stable/user_guide/indexing.html#returning-a-view-versus-a-copy\n",
            "  test_df['Job Description'][i]=\"\".join(char for char in test_df['Job Description'][i] if char not in string.punctuation)\n",
            "C:\\Users\\urmi8\\AppData\\Local\\Temp/ipykernel_20328/3920492779.py:7: SettingWithCopyWarning: \n",
            "A value is trying to be set on a copy of a slice from a DataFrame\n",
            "\n",
            "See the caveats in the documentation: https://pandas.pydata.org/pandas-docs/stable/user_guide/indexing.html#returning-a-view-versus-a-copy\n",
            "  test_df['Job Description'][i]=ps.stem(test_df['Job Description'][i])\n",
            "C:\\Users\\urmi8\\AppData\\Local\\Temp/ipykernel_20328/3920492779.py:8: SettingWithCopyWarning: \n",
            "A value is trying to be set on a copy of a slice from a DataFrame\n",
            "\n",
            "See the caveats in the documentation: https://pandas.pydata.org/pandas-docs/stable/user_guide/indexing.html#returning-a-view-versus-a-copy\n",
            "  test_df['Job Description'][i]=wml.lemmatize(test_df['Job Description'][i])\n",
            "C:\\Users\\urmi8\\AppData\\Local\\Temp/ipykernel_20328/3920492779.py:9: SettingWithCopyWarning: \n",
            "A value is trying to be set on a copy of a slice from a DataFrame\n",
            "\n",
            "See the caveats in the documentation: https://pandas.pydata.org/pandas-docs/stable/user_guide/indexing.html#returning-a-view-versus-a-copy\n",
            "  test_df['Job Description'][i]=test_df['Job Description'][i].split()\n",
            "C:\\Users\\urmi8\\AppData\\Local\\Temp/ipykernel_20328/3920492779.py:15: SettingWithCopyWarning: \n",
            "A value is trying to be set on a copy of a slice from a DataFrame\n",
            "\n",
            "See the caveats in the documentation: https://pandas.pydata.org/pandas-docs/stable/user_guide/indexing.html#returning-a-view-versus-a-copy\n",
            "  test_df['Job Description'][i] = filter_words\n",
            "C:\\Users\\urmi8\\AppData\\Local\\Temp/ipykernel_20328/3920492779.py:16: SettingWithCopyWarning: \n",
            "A value is trying to be set on a copy of a slice from a DataFrame\n",
            "\n",
            "See the caveats in the documentation: https://pandas.pydata.org/pandas-docs/stable/user_guide/indexing.html#returning-a-view-versus-a-copy\n",
            "  test_df['Job Description'][i] = \" \".join(test_df['Job Description'][i])\n"
          ]
        }
      ],
      "source": [
        "#cleaning testing set\n",
        "for i in range(len(test_df)):\n",
        "  test_df['Job Description'][i] = test_df['Job Description'][i].lower()\n",
        "  test_df['Job Description'][i]=\"\".join(char for char in test_df['Job Description'][i] if char not in string.punctuation)\n",
        "  ps = PorterStemmer()\n",
        "  wml = WordNetLemmatizer()\n",
        "  test_df['Job Description'][i]=ps.stem(test_df['Job Description'][i])\n",
        "  test_df['Job Description'][i]=wml.lemmatize(test_df['Job Description'][i])\n",
        "  test_df['Job Description'][i]=test_df['Job Description'][i].split()\n",
        "  filter_words = []\n",
        "  Stopwords = set(stopwords.words('english'))\n",
        "  for word in test_df['Job Description'][i]:\n",
        "    if word not in Stopwords:\n",
        "         filter_words.append(word)\n",
        "  test_df['Job Description'][i] = filter_words\n",
        "  test_df['Job Description'][i] = \" \".join(test_df['Job Description'][i])"
      ]
    },
    {
      "cell_type": "code",
      "execution_count": null,
      "id": "5924d0d9",
      "metadata": {
        "id": "5924d0d9",
        "outputId": "78dad27b-decc-4a19-e6bc-8adc6446b9b3"
      },
      "outputs": [
        {
          "data": {
            "text/plain": [
              "'hai prevention data analyst'"
            ]
          },
          "execution_count": 11,
          "metadata": {},
          "output_type": "execute_result"
        }
      ],
      "source": [
        "df['Title'][0].lower()"
      ]
    },
    {
      "cell_type": "code",
      "execution_count": null,
      "id": "93c1dc8d",
      "metadata": {
        "id": "93c1dc8d"
      },
      "outputs": [],
      "source": [
        "#cleaning Response Variable i.e. Title for training data (lowercasing and removing punctuation)\n",
        "for i in range(len(df)):\n",
        "    df['Title'][i]=str(df['Title'][i]).lower()\n",
        "    df['Title'][i]=\"\".join(char for char in df['Title'][i] if char not in string.punctuation)"
      ]
    },
    {
      "cell_type": "code",
      "execution_count": null,
      "id": "8b6bca9b",
      "metadata": {
        "id": "8b6bca9b"
      },
      "outputs": [],
      "source": [
        "#observing the data and its class count\n",
        "temp_df=df.groupby('Title').count()"
      ]
    },
    {
      "cell_type": "code",
      "execution_count": null,
      "id": "3734b0ae",
      "metadata": {
        "id": "3734b0ae",
        "outputId": "a90529ec-ce6c-4c18-a857-607a60463adb"
      },
      "outputs": [
        {
          "data": {
            "text/plain": [
              "Index(['Job ID', 'Job Description'], dtype='object')"
            ]
          },
          "execution_count": 14,
          "metadata": {},
          "output_type": "execute_result"
        }
      ],
      "source": [
        "temp_df.columns"
      ]
    },
    {
      "cell_type": "code",
      "execution_count": null,
      "id": "0d489945",
      "metadata": {
        "id": "0d489945",
        "outputId": "be093e45-d6fe-4aad-ecb9-b59c9e7e579a"
      },
      "outputs": [
        {
          "data": {
            "text/plain": [
              "10539"
            ]
          },
          "execution_count": 15,
          "metadata": {},
          "output_type": "execute_result"
        }
      ],
      "source": [
        "temp_df.shape[0]"
      ]
    },
    {
      "cell_type": "code",
      "execution_count": null,
      "id": "93c57f1c",
      "metadata": {
        "id": "93c57f1c",
        "outputId": "aadf2a5c-772f-4157-88b8-e4355be88e65"
      },
      "outputs": [
        {
          "data": {
            "text/plain": [
              "1"
            ]
          },
          "execution_count": 16,
          "metadata": {},
          "output_type": "execute_result"
        }
      ],
      "source": [
        "temp_df['Job Description'].min()"
      ]
    },
    {
      "cell_type": "code",
      "execution_count": null,
      "id": "da440980",
      "metadata": {
        "id": "da440980",
        "outputId": "b958f87d-d3d8-46e9-9ef8-41d65bd2697c"
      },
      "outputs": [
        {
          "data": {
            "text/plain": [
              "329"
            ]
          },
          "execution_count": 17,
          "metadata": {},
          "output_type": "execute_result"
        }
      ],
      "source": [
        "temp_df['Job Description'].max()"
      ]
    },
    {
      "cell_type": "markdown",
      "source": [
        "**Checking for classes and its distributions**"
      ],
      "metadata": {
        "id": "skoqTAA-Jv2m"
      },
      "id": "skoqTAA-Jv2m"
    },
    {
      "cell_type": "code",
      "execution_count": null,
      "id": "1a4b96dc",
      "metadata": {
        "id": "1a4b96dc",
        "outputId": "a261a7f1-1f4e-47bb-f726-e396fa743b92"
      },
      "outputs": [
        {
          "name": "stdout",
          "output_type": "stream",
          "text": [
            "8396\n",
            "1150\n",
            "339\n",
            "172\n",
            "100\n",
            "65\n",
            "50\n",
            "24\n",
            "24\n",
            "35\n",
            "21\n",
            "22\n",
            "10\n",
            "12\n",
            "9\n",
            "5\n",
            "6\n",
            "5\n",
            "8\n",
            "3\n",
            "7\n",
            "4\n",
            "1\n",
            "5\n",
            "1\n",
            "8\n",
            "4\n",
            "1\n",
            "4\n",
            "1\n",
            "4\n",
            "3\n",
            "2\n",
            "1\n",
            "2\n",
            "0\n",
            "1\n",
            "1\n",
            "0\n",
            "0\n",
            "1\n",
            "3\n",
            "0\n",
            "2\n",
            "1\n",
            "0\n",
            "2\n",
            "0\n",
            "0\n",
            "1\n",
            "1\n",
            "1\n",
            "0\n",
            "0\n",
            "1\n",
            "1\n",
            "1\n",
            "0\n",
            "1\n",
            "1\n",
            "1\n",
            "1\n",
            "0\n",
            "0\n",
            "0\n",
            "0\n",
            "0\n",
            "0\n",
            "1\n",
            "0\n",
            "0\n",
            "0\n",
            "1\n",
            "0\n",
            "0\n",
            "0\n",
            "1\n",
            "0\n",
            "0\n",
            "0\n",
            "1\n",
            "0\n",
            "0\n",
            "0\n",
            "0\n",
            "0\n",
            "1\n",
            "0\n",
            "0\n",
            "1\n",
            "0\n",
            "0\n",
            "0\n",
            "0\n",
            "0\n",
            "0\n",
            "0\n",
            "1\n",
            "1\n",
            "0\n",
            "1\n",
            "0\n",
            "0\n",
            "0\n",
            "0\n",
            "0\n",
            "0\n",
            "0\n",
            "0\n",
            "0\n",
            "0\n",
            "0\n",
            "0\n",
            "0\n",
            "0\n",
            "0\n",
            "0\n",
            "0\n",
            "0\n",
            "0\n",
            "0\n",
            "0\n",
            "1\n",
            "0\n",
            "0\n",
            "0\n",
            "0\n",
            "0\n",
            "0\n",
            "0\n",
            "0\n",
            "0\n",
            "0\n",
            "0\n",
            "0\n",
            "0\n",
            "0\n",
            "1\n",
            "0\n",
            "0\n",
            "0\n",
            "0\n",
            "0\n",
            "0\n",
            "0\n",
            "0\n",
            "0\n",
            "0\n",
            "0\n",
            "0\n",
            "0\n",
            "0\n",
            "0\n",
            "0\n",
            "0\n",
            "0\n",
            "0\n",
            "0\n",
            "0\n",
            "0\n",
            "0\n",
            "0\n",
            "0\n",
            "0\n",
            "0\n",
            "0\n",
            "0\n",
            "0\n",
            "0\n",
            "0\n",
            "0\n",
            "0\n",
            "0\n",
            "0\n",
            "0\n",
            "0\n",
            "0\n",
            "0\n",
            "0\n",
            "0\n",
            "0\n",
            "0\n",
            "0\n",
            "0\n",
            "0\n",
            "0\n",
            "0\n",
            "0\n",
            "0\n",
            "0\n",
            "0\n",
            "0\n",
            "0\n",
            "0\n",
            "0\n",
            "0\n",
            "0\n",
            "0\n",
            "0\n",
            "0\n",
            "0\n",
            "0\n",
            "0\n",
            "0\n",
            "0\n",
            "0\n",
            "0\n",
            "0\n",
            "0\n",
            "0\n",
            "0\n",
            "0\n",
            "0\n",
            "0\n",
            "0\n",
            "1\n",
            "0\n",
            "0\n",
            "0\n",
            "0\n",
            "0\n",
            "0\n",
            "0\n",
            "0\n",
            "0\n",
            "0\n",
            "0\n",
            "0\n",
            "0\n",
            "0\n",
            "0\n",
            "0\n",
            "0\n",
            "0\n",
            "0\n",
            "0\n",
            "0\n",
            "0\n",
            "0\n",
            "0\n",
            "0\n",
            "0\n",
            "0\n",
            "0\n",
            "0\n",
            "0\n",
            "0\n",
            "0\n",
            "0\n",
            "0\n",
            "0\n",
            "0\n",
            "0\n",
            "0\n",
            "0\n",
            "0\n",
            "0\n",
            "0\n",
            "0\n",
            "0\n",
            "0\n",
            "0\n",
            "0\n",
            "0\n",
            "0\n",
            "0\n",
            "0\n",
            "0\n",
            "0\n",
            "0\n",
            "0\n",
            "0\n",
            "0\n",
            "0\n",
            "0\n",
            "0\n",
            "0\n",
            "0\n",
            "0\n",
            "0\n",
            "0\n",
            "0\n",
            "0\n",
            "0\n",
            "0\n",
            "0\n",
            "0\n",
            "0\n",
            "0\n",
            "0\n",
            "0\n",
            "0\n",
            "1\n",
            "0\n",
            "0\n",
            "0\n",
            "0\n",
            "0\n",
            "0\n",
            "0\n",
            "0\n",
            "0\n",
            "0\n",
            "0\n",
            "0\n",
            "0\n",
            "0\n",
            "0\n",
            "0\n",
            "0\n",
            "0\n",
            "0\n",
            "0\n",
            "0\n",
            "0\n",
            "0\n",
            "0\n",
            "0\n",
            "0\n",
            "0\n",
            "0\n",
            "0\n",
            "0\n",
            "0\n",
            "0\n",
            "0\n",
            "0\n",
            "0\n",
            "1\n",
            "10539\n"
          ]
        }
      ],
      "source": [
        "count=0\n",
        "for i in range(1,330):\n",
        "    print(len(temp_df[temp_df['Job Description']==i]))\n",
        "    count+=len(temp_df[temp_df['Job Description']==i])\n",
        "print(count)"
      ]
    },
    {
      "cell_type": "code",
      "execution_count": null,
      "id": "c132123c",
      "metadata": {
        "id": "c132123c",
        "outputId": "ccd4de48-3823-4d9e-e6da-74446d54c722"
      },
      "outputs": [
        {
          "data": {
            "text/plain": [
              "(20000, 2)"
            ]
          },
          "execution_count": 19,
          "metadata": {},
          "output_type": "execute_result"
        }
      ],
      "source": [
        "# Create a new dataframe with two columns\n",
        "df1 = df[['Job Description', 'Title']].copy()\n",
        "\n",
        "# Remove missing values (NaN)\n",
        "df1 = df1[pd.notnull(df1['Job Description'])]\n",
        "\n",
        "# Renaming job description column for a simpler name\n",
        "df1.columns = ['Job_Description', 'Title'] \n",
        "\n",
        "df1.shape"
      ]
    },
    {
      "cell_type": "code",
      "execution_count": null,
      "id": "b7f739f6",
      "metadata": {
        "id": "b7f739f6",
        "outputId": "05a8130e-2b42-469a-c0d4-d860856b0483"
      },
      "outputs": [
        {
          "data": {
            "text/plain": [
              "100.0"
            ]
          },
          "execution_count": 20,
          "metadata": {},
          "output_type": "execute_result"
        }
      ],
      "source": [
        "# Percentage of Job Description with text\n",
        "total = df1['Job_Description'].notnull().sum()\n",
        "round((total/len(df)*100),1)"
      ]
    },
    {
      "cell_type": "code",
      "execution_count": null,
      "id": "4f7beb51",
      "metadata": {
        "id": "4f7beb51",
        "outputId": "a30fb1e9-76e7-4b48-c122-1bb346e415fb"
      },
      "outputs": [
        {
          "data": {
            "text/plain": [
              "array([['hai prevention data analyst'],\n",
              "       ['instructional designer'],\n",
              "       ['office manager'],\n",
              "       ...,\n",
              "       ['patient access representative'],\n",
              "       ['assistant vice president'],\n",
              "       ['aemcq developer']], dtype=object)"
            ]
          },
          "execution_count": 21,
          "metadata": {},
          "output_type": "execute_result"
        }
      ],
      "source": [
        "pd.DataFrame(df.Title.unique()).values"
      ]
    },
    {
      "cell_type": "code",
      "execution_count": null,
      "id": "bb6c79fe",
      "metadata": {
        "id": "bb6c79fe",
        "outputId": "2c24d4b5-eeea-4024-9087-05e7565746b5"
      },
      "outputs": [
        {
          "data": {
            "text/plain": [
              "10539"
            ]
          },
          "execution_count": 22,
          "metadata": {},
          "output_type": "execute_result"
        }
      ],
      "source": [
        "len(df.Title.unique())"
      ]
    },
    {
      "cell_type": "markdown",
      "source": [
        "**Training with Random samples less the actual training samples**"
      ],
      "metadata": {
        "id": "xXY8YBqbJ7DX"
      },
      "id": "xXY8YBqbJ7DX"
    },
    {
      "cell_type": "code",
      "execution_count": null,
      "id": "b3bb1706",
      "metadata": {
        "id": "b3bb1706"
      },
      "outputs": [],
      "source": [
        "df2 = df1.sample(12500, random_state=1).copy()\n"
      ]
    },
    {
      "cell_type": "code",
      "execution_count": null,
      "id": "257737e0",
      "metadata": {
        "id": "257737e0",
        "outputId": "3a0f9b6d-d984-480b-f475-e3b27bdd2e28"
      },
      "outputs": [
        {
          "data": {
            "text/html": [
              "<div>\n",
              "<style scoped>\n",
              "    .dataframe tbody tr th:only-of-type {\n",
              "        vertical-align: middle;\n",
              "    }\n",
              "\n",
              "    .dataframe tbody tr th {\n",
              "        vertical-align: top;\n",
              "    }\n",
              "\n",
              "    .dataframe thead th {\n",
              "        text-align: right;\n",
              "    }\n",
              "</style>\n",
              "<table border=\"1\" class=\"dataframe\">\n",
              "  <thead>\n",
              "    <tr style=\"text-align: right;\">\n",
              "      <th></th>\n",
              "      <th>0</th>\n",
              "    </tr>\n",
              "  </thead>\n",
              "  <tbody>\n",
              "    <tr>\n",
              "      <th>0</th>\n",
              "      <td>construction management</td>\n",
              "    </tr>\n",
              "    <tr>\n",
              "      <th>1</th>\n",
              "      <td>certified medical assistant</td>\n",
              "    </tr>\n",
              "    <tr>\n",
              "      <th>2</th>\n",
              "      <td>associate attorney</td>\n",
              "    </tr>\n",
              "    <tr>\n",
              "      <th>3</th>\n",
              "      <td>monster</td>\n",
              "    </tr>\n",
              "    <tr>\n",
              "      <th>4</th>\n",
              "      <td>physical therapist</td>\n",
              "    </tr>\n",
              "    <tr>\n",
              "      <th>...</th>\n",
              "      <td>...</td>\n",
              "    </tr>\n",
              "    <tr>\n",
              "      <th>7188</th>\n",
              "      <td>production work</td>\n",
              "    </tr>\n",
              "    <tr>\n",
              "      <th>7189</th>\n",
              "      <td>help desk  technical support</td>\n",
              "    </tr>\n",
              "    <tr>\n",
              "      <th>7190</th>\n",
              "      <td>maintenance controller</td>\n",
              "    </tr>\n",
              "    <tr>\n",
              "      <th>7191</th>\n",
              "      <td>industrial electrician</td>\n",
              "    </tr>\n",
              "    <tr>\n",
              "      <th>7192</th>\n",
              "      <td>director of business development</td>\n",
              "    </tr>\n",
              "  </tbody>\n",
              "</table>\n",
              "<p>7193 rows × 1 columns</p>\n",
              "</div>"
            ],
            "text/plain": [
              "                                     0\n",
              "0              construction management\n",
              "1          certified medical assistant\n",
              "2                   associate attorney\n",
              "3                              monster\n",
              "4                   physical therapist\n",
              "...                                ...\n",
              "7188                   production work\n",
              "7189      help desk  technical support\n",
              "7190            maintenance controller\n",
              "7191            industrial electrician\n",
              "7192  director of business development\n",
              "\n",
              "[7193 rows x 1 columns]"
            ]
          },
          "execution_count": 24,
          "metadata": {},
          "output_type": "execute_result"
        }
      ],
      "source": [
        "pd.DataFrame(df2.Title.unique())"
      ]
    },
    {
      "cell_type": "code",
      "execution_count": null,
      "id": "4ed63e40",
      "metadata": {
        "id": "4ed63e40",
        "outputId": "405a22b9-10ac-4864-bded-33a71d2c64b2"
      },
      "outputs": [
        {
          "data": {
            "text/html": [
              "<div>\n",
              "<style scoped>\n",
              "    .dataframe tbody tr th:only-of-type {\n",
              "        vertical-align: middle;\n",
              "    }\n",
              "\n",
              "    .dataframe tbody tr th {\n",
              "        vertical-align: top;\n",
              "    }\n",
              "\n",
              "    .dataframe thead th {\n",
              "        text-align: right;\n",
              "    }\n",
              "</style>\n",
              "<table border=\"1\" class=\"dataframe\">\n",
              "  <thead>\n",
              "    <tr style=\"text-align: right;\">\n",
              "      <th></th>\n",
              "      <th>Job_Description</th>\n",
              "      <th>Title</th>\n",
              "      <th>category_id</th>\n",
              "    </tr>\n",
              "  </thead>\n",
              "  <tbody>\n",
              "    <tr>\n",
              "      <th>11456</th>\n",
              "      <td>construction management – project managerslam ...</td>\n",
              "      <td>construction management</td>\n",
              "      <td>0</td>\n",
              "    </tr>\n",
              "    <tr>\n",
              "      <th>16528</th>\n",
              "      <td>certified medical assistant healthcare medical...</td>\n",
              "      <td>certified medical assistant</td>\n",
              "      <td>1</td>\n",
              "    </tr>\n",
              "    <tr>\n",
              "      <th>3253</th>\n",
              "      <td>established scottsdale general practice law fi...</td>\n",
              "      <td>associate attorney</td>\n",
              "      <td>2</td>\n",
              "    </tr>\n",
              "    <tr>\n",
              "      <th>18614</th>\n",
              "      <td>job title data architectlocation austintx• ext...</td>\n",
              "      <td>monster</td>\n",
              "      <td>3</td>\n",
              "    </tr>\n",
              "    <tr>\n",
              "      <th>1544</th>\n",
              "      <td>job description physical therapist responsibil...</td>\n",
              "      <td>physical therapist</td>\n",
              "      <td>4</td>\n",
              "    </tr>\n",
              "  </tbody>\n",
              "</table>\n",
              "</div>"
            ],
            "text/plain": [
              "                                         Job_Description  \\\n",
              "11456  construction management – project managerslam ...   \n",
              "16528  certified medical assistant healthcare medical...   \n",
              "3253   established scottsdale general practice law fi...   \n",
              "18614  job title data architectlocation austintx• ext...   \n",
              "1544   job description physical therapist responsibil...   \n",
              "\n",
              "                             Title  category_id  \n",
              "11456      construction management            0  \n",
              "16528  certified medical assistant            1  \n",
              "3253            associate attorney            2  \n",
              "18614                      monster            3  \n",
              "1544            physical therapist            4  "
            ]
          },
          "execution_count": 25,
          "metadata": {},
          "output_type": "execute_result"
        }
      ],
      "source": [
        "# Create a new column 'category_id' with encoded categories \n",
        "df2['category_id'] = df2['Title'].factorize()[0]\n",
        "category_id_df = df2[['Title', 'category_id']].drop_duplicates()\n",
        "\n",
        "\n",
        "# Dictionaries for future use\n",
        "category_to_id = dict(category_id_df.values)\n",
        "id_to_category = dict(category_id_df[['category_id', 'Title']].values)\n",
        "\n",
        "# New dataframe head\n",
        "df2.head()"
      ]
    },
    {
      "cell_type": "code",
      "execution_count": null,
      "id": "60eb9c37",
      "metadata": {
        "id": "60eb9c37",
        "outputId": "8c2a23a4-2047-41ea-b400-85943ede04be"
      },
      "outputs": [
        {
          "data": {
            "text/html": [
              "<div>\n",
              "<style scoped>\n",
              "    .dataframe tbody tr th:only-of-type {\n",
              "        vertical-align: middle;\n",
              "    }\n",
              "\n",
              "    .dataframe tbody tr th {\n",
              "        vertical-align: top;\n",
              "    }\n",
              "\n",
              "    .dataframe thead th {\n",
              "        text-align: right;\n",
              "    }\n",
              "</style>\n",
              "<table border=\"1\" class=\"dataframe\">\n",
              "  <thead>\n",
              "    <tr style=\"text-align: right;\">\n",
              "      <th></th>\n",
              "      <th>Job_Description</th>\n",
              "      <th>Title</th>\n",
              "      <th>category_id</th>\n",
              "    </tr>\n",
              "  </thead>\n",
              "  <tbody>\n",
              "    <tr>\n",
              "      <th>8482</th>\n",
              "      <td>position id 70077 positions 1 state vt city wi...</td>\n",
              "      <td>shift supervisor</td>\n",
              "      <td>25</td>\n",
              "    </tr>\n",
              "    <tr>\n",
              "      <th>13555</th>\n",
              "      <td>maintain repair existing electricalelectronic ...</td>\n",
              "      <td>industrial electrician</td>\n",
              "      <td>7191</td>\n",
              "    </tr>\n",
              "    <tr>\n",
              "      <th>8548</th>\n",
              "      <td>position id 68372 positions 1 state oh city ne...</td>\n",
              "      <td>shift supervisor</td>\n",
              "      <td>25</td>\n",
              "    </tr>\n",
              "    <tr>\n",
              "      <th>9649</th>\n",
              "      <td>12n horizontal construction engineers job id 7...</td>\n",
              "      <td>n horizontal construction engineers</td>\n",
              "      <td>98</td>\n",
              "    </tr>\n",
              "    <tr>\n",
              "      <th>13026</th>\n",
              "      <td>usfounded 1947 veneklasen associates one oldes...</td>\n",
              "      <td>director of business development</td>\n",
              "      <td>7192</td>\n",
              "    </tr>\n",
              "  </tbody>\n",
              "</table>\n",
              "</div>"
            ],
            "text/plain": [
              "                                         Job_Description  \\\n",
              "8482   position id 70077 positions 1 state vt city wi...   \n",
              "13555  maintain repair existing electricalelectronic ...   \n",
              "8548   position id 68372 positions 1 state oh city ne...   \n",
              "9649   12n horizontal construction engineers job id 7...   \n",
              "13026  usfounded 1947 veneklasen associates one oldes...   \n",
              "\n",
              "                                     Title  category_id  \n",
              "8482                      shift supervisor           25  \n",
              "13555               industrial electrician         7191  \n",
              "8548                      shift supervisor           25  \n",
              "9649   n horizontal construction engineers           98  \n",
              "13026     director of business development         7192  "
            ]
          },
          "execution_count": 26,
          "metadata": {},
          "output_type": "execute_result"
        }
      ],
      "source": [
        "# New dataframe tail\n",
        "df2.tail()"
      ]
    },
    {
      "cell_type": "markdown",
      "source": [
        "**TFIDF Used for Feature Engineering**"
      ],
      "metadata": {
        "id": "dlVjbsR7KMi_"
      },
      "id": "dlVjbsR7KMi_"
    },
    {
      "cell_type": "code",
      "execution_count": null,
      "id": "44d6b4be",
      "metadata": {
        "id": "44d6b4be",
        "outputId": "868449bc-8cb7-4ce2-cc32-07eb8b040c9c"
      },
      "outputs": [
        {
          "name": "stdout",
          "output_type": "stream",
          "text": [
            "Each of the 12500 job descriptions is represented by 99314 features (TF-IDF score of unigrams and bigrams)\n"
          ]
        }
      ],
      "source": [
        "tfidf = TfidfVectorizer(sublinear_tf=True, min_df=5,\n",
        "                        ngram_range=(1,2), \n",
        "                        stop_words='english')\n",
        "\n",
        "# We transform each Job Description into a vector\n",
        "features = tfidf.fit_transform(df2.Job_Description).toarray()\n",
        "\n",
        "labels = df2.category_id\n",
        "\n",
        "print(\"Each of the %d job descriptions is represented by %d features (TF-IDF score of unigrams and bigrams)\" %(features.shape))"
      ]
    },
    {
      "cell_type": "markdown",
      "source": [
        "**Cross Validating the Models using 3 fold cross validation**"
      ],
      "metadata": {
        "id": "Kys8QGMtKWZ6"
      },
      "id": "Kys8QGMtKWZ6"
    },
    {
      "cell_type": "code",
      "execution_count": null,
      "id": "1e6f6e3b",
      "metadata": {
        "id": "1e6f6e3b"
      },
      "outputs": [],
      "source": [
        "#models = [\n",
        "#    RandomForestClassifier(n_estimators=100, max_depth=5, random_state=0),\n",
        "#    LinearSVC(),\n",
        "#    #MultinomialNB(),\n",
        "#    #LogisticRegression(random_state=0),\n",
        "#]\n",
        "\n",
        "## 3 Cross-validation\n",
        "#CV = 3\n",
        "#cv_df = pd.DataFrame(index=range(CV * len(models)))\n",
        "\n",
        "#entries = []\n",
        "#for model in models:\n",
        "#  model_name = model.__class__.__name__\n",
        "#  accuracies = cross_val_score(model, features, labels, scoring='accuracy', cv=CV)\n",
        "#  for fold_idx, accuracy in enumerate(accuracies):\n",
        "#    entries.append((model_name, fold_idx, accuracy))\n",
        "    \n",
        "#cv_df = pd.DataFrame(entries, columns=['model_name', 'fold_idx', 'accuracy'])"
      ]
    },
    {
      "cell_type": "code",
      "execution_count": null,
      "id": "ff1457ba",
      "metadata": {
        "id": "ff1457ba"
      },
      "outputs": [],
      "source": [
        "#mean_accuracy = cv_df.groupby('model_name').accuracy.mean()\n",
        "#std_accuracy = cv_df.groupby('model_name').accuracy.std()\n",
        "\n",
        "#acc = pd.concat([mean_accuracy, std_accuracy], axis= 1, \n",
        "#          ignore_index=True)\n",
        "#acc.columns = ['Mean Accuracy', 'Standard deviation']\n",
        "#acc"
      ]
    },
    {
      "cell_type": "code",
      "execution_count": null,
      "id": "9f0f94c5",
      "metadata": {
        "id": "9f0f94c5"
      },
      "outputs": [],
      "source": [
        "X = df2['Job_Description'] # Collection of Job descriptions\n",
        "y = df2['Title'] # Target or the labels we want to predict"
      ]
    },
    {
      "cell_type": "markdown",
      "source": [
        "**Finally training using best model LinearSVC**"
      ],
      "metadata": {
        "id": "pw9NYrXFKgK1"
      },
      "id": "pw9NYrXFKgK1"
    },
    {
      "cell_type": "code",
      "execution_count": null,
      "id": "6cd5395a",
      "metadata": {
        "id": "6cd5395a"
      },
      "outputs": [],
      "source": [
        "X_train, X_test, y_train, y_test = train_test_split(X, y, \n",
        "                                                    test_size=0.25,\n",
        "                                                    random_state = 0)\n",
        "\n",
        "tfidf = TfidfVectorizer(sublinear_tf=True, min_df=5,\n",
        "                        ngram_range=(1, 2), \n",
        "                        stop_words='english')\n",
        "\n",
        "fitted_vectorizer = tfidf.fit(X_train)\n",
        "tfidf_vectorizer_vectors = fitted_vectorizer.transform(X_train)\n",
        "\n",
        "model = LinearSVC().fit(tfidf_vectorizer_vectors, y_train)"
      ]
    },
    {
      "cell_type": "markdown",
      "source": [
        "**Making Predictions for the titles of test set**"
      ],
      "metadata": {
        "id": "qKDIhVRJKsfA"
      },
      "id": "qKDIhVRJKsfA"
    },
    {
      "cell_type": "code",
      "execution_count": null,
      "id": "cab5b650",
      "metadata": {
        "id": "cab5b650"
      },
      "outputs": [],
      "source": [
        "predictions=[]\n",
        "for i in range(len(test_df)):\n",
        "  predictions.append(model.predict(fitted_vectorizer.transform([test_df['Job Description'][i]])))"
      ]
    },
    {
      "cell_type": "code",
      "execution_count": null,
      "id": "70f5ffc0",
      "metadata": {
        "id": "70f5ffc0",
        "outputId": "03a80d30-ab8e-4c0e-cbfd-7f163dd2e60c"
      },
      "outputs": [
        {
          "name": "stdout",
          "output_type": "stream",
          "text": [
            "[array(['digital marketing project manager'], dtype=object), array(['district service manager assistant'], dtype=object), array(['monster'], dtype=object), array(['mobile equipment mechanic'], dtype=object), array(['shift supervisor'], dtype=object), array(['tmobjp'], dtype=object), array(['monster'], dtype=object), array(['administrative assistant'], dtype=object), array(['server'], dtype=object), array(['project manager'], dtype=object), array(['aflac insurance sales agent'], dtype=object), array(['sales associate'], dtype=object), array(['marketing coordinator'], dtype=object), array(['apple ridge academy job application for seeking infant  toddlers teachers  monstercom var monslogvars  jobid'],\n",
            "      dtype=object), array(['k'], dtype=object), array(['engineer i  engineer ii  construction project administrator'],\n",
            "      dtype=object), array(['n horizontal construction engineers'], dtype=object), array(['pest control technician – field service rep entry level'],\n",
            "      dtype=object), array(['content developer for matlabhdl code generation'], dtype=object), array(['articulated robot repair technician'], dtype=object), array(['office manager\\xa0'], dtype=object), array(['lending compliance officer'], dtype=object), array(['b combat engineer'], dtype=object), array(['construction project manager'], dtype=object), array(['project manager'], dtype=object), array(['sales representative'], dtype=object), array(['att business sales leadership development program bilingual spanish'],\n",
            "      dtype=object), array(['traveling customer training professional'], dtype=object), array(['resident care specialist'], dtype=object), array(['project engineer'], dtype=object), array(['quality engineer'], dtype=object), array(['activity coordinator'], dtype=object), array(['sr controls engineer'], dtype=object), array(['auto body painter'], dtype=object), array(['program manager'], dtype=object), array(['technical writer'], dtype=object), array(['monster'], dtype=object), array(['quality engineer'], dtype=object), array(['it infrastructure project manager'], dtype=object), array(['scrum master'], dtype=object), array(['roofing sheet metal superintendent'], dtype=object), array(['japanese translator'], dtype=object), array(['administrative assistant'], dtype=object), array(['surveyor'], dtype=object), array(['b combat engineer'], dtype=object), array(['respiratory therapist prn days or nights kindred hospital bay area'],\n",
            "      dtype=object), array(['senior project manager'], dtype=object), array(['project manager  z '], dtype=object), array(['accounts receivable'], dtype=object), array(['technical writer'], dtype=object), array(['digital campaign executive online advertising'], dtype=object), array(['project engineer'], dtype=object), array(['school bus driver'], dtype=object), array(['software engineer'], dtype=object), array(['customer service representative'], dtype=object), array(['project engineer'], dtype=object), array(['cashier'], dtype=object), array(['technical writer'], dtype=object), array(['director'], dtype=object), array(['entry level position'], dtype=object), array(['digital campaign executive online advertising'], dtype=object), array(['restaurant general manager'], dtype=object), array(['fixed equipment coatings inspector'], dtype=object), array(['tax accountant'], dtype=object), array(['account manager'], dtype=object), array(['senior associate'], dtype=object), array(['monster'], dtype=object), array(['nursing instructors'], dtype=object), array(['call center representative'], dtype=object), array(['cosmetic sales consultant'], dtype=object), array(['construction project manager'], dtype=object), array(['electrical engineer'], dtype=object), array(['pharmaceutical sales representative'], dtype=object), array(['quality engineer'], dtype=object), array(['project manager'], dtype=object), array(['associate editor'], dtype=object), array(['associate editor'], dtype=object), array(['technical writer'], dtype=object), array(['engineer i  engineer ii  construction project administrator'],\n",
            "      dtype=object), array(['construction superintendent'], dtype=object), array(['plumbing engineer'], dtype=object), array(['concrete dispatchershipper south austin'], dtype=object), array(['quality  qc manager'], dtype=object), array(['ehs manager'], dtype=object), array(['ups otr cdl a tractortrailer truckload driver hazmat req dedicated'],\n",
            "      dtype=object), array(['avionics mechanic'], dtype=object), array(['daily order reviewer'], dtype=object), array(['contracts manager  '], dtype=object), array(['monster'], dtype=object), array(['satcom support specialist'], dtype=object), array(['administrative assistant'], dtype=object), array(['customer service representatives se san antonio'], dtype=object), array(['estimator'], dtype=object), array(['sales development representative'], dtype=object), array(['design engineer'], dtype=object), array(['scrum master'], dtype=object), array(['financial advisor  financial sales representative'], dtype=object), array(['personal banker safe   e mockingbird dallas tx'], dtype=object), array(['experienced chemical lab tech relocate to peoria'], dtype=object), array(['outside plant osp field engineer'], dtype=object), array(['customer service representative'], dtype=object), array(['systems engineer – electrooptical imaging and sensor systems'],\n",
            "      dtype=object), array(['customer service representative'], dtype=object), array(['registered nurse rn'], dtype=object), array(['n horizontal construction engineers'], dtype=object), array(['registered nurseicu nights kindred hospital spring'], dtype=object), array(['sejong academy job application for teachers'], dtype=object), array(['scrum master'], dtype=object), array(['avionics mechanic'], dtype=object), array(['project manager'], dtype=object), array(['paralegallegal assistant'], dtype=object), array(['project manager'], dtype=object), array(['service technician'], dtype=object), array(['part time planning intern'], dtype=object), array(['entry level events coordinator advertising division'],\n",
            "      dtype=object), array(['registered nurseicu nights kindred hospital spring'], dtype=object), array(['service manager'], dtype=object), array(['sr controls engineer'], dtype=object), array(['account manager'], dtype=object), array(['quality engineer'], dtype=object), array(['technical writer'], dtype=object), array(['maintenance technician'], dtype=object), array(['lead teacher'], dtype=object), array(['b combat engineer'], dtype=object), array(['learning operations analyst'], dtype=object), array(['parts fulfillment center supervisor'], dtype=object), array(['development assistant'], dtype=object), array(['project engineer'], dtype=object), array(['client site manager for legal document services'], dtype=object), array(['now hiring'], dtype=object), array(['senior procurement  sourcing specialist'], dtype=object), array(['devops release administrator'], dtype=object), array(['digital marketing manager'], dtype=object), array(['environmental technician cbpp'], dtype=object), array(['kk plus for restaurant assistant gm'], dtype=object), array(['g aircraft structural repairer'], dtype=object), array(['project engineer'], dtype=object), array(['registered surveyor'], dtype=object), array(['registered nurseicu nights kindred hospital spring'], dtype=object), array(['project manager'], dtype=object), array(['operations support manager'], dtype=object), array(['b combat engineer'], dtype=object), array(['sales management trainee'], dtype=object), array(['installation support technician'], dtype=object), array(['online education designer'], dtype=object), array(['n horizontal construction engineers'], dtype=object), array(['marketing manager'], dtype=object), array(['national account manager'], dtype=object), array(['project coordinator'], dtype=object), array(['administrative assistant'], dtype=object), array(['lending compliance officer'], dtype=object), array(['newborn photographersales representative parttime'], dtype=object), array(['business analyst'], dtype=object), array(['technical writer'], dtype=object), array(['administrative assistant'], dtype=object), array(['instructional designer'], dtype=object), array(['cloud architect'], dtype=object), array(['project manager'], dtype=object), array(['medical secretary'], dtype=object), array(['technical writer'], dtype=object), array(['cloud solutions architect  engineer'], dtype=object), array(['account executive'], dtype=object), array(['digital campaign executive online advertising'], dtype=object), array(['quality engineer'], dtype=object), array(['specialist talent acquisition'], dtype=object), array(['enrollment agent i '], dtype=object), array(['residential post closer'], dtype=object), array(['test engineer'], dtype=object), array(['scrub technician prn greenville surgery center'], dtype=object), array(['technical writer'], dtype=object), array(['kb homeconstruction customer service rep'], dtype=object), array(['customer service representative'], dtype=object), array(['warehouse'], dtype=object), array(['field based rn case manager'], dtype=object), array(['n horizontal construction engineers'], dtype=object), array(['electrical engineer'], dtype=object), array(['quality technician'], dtype=object), array(['associate readiness trainer'], dtype=object), array(['digital campaign executive online advertising'], dtype=object), array(['store manager'], dtype=object), array(['project engineer'], dtype=object), array(['plumbingmaintenancetechnician'], dtype=object), array(['construction superintendent'], dtype=object), array(['project engineer'], dtype=object), array(['desktop support technician'], dtype=object), array(['quality engineer'], dtype=object), array(['strategic accounts manager'], dtype=object), array(['dental assistant'], dtype=object), array(['customer service representative'], dtype=object), array(['associate editor'], dtype=object), array(['drywall carpenters'], dtype=object), array(['ux researcher'], dtype=object), array(['project manager'], dtype=object), array(['software engineer in test'], dtype=object), array(['maintenance technician'], dtype=object), array(['b combat engineer'], dtype=object), array(['monster'], dtype=object), array(['ups social media intern'], dtype=object), array(['personal banker safe   e mockingbird dallas tx'], dtype=object), array(['digital campaign executive online advertising'], dtype=object), array(['manufacturing engineer'], dtype=object), array(['customer service representative'], dtype=object), array(['consulting engineer'], dtype=object), array(['maintenance technician'], dtype=object), array(['senior accountant'], dtype=object), array(['account executive'], dtype=object), array(['devops'], dtype=object), array(['advisor relationship manager'], dtype=object), array(['machine operator'], dtype=object), array(['paralegal'], dtype=object), array(['systems engineer pma'], dtype=object), array(['licensed inside sales financial consultant'], dtype=object), array(['associate'], dtype=object), array(['engineering tech'], dtype=object), array(['administrative assistant'], dtype=object), array(['quality engineer'], dtype=object), array(['assistant store manager'], dtype=object), array(['personal banker safe  west owens  hours'], dtype=object), array(['programmer analys'], dtype=object), array(['territory sales account manager – outside sales'], dtype=object), array(['foreclosure processor'], dtype=object), array(['sales agent'], dtype=object), array(['bi developer'], dtype=object), array(['project coordinator'], dtype=object), array(['manufacturing engineer'], dtype=object), array(['staff accountant'], dtype=object), array(['project engineer'], dtype=object), array(['sql dba'], dtype=object), array(['maintenance technician'], dtype=object), array(['housekeeper'], dtype=object), array(['sales associate'], dtype=object), array(['bi software developer'], dtype=object), array(['account executive'], dtype=object), array(['mechanical engineer'], dtype=object), array(['associate editor'], dtype=object), array(['administrative assistant'], dtype=object), array(['registered nurse'], dtype=object), array(['buyer'], dtype=object), array(['project manager'], dtype=object), array(['assembler'], dtype=object), array(['senior tax analyst'], dtype=object), array(['sr systems engineer'], dtype=object), array(['cloud solutions architect  engineer'], dtype=object), array(['lending compliance officer'], dtype=object), array(['monster'], dtype=object), array(['senior instructional designer'], dtype=object), array(['project engineer'], dtype=object), array(['technical writer'], dtype=object), array(['senior associate'], dtype=object), array(['protech'], dtype=object), array(['registered nurse rn'], dtype=object), array(['environmental technician cbpp'], dtype=object), array(['digital campaign executive online advertising'], dtype=object), array(['project manager'], dtype=object), array(['field service technician'], dtype=object), array(['registered nurse rn'], dtype=object), array(['project manager'], dtype=object), array(['shibboleth devmust have version  experiencework remotely'],\n",
            "      dtype=object), array(['customer service representative csr'], dtype=object), array(['senior sourcing specialist'], dtype=object), array(['project manager'], dtype=object), array(['instructor'], dtype=object), array(['project manager'], dtype=object), array(['truck driver – experienced – full time'], dtype=object), array(['truck driver – experienced – full time'], dtype=object), array(['worship leadermusic directorpianoist'], dtype=object), array(['project manager'], dtype=object), array(['contracts manager'], dtype=object), array(['help desk support tier'], dtype=object), array(['craterpacker i nd shift coppell'], dtype=object), array(['unit manager rn'], dtype=object), array(['tailored brands job application for noncdl route driver fulltime  monstercom var monslogvars  jobid'],\n",
            "      dtype=object), array(['enrollment agent i '], dtype=object), array(['registered nurse rn'], dtype=object), array(['customer service representative'], dtype=object), array(['enrollment agent i '], dtype=object), array(['enrollment agent i '], dtype=object), array(['enrollment agent i '], dtype=object), array(['enrollment agent i '], dtype=object), array(['licensed insurance sales assistant customer service agent'],\n",
            "      dtype=object), array(['enrollment agent i '], dtype=object), array(['certified nursing assistant cna'], dtype=object), array(['management training  entry level sales  entry level marketing'],\n",
            "      dtype=object), array(['inside sales representative'], dtype=object), array(['help desk'], dtype=object), array(['retail – sales management trainee'], dtype=object), array(['social worker'], dtype=object), array(['estimator store   '], dtype=object), array(['general worker'], dtype=object), array(['registered nurse rn'], dtype=object), array(['retail sales associate'], dtype=object), array(['outside sales representative'], dtype=object), array(['u signal support systems specialist'], dtype=object), array(['security guard'], dtype=object), array(['c indirect fire infantryman'], dtype=object), array(['administrative assistant up to k '], dtype=object), array(['generic job template'], dtype=object), array(['monster'], dtype=object), array(['american income life job application for finally…a sales job that makes a difference  monstercom var monslogvars  jobid'],\n",
            "      dtype=object), array(['recruiter'], dtype=object), array(['emergency room registered nurse rnnight'], dtype=object), array(['patient care tech prn'], dtype=object), array(['seasonal holiday retail sales'], dtype=object), array(['please apply only if you are qualified'], dtype=object), array(['monster'], dtype=object), array(['please apply only if you are qualified'], dtype=object), array(['f intelligence analyst'], dtype=object), array(['please apply only if you are qualified'], dtype=object), array(['utility'], dtype=object), array(['sales agent'], dtype=object), array(['payroll specialist'], dtype=object), array(['monster'], dtype=object), array(['restaurant manager'], dtype=object), array(['b lightwheel vehicle mechanic'], dtype=object), array(['project coordinator'], dtype=object), array(['sales associate'], dtype=object), array(['compliance investigator'], dtype=object), array(['sales professional'], dtype=object), array(['aflac insurance sales agent'], dtype=object), array(['dietary aide'], dtype=object), array(['monster'], dtype=object), array(['monster'], dtype=object), array(['project associate iiworkshop specialist'], dtype=object), array(['operating room nurse manager'], dtype=object), array(['tmobjp'], dtype=object), array(['monster'], dtype=object), array(['business analyst'], dtype=object), array(['manager'], dtype=object), array(['program manager'], dtype=object), array(['nurse practitioner'], dtype=object), array(['operations manager'], dtype=object), array(['senior business analyst'], dtype=object), array(['entry level marketing intern'], dtype=object), array(['monster'], dtype=object), array(['general utility worker'], dtype=object), array(['family law paralegal'], dtype=object), array(['administrative assistant'], dtype=object), array(['monster'], dtype=object), array(['program manager'], dtype=object), array(['project manager'], dtype=object), array(['product manager'], dtype=object), array(['assembly finishing supervisor'], dtype=object), array(['dietary aide'], dtype=object), array(['bookkeeper'], dtype=object), array(['customer relations representative'], dtype=object), array(['monster'], dtype=object), array(['retail reset merchandiser kroger part time'], dtype=object), array(['scrum master'], dtype=object), array(['cybercoders job application for project engineer'], dtype=object), array(['monster'], dtype=object), array(['accounts receivable  payroll'], dtype=object), array(['cook'], dtype=object), array(['monster'], dtype=object), array(['estimator store   '], dtype=object), array(['dermatology dupilumab area business manager'], dtype=object), array(['vp aml compliance'], dtype=object), array(['assistant restaurant manager'], dtype=object), array(['financial advisor'], dtype=object), array(['data entry specialist'], dtype=object), array(['bi reports developer ssrs'], dtype=object), array(['event specialist part time sales'], dtype=object), array(['project coordinator'], dtype=object), array(['customer service  client relations associate'], dtype=object), array(['construction project manager'], dtype=object), array(['registered respiratory therapist'], dtype=object), array(['sr technical program manager'], dtype=object), array(['shippingreceiving technician'], dtype=object), array(['customer service  sales representative'], dtype=object), array(['route sales managerdistributor'], dtype=object), array(['application development manager'], dtype=object), array(['monster'], dtype=object), array(['sql dba'], dtype=object), array(['sales representative'], dtype=object), array(['warehouse manager'], dtype=object), array(['franchised assistant front office manager'], dtype=object), array(['warehouse associate'], dtype=object), array(['safety manager'], dtype=object), array(['net developer'], dtype=object), array(['cybercoders job application for senior android engineer'],\n",
            "      dtype=object), array(['monster'], dtype=object), array(['monster'], dtype=object), array(['technical recruiter'], dtype=object), array(['monster'], dtype=object), array(['cte teacher'], dtype=object), array(['hosthostess'], dtype=object), array(['administrative assistant'], dtype=object), array(['staff accountant'], dtype=object), array(['aflac insurance sales agent'], dtype=object), array(['data center equipment technician'], dtype=object), array(['project engineer'], dtype=object), array(['monster'], dtype=object), array(['monster'], dtype=object), array(['please apply only if you are qualified'], dtype=object), array(['job openings job fair'], dtype=object), array(['pt criminal justice case manager'], dtype=object), array(['alterations specialist parttime'], dtype=object), array(['event specialist part time sales'], dtype=object), array(['staff accountant'], dtype=object), array(['financial professional associate'], dtype=object), array(['administrative assistant'], dtype=object), array(['cook'], dtype=object), array(['accounts payable specialist'], dtype=object), array(['seasonal holiday signature kitchen'], dtype=object), array(['cook'], dtype=object), array(['accountant'], dtype=object), array(['credit and collections assistant'], dtype=object), array(['assistant restaurant manager'], dtype=object), array(['food service lead worker'], dtype=object), array(['staff accountant'], dtype=object), array(['technical account manager'], dtype=object), array(['west central delivery lead'], dtype=object), array(['accounts payable specialist'], dtype=object), array(['real estate investments attorney'], dtype=object), array(['public relations  communications assistant'], dtype=object), array(['seasonal holiday signature kitchen'], dtype=object), array(['grill cook'], dtype=object), array(['restaurant manager'], dtype=object), array(['patient registration specialist'], dtype=object), array(['west central delivery lead'], dtype=object), array(['monster'], dtype=object), array(['business development rep  bb sales  outside sales'], dtype=object), array(['financial professional associate'], dtype=object), array(['senior internal audit'], dtype=object), array(['certified public accountant'], dtype=object), array(['seasonal holiday signature kitchen'], dtype=object), array(['senior tax analyst'], dtype=object), array(['accounts payable clerk'], dtype=object), array(['senior accountant'], dtype=object), array(['accounts payable specialist'], dtype=object), array(['staff accountant'], dtype=object), array(['staff accountant'], dtype=object), array(['general utility worker'], dtype=object), array(['security officer'], dtype=object), array(['security guard'], dtype=object), array(['security guard'], dtype=object), array(['account manager'], dtype=object), array(['security guard'], dtype=object), array(['monster'], dtype=object), array(['security guard'], dtype=object), array(['security guard'], dtype=object), array(['restaurant manager'], dtype=object), array(['security guard'], dtype=object), array(['monster'], dtype=object), array(['project coordinator'], dtype=object), array(['government'], dtype=object), array(['telecommunications analyst'], dtype=object), array(['security guard'], dtype=object), array(['environmental engineer'], dtype=object), array(['program manager'], dtype=object), array(['skilled assistant engineer'], dtype=object), array(['loss prevention associate'], dtype=object), array(['telecommunications analyst'], dtype=object), array(['security guard'], dtype=object), array(['security guard'], dtype=object), array(['security guard'], dtype=object), array(['security guard'], dtype=object), array(['nursing'], dtype=object), array(['security guard'], dtype=object), array(['assistant manager'], dtype=object), array(['security guard'], dtype=object), array(['security guard'], dtype=object), array(['security guard'], dtype=object), array(['san antonio testing laboratory job application for environmental chemist  monstercom var monslogvars  jobid'],\n",
            "      dtype=object), array(['retail brand ambassador'], dtype=object), array(['quality engineer'], dtype=object), array(['security guard'], dtype=object), array(['shipping  receiving clerk'], dtype=object), array(['security guard'], dtype=object), array(['security officer'], dtype=object), array(['security guard'], dtype=object), array(['security guard'], dtype=object), array(['security guard'], dtype=object), array(['security guard'], dtype=object), array(['deputy sheriff'], dtype=object), array(['loss prevention associate'], dtype=object), array(['security guard'], dtype=object), array(['security guard'], dtype=object), array(['security guard'], dtype=object), array(['human resources generalist'], dtype=object), array(['security guard'], dtype=object), array(['retail sales'], dtype=object), array(['security guard'], dtype=object), array(['government'], dtype=object), array(['security guard'], dtype=object), array(['security guard'], dtype=object), array(['security guard'], dtype=object), array(['senior construction superintendent'], dtype=object), array(['security guard'], dtype=object), array(['mri  ct technologist'], dtype=object), array(['route sales representative'], dtype=object), array(['security guard'], dtype=object), array(['security officer'], dtype=object), array(['security guard'], dtype=object), array(['alarm technician'], dtype=object), array(['mgr wireless innovation'], dtype=object), array(['restaurant general manager'], dtype=object), array(['security guard'], dtype=object), array(['police officer'], dtype=object), array(['security guard'], dtype=object), array(['tree maintenance worker'], dtype=object), array(['security guard'], dtype=object), array(['security guard'], dtype=object), array(['security guard'], dtype=object), array(['lifeguard'], dtype=object), array(['satellite installation technician priority hiring event october'],\n",
            "      dtype=object), array(['security guard'], dtype=object), array(['monster'], dtype=object), array(['construction superintendent'], dtype=object), array(['monster'], dtype=object), array(['security officer'], dtype=object), array(['security guard'], dtype=object), array(['security officer'], dtype=object), array(['monster'], dtype=object), array(['training manager'], dtype=object), array(['security guard'], dtype=object), array(['security guard'], dtype=object), array(['retail sales'], dtype=object), array(['tax agent'], dtype=object), array(['security officer'], dtype=object), array(['security guard'], dtype=object), array(['security guard'], dtype=object), array(['security officer'], dtype=object), array(['customer service representative'], dtype=object), array(['monster'], dtype=object), array(['security guard'], dtype=object), array(['deputy program manager'], dtype=object), array(['insurance agent'], dtype=object), array(['security guard'], dtype=object), array(['police officer'], dtype=object), array(['legal technical writer'], dtype=object), array(['quality manager'], dtype=object), array(['police officer'], dtype=object), array(['lifeguard'], dtype=object), array(['security guard'], dtype=object), array(['security guard'], dtype=object), array(['security guard'], dtype=object), array(['assistant contractor special security officer acsso'],\n",
            "      dtype=object), array(['security guard'], dtype=object), array(['security guard'], dtype=object), array(['monster'], dtype=object), array(['security guard'], dtype=object), array(['restaurant general manager'], dtype=object), array(['loss prevention associate'], dtype=object), array(['field service technician'], dtype=object), array(['security officer'], dtype=object), array(['monster'], dtype=object), array(['security guard'], dtype=object), array(['restaurant manager'], dtype=object), array(['recruiter'], dtype=object), array(['security guard'], dtype=object), array(['security guard'], dtype=object), array(['information security specialist'], dtype=object), array(['security guard'], dtype=object), array(['material handler'], dtype=object), array(['security guard'], dtype=object), array(['security guard'], dtype=object), array(['security guard'], dtype=object), array(['security guard'], dtype=object), array(['restaurant general manager'], dtype=object), array(['security guard'], dtype=object), array(['san antonio testing laboratory job application for environmental chemist  monstercom var monslogvars  jobid'],\n",
            "      dtype=object), array(['security guard'], dtype=object), array(['security guard'], dtype=object), array(['security guard'], dtype=object), array(['shift supervisor'], dtype=object), array(['certified nursing assistant'], dtype=object), array(['briefingmotionsappeals attorney'], dtype=object), array(['security officer'], dtype=object), array(['monster'], dtype=object), array(['security officer'], dtype=object), array(['security guard'], dtype=object), array(['loss prevention associate'], dtype=object), array(['customer service representative'], dtype=object), array(['security guard'], dtype=object), array(['monster'], dtype=object), array(['security guard'], dtype=object), array(['legal technical writer'], dtype=object), array(['customer service representative'], dtype=object), array(['gear forge press operator'], dtype=object), array(['security guard'], dtype=object), array(['tree and shrub specialist'], dtype=object), array(['financial analyst iii accounts payable supervisor'], dtype=object), array(['real estate sales'], dtype=object), array(['quality engineer'], dtype=object), array(['security guard'], dtype=object), array(['government'], dtype=object), array(['supplier quality engineer'], dtype=object), array(['loss prevention associate'], dtype=object), array(['security guard'], dtype=object), array(['field service technician'], dtype=object), array(['personal banker safe   e mockingbird dallas tx'], dtype=object), array(['enrollment agent i '], dtype=object), array(['oncall publications analyst'], dtype=object), array(['security guard'], dtype=object), array(['security guard'], dtype=object), array(['deputy sheriff'], dtype=object), array(['insurance agent'], dtype=object), array(['security guard'], dtype=object), array(['monster'], dtype=object), array(['security guard'], dtype=object), array(['lead financial analyst'], dtype=object), array(['systems admin mid'], dtype=object), array(['job openings job fair'], dtype=object), array(['electrical engineer'], dtype=object), array(['supplier quality engineer'], dtype=object), array(['monster'], dtype=object), array(['security guard'], dtype=object), array(['security guard'], dtype=object), array(['security guard'], dtype=object), array(['security guard'], dtype=object), array(['security guard'], dtype=object), array(['loss prevention associate'], dtype=object), array(['monster'], dtype=object), array(['police chief'], dtype=object), array(['inside sales representative'], dtype=object), array(['claim representative'], dtype=object), array(['administrative assistant'], dtype=object), array(['truck driver'], dtype=object), array(['briefingmotionsappeals attorney'], dtype=object), array(['project manager'], dtype=object), array(['vp'], dtype=object), array(['monster'], dtype=object), array(['commerical accounts receivable  experience with government accounts  soft collector'],\n",
            "      dtype=object), array(['personal banker safe   e mockingbird dallas tx'], dtype=object), array(['it director'], dtype=object), array(['security guard'], dtype=object), array(['account executive'], dtype=object), array(['security officer'], dtype=object), array(['executive assistant'], dtype=object), array(['customer service representative'], dtype=object), array(['alarm technician'], dtype=object), array(['corrections officer'], dtype=object), array(['floral designers'], dtype=object), array(['restaurant manager'], dtype=object), array(['monster'], dtype=object), array(['maintenance technician'], dtype=object), array(['general laborer'], dtype=object), array(['field sales supervisor'], dtype=object), array(['rn'], dtype=object), array(['nurse manager pacu – rn – nurse manager – k'], dtype=object), array(['security guard'], dtype=object), array(['lead developer'], dtype=object), array(['lab technicianrd shift'], dtype=object), array(['hr administrator'], dtype=object), array(['security guard'], dtype=object), array(['part time planning intern'], dtype=object), array(['territory manager'], dtype=object), array(['counsel'], dtype=object), array(['security guard'], dtype=object), array(['real estate sales'], dtype=object), array(['security guard'], dtype=object), array(['front end position  angular  aspnet'], dtype=object), array(['it director'], dtype=object), array(['security guard'], dtype=object), array(['forensic case file manager'], dtype=object), array(['account manager'], dtype=object), array(['security guard'], dtype=object), array(['senior hyperion analyst'], dtype=object), array(['customer service representative'], dtype=object), array(['truck driver'], dtype=object), array(['recruiter'], dtype=object), array(['service tech iv'], dtype=object), array(['project manager'], dtype=object), array(['san antonio testing laboratory job application for environmental chemist  monstercom var monslogvars  jobid'],\n",
            "      dtype=object), array(['security guard'], dtype=object), array(['monster'], dtype=object), array(['personal banker safe   e mockingbird dallas tx'], dtype=object), array(['data entry clerk'], dtype=object), array(['police chief'], dtype=object), array(['security guard'], dtype=object), array(['program manager'], dtype=object), array(['public relations assistant'], dtype=object), array(['security guard'], dtype=object), array(['program manager'], dtype=object), array(['security officer'], dtype=object), array(['mechanical assembler'], dtype=object), array(['b military police'], dtype=object), array(['security architect'], dtype=object), array(['security guard'], dtype=object), array(['licensed practical nurse lpn'], dtype=object), array(['trailer mechanic'], dtype=object), array(['monster'], dtype=object), array(['front end position  angular  aspnet'], dtype=object), array(['security guard'], dtype=object), array(['truck driver – entry level  cdl not required  transportation – full time'],\n",
            "      dtype=object), array(['truck driver'], dtype=object), array(['drivers'], dtype=object), array(['monster'], dtype=object), array(['monster'], dtype=object), array(['security guard'], dtype=object), array(['restaurant general manager'], dtype=object), array(['medical insurance verification specialist'], dtype=object), array(['security guard'], dtype=object), array(['receptionist'], dtype=object), array(['supervisor'], dtype=object), array(['landscaper'], dtype=object), array(['security guard'], dtype=object), array(['security guard'], dtype=object), array(['security guard'], dtype=object), array(['briefingmotionsappeals attorney'], dtype=object), array(['security guard'], dtype=object), array(['assistant manager'], dtype=object), array(['security guard'], dtype=object), array(['monster'], dtype=object), array(['automotive service technician'], dtype=object), array(['graphic designer'], dtype=object), array(['account manager'], dtype=object), array(['security guard'], dtype=object), array(['alarm technician'], dtype=object), array(['security guard'], dtype=object), array(['gas accountant\\xa0'], dtype=object), array(['security guard'], dtype=object), array(['security guard'], dtype=object), array(['security officer'], dtype=object), array(['restaurant general manager'], dtype=object), array(['database administrator'], dtype=object), array(['case manager'], dtype=object), array(['it business analyst'], dtype=object), array(['security officer'], dtype=object), array(['security guard'], dtype=object), array(['senior accountant'], dtype=object), array(['san antonio testing laboratory job application for environmental chemist  monstercom var monslogvars  jobid'],\n",
            "      dtype=object), array(['manager'], dtype=object), array(['supervisor'], dtype=object), array(['db database management analyst'], dtype=object), array(['assemblers'], dtype=object), array(['restaurant manager'], dtype=object), array(['inspector'], dtype=object), array(['security guard'], dtype=object), array(['security guard'], dtype=object), array(['lead developer'], dtype=object), array(['assistant manager'], dtype=object), array(['inside sales representative'], dtype=object), array(['senior release manager lead'], dtype=object), array(['senior network engineer'], dtype=object), array(['experienced cdla driver needed in california'], dtype=object), array(['cashier'], dtype=object), array(['accounts payable specialist'], dtype=object), array(['security guard'], dtype=object), array(['security guard'], dtype=object), array(['mri  ct technologist'], dtype=object), array(['personal banker safe  west owens  hours'], dtype=object), array(['loss prevention associate'], dtype=object), array(['gear forge press operator'], dtype=object), array(['project manager'], dtype=object), array(['security guard'], dtype=object), array(['nurse practitioner paid per visit'], dtype=object), array(['lvn'], dtype=object), array(['front end web developer'], dtype=object), array(['security guard'], dtype=object), array(['general labor'], dtype=object), array(['monster'], dtype=object), array(['principal member of technical staff g radio network optimization'],\n",
            "      dtype=object), array(['recruiter'], dtype=object), array(['outside sales – account executive'], dtype=object), array(['security officer'], dtype=object), array(['security guard'], dtype=object), array(['project manager'], dtype=object), array(['customer service representative'], dtype=object), array(['security guard'], dtype=object), array(['security guard'], dtype=object), array(['claims examinerworkers compensation'], dtype=object), array(['head of continuous manufacturing process development group'],\n",
            "      dtype=object), array(['payroll specialist'], dtype=object), array(['security officer'], dtype=object), array(['account manager'], dtype=object), array(['lll support'], dtype=object), array(['physical therapist'], dtype=object), array(['cyber security engineer'], dtype=object), array(['security guard'], dtype=object), array(['sap business intelligence manager'], dtype=object), array(['security guard'], dtype=object), array(['security guard'], dtype=object), array(['store associate'], dtype=object), array(['manager'], dtype=object), array(['personal banker safe   e mockingbird dallas tx'], dtype=object), array(['fund administrator'], dtype=object), array(['project manager'], dtype=object), array(['personal care aide'], dtype=object), array(['production supervisor'], dtype=object), array(['monster'], dtype=object), array(['licensed practical nurse lpn'], dtype=object), array(['senior financial analyst austin'], dtype=object), array(['supervisor'], dtype=object), array(['administrative assistant'], dtype=object), array(['case manager'], dtype=object), array(['field based rn case manager'], dtype=object), array(['security guard'], dtype=object), array(['programmer analys'], dtype=object), array(['personal banker safe   e mockingbird dallas tx'], dtype=object), array(['residential hvac installer'], dtype=object), array(['computer operator'], dtype=object), array(['retail sales'], dtype=object), array(['quality engineer'], dtype=object), array(['human resources manager'], dtype=object), array([' plano retail comanager'], dtype=object), array(['security guard'], dtype=object), array(['duty officer'], dtype=object), array(['systems admin mid'], dtype=object), array(['loss prevention associate'], dtype=object), array(['monster'], dtype=object), array(['customer service representative'], dtype=object), array(['security officer'], dtype=object), array(['lead financial analyst'], dtype=object), array(['monster'], dtype=object), array(['personal banker safe   e mockingbird dallas tx'], dtype=object), array(['monster'], dtype=object), array(['field nurse case manager rn '], dtype=object), array(['insurance agent'], dtype=object), array(['java developer'], dtype=object), array(['java developer'], dtype=object), array(['nursing coordinator'], dtype=object), array(['labor  delivery staff rn – nurse – new hampshire – k'],\n",
            "      dtype=object), array(['google search appliance consultant'], dtype=object), array(['warehouse coordinator'], dtype=object), array(['project engineer'], dtype=object), array(['security officer'], dtype=object), array(['usts tech con iii'], dtype=object), array(['security guard'], dtype=object), array(['physical therapist  pt'], dtype=object), array(['security guard'], dtype=object), array(['licensed practical nurse lpn'], dtype=object), array(['retail cosmetics sales'], dtype=object), array(['corrections officer'], dtype=object), array(['warehouse associate'], dtype=object), array(['security guard'], dtype=object), array(['assistantoperations manager'], dtype=object), array(['monster'], dtype=object), array(['accounting clerk'], dtype=object), array(['customer service representative'], dtype=object), array(['financial analyst'], dtype=object), array(['corrections officer'], dtype=object), array(['security guard'], dtype=object), array(['customer service representative'], dtype=object), array(['lifeguard'], dtype=object), array(['dock worker fulltime'], dtype=object), array(['loss prevention associate'], dtype=object), array(['nighttime help desk'], dtype=object), array(['general manager'], dtype=object), array(['monster'], dtype=object), array(['scrum master'], dtype=object), array(['monster'], dtype=object), array(['project manager'], dtype=object), array(['project manager'], dtype=object), array(['project engineer'], dtype=object), array(['site id specialist  in cincinnati'], dtype=object), array(['assembler'], dtype=object), array(['sportsminded sales and marketing coordinator'], dtype=object), array(['alterations specialist parttime'], dtype=object), array(['engineercustomer support ii'], dtype=object), array(['office services associate'], dtype=object), array(['mri  ct technologist'], dtype=object), array(['security guard'], dtype=object), array(['supplier quality engineer'], dtype=object), array(['customer service representative'], dtype=object), array(['systems administrator'], dtype=object), array(['security officer'], dtype=object), array(['front end web developer'], dtype=object), array(['security guard'], dtype=object), array(['monster'], dtype=object), array(['monster'], dtype=object), array(['operations supervisor'], dtype=object), array(['sales agent'], dtype=object), array(['software engineer'], dtype=object), array(['project manager'], dtype=object), array(['monster'], dtype=object), array(['monster'], dtype=object), array(['senior project manager'], dtype=object), array(['project manager'], dtype=object), array(['paralegal iii'], dtype=object), array(['security officer'], dtype=object), array(['security guard'], dtype=object), array(['project manager'], dtype=object), array(['assistant contractor special security officer acsso'],\n",
            "      dtype=object), array(['help desk technician'], dtype=object), array(['supplier quality engineer'], dtype=object), array(['security guard'], dtype=object), array(['truck driver  cdl a  home nightly'], dtype=object), array(['senior accountant'], dtype=object), array(['principal member of technical staff g radio network optimization'],\n",
            "      dtype=object), array(['security guard'], dtype=object), array(['b military police'], dtype=object), array(['warehouse associate'], dtype=object), array(['security guard'], dtype=object), array(['retail cosmetics sales'], dtype=object), array(['security guard'], dtype=object), array(['public relations  communications assistant'], dtype=object), array(['security officer'], dtype=object), array(['account executive'], dtype=object), array(['staff accountant'], dtype=object), array(['director of business intelligence'], dtype=object), array(['legal technical writer'], dtype=object), array(['security guard'], dtype=object), array(['security guard'], dtype=object), array(['public relations assistant'], dtype=object), array(['security officer'], dtype=object), array(['call center csr in san diego'], dtype=object), array(['field sales representative'], dtype=object), array(['oracle rms developer'], dtype=object), array(['industrial – manufacturing engineers'], dtype=object), array(['security guard'], dtype=object), array(['police chief'], dtype=object), array(['restaurant manager'], dtype=object), array(['customer service representative'], dtype=object), array(['security officer'], dtype=object), array(['security guard'], dtype=object), array(['peoplesoft administrator'], dtype=object), array(['insurance agent'], dtype=object), array(['senior accountant'], dtype=object), array(['security officer'], dtype=object), array(['truck driver – entry level  cdl not required  transportation – full time'],\n",
            "      dtype=object), array(['security guard'], dtype=object), array(['security guard'], dtype=object), array(['superintendent'], dtype=object), array(['personal banker safe   e mockingbird dallas tx'], dtype=object), array(['personal banker safe   e mockingbird dallas tx'], dtype=object), array(['office cleaning'], dtype=object), array(['senior construction superintendent'], dtype=object), array(['security guard'], dtype=object), array(['help desk'], dtype=object), array(['financial analyst'], dtype=object), array(['financial analyst'], dtype=object), array(['police chief'], dtype=object), array(['personal banker safe   e mockingbird dallas tx'], dtype=object), array(['staff accountant'], dtype=object), array(['police chief'], dtype=object), array(['entry level sales account manager'], dtype=object), array(['estimator store   '], dtype=object), array(['service manager'], dtype=object), array(['sterile processing technician'], dtype=object), array(['customer service representative'], dtype=object), array(['security guard'], dtype=object), array(['shift supervisor'], dtype=object), array(['security guard'], dtype=object), array(['project manager'], dtype=object), array(['programmer analys'], dtype=object), array(['administration assistant'], dtype=object), array(['retail cosmetics sales'], dtype=object), array(['restaurant general manager'], dtype=object), array(['maintenance technician'], dtype=object), array(['security guard'], dtype=object), array(['security guard'], dtype=object), array(['scrub technician prn greenville surgery center'], dtype=object), array(['coordinator of infection prevention  control rn'], dtype=object), array(['coram'], dtype=object), array(['maintenance technician'], dtype=object), array(['registered nurse'], dtype=object), array(['staff accountant'], dtype=object), array(['insurance agent'], dtype=object), array(['customer service representative'], dtype=object), array(['houston armed security officers'], dtype=object), array(['loss prevention associate'], dtype=object), array(['associate'], dtype=object), array(['security guard'], dtype=object), array(['legal technical writer'], dtype=object), array(['monster'], dtype=object), array(['security guard'], dtype=object), array(['lifeguard'], dtype=object), array(['monster'], dtype=object), array(['monster'], dtype=object), array(['security guard'], dtype=object), array(['principal technical architect software resiliency engineer'],\n",
            "      dtype=object), array(['software engineer'], dtype=object), array(['personal banker safe   e mockingbird dallas tx'], dtype=object), array(['monster'], dtype=object), array(['telecommunications analyst'], dtype=object), array(['security guard'], dtype=object), array(['truck driver'], dtype=object), array(['human resources manager'], dtype=object), array(['personal banker safe   e mockingbird dallas tx'], dtype=object), array(['monster'], dtype=object), array(['office manager'], dtype=object), array(['financial analyst iii accounts payable supervisor'], dtype=object), array(['customer service representative'], dtype=object), array(['administrative assistant'], dtype=object), array(['assistant director of nursing rn'], dtype=object), array(['library public services assistant i'], dtype=object), array(['security guard'], dtype=object), array(['retail sales'], dtype=object), array(['security guard'], dtype=object), array(['security guard'], dtype=object), array(['project manager'], dtype=object), array(['cooks  cnas '], dtype=object), array(['quality control technician  manufacturing'], dtype=object), array(['cdl a drivers'], dtype=object), array(['escrow officer'], dtype=object), array(['windows engineer'], dtype=object), array(['restaurant general manager'], dtype=object), array(['quality control inspectorlaredo'], dtype=object), array(['security guard'], dtype=object), array(['business development manager'], dtype=object), array(['security guard'], dtype=object), array(['commissary representatives'], dtype=object), array(['specialty sales representative'], dtype=object), array(['monster'], dtype=object), array(['mri  ct technologist'], dtype=object), array(['class a cdl truck driver'], dtype=object), array(['security guard'], dtype=object), array(['assistant manager'], dtype=object), array(['water resources project managerengineer'], dtype=object), array(['executive assistant'], dtype=object), array(['senior corporate paralegal'], dtype=object), array(['personal banker safe   e mockingbird dallas tx'], dtype=object), array(['ups fulltime city driver'], dtype=object), array(['monster'], dtype=object), array(['office manager'], dtype=object), array(['recruiter'], dtype=object), array(['help desk'], dtype=object), array(['registered nurse – operating room rn – or rn – operating room nurse'],\n",
            "      dtype=object), array(['event specialist part time sales'], dtype=object), array(['truck driver – entry level  cdl not required  transportation – full time'],\n",
            "      dtype=object), array(['director of risk management  benefits'], dtype=object), array(['lll support'], dtype=object), array(['project manager'], dtype=object), array(['sr bridge engineer'], dtype=object), array(['senior user experience designer ux design'], dtype=object), array(['field service technician'], dtype=object), array(['licensed inside sales financial consultant'], dtype=object), array(['sr product marketing mgr'], dtype=object), array(['hcmtime  labor peoplesoft analyst'], dtype=object), array(['project manager'], dtype=object), array(['claims examinerworkers compensation'], dtype=object), array(['aws solutions architect government'], dtype=object), array(['claim representative'], dtype=object), array(['personal banker safe   e mockingbird dallas tx'], dtype=object), array(['help desk'], dtype=object), array(['service desk technician'], dtype=object), array(['field nurse case manager rn '], dtype=object), array(['customer service'], dtype=object), array(['front desk supervisor'], dtype=object), array(['executive assistant'], dtype=object), array(['net developer'], dtype=object), array(['sr product marketing mgr'], dtype=object), array(['java developer server side development'], dtype=object), array(['project coordinator'], dtype=object), array(['director of risk management  benefits'], dtype=object), array(['speech language pathologist  slp'], dtype=object), array(['truck driver'], dtype=object), array(['business marketing senior project program manager'], dtype=object), array(['field based rn case manager'], dtype=object), array(['help desk'], dtype=object), array(['financial analyst'], dtype=object), array(['restaurant  bartending  pr  promo experience wanted'],\n",
            "      dtype=object), array(['project manager'], dtype=object), array(['cook'], dtype=object), array(['lll support'], dtype=object), array(['front desk supervisor'], dtype=object), array(['software test engineer'], dtype=object), array(['monster'], dtype=object), array(['admin assistant'], dtype=object), array(['territory manager'], dtype=object), array(['principal technical architect software resiliency engineer'],\n",
            "      dtype=object), array(['commercial sales representative'], dtype=object), array(['dishwasher'], dtype=object), array(['construction superintendent'], dtype=object), array(['sales manager'], dtype=object), array(['field sales representative'], dtype=object), array(['satcom support specialist'], dtype=object), array(['ups package delivery driver'], dtype=object), array(['dishwasher'], dtype=object), array(['field based rn case manager'], dtype=object), array(['event specialist part time sales'], dtype=object), array(['kitchen staff needed for immediate hire'], dtype=object), array(['monster'], dtype=object), array(['outside sales representative'], dtype=object), array(['payroll specialist'], dtype=object), array(['project manager'], dtype=object), array(['truck driver'], dtype=object), array(['business analyst'], dtype=object), array(['lead of service'], dtype=object), array(['associate engineerrf net'], dtype=object), array(['help desk'], dtype=object), array(['claims adjuster'], dtype=object), array(['kk plus for restaurant assistant gm'], dtype=object), array(['event specialist part time sales'], dtype=object), array(['administrative assistant'], dtype=object), array(['truck driver'], dtype=object), array(['production lead'], dtype=object), array(['monster'], dtype=object), array(['claim representative'], dtype=object), array(['retail sales consultant'], dtype=object), array(['compensation analyst'], dtype=object), array(['cashier'], dtype=object), array(['electrician'], dtype=object), array(['service manager'], dtype=object), array(['it'], dtype=object), array(['financial analyst'], dtype=object), array(['event specialist part time sales'], dtype=object), array(['sales representative'], dtype=object), array(['hr coordinator'], dtype=object), array(['training and recruiting for sports minded athletes'], dtype=object), array(['ig  infusion sales specialist'], dtype=object), array(['front desk supervisor'], dtype=object), array(['business analyst'], dtype=object), array(['real estate sales'], dtype=object), array(['engineercustomer support ii'], dtype=object), array(['project manager'], dtype=object), array(['store manager'], dtype=object), array(['java developer'], dtype=object), array(['director of risk management  benefits'], dtype=object), array(['revenue cycle optimization manager'], dtype=object), array(['emergency room registered nurse rnnight'], dtype=object), array(['truck driver – cdl  class a  transportation – full time  training provided'],\n",
            "      dtype=object), array(['front end position  angular  aspnet'], dtype=object), array(['office manager'], dtype=object), array(['restaurant manager'], dtype=object), array(['maintenance supervisor'], dtype=object), array(['vp'], dtype=object), array(['project manager'], dtype=object), array(['account executive'], dtype=object), array(['business service technician'], dtype=object), array(['project manager'], dtype=object), array(['sap business intelligence manager'], dtype=object), array(['pc and mac field technicians'], dtype=object), array(['contracts manager  '], dtype=object), array(['inspector'], dtype=object), array(['alterations specialist parttime'], dtype=object), array(['corporate paralegal'], dtype=object), array(['personal banker safe   e mockingbird dallas tx'], dtype=object), array(['administrative assistant'], dtype=object), array(['manager'], dtype=object), array(['retail sales merchandiser full time'], dtype=object), array(['data analyst'], dtype=object), array(['it systems analyst'], dtype=object), array(['network technician'], dtype=object), array(['product designer'], dtype=object), array(['commercial sales representative'], dtype=object), array(['financial professional associate'], dtype=object), array(['it'], dtype=object), array(['peoplesoft developer'], dtype=object), array(['sap mii solution architect'], dtype=object), array(['project manager'], dtype=object), array(['desktop support'], dtype=object), array(['senior software engineer'], dtype=object), array(['project manager'], dtype=object), array(['net developer'], dtype=object), array(['network technician'], dtype=object), array(['business marketing senior project program manager'], dtype=object), array(['pharmacy technician'], dtype=object), array(['full stack web developer'], dtype=object), array(['project manager'], dtype=object), array(['tankwasher'], dtype=object), array(['ux researcher'], dtype=object), array(['project coordinator'], dtype=object), array(['senior devops engineer'], dtype=object), array(['aspnetc developer'], dtype=object), array(['it sr engineer rpg'], dtype=object), array(['senior data scientist'], dtype=object), array(['digital marketing manager'], dtype=object), array(['marketingadvertising manager job'], dtype=object), array(['learning operations analyst'], dtype=object), array(['ciscof network administrator'], dtype=object), array(['project manager'], dtype=object), array(['monster'], dtype=object), array(['monster'], dtype=object), array(['cyber security engineer'], dtype=object), array(['mgr wireless innovation'], dtype=object), array(['senior software engineer'], dtype=object), array(['project manager'], dtype=object), array(['manager'], dtype=object), array(['front end web developer'], dtype=object), array(['help desk technician'], dtype=object), array(['systems admin mid'], dtype=object), array(['senior instructional designer'], dtype=object), array(['csf designer developer'], dtype=object), array(['cisco network support technician tier i'], dtype=object), array(['data center support datacenter build and implementation'],\n",
            "      dtype=object), array(['desktop support'], dtype=object), array(['it systems analyst'], dtype=object), array(['it professionals'], dtype=object), array(['monster'], dtype=object), array(['network engineer'], dtype=object), array(['sr web developeranalyst'], dtype=object), array(['pc and mac field technicians'], dtype=object), array(['technical writer'], dtype=object), array(['graphic designer'], dtype=object), array(['ux researcher'], dtype=object), array(['monster'], dtype=object), array(['quality assurance analyst'], dtype=object), array(['ms lync sb solution architect  remote  '], dtype=object), array(['technical project manager'], dtype=object), array(['monster'], dtype=object), array(['shibboleth devmust have version  experiencework remotely'],\n",
            "      dtype=object), array(['hana developer'], dtype=object), array(['service specialist'], dtype=object), array(['net developer'], dtype=object), array(['sr sap business analyst sd'], dtype=object), array(['testing manager'], dtype=object), array(['monster'], dtype=object), array(['project manager'], dtype=object), array(['scrum master'], dtype=object), array(['sql dba'], dtype=object), array(['sr it project manager – data exchanges'], dtype=object), array(['senior software engineer'], dtype=object), array(['data analyst'], dtype=object), array(['project manager'], dtype=object), array(['project manager'], dtype=object), array(['telecommunications analyst'], dtype=object), array(['it support analyst'], dtype=object), array(['analyst'], dtype=object), array(['monster'], dtype=object), array(['sap business intelligence manager'], dtype=object), array(['entry level analyst'], dtype=object), array(['project manager'], dtype=object), array(['project manager'], dtype=object), array(['data center support datacenter build and implementation'],\n",
            "      dtype=object), array(['cdl a drivers  dockworkers'], dtype=object), array(['gpo administrator'], dtype=object), array(['sql dba'], dtype=object), array(['idx legacy support analyst'], dtype=object), array(['net developer'], dtype=object), array(['rf engineer'], dtype=object), array(['genius'], dtype=object), array(['visual  ux designer'], dtype=object), array(['project coordinator'], dtype=object), array(['desktop support'], dtype=object), array(['business service technician'], dtype=object), array(['project manager'], dtype=object), array(['operations support analyst pricing'], dtype=object), array(['network admin'], dtype=object), array(['tech support analyst'], dtype=object), array(['senior user experience designer ux design'], dtype=object), array(['ruby on rails software engineer'], dtype=object), array(['outside sales – account executive'], dtype=object), array(['help desk  desktop support technician'], dtype=object), array(['project manager'], dtype=object), array(['scrum master'], dtype=object), array(['programmer iii'], dtype=object), array(['loss prevention associate'], dtype=object), array(['sr web developeranalyst'], dtype=object), array(['project coordinator'], dtype=object), array(['customer service representative'], dtype=object), array(['satcom support specialist'], dtype=object), array(['broadband technician'], dtype=object), array(['senior manager'], dtype=object), array(['front deskadmin support'], dtype=object), array(['monster'], dtype=object), array(['business analyst'], dtype=object), array(['monster'], dtype=object), array(['manager'], dtype=object), array(['monster'], dtype=object), array(['network communications'], dtype=object), array(['cadcam operator'], dtype=object), array(['project coordinator'], dtype=object), array(['fixed equipment coatings inspector'], dtype=object), array(['monster'], dtype=object), array(['net developer'], dtype=object), array(['bi reports developer ssrs'], dtype=object), array(['bi reports developer ssrs'], dtype=object), array(['it systems analyst'], dtype=object), array(['data analyst'], dtype=object), array(['desktop support'], dtype=object), array(['pt bookkeeper'], dtype=object), array(['apple  pc desktop support technician'], dtype=object), array(['net developer'], dtype=object), array(['monster'], dtype=object), array(['manager'], dtype=object), array(['satcom support specialist'], dtype=object), array(['project coordinator'], dtype=object), array(['provisioning technician'], dtype=object), array(['customer service representative'], dtype=object), array(['senior network engineer'], dtype=object), array(['monster'], dtype=object), array(['systems administrator government'], dtype=object), array(['monster'], dtype=object), array(['technical pm'], dtype=object), array(['cnc high speed mill machinist'], dtype=object), array(['project manager'], dtype=object), array(['network admin'], dtype=object), array(['data center support datacenter build and implementation'],\n",
            "      dtype=object), array(['net developer'], dtype=object), array(['net developer'], dtype=object), array(['asphalt paving project coordinator'], dtype=object), array(['senior frontend developer'], dtype=object), array(['help desk'], dtype=object), array(['front end web developer'], dtype=object), array(['network engineer'], dtype=object), array(['ux researcher'], dtype=object), array(['customer service representative'], dtype=object), array(['monster'], dtype=object), array(['maintenance technician'], dtype=object), array(['quality assurance technician'], dtype=object), array(['quality engineer'], dtype=object), array(['program manager'], dtype=object), array(['quality control specialist'], dtype=object), array(['benefits finance analyst'], dtype=object), array(['associate director'], dtype=object), array(['data analyst'], dtype=object), array(['pc and mac field technicians'], dtype=object), array(['network technician'], dtype=object), array(['remote lead product architect'], dtype=object), array(['project manager'], dtype=object), array(['satcom support specialist'], dtype=object), array(['senior project program manager'], dtype=object), array(['pc and mac field technicians'], dtype=object), array(['analyst'], dtype=object), array(['monster'], dtype=object), array(['data center support datacenter build and implementation'],\n",
            "      dtype=object), array(['business marketing senior project program manager'], dtype=object), array(['csf designer developer'], dtype=object), array(['entry level analyst'], dtype=object), array(['shibboleth devmust have version  experiencework remotely'],\n",
            "      dtype=object), array(['solution architect'], dtype=object), array(['systems administrator'], dtype=object), array(['executive assistant'], dtype=object), array(['casino analyst'], dtype=object), array(['genius'], dtype=object), array(['desktop support'], dtype=object), array(['associate engineerrf net'], dtype=object), array(['peoplesoft developer'], dtype=object), array(['data center support datacenter build and implementation'],\n",
            "      dtype=object), array(['sap business intelligence manager'], dtype=object), array(['sap business intelligence manager'], dtype=object), array(['telecom technician'], dtype=object), array(['devops engineer'], dtype=object), array(['public health rns'], dtype=object), array(['sap business intelligence manager'], dtype=object), array(['low voltage wire  cable installer'], dtype=object), array(['av engineer'], dtype=object), array(['java developer'], dtype=object), array(['retail cosmetics sales'], dtype=object), array(['net developer'], dtype=object), array(['project manager'], dtype=object), array(['satcom support specialist'], dtype=object), array(['java developer'], dtype=object), array(['technical trainer'], dtype=object), array(['project manager'], dtype=object), array(['deskside support representative'], dtype=object), array(['sr monitoring and incident response analys'], dtype=object), array(['lll support'], dtype=object), array(['business analyst'], dtype=object), array(['senior software engineer'], dtype=object), array(['monster'], dtype=object), array(['software engineer'], dtype=object), array(['manager'], dtype=object), array(['analyst'], dtype=object), array(['scrum master'], dtype=object), array(['accountant'], dtype=object), array(['help desk'], dtype=object), array(['solutions architect'], dtype=object), array(['it infrastructure project manager'], dtype=object), array(['linux systems administrator'], dtype=object), array(['sap business intelligence manager'], dtype=object), array(['claims adjuster'], dtype=object), array(['monster'], dtype=object), array(['project manager'], dtype=object), array(['call center customer service representative tmx permanent'],\n",
            "      dtype=object), array(['hr generalist'], dtype=object), array(['field service technician i '], dtype=object), array(['network technician'], dtype=object), array(['claim representative'], dtype=object), array(['manager'], dtype=object), array(['quality engineer'], dtype=object), array(['software engineer'], dtype=object), array(['program manager'], dtype=object), array(['senior front end developer'], dtype=object), array(['systems administrator'], dtype=object), array(['associate editor'], dtype=object), array(['monster'], dtype=object), array(['ms exchange administrator'], dtype=object), array(['project manager'], dtype=object), array(['java developer'], dtype=object), array(['project manager'], dtype=object), array(['javaangular js developer'], dtype=object), array(['data center support datacenter build and implementation'],\n",
            "      dtype=object), array(['business analyst'], dtype=object), array(['customer service representative'], dtype=object), array(['monster'], dtype=object), array(['graphic designer'], dtype=object), array(['idx legacy support analyst'], dtype=object), array(['pc and mac field technicians'], dtype=object), array(['systems admin mid'], dtype=object), array(['sap business intelligence manager'], dtype=object), array(['monster'], dtype=object), array(['business analyst'], dtype=object), array(['it'], dtype=object), array(['product designer'], dtype=object), array(['bmc atrium orchestrator'], dtype=object), array(['pega developer'], dtype=object), array(['retail sales'], dtype=object), array(['qaqc technician'], dtype=object), array(['lll support'], dtype=object), array(['assistant compliance attorney'], dtype=object), array(['accountantbookkeeper'], dtype=object), array(['controls engineer'], dtype=object), array(['ikea food coworker coldprep server'], dtype=object), array(['assistant manager'], dtype=object), array(['controls engineer'], dtype=object), array(['customer service representative'], dtype=object), array(['sales management trainee'], dtype=object), array(['seasonal housekeepers'], dtype=object), array(['formulation chemist must have transdermal experience'],\n",
            "      dtype=object), array(['document review specialist iii'], dtype=object), array(['monster'], dtype=object), array(['project engineer'], dtype=object), array(['retail sales'], dtype=object), array(['macys seasonal holiday retail sales'], dtype=object), array(['analytical bench chemist'], dtype=object), array(['account manager'], dtype=object), array(['manager of district lp'], dtype=object), array(['medical administrative assistant'], dtype=object), array(['owners construction field representative'], dtype=object), array(['development specialist'], dtype=object), array(['seasonal holiday retail merchandising'], dtype=object), array(['marketing advertising and branding associate for expanding firm'],\n",
            "      dtype=object), array(['retail commission sales'], dtype=object), array(['macys seasonal holiday retail receiving flex stanford ca'],\n",
            "      dtype=object), array(['monster'], dtype=object), array(['sasstatisticianremote'], dtype=object), array(['seasonal holiday retail merchandising'], dtype=object), array(['house keeping attendant'], dtype=object), array(['kitsap community resources job application for kitsap youth in action kya support specialist  monstercom var monslogvars  jobid'],\n",
            "      dtype=object), array(['controls engineer'], dtype=object), array(['retail cosmetics sales'], dtype=object), array(['sales associate'], dtype=object), array(['sales management trainee'], dtype=object), array(['macys seasonal holiday retail receiving flex stanford ca'],\n",
            "      dtype=object), array(['monster'], dtype=object), array(['laboratory technician'], dtype=object), array(['feed sales representative'], dtype=object), array(['laboratory technician'], dtype=object), array(['macys seasonal holiday retail floor merchandiser'], dtype=object), array(['controls specialist'], dtype=object), array(['clinical lab scientist'], dtype=object), array(['senior product manager'], dtype=object), array(['quality control technician'], dtype=object), array(['medical technologist'], dtype=object), array(['biostatistician'], dtype=object), array(['specialty sales representative'], dtype=object), array(['retail commission sales'], dtype=object), array(['customer service representative'], dtype=object), array(['myshop captain'], dtype=object), array(['macys seasonal holiday retail floor merchandiser'], dtype=object), array(['monster'], dtype=object), array(['customer service representative'], dtype=object), array(['asst director'], dtype=object), array(['receptionist'], dtype=object), array(['controls engineer'], dtype=object), array(['technical trainer'], dtype=object), array(['program manager'], dtype=object), array(['manager'], dtype=object), array(['entry level sales  business trainee'], dtype=object), array(['controls engineer'], dtype=object), array(['footwear retail sales associate'], dtype=object), array(['automotive service advisors'], dtype=object), array(['seasonal holiday retail sales'], dtype=object), array(['pt criminal justice case manager'], dtype=object), array(['assistant director of nursing rn'], dtype=object), array(['tutors '], dtype=object), array(['production manager'], dtype=object), array(['project manager'], dtype=object), array(['driver'], dtype=object), array(['event specialist part time sales'], dtype=object), array(['sr sap business analyst sd'], dtype=object), array(['driver'], dtype=object), array(['insurance agent'], dtype=object), array(['project coordinator'], dtype=object), array(['customer service representative'], dtype=object), array(['project manager'], dtype=object), array(['senior brand manager'], dtype=object), array(['customer service representative'], dtype=object), array(['public relations  communications assistant'], dtype=object), array(['senior director and operations counsel'], dtype=object), array(['transfer from bartender to entrepreneur business management'],\n",
            "      dtype=object), array(['shift supervisor'], dtype=object), array(['cybercoders job application for project architect'], dtype=object), array(['medicalpharmacy benefits verification coordinator'], dtype=object), array(['project manager'], dtype=object), array(['planner media amp'], dtype=object), array(['marketing manager'], dtype=object), array(['medicalpharmacy benefits verification coordinator'], dtype=object), array(['entry level sales representative'], dtype=object), array(['shift supervisor'], dtype=object), array(['operations analyst'], dtype=object), array(['training and recruiting for sports minded athletes'], dtype=object), array(['sap sales order entry support'], dtype=object), array(['quality manager'], dtype=object), array(['quality engineer'], dtype=object), array(['systems quality assurance analyst'], dtype=object), array(['monster'], dtype=object), array(['monster'], dtype=object), array(['assistant compliance attorney'], dtype=object), array(['growing manufacturer seeking metals process development engineer'],\n",
            "      dtype=object), array(['quality control technician  manufacturing'], dtype=object), array(['monster'], dtype=object), array(['monster'], dtype=object), array(['automation qa engineer'], dtype=object), array(['monster'], dtype=object), array(['safety manager'], dtype=object), array(['restaurant manager'], dtype=object), array(['operations excellence manager'], dtype=object), array(['food science senior formulator  sf'], dtype=object), array(['monster'], dtype=object), array(['monster'], dtype=object), array(['quality assurance technician'], dtype=object), array(['supplier quality engineer'], dtype=object), array(['maintenance and repair mechanic apprentice'], dtype=object), array(['lead quality engineer'], dtype=object), array(['maintenance and repair mechanic apprentice'], dtype=object), array(['quality engineer'], dtype=object), array(['data analyst'], dtype=object), array(['road construction laborers'], dtype=object), array(['supplier quality engineer'], dtype=object), array(['quality manager'], dtype=object), array(['chemist'], dtype=object), array(['quality assurance tester'], dtype=object), array(['monster'], dtype=object), array(['monster'], dtype=object), array(['monster'], dtype=object), array(['quality engineer'], dtype=object), array(['monster'], dtype=object), array(['risk and safety manager'], dtype=object), array(['production supervisor'], dtype=object), array(['project manager'], dtype=object), array(['scientist  statistician'], dtype=object), array(['laboratory technician'], dtype=object), array(['monster'], dtype=object), array(['monster'], dtype=object), array(['data analyst'], dtype=object), array(['cnc high speed mill machinist'], dtype=object), array(['monster'], dtype=object), array(['monster'], dtype=object), array(['monster'], dtype=object), array(['monster'], dtype=object), array(['safety manager'], dtype=object), array(['tmobjp'], dtype=object), array(['transcriptionist  typist'], dtype=object), array(['safety manager'], dtype=object), array(['quality engineer'], dtype=object), array(['laboratory technician'], dtype=object), array(['sr auditor'], dtype=object), array(['program manager'], dtype=object), array(['site manager'], dtype=object), array(['monster'], dtype=object), array(['quality assurance manager'], dtype=object), array(['quality engineer'], dtype=object), array(['monster'], dtype=object), array(['digital campaign executive online advertising'], dtype=object), array(['microbiology analyst'], dtype=object), array(['quality control technician'], dtype=object), array(['monster'], dtype=object), array(['monster'], dtype=object), array(['quality engineer'], dtype=object), array(['network engineer'], dtype=object), array(['quality assurance analyst'], dtype=object), array(['quality manager'], dtype=object), array(['assembly finishing supervisor'], dtype=object), array(['retail managerjohnson  walesdenver'], dtype=object), array(['quality manager'], dtype=object), array(['retail managerjohnson  walesdenver'], dtype=object), array(['construction scheduler'], dtype=object), array(['monster'], dtype=object), array(['monster'], dtype=object), array(['staff accountant'], dtype=object), array(['lead quality engineer'], dtype=object), array(['quality engineer'], dtype=object), array(['maintenance and repair mechanic apprentice'], dtype=object), array(['assembly finishing supervisor'], dtype=object), array(['monster'], dtype=object), array(['gauge process engineer'], dtype=object), array(['scientist  statistician'], dtype=object), array(['visual  ux designer'], dtype=object), array(['da collins group job application for bridge constructionheavy highway superintendent  monstercom var monslogvars  jobid'],\n",
            "      dtype=object), array(['diesel mechanic'], dtype=object), array(['asst director'], dtype=object), array(['cnc high speed mill machinist'], dtype=object), array(['monster'], dtype=object), array(['monster'], dtype=object), array(['quality assurance manager'], dtype=object), array(['quality control technician  manufacturing'], dtype=object), array(['monster'], dtype=object), array(['technical writer'], dtype=object), array(['quality engineer'], dtype=object), array(['assembler'], dtype=object), array(['monster'], dtype=object), array(['test engineer'], dtype=object), array(['quality control technician  manufacturing'], dtype=object), array(['financial analyst fpa'], dtype=object), array(['monster'], dtype=object), array(['monster'], dtype=object), array(['test engineer'], dtype=object), array(['test engineer'], dtype=object), array(['program manager'], dtype=object), array(['monster'], dtype=object), array(['quality assurance manager'], dtype=object), array(['pharmacist'], dtype=object), array(['monster'], dtype=object), array(['net developer'], dtype=object), array(['quality engineer'], dtype=object), array(['quality assurance manager'], dtype=object), array(['laboratory technician'], dtype=object), array(['maintenance and repair mechanic apprentice'], dtype=object), array(['production manager'], dtype=object), array(['truck driver  cdl a  home nightly'], dtype=object), array(['monster'], dtype=object), array(['monster'], dtype=object), array(['phlebotomist'], dtype=object), array(['truck driver  cdl a  home nightly'], dtype=object), array(['sr package technical specialist'], dtype=object), array(['quality engineer'], dtype=object), array(['transcriptionist  typist'], dtype=object), array(['monster'], dtype=object), array(['quality engineer'], dtype=object), array(['scientist  cell culture'], dtype=object), array(['quality engineer'], dtype=object), array(['as'], dtype=object), array(['safety manager'], dtype=object), array(['monster'], dtype=object), array(['systems quality assurance analyst'], dtype=object), array(['monster'], dtype=object), array(['quality engineer'], dtype=object), array(['quality engineer'], dtype=object), array(['maintenance and repair mechanic apprentice'], dtype=object), array(['quality assurance automation engineer'], dtype=object), array(['monster'], dtype=object), array(['scientist  statistician'], dtype=object), array(['production workers'], dtype=object), array(['quality manager'], dtype=object), array(['quality engineer'], dtype=object), array(['supply chain manager'], dtype=object), array(['quality technician'], dtype=object), array(['maintenance and repair mechanic apprentice'], dtype=object), array(['project manager'], dtype=object), array(['quality assurance manager'], dtype=object), array(['method development scientist'], dtype=object), array(['biostatistician'], dtype=object), array(['macys south shore mall'], dtype=object), array(['project engineer'], dtype=object), array(['monster'], dtype=object), array(['qa automation engineer'], dtype=object), array(['quality manager'], dtype=object), array(['monster'], dtype=object), array(['quality control technician  manufacturing'], dtype=object), array(['customer service representative csr'], dtype=object), array(['quality engineer'], dtype=object), array(['quality manager'], dtype=object), array(['technical writer'], dtype=object), array(['monster'], dtype=object), array(['monster'], dtype=object), array(['experienced meat cutter'], dtype=object), array(['quality engineer'], dtype=object), array(['complaint analyst'], dtype=object), array(['safety manager'], dtype=object), array(['construction supervisorforeman inland richland'], dtype=object), array(['oklahoma department of transportation job application for bridge  roadway construction inspector  monstercom var monslogvars  jobid'],\n",
            "      dtype=object), array(['cnet developer'], dtype=object), array(['construction supervisorforeman inland richland'], dtype=object), array(['tmobjp'], dtype=object), array(['office manager'], dtype=object), array(['monster'], dtype=object), array(['qc chemist'], dtype=object), array(['monster'], dtype=object), array(['scientist  statistician'], dtype=object), array(['civil engineer highway design'], dtype=object), array(['automation test engineer'], dtype=object), array(['quality manager'], dtype=object), array(['quality technician'], dtype=object), array(['repair services associate i'], dtype=object), array(['monster'], dtype=object), array(['tmobjp'], dtype=object), array(['test engineering supervisor'], dtype=object), array(['monster'], dtype=object), array(['cadcam operator'], dtype=object), array(['monster'], dtype=object), array(['principal statistician'], dtype=object), array(['monster'], dtype=object), array(['monster'], dtype=object), array(['packaging machine operator'], dtype=object), array(['monster'], dtype=object), array(['safety manager'], dtype=object), array(['monster'], dtype=object), array(['monster'], dtype=object), array(['seasonal housekeepers'], dtype=object), array(['monster'], dtype=object), array(['quality technician'], dtype=object), array(['industrial – manufacturing engineers'], dtype=object), array(['monster'], dtype=object), array(['quality control technician  manufacturing'], dtype=object), array(['quality engineer'], dtype=object), array(['monster'], dtype=object), array(['six sigma black belt'], dtype=object), array(['accounts payable specialist'], dtype=object), array(['asphalt screed operator nc'], dtype=object), array(['monster'], dtype=object), array(['forklift operator'], dtype=object), array(['quality engineer'], dtype=object), array(['associate director'], dtype=object), array(['legal assistant'], dtype=object), array(['monster'], dtype=object), array(['quality engineer'], dtype=object), array(['project manager'], dtype=object), array(['monster'], dtype=object), array(['registered nurse rn'], dtype=object), array(['monster'], dtype=object), array(['member services rep i'], dtype=object), array(['svpcommercial loan officer'], dtype=object), array(['cook'], dtype=object), array(['dietary aide'], dtype=object), array(['rn case manager'], dtype=object), array(['coder ii'], dtype=object), array(['host  hostess'], dtype=object), array(['restaurant manager'], dtype=object), array(['warehouse receiver'], dtype=object), array(['med aidetech'], dtype=object), array(['cook'], dtype=object), array(['monster'], dtype=object), array(['macys seasonal starbucks barista'], dtype=object), array(['restaurant manager'], dtype=object), array(['dietary aide'], dtype=object), array(['host  hostess'], dtype=object), array(['cooks  dishwashers'], dtype=object), array(['dietary aide'], dtype=object), array(['catering worker'], dtype=object), array(['field service technician'], dtype=object), array(['catering worker'], dtype=object), array(['food service worker'], dtype=object), array(['restaurant general manager'], dtype=object), array(['host  hostess'], dtype=object), array(['procurement operations analyst'], dtype=object), array(['host  hostess'], dtype=object), array(['macys seasonal starbucks barista'], dtype=object), array(['host  hostess'], dtype=object), array(['cook'], dtype=object), array(['lead medical assistant supervisor'], dtype=object), array(['receptionist'], dtype=object), array(['rn'], dtype=object), array(['host  hostess'], dtype=object), array(['seafood sales clerk  part time  groveport giant eagle'],\n",
            "      dtype=object), array(['physical therapist'], dtype=object), array(['baker'], dtype=object), array(['sterile processing technician'], dtype=object), array(['nurse practitioner'], dtype=object), array(['assistant director of nursing rn'], dtype=object), array(['cook'], dtype=object), array(['senior assistant restaurant manager'], dtype=object), array(['seasonal holiday culinary food demonstrator part time macys mall of america'],\n",
            "      dtype=object), array(['host  hostess'], dtype=object), array(['macys seasonal starbucks barista'], dtype=object), array(['host  hostess'], dtype=object), array(['registered nurse rn'], dtype=object), array(['lead cook'], dtype=object), array(['warehouse clerk'], dtype=object), array(['maintenance mechanic'], dtype=object), array(['mobile equipment mechanic'], dtype=object), array(['mobile equipment mechanic'], dtype=object), array(['plant manager'], dtype=object), array(['pest control technician – field service rep entry level'],\n",
            "      dtype=object), array(['monster'], dtype=object), array(['senior research scientist'], dtype=object), array(['systems administrator'], dtype=object), array(['field based rn case manager'], dtype=object), array(['phlebotomist'], dtype=object), array(['assistant manager'], dtype=object), array(['heavy equipment mechanic'], dtype=object), array(['project manager'], dtype=object), array(['sr strategic pricing manager iot'], dtype=object), array(['quality inspector'], dtype=object), array(['recruiter'], dtype=object), array(['monster'], dtype=object), array(['service technician  mechanic  automotive  lead shop tech'],\n",
            "      dtype=object), array(['payroll specialist'], dtype=object), array(['satcom support specialist'], dtype=object), array(['recruiter'], dtype=object), array(['associate editor'], dtype=object), array(['project coordinator'], dtype=object), array(['trailer mechanic'], dtype=object), array(['sales representative'], dtype=object), array(['quality engineer'], dtype=object), array(['driver'], dtype=object), array(['ultimate placements job application for regional new business development manager  monstercom var monslogvars  jobid'],\n",
            "      dtype=object), array(['magneti marelli assembly'], dtype=object), array(['contract corporate paralegal'], dtype=object), array(['parts assistant'], dtype=object), array(['assistant county administrator'], dtype=object), array(['working vacations in china co ltd job application for english and subject teachersany city in china  monstercom var monslogvars  jobid'],\n",
            "      dtype=object), array(['monster'], dtype=object), array(['truck driver'], dtype=object), array(['cybercoders job application for construction project manager'],\n",
            "      dtype=object), array(['monster'], dtype=object), array(['van drivers wanted in atlanta'], dtype=object), array(['marketing representative'], dtype=object), array(['assistant manager market management'], dtype=object), array(['assistant managerentry level'], dtype=object), array(['tmobjp'], dtype=object), array(['truck driver'], dtype=object), array(['dangerous goods shipper'], dtype=object), array(['deputy program manager'], dtype=object), array(['ambulatory clinic lpn'], dtype=object), array(['brand managerentry level'], dtype=object), array(['monster'], dtype=object), array(['monster'], dtype=object), array(['resident care specialist'], dtype=object), array(['developer'], dtype=object), array(['monster'], dtype=object), array(['protech'], dtype=object), array(['pwm iis envestnet fiduciary project manager'], dtype=object), array(['unit manager rn'], dtype=object), array(['contract corporate paralegal'], dtype=object), array(['ups capital senior paralegal'], dtype=object), array(['monster'], dtype=object), array(['business developmentsalesperson'], dtype=object), array(['entrylevel recruiter'], dtype=object), array(['light industrial'], dtype=object), array(['protech'], dtype=object), array(['customer service'], dtype=object), array(['it client systems administratorhelpdesk technician'], dtype=object), array(['monster'], dtype=object), array(['order planng specialist'], dtype=object), array(['manufacturing engineer'], dtype=object), array(['entry level marketing intern'], dtype=object), array(['retail sales merchandiser full time'], dtype=object), array(['sql server database developer'], dtype=object), array(['quality inspector'], dtype=object), array(['monster'], dtype=object), array(['brand managerentry level'], dtype=object), array(['monster'], dtype=object), array(['diesel mechanic'], dtype=object), array(['class a cdl driver'], dtype=object), array(['level  remote support engineer'], dtype=object), array(['desktop support'], dtype=object), array(['protech'], dtype=object), array(['assistant manager market management'], dtype=object), array(['monster'], dtype=object), array(['cybercoders job application for interface engineer'], dtype=object), array(['professional maintenance and cleaning services'], dtype=object), array(['account manager'], dtype=object), array(['protech'], dtype=object), array(['monster'], dtype=object), array(['monster'], dtype=object), array(['aflac insurance sales agent'], dtype=object), array(['senior scientist'], dtype=object), array(['account executive'], dtype=object), array(['insurance defense attorney'], dtype=object), array(['class a cdl driver'], dtype=object), array(['production supervisor'], dtype=object), array(['commercial real estate representative in blue ash'], dtype=object), array(['devops'], dtype=object), array(['monster'], dtype=object), array(['delivery associate'], dtype=object), array(['monster'], dtype=object), array(['cybercoders job application for fullstack c net developer leading media distribution platform  monstercom var monslogvars  jobid'],\n",
            "      dtype=object), array(['retail data collector part time'], dtype=object), array(['technician  termite inspector'], dtype=object), array(['customer service representative'], dtype=object), array(['collector  patient account representative'], dtype=object), array(['visual associate'], dtype=object), array(['regional sales manager'], dtype=object), array(['monster'], dtype=object), array(['registered nurse rn'], dtype=object), array(['recent accountingfinance grads bookkeeper'], dtype=object), array(['forensic case file manager'], dtype=object), array(['cybercoders job application for senior android engineer'],\n",
            "      dtype=object), array(['content manager'], dtype=object), array(['claims adjuster'], dtype=object), array(['monster'], dtype=object), array(['monster'], dtype=object), array(['security engineer'], dtype=object), array(['att job application for consultant professional services  atc'],\n",
            "      dtype=object), array(['rn'], dtype=object), array(['visual  ux designer'], dtype=object), array(['monster'], dtype=object), array(['sales manager'], dtype=object), array(['truck driver  cdl a  home nightly'], dtype=object), array(['att job application for consultant professional services  atc'],\n",
            "      dtype=object), array(['general manager single unit'], dtype=object), array(['monster'], dtype=object), array(['monster'], dtype=object), array(['accounts payable specialist'], dtype=object), array(['team lead'], dtype=object), array(['home health aide hha'], dtype=object), array(['lll support'], dtype=object), array(['forklift operator'], dtype=object), array(['office services associate'], dtype=object), array(['monster'], dtype=object), array(['content manager'], dtype=object), array(['class a cdl driver'], dtype=object), array(['field service technician'], dtype=object), array(['outside sales representative'], dtype=object), array(['monster'], dtype=object), array(['business analyst'], dtype=object), array(['sales representative'], dtype=object), array(['medical biller'], dtype=object), array(['sales rep  outside sales  territory sales'], dtype=object), array(['copier technician'], dtype=object), array(['full time home health occupational therapist'], dtype=object), array(['full time home health registered nurse'], dtype=object), array(['project engineer'], dtype=object), array(['cyber security engineer'], dtype=object), array(['field service technician'], dtype=object), array(['sql server database architect'], dtype=object), array(['american income life job application for customer service associate needed before the new year  monstercom var monslogvars  jobid'],\n",
            "      dtype=object), array(['maintenance and repair mechanic apprentice'], dtype=object), array(['class a cdl driver'], dtype=object), array(['electrical engineer'], dtype=object), array(['tax reviewer'], dtype=object), array(['driver orientation facilitaror administrator'], dtype=object), array(['monster'], dtype=object), array(['account manager'], dtype=object), array(['claims adjuster'], dtype=object), array(['business analyst'], dtype=object), array(['real estate sales'], dtype=object), array(['pest control technician – field service rep entry level'],\n",
            "      dtype=object), array(['restaurant manager'], dtype=object), array(['security engineer'], dtype=object), array(['aflac insurance sales agent'], dtype=object), array(['production supervisor'], dtype=object), array(['project manager'], dtype=object), array(['driver'], dtype=object), array(['security engineer'], dtype=object), array(['assembly maintenance multicraft technician'], dtype=object), array(['java developer'], dtype=object), array(['tmobjp'], dtype=object), array(['java developer'], dtype=object), array(['business solutions architect'], dtype=object), array(['preoppacu rn'], dtype=object), array(['controller'], dtype=object), array(['aflac insurance sales agent'], dtype=object), array(['monster'], dtype=object), array(['measure tech'], dtype=object), array(['associate attorney'], dtype=object), array(['quality manager'], dtype=object), array(['ready mix plant laborer south austin'], dtype=object), array(['mental health specialist'], dtype=object), array(['american income life job application for customer service associate needed before the new year  monstercom var monslogvars  jobid'],\n",
            "      dtype=object), array(['monster'], dtype=object), array(['driver'], dtype=object), array(['business analyst'], dtype=object), array(['claims representative'], dtype=object), array(['help desk technician'], dtype=object), array(['daily order reviewer'], dtype=object), array(['restaurant manager'], dtype=object), array(['devops engineer'], dtype=object), array(['bilingual accounts payable specialist'], dtype=object), array(['shippingreceiving technician'], dtype=object), array(['monster'], dtype=object), array(['monster'], dtype=object), array(['auto club group job application for valet  monstercom var monslogvars  jobid'],\n",
            "      dtype=object), array(['light industrial'], dtype=object), array(['monster'], dtype=object), array(['lending compliance officer'], dtype=object), array(['financial advisor  financial sales representative'], dtype=object), array(['truck driver  cdl a  home nightly'], dtype=object), array(['tmobjp'], dtype=object), array(['att job application for consultant professional services  atc'],\n",
            "      dtype=object), array(['systems engineer portage'], dtype=object), array(['monster'], dtype=object), array(['jr sharepoint admin'], dtype=object), array(['accounts receivable  payroll'], dtype=object), array(['outside sales'], dtype=object), array(['n horizontal construction engineers'], dtype=object), array(['deputy program manager'], dtype=object), array(['aflac insurance sales agent'], dtype=object), array(['project manager'], dtype=object), array(['project manager'], dtype=object), array(['senior financial analyst'], dtype=object), array(['content manager'], dtype=object), array(['b military police'], dtype=object), array(['monster'], dtype=object), array(['sous chef  kitchen manager'], dtype=object), array(['sales associate'], dtype=object), array(['tmobjp'], dtype=object), array(['web developer'], dtype=object), array(['commercial construction superintendent'], dtype=object), array(['company confidential job application for electrical design engineer'],\n",
            "      dtype=object), array(['project manager'], dtype=object), array(['insurance agent'], dtype=object), array(['tmobjp'], dtype=object), array(['b military police'], dtype=object), array(['resident care specialist'], dtype=object), array(['monster'], dtype=object), array(['executive director'], dtype=object), array(['software engineer'], dtype=object), array(['insurance agent'], dtype=object), array(['outside sales representative trainee'], dtype=object), array(['warehouse associate'], dtype=object), array(['sales representative'], dtype=object), array(['immediate customer service position'], dtype=object), array(['g aircraft structural repairer'], dtype=object), array(['project manager'], dtype=object), array(['director of financial operations'], dtype=object), array(['aflac insurance sales agent'], dtype=object), array(['financial analyst'], dtype=object), array(['business analyst'], dtype=object), array(['administrative assistant'], dtype=object), array(['sales manager'], dtype=object), array(['monster'], dtype=object), array(['road construction laborers'], dtype=object), array(['tmobjp'], dtype=object), array(['registered nurse  med surg ccu'], dtype=object), array(['retail supervisor full time'], dtype=object), array(['monster'], dtype=object), array(['quality assurance supervisor'], dtype=object), array(['field service technician'], dtype=object), array(['customer service representative'], dtype=object), array(['project manager'], dtype=object), array(['production supervisor'], dtype=object), array(['quality control technician  manufacturing'], dtype=object), array(['warehouse team lead'], dtype=object), array(['monster'], dtype=object), array(['truck driver  cdl a  home nightly'], dtype=object)]\n"
          ]
        }
      ],
      "source": [
        "print(predictions)"
      ]
    },
    {
      "cell_type": "code",
      "execution_count": null,
      "id": "5ddad08e",
      "metadata": {
        "id": "5ddad08e"
      },
      "outputs": [],
      "source": [
        "prediction_df = pd.DataFrame(predictions, columns=['Title'])\n"
      ]
    },
    {
      "cell_type": "code",
      "execution_count": null,
      "id": "01187e32",
      "metadata": {
        "id": "01187e32"
      },
      "outputs": [],
      "source": [
        "prediction_df.to_csv('predictions.csv',sep=',',index=True)"
      ]
    }
  ],
  "metadata": {
    "kernelspec": {
      "display_name": "Python 3 (ipykernel)",
      "language": "python",
      "name": "python3"
    },
    "language_info": {
      "codemirror_mode": {
        "name": "ipython",
        "version": 3
      },
      "file_extension": ".py",
      "mimetype": "text/x-python",
      "name": "python",
      "nbconvert_exporter": "python",
      "pygments_lexer": "ipython3",
      "version": "3.9.7"
    },
    "colab": {
      "name": "Job_Title_Prediction_submission.ipynb",
      "provenance": [],
      "include_colab_link": true
    }
  },
  "nbformat": 4,
  "nbformat_minor": 5
}