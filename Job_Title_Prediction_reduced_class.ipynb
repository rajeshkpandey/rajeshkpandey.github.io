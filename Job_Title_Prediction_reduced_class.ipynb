{
  "cells": [
    {
      "cell_type": "markdown",
      "metadata": {
        "id": "view-in-github",
        "colab_type": "text"
      },
      "source": [
        "<a href=\"https://colab.research.google.com/github/rajeshkpandey/rajeshkpandey.github.io/blob/main/Job_Title_Prediction_reduced_class.ipynb\" target=\"_parent\"><img src=\"https://colab.research.google.com/assets/colab-badge.svg\" alt=\"Open In Colab\"/></a>"
      ]
    },
    {
      "cell_type": "code",
      "execution_count": null,
      "id": "7b456947",
      "metadata": {
        "id": "7b456947",
        "outputId": "582c5859-d059-4900-81f4-f61497c4e941"
      },
      "outputs": [
        {
          "name": "stdout",
          "output_type": "stream",
          "text": [
            "['.ipynb_checkpoints', '.ipython', '.jupyter', '.matplotlib', '3D Objects', 'anaconda3', 'AppData', 'Application Data', 'Contacts', 'Cookies', 'Documents', 'Downloads', 'Dropbox', 'Favorites', 'Job_Title_Prediction.ipynb', 'Job_Title_Prediction_13000.ipynb', 'Links', 'Local Settings', 'Music', 'My Documents', 'NetHood', 'NTUSER.DAT', 'ntuser.dat.LOG1', 'ntuser.dat.LOG2', 'NTUSER.DAT{53b39e87-18c4-11ea-a811-000d3aa4692b}.TxR.0.regtrans-ms', 'NTUSER.DAT{53b39e87-18c4-11ea-a811-000d3aa4692b}.TxR.1.regtrans-ms', 'NTUSER.DAT{53b39e87-18c4-11ea-a811-000d3aa4692b}.TxR.2.regtrans-ms', 'NTUSER.DAT{53b39e87-18c4-11ea-a811-000d3aa4692b}.TxR.blf', 'NTUSER.DAT{53b39e88-18c4-11ea-a811-000d3aa4692b}.TM.blf', 'NTUSER.DAT{53b39e88-18c4-11ea-a811-000d3aa4692b}.TMContainer00000000000000000001.regtrans-ms', 'NTUSER.DAT{53b39e88-18c4-11ea-a811-000d3aa4692b}.TMContainer00000000000000000002.regtrans-ms', 'ntuser.ini', 'OneDrive', 'predictions.csv', 'predictions1.csv', 'predictions2.csv', 'predictions3.csv', 'predictions_final.csv', 'PrintHood', 'Recent', 'Saved Games', 'Searches', 'SendTo', 'Start Menu', 'Templates', 'test.csv', 'Tracing', 'train.csv', 'Videos']\n"
          ]
        }
      ],
      "source": [
        "import os\n",
        "print(os.listdir(\"./\"))\n",
        "\n",
        "import pandas as pd\n",
        "import numpy as np\n",
        "from scipy.stats import randint\n",
        "import matplotlib.pyplot as plt\n",
        "import seaborn as sns\n",
        "from io import StringIO\n",
        "import string\n",
        "import nltk\n",
        "from nltk.corpus import stopwords\n",
        "from nltk.stem.porter import PorterStemmer\n",
        "from nltk.stem import WordNetLemmatizer\n",
        "from sklearn.feature_extraction.text import TfidfVectorizer\n",
        "from sklearn.feature_selection import chi2\n",
        "from IPython.display import display\n",
        "from sklearn.model_selection import train_test_split\n",
        "from sklearn.feature_extraction.text import TfidfTransformer\n",
        "from sklearn.naive_bayes import MultinomialNB\n",
        "from sklearn.linear_model import LogisticRegression\n",
        "from sklearn.ensemble import RandomForestClassifier\n",
        "from sklearn.svm import LinearSVC\n",
        "from sklearn.model_selection import cross_val_score\n",
        "from sklearn.metrics import confusion_matrix\n",
        "from sklearn import metrics"
      ]
    },
    {
      "cell_type": "code",
      "execution_count": null,
      "id": "0ef48701",
      "metadata": {
        "id": "0ef48701",
        "outputId": "3b321c26-5cd3-4c6c-e0bd-27b4b88453d2"
      },
      "outputs": [
        {
          "data": {
            "text/html": [
              "<div>\n",
              "<style scoped>\n",
              "    .dataframe tbody tr th:only-of-type {\n",
              "        vertical-align: middle;\n",
              "    }\n",
              "\n",
              "    .dataframe tbody tr th {\n",
              "        vertical-align: top;\n",
              "    }\n",
              "\n",
              "    .dataframe thead th {\n",
              "        text-align: right;\n",
              "    }\n",
              "</style>\n",
              "<table border=\"1\" class=\"dataframe\">\n",
              "  <thead>\n",
              "    <tr style=\"text-align: right;\">\n",
              "      <th></th>\n",
              "      <th>Job ID</th>\n",
              "      <th>Job Description</th>\n",
              "      <th>Title</th>\n",
              "    </tr>\n",
              "  </thead>\n",
              "  <tbody>\n",
              "    <tr>\n",
              "      <th>0</th>\n",
              "      <td>JOB0002000</td>\n",
              "      <td>Description   Are you interested in the opport...</td>\n",
              "      <td>HAI Prevention Data Analyst</td>\n",
              "    </tr>\n",
              "    <tr>\n",
              "      <th>1</th>\n",
              "      <td>JOB0002001</td>\n",
              "      <td>Instructional Designer needed for a contract o...</td>\n",
              "      <td>Instructional Designer</td>\n",
              "    </tr>\n",
              "    <tr>\n",
              "      <th>2</th>\n",
              "      <td>JOB0002002</td>\n",
              "      <td>Faith Church Office ManagerPosition Focus Shee...</td>\n",
              "      <td>Office Manager</td>\n",
              "    </tr>\n",
              "    <tr>\n",
              "      <th>3</th>\n",
              "      <td>JOB0002003</td>\n",
              "      <td>NO C2C FOR THIS REQUIREMENT Our LARGE and stab...</td>\n",
              "      <td>ETL Developer</td>\n",
              "    </tr>\n",
              "    <tr>\n",
              "      <th>4</th>\n",
              "      <td>JOB0002004</td>\n",
              "      <td>Event Promotions: Marketing / Advertising / Pu...</td>\n",
              "      <td>Event Promotions: Marketing / Advertising / Pu...</td>\n",
              "    </tr>\n",
              "  </tbody>\n",
              "</table>\n",
              "</div>"
            ],
            "text/plain": [
              "       Job ID                                    Job Description  \\\n",
              "0  JOB0002000  Description   Are you interested in the opport...   \n",
              "1  JOB0002001  Instructional Designer needed for a contract o...   \n",
              "2  JOB0002002  Faith Church Office ManagerPosition Focus Shee...   \n",
              "3  JOB0002003  NO C2C FOR THIS REQUIREMENT Our LARGE and stab...   \n",
              "4  JOB0002004  Event Promotions: Marketing / Advertising / Pu...   \n",
              "\n",
              "                                               Title  \n",
              "0                        HAI Prevention Data Analyst  \n",
              "1                             Instructional Designer  \n",
              "2                                     Office Manager  \n",
              "3                                      ETL Developer  \n",
              "4  Event Promotions: Marketing / Advertising / Pu...  "
            ]
          },
          "execution_count": 2,
          "metadata": {},
          "output_type": "execute_result"
        }
      ],
      "source": [
        "df = pd.read_csv('train.csv')\n",
        "df.dropna()\n",
        "df.head()"
      ]
    },
    {
      "cell_type": "code",
      "execution_count": null,
      "id": "3d38f18d",
      "metadata": {
        "id": "3d38f18d",
        "outputId": "d79a4255-2ae5-41e8-b7d9-6adada2e1fff"
      },
      "outputs": [
        {
          "data": {
            "text/html": [
              "<div>\n",
              "<style scoped>\n",
              "    .dataframe tbody tr th:only-of-type {\n",
              "        vertical-align: middle;\n",
              "    }\n",
              "\n",
              "    .dataframe tbody tr th {\n",
              "        vertical-align: top;\n",
              "    }\n",
              "\n",
              "    .dataframe thead th {\n",
              "        text-align: right;\n",
              "    }\n",
              "</style>\n",
              "<table border=\"1\" class=\"dataframe\">\n",
              "  <thead>\n",
              "    <tr style=\"text-align: right;\">\n",
              "      <th></th>\n",
              "      <th>Job ID</th>\n",
              "      <th>Job Description</th>\n",
              "      <th>Title</th>\n",
              "    </tr>\n",
              "  </thead>\n",
              "  <tbody>\n",
              "    <tr>\n",
              "      <th>0</th>\n",
              "      <td>JOB0000</td>\n",
              "      <td>TeamSoft is seeing an IT Support Specialist to...</td>\n",
              "      <td>NaN</td>\n",
              "    </tr>\n",
              "    <tr>\n",
              "      <th>1</th>\n",
              "      <td>JOB0001</td>\n",
              "      <td>The Wisconsin State Journal is seeking a flexi...</td>\n",
              "      <td>NaN</td>\n",
              "    </tr>\n",
              "    <tr>\n",
              "      <th>2</th>\n",
              "      <td>JOB0002</td>\n",
              "      <td>Report this job About the Job DePuy Synthes Co...</td>\n",
              "      <td>NaN</td>\n",
              "    </tr>\n",
              "    <tr>\n",
              "      <th>3</th>\n",
              "      <td>JOB0003</td>\n",
              "      <td>Why Join Altec? If you’re considering a career...</td>\n",
              "      <td>NaN</td>\n",
              "    </tr>\n",
              "    <tr>\n",
              "      <th>4</th>\n",
              "      <td>JOB0004</td>\n",
              "      <td>Position ID#  76162 # Positions  1 State  CT C...</td>\n",
              "      <td>NaN</td>\n",
              "    </tr>\n",
              "  </tbody>\n",
              "</table>\n",
              "</div>"
            ],
            "text/plain": [
              "    Job ID                                    Job Description  Title\n",
              "0  JOB0000  TeamSoft is seeing an IT Support Specialist to...    NaN\n",
              "1  JOB0001  The Wisconsin State Journal is seeking a flexi...    NaN\n",
              "2  JOB0002  Report this job About the Job DePuy Synthes Co...    NaN\n",
              "3  JOB0003  Why Join Altec? If you’re considering a career...    NaN\n",
              "4  JOB0004  Position ID#  76162 # Positions  1 State  CT C...    NaN"
            ]
          },
          "execution_count": 3,
          "metadata": {},
          "output_type": "execute_result"
        }
      ],
      "source": [
        "test_df = pd.read_csv('test.csv')\n",
        "test_df.dropna()\n",
        "test_df.head()"
      ]
    },
    {
      "cell_type": "code",
      "execution_count": null,
      "id": "feac23d1",
      "metadata": {
        "id": "feac23d1",
        "outputId": "ba558206-9105-4371-f517-2c781fb6b3f6"
      },
      "outputs": [
        {
          "data": {
            "text/plain": [
              "(20000, 3)"
            ]
          },
          "execution_count": 4,
          "metadata": {},
          "output_type": "execute_result"
        }
      ],
      "source": [
        "df.shape\n"
      ]
    },
    {
      "cell_type": "code",
      "execution_count": null,
      "id": "af663eb5",
      "metadata": {
        "id": "af663eb5",
        "outputId": "8ad700d3-b9ab-4d04-f6c0-b1df5ba58178"
      },
      "outputs": [
        {
          "data": {
            "text/plain": [
              "(2000, 3)"
            ]
          },
          "execution_count": 5,
          "metadata": {},
          "output_type": "execute_result"
        }
      ],
      "source": [
        "test_df.shape"
      ]
    },
    {
      "cell_type": "code",
      "execution_count": null,
      "id": "3ee37dfc",
      "metadata": {
        "id": "3ee37dfc",
        "outputId": "6a5d7296-880f-4210-e650-4609e0826632"
      },
      "outputs": [
        {
          "data": {
            "text/html": [
              "<div>\n",
              "<style scoped>\n",
              "    .dataframe tbody tr th:only-of-type {\n",
              "        vertical-align: middle;\n",
              "    }\n",
              "\n",
              "    .dataframe tbody tr th {\n",
              "        vertical-align: top;\n",
              "    }\n",
              "\n",
              "    .dataframe thead th {\n",
              "        text-align: right;\n",
              "    }\n",
              "</style>\n",
              "<table border=\"1\" class=\"dataframe\">\n",
              "  <thead>\n",
              "    <tr style=\"text-align: right;\">\n",
              "      <th></th>\n",
              "      <th>Job ID</th>\n",
              "      <th>Job Description</th>\n",
              "      <th>Title</th>\n",
              "    </tr>\n",
              "  </thead>\n",
              "  <tbody>\n",
              "    <tr>\n",
              "      <th>19995</th>\n",
              "      <td>JOB00021995</td>\n",
              "      <td>This is a major premier Cincinnati based finan...</td>\n",
              "      <td>Assistant Vice President</td>\n",
              "    </tr>\n",
              "    <tr>\n",
              "      <th>19996</th>\n",
              "      <td>JOB00021996</td>\n",
              "      <td>Luxury homebuilder in Cincinnati seeking multi...</td>\n",
              "      <td>Accountant</td>\n",
              "    </tr>\n",
              "    <tr>\n",
              "      <th>19997</th>\n",
              "      <td>JOB00021997</td>\n",
              "      <td>RE: Adobe AEM-          Client -          Loca...</td>\n",
              "      <td>AEM/CQ developer</td>\n",
              "    </tr>\n",
              "    <tr>\n",
              "      <th>19998</th>\n",
              "      <td>JOB00021998</td>\n",
              "      <td>Jernberg Industries was established in 1937 an...</td>\n",
              "      <td>Electrician</td>\n",
              "    </tr>\n",
              "    <tr>\n",
              "      <th>19999</th>\n",
              "      <td>JOB00021999</td>\n",
              "      <td>Contract AdministratorCan you be the point per...</td>\n",
              "      <td>Contract Administrator</td>\n",
              "    </tr>\n",
              "  </tbody>\n",
              "</table>\n",
              "</div>"
            ],
            "text/plain": [
              "            Job ID                                    Job Description  \\\n",
              "19995  JOB00021995  This is a major premier Cincinnati based finan...   \n",
              "19996  JOB00021996  Luxury homebuilder in Cincinnati seeking multi...   \n",
              "19997  JOB00021997  RE: Adobe AEM-          Client -          Loca...   \n",
              "19998  JOB00021998  Jernberg Industries was established in 1937 an...   \n",
              "19999  JOB00021999  Contract AdministratorCan you be the point per...   \n",
              "\n",
              "                          Title  \n",
              "19995  Assistant Vice President  \n",
              "19996                Accountant  \n",
              "19997          AEM/CQ developer  \n",
              "19998               Electrician  \n",
              "19999    Contract Administrator  "
            ]
          },
          "execution_count": 6,
          "metadata": {},
          "output_type": "execute_result"
        }
      ],
      "source": [
        "df.tail()"
      ]
    },
    {
      "cell_type": "code",
      "execution_count": null,
      "id": "1cdd24a6",
      "metadata": {
        "id": "1cdd24a6",
        "outputId": "399ce376-f6a1-4669-f4ca-b0e69dea7dcd"
      },
      "outputs": [
        {
          "data": {
            "text/html": [
              "<div>\n",
              "<style scoped>\n",
              "    .dataframe tbody tr th:only-of-type {\n",
              "        vertical-align: middle;\n",
              "    }\n",
              "\n",
              "    .dataframe tbody tr th {\n",
              "        vertical-align: top;\n",
              "    }\n",
              "\n",
              "    .dataframe thead th {\n",
              "        text-align: right;\n",
              "    }\n",
              "</style>\n",
              "<table border=\"1\" class=\"dataframe\">\n",
              "  <thead>\n",
              "    <tr style=\"text-align: right;\">\n",
              "      <th></th>\n",
              "      <th>Job ID</th>\n",
              "      <th>Job Description</th>\n",
              "      <th>Title</th>\n",
              "    </tr>\n",
              "  </thead>\n",
              "  <tbody>\n",
              "    <tr>\n",
              "      <th>1995</th>\n",
              "      <td>JOB0001995</td>\n",
              "      <td>GENERAL DESCRIPTIONResponsible for ensuring th...</td>\n",
              "      <td>NaN</td>\n",
              "    </tr>\n",
              "    <tr>\n",
              "      <th>1996</th>\n",
              "      <td>JOB0001996</td>\n",
              "      <td>Job ID:  94448Non-Exempt  Oldcastle Precast i...</td>\n",
              "      <td>NaN</td>\n",
              "    </tr>\n",
              "    <tr>\n",
              "      <th>1997</th>\n",
              "      <td>JOB0001997</td>\n",
              "      <td>GENERAL DESCRIPTIONIs responsible for all phas...</td>\n",
              "      <td>NaN</td>\n",
              "    </tr>\n",
              "    <tr>\n",
              "      <th>1998</th>\n",
              "      <td>JOB0001998</td>\n",
              "      <td>Report this job About the Job Skilled Nursing ...</td>\n",
              "      <td>NaN</td>\n",
              "    </tr>\n",
              "    <tr>\n",
              "      <th>1999</th>\n",
              "      <td>JOB0001999</td>\n",
              "      <td>Job ID:  99428 Georgia Masonry Supply is a di...</td>\n",
              "      <td>NaN</td>\n",
              "    </tr>\n",
              "  </tbody>\n",
              "</table>\n",
              "</div>"
            ],
            "text/plain": [
              "          Job ID                                    Job Description  Title\n",
              "1995  JOB0001995  GENERAL DESCRIPTIONResponsible for ensuring th...    NaN\n",
              "1996  JOB0001996   Job ID:  94448Non-Exempt  Oldcastle Precast i...    NaN\n",
              "1997  JOB0001997  GENERAL DESCRIPTIONIs responsible for all phas...    NaN\n",
              "1998  JOB0001998  Report this job About the Job Skilled Nursing ...    NaN\n",
              "1999  JOB0001999   Job ID:  99428 Georgia Masonry Supply is a di...    NaN"
            ]
          },
          "execution_count": 7,
          "metadata": {},
          "output_type": "execute_result"
        }
      ],
      "source": [
        "test_df.tail()"
      ]
    },
    {
      "cell_type": "code",
      "execution_count": null,
      "id": "f1b137c7",
      "metadata": {
        "id": "f1b137c7",
        "outputId": "dcb140d6-66e2-46a8-d381-afeb869b58cb"
      },
      "outputs": [
        {
          "name": "stderr",
          "output_type": "stream",
          "text": [
            "[nltk_data] Downloading package wordnet to\n",
            "[nltk_data]     C:\\Users\\urmi8\\AppData\\Roaming\\nltk_data...\n",
            "[nltk_data]   Package wordnet is already up-to-date!\n",
            "[nltk_data] Downloading package stopwords to\n",
            "[nltk_data]     C:\\Users\\urmi8\\AppData\\Roaming\\nltk_data...\n",
            "[nltk_data]   Package stopwords is already up-to-date!\n"
          ]
        },
        {
          "data": {
            "text/plain": [
              "True"
            ]
          },
          "execution_count": 8,
          "metadata": {},
          "output_type": "execute_result"
        }
      ],
      "source": [
        "nltk.download('wordnet')\n",
        "nltk.download('stopwords')"
      ]
    },
    {
      "cell_type": "code",
      "execution_count": null,
      "id": "03ca4ce2",
      "metadata": {
        "id": "03ca4ce2"
      },
      "outputs": [],
      "source": [
        "#cleaning training dataset\n",
        "for i in range(len(df)):\n",
        "  df['Job Description'][i] = df['Job Description'][i].lower()\n",
        "  df['Job Description'][i]=\"\".join(char for char in df['Job Description'][i] if char not in string.punctuation)\n",
        "  ps = PorterStemmer()\n",
        "  wml = WordNetLemmatizer()\n",
        "  df['Job Description'][i]=ps.stem(df['Job Description'][i])\n",
        "  df['Job Description'][i]=wml.lemmatize(df['Job Description'][i])\n",
        "  df['Job Description'][i]=df['Job Description'][i].split()\n",
        "  filter_words = []\n",
        "  Stopwords = set(stopwords.words('english'))\n",
        "  for word in df['Job Description'][i]:\n",
        "    if word not in Stopwords:\n",
        "         filter_words.append(word)\n",
        "  df['Job Description'][i] = filter_words \n",
        "  df['Job Description'][i] = \" \".join(df['Job Description'][i])"
      ]
    },
    {
      "cell_type": "code",
      "execution_count": null,
      "id": "f14e275e",
      "metadata": {
        "id": "f14e275e",
        "outputId": "35650ff5-851d-4126-a5a6-e84e829884b2"
      },
      "outputs": [
        {
          "name": "stderr",
          "output_type": "stream",
          "text": [
            "C:\\Users\\urmi8\\AppData\\Local\\Temp/ipykernel_15888/3920492779.py:3: SettingWithCopyWarning: \n",
            "A value is trying to be set on a copy of a slice from a DataFrame\n",
            "\n",
            "See the caveats in the documentation: https://pandas.pydata.org/pandas-docs/stable/user_guide/indexing.html#returning-a-view-versus-a-copy\n",
            "  test_df['Job Description'][i] = test_df['Job Description'][i].lower()\n",
            "C:\\Users\\urmi8\\AppData\\Local\\Temp/ipykernel_15888/3920492779.py:4: SettingWithCopyWarning: \n",
            "A value is trying to be set on a copy of a slice from a DataFrame\n",
            "\n",
            "See the caveats in the documentation: https://pandas.pydata.org/pandas-docs/stable/user_guide/indexing.html#returning-a-view-versus-a-copy\n",
            "  test_df['Job Description'][i]=\"\".join(char for char in test_df['Job Description'][i] if char not in string.punctuation)\n",
            "C:\\Users\\urmi8\\AppData\\Local\\Temp/ipykernel_15888/3920492779.py:7: SettingWithCopyWarning: \n",
            "A value is trying to be set on a copy of a slice from a DataFrame\n",
            "\n",
            "See the caveats in the documentation: https://pandas.pydata.org/pandas-docs/stable/user_guide/indexing.html#returning-a-view-versus-a-copy\n",
            "  test_df['Job Description'][i]=ps.stem(test_df['Job Description'][i])\n",
            "C:\\Users\\urmi8\\AppData\\Local\\Temp/ipykernel_15888/3920492779.py:8: SettingWithCopyWarning: \n",
            "A value is trying to be set on a copy of a slice from a DataFrame\n",
            "\n",
            "See the caveats in the documentation: https://pandas.pydata.org/pandas-docs/stable/user_guide/indexing.html#returning-a-view-versus-a-copy\n",
            "  test_df['Job Description'][i]=wml.lemmatize(test_df['Job Description'][i])\n",
            "C:\\Users\\urmi8\\AppData\\Local\\Temp/ipykernel_15888/3920492779.py:9: SettingWithCopyWarning: \n",
            "A value is trying to be set on a copy of a slice from a DataFrame\n",
            "\n",
            "See the caveats in the documentation: https://pandas.pydata.org/pandas-docs/stable/user_guide/indexing.html#returning-a-view-versus-a-copy\n",
            "  test_df['Job Description'][i]=test_df['Job Description'][i].split()\n",
            "C:\\Users\\urmi8\\AppData\\Local\\Temp/ipykernel_15888/3920492779.py:15: SettingWithCopyWarning: \n",
            "A value is trying to be set on a copy of a slice from a DataFrame\n",
            "\n",
            "See the caveats in the documentation: https://pandas.pydata.org/pandas-docs/stable/user_guide/indexing.html#returning-a-view-versus-a-copy\n",
            "  test_df['Job Description'][i] = filter_words\n",
            "C:\\Users\\urmi8\\AppData\\Local\\Temp/ipykernel_15888/3920492779.py:16: SettingWithCopyWarning: \n",
            "A value is trying to be set on a copy of a slice from a DataFrame\n",
            "\n",
            "See the caveats in the documentation: https://pandas.pydata.org/pandas-docs/stable/user_guide/indexing.html#returning-a-view-versus-a-copy\n",
            "  test_df['Job Description'][i] = \" \".join(test_df['Job Description'][i])\n"
          ]
        }
      ],
      "source": [
        "#cleaning testing set\n",
        "for i in range(len(test_df)):\n",
        "  test_df['Job Description'][i] = test_df['Job Description'][i].lower()\n",
        "  test_df['Job Description'][i]=\"\".join(char for char in test_df['Job Description'][i] if char not in string.punctuation)\n",
        "  ps = PorterStemmer()\n",
        "  wml = WordNetLemmatizer()\n",
        "  test_df['Job Description'][i]=ps.stem(test_df['Job Description'][i])\n",
        "  test_df['Job Description'][i]=wml.lemmatize(test_df['Job Description'][i])\n",
        "  test_df['Job Description'][i]=test_df['Job Description'][i].split()\n",
        "  filter_words = []\n",
        "  Stopwords = set(stopwords.words('english'))\n",
        "  for word in test_df['Job Description'][i]:\n",
        "    if word not in Stopwords:\n",
        "         filter_words.append(word)\n",
        "  test_df['Job Description'][i] = filter_words\n",
        "  test_df['Job Description'][i] = \" \".join(test_df['Job Description'][i])"
      ]
    },
    {
      "cell_type": "code",
      "execution_count": null,
      "id": "41364598",
      "metadata": {
        "id": "41364598",
        "outputId": "7c01eb9c-448c-42ba-c834-80ebf2085241"
      },
      "outputs": [
        {
          "data": {
            "text/plain": [
              "'hai prevention data analyst'"
            ]
          },
          "execution_count": 11,
          "metadata": {},
          "output_type": "execute_result"
        }
      ],
      "source": [
        "df['Title'][0].lower()"
      ]
    },
    {
      "cell_type": "code",
      "execution_count": null,
      "id": "d5c73998",
      "metadata": {
        "id": "d5c73998"
      },
      "outputs": [],
      "source": [
        "#cleaning Response Variable i.e. Title for training data (lowercasing and removing punctuation)\n",
        "for i in range(len(df)):\n",
        "    df['Title'][i]=str(df['Title'][i]).lower()\n",
        "    df['Title'][i]=\"\".join(char for char in df['Title'][i] if char not in string.punctuation)"
      ]
    },
    {
      "cell_type": "code",
      "execution_count": null,
      "id": "13679a09",
      "metadata": {
        "id": "13679a09"
      },
      "outputs": [],
      "source": [
        "df = df[df.groupby('Title').Title.transform(len) > 1]"
      ]
    },
    {
      "cell_type": "code",
      "execution_count": null,
      "id": "b98dc12c",
      "metadata": {
        "id": "b98dc12c",
        "outputId": "55d54789-586b-458c-cc44-3a93f17ff04f"
      },
      "outputs": [
        {
          "data": {
            "text/plain": [
              "(11604, 3)"
            ]
          },
          "execution_count": 14,
          "metadata": {},
          "output_type": "execute_result"
        }
      ],
      "source": [
        "df.shape"
      ]
    },
    {
      "cell_type": "code",
      "execution_count": null,
      "id": "d3fb8a1f",
      "metadata": {
        "id": "d3fb8a1f",
        "outputId": "2617d1cf-81e0-4a35-95f3-a8b98e3e28ca"
      },
      "outputs": [
        {
          "data": {
            "text/plain": [
              "Index(['Job ID', 'Job Description', 'Title'], dtype='object')"
            ]
          },
          "execution_count": 15,
          "metadata": {},
          "output_type": "execute_result"
        }
      ],
      "source": [
        "df.columns"
      ]
    },
    {
      "cell_type": "code",
      "execution_count": null,
      "id": "4e5c14f2",
      "metadata": {
        "id": "4e5c14f2"
      },
      "outputs": [],
      "source": [
        "#observing the data and its class count\n",
        "temp_df=df.groupby('Title').count()"
      ]
    },
    {
      "cell_type": "code",
      "execution_count": null,
      "id": "fc98ed65",
      "metadata": {
        "id": "fc98ed65",
        "outputId": "64698c62-aca4-4c17-d36f-8ce9b86edfe1"
      },
      "outputs": [
        {
          "data": {
            "text/plain": [
              "Index(['Job ID', 'Job Description'], dtype='object')"
            ]
          },
          "execution_count": 17,
          "metadata": {},
          "output_type": "execute_result"
        }
      ],
      "source": [
        "temp_df.columns"
      ]
    },
    {
      "cell_type": "code",
      "execution_count": null,
      "id": "e5c7d6db",
      "metadata": {
        "id": "e5c7d6db",
        "outputId": "cbc598a7-01c6-4485-a6b6-0f0ec6be65ab"
      },
      "outputs": [
        {
          "data": {
            "text/plain": [
              "2143"
            ]
          },
          "execution_count": 18,
          "metadata": {},
          "output_type": "execute_result"
        }
      ],
      "source": [
        "temp_df.shape[0]"
      ]
    },
    {
      "cell_type": "code",
      "execution_count": null,
      "id": "08a65b08",
      "metadata": {
        "id": "08a65b08",
        "outputId": "d960398c-95cf-4f97-a4e0-1f4224e22fc7"
      },
      "outputs": [
        {
          "data": {
            "text/plain": [
              "2"
            ]
          },
          "execution_count": 19,
          "metadata": {},
          "output_type": "execute_result"
        }
      ],
      "source": [
        "temp_df['Job Description'].min()"
      ]
    },
    {
      "cell_type": "code",
      "execution_count": null,
      "id": "db19dbda",
      "metadata": {
        "id": "db19dbda",
        "outputId": "360641ae-faae-4a7f-ad32-305724297890"
      },
      "outputs": [
        {
          "data": {
            "text/plain": [
              "329"
            ]
          },
          "execution_count": 20,
          "metadata": {},
          "output_type": "execute_result"
        }
      ],
      "source": [
        "temp_df['Job Description'].max()"
      ]
    },
    {
      "cell_type": "code",
      "execution_count": null,
      "id": "c101668a",
      "metadata": {
        "id": "c101668a",
        "outputId": "51bcfedc-d1e9-4faf-d100-b37384b448ee"
      },
      "outputs": [
        {
          "name": "stdout",
          "output_type": "stream",
          "text": [
            "0\n",
            "1150\n",
            "339\n",
            "172\n",
            "100\n",
            "65\n",
            "50\n",
            "24\n",
            "24\n",
            "35\n",
            "21\n",
            "22\n",
            "10\n",
            "12\n",
            "9\n",
            "5\n",
            "6\n",
            "5\n",
            "8\n",
            "3\n",
            "7\n",
            "4\n",
            "1\n",
            "5\n",
            "1\n",
            "8\n",
            "4\n",
            "1\n",
            "4\n",
            "1\n",
            "4\n",
            "3\n",
            "2\n",
            "1\n",
            "2\n",
            "0\n",
            "1\n",
            "1\n",
            "0\n",
            "0\n",
            "1\n",
            "3\n",
            "0\n",
            "2\n",
            "1\n",
            "0\n",
            "2\n",
            "0\n",
            "0\n",
            "1\n",
            "1\n",
            "1\n",
            "0\n",
            "0\n",
            "1\n",
            "1\n",
            "1\n",
            "0\n",
            "1\n",
            "1\n",
            "1\n",
            "1\n",
            "0\n",
            "0\n",
            "0\n",
            "0\n",
            "0\n",
            "0\n",
            "1\n",
            "0\n",
            "0\n",
            "0\n",
            "1\n",
            "0\n",
            "0\n",
            "0\n",
            "1\n",
            "0\n",
            "0\n",
            "0\n",
            "1\n",
            "0\n",
            "0\n",
            "0\n",
            "0\n",
            "0\n",
            "1\n",
            "0\n",
            "0\n",
            "1\n",
            "0\n",
            "0\n",
            "0\n",
            "0\n",
            "0\n",
            "0\n",
            "0\n",
            "1\n",
            "1\n",
            "0\n",
            "1\n",
            "0\n",
            "0\n",
            "0\n",
            "0\n",
            "0\n",
            "0\n",
            "0\n",
            "0\n",
            "0\n",
            "0\n",
            "0\n",
            "0\n",
            "0\n",
            "0\n",
            "0\n",
            "0\n",
            "0\n",
            "0\n",
            "0\n",
            "0\n",
            "0\n",
            "1\n",
            "0\n",
            "0\n",
            "0\n",
            "0\n",
            "0\n",
            "0\n",
            "0\n",
            "0\n",
            "0\n",
            "0\n",
            "0\n",
            "0\n",
            "0\n",
            "0\n",
            "1\n",
            "0\n",
            "0\n",
            "0\n",
            "0\n",
            "0\n",
            "0\n",
            "0\n",
            "0\n",
            "0\n",
            "0\n",
            "0\n",
            "0\n",
            "0\n",
            "0\n",
            "0\n",
            "0\n",
            "0\n",
            "0\n",
            "0\n",
            "0\n",
            "0\n",
            "0\n",
            "0\n",
            "0\n",
            "0\n",
            "0\n",
            "0\n",
            "0\n",
            "0\n",
            "0\n",
            "0\n",
            "0\n",
            "0\n",
            "0\n",
            "0\n",
            "0\n",
            "0\n",
            "0\n",
            "0\n",
            "0\n",
            "0\n",
            "0\n",
            "0\n",
            "0\n",
            "0\n",
            "0\n",
            "0\n",
            "0\n",
            "0\n",
            "0\n",
            "0\n",
            "0\n",
            "0\n",
            "0\n",
            "0\n",
            "0\n",
            "0\n",
            "0\n",
            "0\n",
            "0\n",
            "0\n",
            "0\n",
            "0\n",
            "0\n",
            "0\n",
            "0\n",
            "0\n",
            "0\n",
            "0\n",
            "0\n",
            "0\n",
            "0\n",
            "0\n",
            "0\n",
            "0\n",
            "0\n",
            "0\n",
            "1\n",
            "0\n",
            "0\n",
            "0\n",
            "0\n",
            "0\n",
            "0\n",
            "0\n",
            "0\n",
            "0\n",
            "0\n",
            "0\n",
            "0\n",
            "0\n",
            "0\n",
            "0\n",
            "0\n",
            "0\n",
            "0\n",
            "0\n",
            "0\n",
            "0\n",
            "0\n",
            "0\n",
            "0\n",
            "0\n",
            "0\n",
            "0\n",
            "0\n",
            "0\n",
            "0\n",
            "0\n",
            "0\n",
            "0\n",
            "0\n",
            "0\n",
            "0\n",
            "0\n",
            "0\n",
            "0\n",
            "0\n",
            "0\n",
            "0\n",
            "0\n",
            "0\n",
            "0\n",
            "0\n",
            "0\n",
            "0\n",
            "0\n",
            "0\n",
            "0\n",
            "0\n",
            "0\n",
            "0\n",
            "0\n",
            "0\n",
            "0\n",
            "0\n",
            "0\n",
            "0\n",
            "0\n",
            "0\n",
            "0\n",
            "0\n",
            "0\n",
            "0\n",
            "0\n",
            "0\n",
            "0\n",
            "0\n",
            "0\n",
            "0\n",
            "0\n",
            "0\n",
            "0\n",
            "0\n",
            "1\n",
            "0\n",
            "0\n",
            "0\n",
            "0\n",
            "0\n",
            "0\n",
            "0\n",
            "0\n",
            "0\n",
            "0\n",
            "0\n",
            "0\n",
            "0\n",
            "0\n",
            "0\n",
            "0\n",
            "0\n",
            "0\n",
            "0\n",
            "0\n",
            "0\n",
            "0\n",
            "0\n",
            "0\n",
            "0\n",
            "0\n",
            "0\n",
            "0\n",
            "0\n",
            "0\n",
            "0\n",
            "0\n",
            "0\n",
            "0\n",
            "0\n",
            "1\n",
            "2143\n"
          ]
        }
      ],
      "source": [
        "count=0\n",
        "for i in range(1,330):\n",
        "    print(len(temp_df[temp_df['Job Description']==i]))\n",
        "    count+=len(temp_df[temp_df['Job Description']==i])\n",
        "print(count)"
      ]
    },
    {
      "cell_type": "code",
      "execution_count": null,
      "id": "96dd76b8",
      "metadata": {
        "id": "96dd76b8",
        "outputId": "71a1e67a-49d2-45d9-ea1f-f10634baa6d3"
      },
      "outputs": [
        {
          "data": {
            "text/plain": [
              "(11604, 2)"
            ]
          },
          "execution_count": 22,
          "metadata": {},
          "output_type": "execute_result"
        }
      ],
      "source": [
        "# Create a new dataframe with two columns\n",
        "df1 = df[['Job Description', 'Title']].copy()\n",
        "\n",
        "# Remove missing values (NaN)\n",
        "df1 = df1[pd.notnull(df1['Job Description'])]\n",
        "\n",
        "# Renaming job description column for a simpler name\n",
        "df1.columns = ['Job_Description', 'Title'] \n",
        "\n",
        "df1.shape"
      ]
    },
    {
      "cell_type": "code",
      "execution_count": null,
      "id": "9fdb89f3",
      "metadata": {
        "id": "9fdb89f3",
        "outputId": "ba662d85-7b4d-488b-8919-3a8ed5f07e7d"
      },
      "outputs": [
        {
          "data": {
            "text/plain": [
              "100.0"
            ]
          },
          "execution_count": 23,
          "metadata": {},
          "output_type": "execute_result"
        }
      ],
      "source": [
        "# Percentage of Job Description with text\n",
        "total = df1['Job_Description'].notnull().sum()\n",
        "round((total/len(df)*100),1)"
      ]
    },
    {
      "cell_type": "code",
      "execution_count": null,
      "id": "89275e6e",
      "metadata": {
        "id": "89275e6e",
        "outputId": "6839d062-790c-42cc-d142-1dddba2818f0"
      },
      "outputs": [
        {
          "data": {
            "text/plain": [
              "array([['instructional designer'],\n",
              "       ['office manager'],\n",
              "       ['event promotions marketing  advertising  public relations'],\n",
              "       ...,\n",
              "       ['infrastructure engineer'],\n",
              "       ['journeyman electrician'],\n",
              "       ['general manager of sales  marketing']], dtype=object)"
            ]
          },
          "execution_count": 24,
          "metadata": {},
          "output_type": "execute_result"
        }
      ],
      "source": [
        "pd.DataFrame(df.Title.unique()).values"
      ]
    },
    {
      "cell_type": "code",
      "execution_count": null,
      "id": "288dde37",
      "metadata": {
        "id": "288dde37",
        "outputId": "f51a6fc9-2331-41ab-aa50-f82ff9cc2665"
      },
      "outputs": [
        {
          "data": {
            "text/plain": [
              "2143"
            ]
          },
          "execution_count": 25,
          "metadata": {},
          "output_type": "execute_result"
        }
      ],
      "source": [
        "len(df.Title.unique())"
      ]
    },
    {
      "cell_type": "code",
      "execution_count": null,
      "id": "b3aebb4c",
      "metadata": {
        "id": "b3aebb4c"
      },
      "outputs": [],
      "source": [
        "df2 = df1.sample(11604, random_state=1).copy()\n"
      ]
    },
    {
      "cell_type": "code",
      "execution_count": null,
      "id": "007b55be",
      "metadata": {
        "id": "007b55be",
        "outputId": "83b10bdc-4ca0-4024-9211-38a50a4ab06a"
      },
      "outputs": [
        {
          "data": {
            "text/html": [
              "<div>\n",
              "<style scoped>\n",
              "    .dataframe tbody tr th:only-of-type {\n",
              "        vertical-align: middle;\n",
              "    }\n",
              "\n",
              "    .dataframe tbody tr th {\n",
              "        vertical-align: top;\n",
              "    }\n",
              "\n",
              "    .dataframe thead th {\n",
              "        text-align: right;\n",
              "    }\n",
              "</style>\n",
              "<table border=\"1\" class=\"dataframe\">\n",
              "  <thead>\n",
              "    <tr style=\"text-align: right;\">\n",
              "      <th></th>\n",
              "      <th>0</th>\n",
              "    </tr>\n",
              "  </thead>\n",
              "  <tbody>\n",
              "    <tr>\n",
              "      <th>0</th>\n",
              "      <td>activity coordinator</td>\n",
              "    </tr>\n",
              "    <tr>\n",
              "      <th>1</th>\n",
              "      <td>cybercoders job application for estimator</td>\n",
              "    </tr>\n",
              "    <tr>\n",
              "      <th>2</th>\n",
              "      <td>technical sales consultant</td>\n",
              "    </tr>\n",
              "    <tr>\n",
              "      <th>3</th>\n",
              "      <td>administrative assistant</td>\n",
              "    </tr>\n",
              "    <tr>\n",
              "      <th>4</th>\n",
              "      <td>monster</td>\n",
              "    </tr>\n",
              "    <tr>\n",
              "      <th>...</th>\n",
              "      <td>...</td>\n",
              "    </tr>\n",
              "    <tr>\n",
              "      <th>2138</th>\n",
              "      <td>baker</td>\n",
              "    </tr>\n",
              "    <tr>\n",
              "      <th>2139</th>\n",
              "      <td>sales  marketing  advertising</td>\n",
              "    </tr>\n",
              "    <tr>\n",
              "      <th>2140</th>\n",
              "      <td>mental health counselor</td>\n",
              "    </tr>\n",
              "    <tr>\n",
              "      <th>2141</th>\n",
              "      <td>telehealth nurse educator pst</td>\n",
              "    </tr>\n",
              "    <tr>\n",
              "      <th>2142</th>\n",
              "      <td>warehouse technician</td>\n",
              "    </tr>\n",
              "  </tbody>\n",
              "</table>\n",
              "<p>2143 rows × 1 columns</p>\n",
              "</div>"
            ],
            "text/plain": [
              "                                              0\n",
              "0                          activity coordinator\n",
              "1     cybercoders job application for estimator\n",
              "2                    technical sales consultant\n",
              "3                      administrative assistant\n",
              "4                                       monster\n",
              "...                                         ...\n",
              "2138                                      baker\n",
              "2139              sales  marketing  advertising\n",
              "2140                    mental health counselor\n",
              "2141              telehealth nurse educator pst\n",
              "2142                       warehouse technician\n",
              "\n",
              "[2143 rows x 1 columns]"
            ]
          },
          "execution_count": 27,
          "metadata": {},
          "output_type": "execute_result"
        }
      ],
      "source": [
        "pd.DataFrame(df2.Title.unique())"
      ]
    },
    {
      "cell_type": "code",
      "execution_count": null,
      "id": "2ec1df38",
      "metadata": {
        "id": "2ec1df38",
        "outputId": "934c0948-881f-464c-8218-05c98ae4a3e9"
      },
      "outputs": [
        {
          "data": {
            "text/html": [
              "<div>\n",
              "<style scoped>\n",
              "    .dataframe tbody tr th:only-of-type {\n",
              "        vertical-align: middle;\n",
              "    }\n",
              "\n",
              "    .dataframe tbody tr th {\n",
              "        vertical-align: top;\n",
              "    }\n",
              "\n",
              "    .dataframe thead th {\n",
              "        text-align: right;\n",
              "    }\n",
              "</style>\n",
              "<table border=\"1\" class=\"dataframe\">\n",
              "  <thead>\n",
              "    <tr style=\"text-align: right;\">\n",
              "      <th></th>\n",
              "      <th>Job_Description</th>\n",
              "      <th>Title</th>\n",
              "      <th>category_id</th>\n",
              "    </tr>\n",
              "  </thead>\n",
              "  <tbody>\n",
              "    <tr>\n",
              "      <th>8670</th>\n",
              "      <td>work environment management listens also cares...</td>\n",
              "      <td>activity coordinator</td>\n",
              "      <td>0</td>\n",
              "    </tr>\n",
              "    <tr>\n",
              "      <th>4240</th>\n",
              "      <td>report job job estimator experience please rea...</td>\n",
              "      <td>cybercoders job application for estimator</td>\n",
              "      <td>1</td>\n",
              "    </tr>\n",
              "    <tr>\n",
              "      <th>1986</th>\n",
              "      <td>big leagues att world leader communications bu...</td>\n",
              "      <td>technical sales consultant</td>\n",
              "      <td>2</td>\n",
              "    </tr>\n",
              "    <tr>\n",
              "      <th>6713</th>\n",
              "      <td>administrative assistantare motivated detail o...</td>\n",
              "      <td>administrative assistant</td>\n",
              "      <td>3</td>\n",
              "    </tr>\n",
              "    <tr>\n",
              "      <th>4942</th>\n",
              "      <td>industry financial information technologyjob t...</td>\n",
              "      <td>monster</td>\n",
              "      <td>4</td>\n",
              "    </tr>\n",
              "  </tbody>\n",
              "</table>\n",
              "</div>"
            ],
            "text/plain": [
              "                                        Job_Description  \\\n",
              "8670  work environment management listens also cares...   \n",
              "4240  report job job estimator experience please rea...   \n",
              "1986  big leagues att world leader communications bu...   \n",
              "6713  administrative assistantare motivated detail o...   \n",
              "4942  industry financial information technologyjob t...   \n",
              "\n",
              "                                          Title  category_id  \n",
              "8670                       activity coordinator            0  \n",
              "4240  cybercoders job application for estimator            1  \n",
              "1986                 technical sales consultant            2  \n",
              "6713                   administrative assistant            3  \n",
              "4942                                    monster            4  "
            ]
          },
          "execution_count": 28,
          "metadata": {},
          "output_type": "execute_result"
        }
      ],
      "source": [
        "# Create a new column 'category_id' with encoded categories \n",
        "df2['category_id'] = df2['Title'].factorize()[0]\n",
        "category_id_df = df2[['Title', 'category_id']].drop_duplicates()\n",
        "\n",
        "\n",
        "# Dictionaries for future use\n",
        "category_to_id = dict(category_id_df.values)\n",
        "id_to_category = dict(category_id_df[['category_id', 'Title']].values)\n",
        "\n",
        "# New dataframe head\n",
        "df2.head()"
      ]
    },
    {
      "cell_type": "code",
      "execution_count": null,
      "id": "3ec1dee7",
      "metadata": {
        "id": "3ec1dee7",
        "outputId": "960dc422-24f0-4f46-9d76-65c8b84ccc88"
      },
      "outputs": [
        {
          "data": {
            "text/html": [
              "<div>\n",
              "<style scoped>\n",
              "    .dataframe tbody tr th:only-of-type {\n",
              "        vertical-align: middle;\n",
              "    }\n",
              "\n",
              "    .dataframe tbody tr th {\n",
              "        vertical-align: top;\n",
              "    }\n",
              "\n",
              "    .dataframe thead th {\n",
              "        text-align: right;\n",
              "    }\n",
              "</style>\n",
              "<table border=\"1\" class=\"dataframe\">\n",
              "  <thead>\n",
              "    <tr style=\"text-align: right;\">\n",
              "      <th></th>\n",
              "      <th>Job_Description</th>\n",
              "      <th>Title</th>\n",
              "      <th>category_id</th>\n",
              "    </tr>\n",
              "  </thead>\n",
              "  <tbody>\n",
              "    <tr>\n",
              "      <th>13378</th>\n",
              "      <td>territory covers following areashyannis mashpe...</td>\n",
              "      <td>measure tech</td>\n",
              "      <td>422</td>\n",
              "    </tr>\n",
              "    <tr>\n",
              "      <th>18816</th>\n",
              "      <td>job descriptionthis administrative assistant p...</td>\n",
              "      <td>administrative assistant</td>\n",
              "      <td>3</td>\n",
              "    </tr>\n",
              "    <tr>\n",
              "      <th>1567</th>\n",
              "      <td>baart programs leader providing substance abus...</td>\n",
              "      <td>medical director</td>\n",
              "      <td>1406</td>\n",
              "    </tr>\n",
              "    <tr>\n",
              "      <th>8867</th>\n",
              "      <td>company information ever costco received free ...</td>\n",
              "      <td>recruiting coordinator</td>\n",
              "      <td>179</td>\n",
              "    </tr>\n",
              "    <tr>\n",
              "      <th>421</th>\n",
              "      <td>pae leading provider enduring support essentia...</td>\n",
              "      <td>hr business partner</td>\n",
              "      <td>632</td>\n",
              "    </tr>\n",
              "  </tbody>\n",
              "</table>\n",
              "</div>"
            ],
            "text/plain": [
              "                                         Job_Description  \\\n",
              "13378  territory covers following areashyannis mashpe...   \n",
              "18816  job descriptionthis administrative assistant p...   \n",
              "1567   baart programs leader providing substance abus...   \n",
              "8867   company information ever costco received free ...   \n",
              "421    pae leading provider enduring support essentia...   \n",
              "\n",
              "                          Title  category_id  \n",
              "13378              measure tech          422  \n",
              "18816  administrative assistant            3  \n",
              "1567           medical director         1406  \n",
              "8867     recruiting coordinator          179  \n",
              "421         hr business partner          632  "
            ]
          },
          "execution_count": 29,
          "metadata": {},
          "output_type": "execute_result"
        }
      ],
      "source": [
        "# New dataframe tail\n",
        "df2.tail()"
      ]
    },
    {
      "cell_type": "code",
      "execution_count": null,
      "id": "b7f1a125",
      "metadata": {
        "id": "b7f1a125",
        "outputId": "92a14b89-ade0-45ae-b738-b3fbaa6eaa55"
      },
      "outputs": [
        {
          "name": "stdout",
          "output_type": "stream",
          "text": [
            "Each of the 11604 job descriptions is represented by 96131 features (TF-IDF score of unigrams and bigrams)\n"
          ]
        }
      ],
      "source": [
        "tfidf = TfidfVectorizer(sublinear_tf=True, min_df=5,\n",
        "                        ngram_range=(1,2), \n",
        "                        stop_words='english')\n",
        "\n",
        "# We transform each Job Description into a vector\n",
        "features = tfidf.fit_transform(df2.Job_Description).toarray()\n",
        "\n",
        "labels = df2.category_id\n",
        "\n",
        "print(\"Each of the %d job descriptions is represented by %d features (TF-IDF score of unigrams and bigrams)\" %(features.shape))"
      ]
    },
    {
      "cell_type": "code",
      "execution_count": null,
      "id": "da8f0300",
      "metadata": {
        "id": "da8f0300",
        "outputId": "7b2d4a34-d675-4970-9317-79fba48f2613"
      },
      "outputs": [
        {
          "name": "stderr",
          "output_type": "stream",
          "text": [
            "C:\\Users\\urmi8\\anaconda3\\lib\\site-packages\\sklearn\\model_selection\\_split.py:666: UserWarning: The least populated class in y has only 2 members, which is less than n_splits=3.\n",
            "  warnings.warn((\"The least populated class in y has only %d\"\n"
          ]
        }
      ],
      "source": [
        "models = [\n",
        "    #RandomForestClassifier(n_estimators=100, max_depth=5, random_state=0),\n",
        "    LinearSVC(),\n",
        "    #MultinomialNB(),\n",
        "    #LogisticRegression(random_state=0),\n",
        "]\n",
        "\n",
        "# 3 Cross-validation\n",
        "CV = 3\n",
        "cv_df = pd.DataFrame(index=range(CV * len(models)))\n",
        "\n",
        "entries = []\n",
        "for model in models:\n",
        "  model_name = model.__class__.__name__\n",
        "  accuracies = cross_val_score(model, features, labels, scoring='accuracy', cv=CV)\n",
        "  for fold_idx, accuracy in enumerate(accuracies):\n",
        "    entries.append((model_name, fold_idx, accuracy))\n",
        "    \n",
        "cv_df = pd.DataFrame(entries, columns=['model_name', 'fold_idx', 'accuracy'])"
      ]
    },
    {
      "cell_type": "code",
      "execution_count": null,
      "id": "5777fe60",
      "metadata": {
        "id": "5777fe60"
      },
      "outputs": [],
      "source": [
        "mean_accuracy = cv_df.groupby('model_name').accuracy.mean()\n",
        "std_accuracy = cv_df.groupby('model_name').accuracy.std()\n",
        "\n",
        "acc = pd.concat([mean_accuracy, std_accuracy], axis= 1, \n",
        "          ignore_index=True)\n",
        "acc.columns = ['Mean Accuracy', 'Standard deviation']\n",
        "acc"
      ]
    },
    {
      "cell_type": "code",
      "execution_count": null,
      "id": "87db0bb2",
      "metadata": {
        "id": "87db0bb2"
      },
      "outputs": [],
      "source": [
        "X = df2['Job_Description'] # Collection of Job descriptions\n",
        "y = df2['Title'] # Target or the labels we want to predict"
      ]
    },
    {
      "cell_type": "code",
      "execution_count": null,
      "id": "3776bed0",
      "metadata": {
        "id": "3776bed0"
      },
      "outputs": [],
      "source": [
        "X_train, X_test, y_train, y_test = train_test_split(X, y, \n",
        "                                                    test_size=0.25,\n",
        "                                                    random_state = 0)\n",
        "\n",
        "tfidf = TfidfVectorizer(sublinear_tf=True, min_df=5,\n",
        "                        ngram_range=(1, 2), \n",
        "                        stop_words='english')\n",
        "\n",
        "fitted_vectorizer = tfidf.fit(X_train)\n",
        "tfidf_vectorizer_vectors = fitted_vectorizer.transform(X_train)\n",
        "\n",
        "model = LinearSVC().fit(tfidf_vectorizer_vectors, y_train)"
      ]
    },
    {
      "cell_type": "code",
      "execution_count": null,
      "id": "d23afbb7",
      "metadata": {
        "id": "d23afbb7"
      },
      "outputs": [],
      "source": [
        "predictions=[]\n",
        "for i in range(len(test_df)):\n",
        "  predictions.append(model.predict(fitted_vectorizer.transform([test_df['Job Description'][i]])))"
      ]
    },
    {
      "cell_type": "code",
      "execution_count": null,
      "id": "4c16c711",
      "metadata": {
        "id": "4c16c711",
        "outputId": "660afe40-4476-4a85-c5ed-6a7b96c684ae"
      },
      "outputs": [
        {
          "name": "stdout",
          "output_type": "stream",
          "text": [
            "[array(['project manager'], dtype=object), array(['now hiring'], dtype=object), array(['monster'], dtype=object), array(['mobile equipment mechanic'], dtype=object), array(['shift supervisor'], dtype=object), array(['tmobjp'], dtype=object), array(['software developer'], dtype=object), array(['administrative assistant'], dtype=object), array(['housekeeper'], dtype=object), array(['project manager'], dtype=object), array(['aflac insurance sales agent'], dtype=object), array(['sales associate'], dtype=object), array(['monster'], dtype=object), array(['executive director of program design'], dtype=object), array(['k'], dtype=object), array(['engineer ii'], dtype=object), array(['n horizontal construction engineers'], dtype=object), array(['pest control technician – field service rep entry level'],\n",
            "      dtype=object), array(['software engineer in test'], dtype=object), array(['electrical engineer'], dtype=object), array(['administrative assistant'], dtype=object), array(['lending compliance officer'], dtype=object), array(['b combat engineer'], dtype=object), array(['commercial construction estimator'], dtype=object), array(['project manager'], dtype=object), array(['mechanical engineer'], dtype=object), array(['att business sales leadership development program bilingual spanish'],\n",
            "      dtype=object), array(['traveling customer training professional'], dtype=object), array(['resident care specialist'], dtype=object), array(['project engineer'], dtype=object), array(['quality engineer'], dtype=object), array(['physical therapist'], dtype=object), array(['electrical engineer'], dtype=object), array(['tmobjp'], dtype=object), array(['program manager'], dtype=object), array(['program manager'], dtype=object), array(['environmental'], dtype=object), array(['quality engineer'], dtype=object), array(['internal auditor'], dtype=object), array(['software engineer'], dtype=object), array(['public relations assistant'], dtype=object), array(['monster'], dtype=object), array(['administrative assistant'], dtype=object), array(['surveyor'], dtype=object), array(['b combat engineer'], dtype=object), array(['operating room nurse manager'], dtype=object), array(['assistant project manager'], dtype=object), array(['project manager'], dtype=object), array(['accounts receivable specialist'], dtype=object), array(['monster'], dtype=object), array(['area manager'], dtype=object), array(['controls engineer'], dtype=object), array(['cryptologic linguist'], dtype=object), array(['senior software engineer'], dtype=object), array(['customer service representative'], dtype=object), array(['project manager'], dtype=object), array(['cashier'], dtype=object), array(['technical writer'], dtype=object), array(['account executive'], dtype=object), array(['legal secretary'], dtype=object), array(['director'], dtype=object), array(['restaurant general manager'], dtype=object), array(['project coordinator'], dtype=object), array(['tax accountant'], dtype=object), array(['account manager'], dtype=object), array(['senior associate'], dtype=object), array(['monster'], dtype=object), array(['intern'], dtype=object), array(['call center representative'], dtype=object), array(['receivingstock associate'], dtype=object), array(['construction project manager'], dtype=object), array(['controls engineer'], dtype=object), array(['associate scientist'], dtype=object), array(['quality engineer'], dtype=object), array(['project manager'], dtype=object), array(['project manager'], dtype=object), array(['monster'], dtype=object), array(['technical writer'], dtype=object), array(['engineer ii'], dtype=object), array(['construction superintendent'], dtype=object), array(['mechanical engineer'], dtype=object), array(['quality control tech'], dtype=object), array(['machinist'], dtype=object), array(['mechanical design engineer'], dtype=object), array(['ups otr cdl a tractortrailer truckload driver hazmat req dedicated'],\n",
            "      dtype=object), array(['cryptologic linguist'], dtype=object), array(['project engineer'], dtype=object), array(['associate editor'], dtype=object), array(['accounting manager'], dtype=object), array(['desktop support'], dtype=object), array(['administrative assistant'], dtype=object), array(['customer service representative'], dtype=object), array(['estimator'], dtype=object), array(['sr software engineer b'], dtype=object), array(['controls engineer'], dtype=object), array(['scrum master'], dtype=object), array(['financial advisor  financial sales representative'], dtype=object), array(['teller'], dtype=object), array(['linux systems administrator'], dtype=object), array(['monster'], dtype=object), array(['customer service representative'], dtype=object), array(['monster'], dtype=object), array(['customer service representative'], dtype=object), array(['licensed vocational nurse'], dtype=object), array(['n horizontal construction engineers'], dtype=object), array(['registered nurse'], dtype=object), array(['legal secretary'], dtype=object), array(['business analyst'], dtype=object), array(['cryptologic linguist'], dtype=object), array(['project manager'], dtype=object), array(['paralegallegal assistant'], dtype=object), array(['project manager'], dtype=object), array(['customer service representative'], dtype=object), array(['radiation therapist'], dtype=object), array(['event promotions marketing  advertising  public relations'],\n",
            "      dtype=object), array(['registered nurse'], dtype=object), array(['service manager'], dtype=object), array(['electrical engineer'], dtype=object), array(['managing director'], dtype=object), array(['quality engineer'], dtype=object), array(['monster'], dtype=object), array(['maintenance technician'], dtype=object), array(['lead teacher'], dtype=object), array(['b combat engineer'], dtype=object), array(['construction project administrator'], dtype=object), array(['project coordinator'], dtype=object), array(['customer service representative'], dtype=object), array(['mechanical engineer'], dtype=object), array(['office services associate'], dtype=object), array(['monster'], dtype=object), array(['project manager'], dtype=object), array(['release coordinator'], dtype=object), array(['digital marketing manager'], dtype=object), array(['environmental technician cbpp'], dtype=object), array(['restaurant manager'], dtype=object), array(['avionics mechanic'], dtype=object), array(['project engineer'], dtype=object), array(['project engineer'], dtype=object), array(['registered nurse'], dtype=object), array(['monster'], dtype=object), array(['senior security engineer'], dtype=object), array(['b combat engineer'], dtype=object), array(['entry level – sales management trainee'], dtype=object), array(['project engineer'], dtype=object), array(['online education designer'], dtype=object), array(['n horizontal construction engineers'], dtype=object), array(['business development manager'], dtype=object), array(['inventory analyst'], dtype=object), array(['senior attorney editor'], dtype=object), array(['administrative assistant'], dtype=object), array(['monster'], dtype=object), array(['bilingual newborn photographersales representative parttime'],\n",
            "      dtype=object), array(['business analyst'], dtype=object), array(['technical writer'], dtype=object), array(['administrative assistant'], dtype=object), array(['instructional designer'], dtype=object), array(['devops engineer'], dtype=object), array(['project manager'], dtype=object), array(['estimator'], dtype=object), array(['sql developer'], dtype=object), array(['cloud architect'], dtype=object), array(['account executive'], dtype=object), array(['project manager'], dtype=object), array(['quality engineer'], dtype=object), array(['associate programmer'], dtype=object), array(['enrollment agent i '], dtype=object), array(['loan servicing specialist '], dtype=object), array(['test engineer'], dtype=object), array(['operating room nurse manager'], dtype=object), array(['technical writer'], dtype=object), array(['construction superintendent'], dtype=object), array(['customer service representative'], dtype=object), array(['warehouse'], dtype=object), array(['field based rn case manager'], dtype=object), array(['n horizontal construction engineers'], dtype=object), array(['electrical engineer'], dtype=object), array(['estimator'], dtype=object), array(['monster'], dtype=object), array(['paralegal'], dtype=object), array(['quality manager'], dtype=object), array(['project engineer'], dtype=object), array(['environmental manager'], dtype=object), array(['construction superintendent'], dtype=object), array(['quality manager'], dtype=object), array(['monster'], dtype=object), array(['systems engineer'], dtype=object), array(['technical specialist'], dtype=object), array(['dental assistant'], dtype=object), array(['customer service representative'], dtype=object), array(['senior attorney editor'], dtype=object), array(['heavy civil estimator'], dtype=object), array(['ux researcher'], dtype=object), array(['project manager'], dtype=object), array(['software engineer in test'], dtype=object), array(['maintenance technician'], dtype=object), array(['b combat engineer'], dtype=object), array(['monster'], dtype=object), array(['monster'], dtype=object), array(['teller'], dtype=object), array(['director'], dtype=object), array(['manufacturing engineer'], dtype=object), array(['customer service representative'], dtype=object), array(['retail sales'], dtype=object), array(['maintenance technician'], dtype=object), array(['senior accountant'], dtype=object), array(['outside sales representative'], dtype=object), array(['devops engineer'], dtype=object), array(['executive assistant'], dtype=object), array(['machine operator'], dtype=object), array(['paralegal'], dtype=object), array(['monster'], dtype=object), array(['monster'], dtype=object), array(['associate'], dtype=object), array(['designer'], dtype=object), array(['administrative assistant'], dtype=object), array(['supplier quality engineer'], dtype=object), array(['assistant store manager'], dtype=object), array(['teller'], dtype=object), array(['document control specialist'], dtype=object), array(['territory sales account manager – outside sales'], dtype=object), array(['manufacturing engineer'], dtype=object), array(['sales agent'], dtype=object), array(['sql developer'], dtype=object), array(['project coordinator'], dtype=object), array(['manufacturing engineer'], dtype=object), array(['property manager'], dtype=object), array(['project engineer'], dtype=object), array(['sql dba'], dtype=object), array(['maintenance technician'], dtype=object), array(['housekeeper'], dtype=object), array(['sales associate'], dtype=object), array(['business analyst'], dtype=object), array(['account executive'], dtype=object), array(['mechanical engineer'], dtype=object), array(['digital marketing manager'], dtype=object), array(['director'], dtype=object), array(['registered nurse'], dtype=object), array(['manager'], dtype=object), array(['design engineer'], dtype=object), array(['mechanical engineer'], dtype=object), array(['cybercoders job application for tax manager'], dtype=object), array(['data entry clerk'], dtype=object), array(['cloud architect'], dtype=object), array(['lending compliance officer'], dtype=object), array(['senior financial analyst'], dtype=object), array(['it'], dtype=object), array(['project engineer'], dtype=object), array(['technical writer'], dtype=object), array(['senior associate'], dtype=object), array(['mechanical engineer'], dtype=object), array(['registered nurse rn'], dtype=object), array(['environmental technician cbpp'], dtype=object), array(['manager'], dtype=object), array(['project manager'], dtype=object), array(['field service technician'], dtype=object), array(['registered nurse rn'], dtype=object), array(['project manager'], dtype=object), array(['bi developer'], dtype=object), array(['shipping and receiving clerk'], dtype=object), array(['senior sourcing specialist'], dtype=object), array(['project manager'], dtype=object), array(['instructor'], dtype=object), array(['project manager'], dtype=object), array(['entry level truck driver trainee – earn your cdl – no experienced necessary'],\n",
            "      dtype=object), array(['entry level truck driver trainee – earn your cdl – no experienced necessary'],\n",
            "      dtype=object), array(['music instructor'], dtype=object), array(['project manager'], dtype=object), array(['buyer'], dtype=object), array(['desktop support'], dtype=object), array(['marketing communications specialist'], dtype=object), array(['unit manager rn'], dtype=object), array(['monster'], dtype=object), array(['enrollment agent i '], dtype=object), array(['personal care attendants'], dtype=object), array(['customer service representative'], dtype=object), array(['enrollment agent i '], dtype=object), array(['enrollment agent i '], dtype=object), array(['enrollment agent i '], dtype=object), array(['enrollment agent i '], dtype=object), array(['customer service representative'], dtype=object), array(['enrollment agent i '], dtype=object), array(['certified nursing assistant cna'], dtype=object), array(['marketing communications assistant'], dtype=object), array(['inside sales representative'], dtype=object), array(['monster'], dtype=object), array(['sales management trainee'], dtype=object), array(['social worker'], dtype=object), array(['contractor sales rep  d '], dtype=object), array(['sales associate'], dtype=object), array(['director of nursing'], dtype=object), array(['retail sales associate'], dtype=object), array(['sales – account executive – sales representative'], dtype=object), array(['u signal support systems specialist'], dtype=object), array(['security guard'], dtype=object), array(['c indirect fire infantryman'], dtype=object), array(['legal assistant'], dtype=object), array(['monster'], dtype=object), array(['manager'], dtype=object), array(['american income life job application for customer service associate needed before the new year  monstercom var monslogvars  jobid'],\n",
            "      dtype=object), array(['recruiter'], dtype=object), array(['pharmacy technician'], dtype=object), array(['pharmacy technician'], dtype=object), array(['seasonal holiday retail sales'], dtype=object), array(['please apply only if you are qualified'], dtype=object), array(['monster'], dtype=object), array(['please apply only if you are qualified'], dtype=object), array(['cryptologic linguist'], dtype=object), array(['please apply only if you are qualified'], dtype=object), array(['utility'], dtype=object), array(['sales agent'], dtype=object), array(['material handler'], dtype=object), array(['quality assurance manager'], dtype=object), array(['restaurant manager'], dtype=object), array(['b lightwheel vehicle mechanic'], dtype=object), array(['project coordinator'], dtype=object), array(['sales associate'], dtype=object), array(['auditor'], dtype=object), array(['sales professional'], dtype=object), array(['aflac insurance sales agent'], dtype=object), array(['dietary aide'], dtype=object), array(['monster'], dtype=object), array(['monster'], dtype=object), array(['instructor'], dtype=object), array(['director of nursing'], dtype=object), array(['tmobjp'], dtype=object), array(['monster'], dtype=object), array(['business analyst'], dtype=object), array(['manager'], dtype=object), array(['program manager'], dtype=object), array(['nurse practitioner'], dtype=object), array(['operations manager'], dtype=object), array(['financial analyst'], dtype=object), array(['marketing assistant'], dtype=object), array(['monster'], dtype=object), array(['general utility worker'], dtype=object), array(['family law paralegal'], dtype=object), array(['administrative assistant'], dtype=object), array(['monster'], dtype=object), array(['sales representative'], dtype=object), array(['project manager'], dtype=object), array(['sr product manager'], dtype=object), array(['account manager'], dtype=object), array(['dietary aide'], dtype=object), array(['staff accountant'], dtype=object), array(['marketing assistant'], dtype=object), array(['monster'], dtype=object), array(['retail reset merchandiser kroger part time'], dtype=object), array(['scrum master'], dtype=object), array(['monster'], dtype=object), array(['monster'], dtype=object), array(['accounts receivable  payroll'], dtype=object), array(['cook'], dtype=object), array(['java developer'], dtype=object), array(['monster'], dtype=object), array(['manager'], dtype=object), array(['commercial construction estimator'], dtype=object), array(['assistant restaurant manager'], dtype=object), array(['financial advisor'], dtype=object), array(['data entry clerk'], dtype=object), array(['bi reports developer ssrs'], dtype=object), array(['event specialist part time sales'], dtype=object), array(['phlebotomist'], dtype=object), array(['customer service  client relations associate'], dtype=object), array(['construction project manager'], dtype=object), array(['physical therapist'], dtype=object), array(['senior technical program manager'], dtype=object), array(['field service drivers'], dtype=object), array(['retail sales representative'], dtype=object), array(['route sales managerdistributor'], dtype=object), array(['java developer'], dtype=object), array(['monster'], dtype=object), array(['monster'], dtype=object), array(['entry level management'], dtype=object), array(['warehouse manager'], dtype=object), array(['inventory specialist'], dtype=object), array(['warehouse associate'], dtype=object), array(['safety manager'], dtype=object), array(['net developer'], dtype=object), array(['monster'], dtype=object), array(['monster'], dtype=object), array(['monster'], dtype=object), array(['recruiter'], dtype=object), array(['monster'], dtype=object), array(['lead teacher'], dtype=object), array(['hosthostess'], dtype=object), array(['administrative assistant'], dtype=object), array(['staff accountant'], dtype=object), array(['aflac insurance sales agent'], dtype=object), array(['financial analyst'], dtype=object), array(['production manager'], dtype=object), array(['monster'], dtype=object), array(['monster'], dtype=object), array(['please apply only if you are qualified'], dtype=object), array(['forklift operator'], dtype=object), array(['crisis masters clinical counselor residential'], dtype=object), array(['alterations specialist parttime'], dtype=object), array(['event specialist part time sales'], dtype=object), array(['staff accountant'], dtype=object), array(['financial professional associate'], dtype=object), array(['administrative assistant'], dtype=object), array(['cook'], dtype=object), array(['accounts payable specialist'], dtype=object), array(['cook'], dtype=object), array(['executive chef'], dtype=object), array(['accounting manager'], dtype=object), array(['accounts receivable specialist'], dtype=object), array(['assistant restaurant manager'], dtype=object), array(['food service lead worker'], dtype=object), array(['senior accountant'], dtype=object), array(['technical account manager'], dtype=object), array(['west central delivery lead'], dtype=object), array(['accounts payable specialist'], dtype=object), array(['lead quality analyst'], dtype=object), array(['marketing assistant'], dtype=object), array(['cook'], dtype=object), array(['grill cook'], dtype=object), array(['restaurant manager'], dtype=object), array(['patient registration specialist nd shift'], dtype=object), array(['west central delivery lead'], dtype=object), array(['monster'], dtype=object), array(['business development rep  bb sales  outside sales'], dtype=object), array(['financial professional associate'], dtype=object), array(['senior internal auditor'], dtype=object), array(['controller'], dtype=object), array(['counsel'], dtype=object), array(['senior tax analyst'], dtype=object), array(['accounts payable clerk'], dtype=object), array(['senior accountant'], dtype=object), array(['entry level accountant'], dtype=object), array(['staff accountant'], dtype=object), array(['accounts receivable specialist'], dtype=object), array(['general utility worker'], dtype=object), array(['security officer'], dtype=object), array(['security officer'], dtype=object), array(['security officer'], dtype=object), array(['account manager'], dtype=object), array(['security officer'], dtype=object), array(['monster'], dtype=object), array(['security officer'], dtype=object), array(['security officer'], dtype=object), array(['security officer'], dtype=object), array(['security officer'], dtype=object), array(['monster'], dtype=object), array(['project coordinator'], dtype=object), array(['security officer'], dtype=object), array(['controls engineer'], dtype=object), array(['security officer'], dtype=object), array(['security officer'], dtype=object), array(['project manager'], dtype=object), array(['security officer'], dtype=object), array(['sales associate'], dtype=object), array(['business analyst'], dtype=object), array(['security officer'], dtype=object), array(['security officer'], dtype=object), array(['security officer'], dtype=object), array(['security guard'], dtype=object), array(['lpn'], dtype=object), array(['security officer'], dtype=object), array(['restaurant manager'], dtype=object), array(['security officer'], dtype=object), array(['security officer'], dtype=object), array(['security officer'], dtype=object), array(['security officer'], dtype=object), array(['promotional advertising assistant'], dtype=object), array(['program manager'], dtype=object), array(['security officer'], dtype=object), array(['assistant manager'], dtype=object), array(['security officer'], dtype=object), array(['security officer'], dtype=object), array(['security officer'], dtype=object), array(['security officer'], dtype=object), array(['security guard'], dtype=object), array(['security guard'], dtype=object), array(['police officer'], dtype=object), array(['cosmetic counter manager'], dtype=object), array(['security officer'], dtype=object), array(['restaurant manager'], dtype=object), array(['security officer'], dtype=object), array(['human resources manager'], dtype=object), array(['security officer'], dtype=object), array(['retail sales'], dtype=object), array(['security officer'], dtype=object), array(['security officer'], dtype=object), array(['security officer'], dtype=object), array(['security officer'], dtype=object), array(['security officer'], dtype=object), array(['senior software engineer'], dtype=object), array(['security officer'], dtype=object), array(['security officer'], dtype=object), array(['truck driver'], dtype=object), array(['security officer'], dtype=object), array(['security officer'], dtype=object), array(['security officer'], dtype=object), array(['hvac installer'], dtype=object), array(['sr java developer'], dtype=object), array(['general manager'], dtype=object), array(['security guard'], dtype=object), array(['police officer'], dtype=object), array(['security officer'], dtype=object), array(['janitorial  maintenance'], dtype=object), array(['security officer'], dtype=object), array(['security officer'], dtype=object), array(['security officer'], dtype=object), array(['security officer'], dtype=object), array(['security officer'], dtype=object), array(['security officer'], dtype=object), array(['monster'], dtype=object), array(['security officer'], dtype=object), array(['monster'], dtype=object), array(['security officer'], dtype=object), array(['security officer'], dtype=object), array(['security officer'], dtype=object), array(['security officer'], dtype=object), array(['program manager'], dtype=object), array(['security officer'], dtype=object), array(['security officer'], dtype=object), array(['retail sales'], dtype=object), array(['monster'], dtype=object), array(['security officer'], dtype=object), array(['security officer'], dtype=object), array(['security officer'], dtype=object), array(['security officer'], dtype=object), array(['security officer'], dtype=object), array(['monster'], dtype=object), array(['security officer'], dtype=object), array(['program manager'], dtype=object), array(['security officer'], dtype=object), array(['security officer'], dtype=object), array(['police officer'], dtype=object), array(['security officer'], dtype=object), array(['quality inspector'], dtype=object), array(['security officer'], dtype=object), array(['security officer'], dtype=object), array(['security officer'], dtype=object), array(['security officer'], dtype=object), array(['security officer'], dtype=object), array(['ge aviation job application for warehouse workers'], dtype=object), array(['security officer'], dtype=object), array(['security officer'], dtype=object), array(['monster'], dtype=object), array(['security officer'], dtype=object), array(['restaurant general manager'], dtype=object), array(['sales associate'], dtype=object), array(['field service technician'], dtype=object), array(['security officer'], dtype=object), array(['security officer'], dtype=object), array(['security officer'], dtype=object), array(['restaurant manager'], dtype=object), array(['recruiter'], dtype=object), array(['security officer'], dtype=object), array(['concierge'], dtype=object), array(['senior security engineer'], dtype=object), array(['security guard'], dtype=object), array(['material handler'], dtype=object), array(['security officer'], dtype=object), array(['security officer'], dtype=object), array(['security officer'], dtype=object), array(['security officer'], dtype=object), array(['monster'], dtype=object), array(['security officer'], dtype=object), array(['security officer'], dtype=object), array(['security officer'], dtype=object), array(['security officer'], dtype=object), array(['security officer'], dtype=object), array(['security officer'], dtype=object), array(['security officer'], dtype=object), array(['security officer'], dtype=object), array(['security officer'], dtype=object), array(['monster'], dtype=object), array(['security officer'], dtype=object), array(['security officer'], dtype=object), array(['asset protection  loss prevention detective'], dtype=object), array(['security officer'], dtype=object), array(['security officer'], dtype=object), array(['monster'], dtype=object), array(['security officer'], dtype=object), array(['security officer'], dtype=object), array(['quality inspector'], dtype=object), array(['gear forge press operator'], dtype=object), array(['security officer'], dtype=object), array(['tree and shrub specialist'], dtype=object), array(['paralegal iii'], dtype=object), array(['real estate sales'], dtype=object), array(['quality engineer'], dtype=object), array(['security officer'], dtype=object), array(['security officer'], dtype=object), array(['staffing consultant'], dtype=object), array(['sales associate'], dtype=object), array(['security officer'], dtype=object), array(['field service technician'], dtype=object), array(['teller'], dtype=object), array(['enrollment agent i '], dtype=object), array(['project coordinator'], dtype=object), array(['security officer'], dtype=object), array(['security officer'], dtype=object), array(['police officer'], dtype=object), array(['security officer'], dtype=object), array(['security guard'], dtype=object), array(['account executive'], dtype=object), array(['security officer'], dtype=object), array(['monster'], dtype=object), array(['senior network engineer'], dtype=object), array(['job fair'], dtype=object), array(['project engineer'], dtype=object), array(['inspector'], dtype=object), array(['security officer'], dtype=object), array(['security officer'], dtype=object), array(['security officer'], dtype=object), array(['security guard'], dtype=object), array(['security officer'], dtype=object), array(['monster'], dtype=object), array(['cosmetic counter manager'], dtype=object), array(['monster'], dtype=object), array(['police officer'], dtype=object), array(['sales representative'], dtype=object), array(['payroll supervisor'], dtype=object), array(['receptionist'], dtype=object), array(['customer service representative'], dtype=object), array(['security officer'], dtype=object), array(['monster'], dtype=object), array(['monster'], dtype=object), array(['security officer'], dtype=object), array(['collections specialist'], dtype=object), array(['teller'], dtype=object), array(['cloud engineer'], dtype=object), array(['security officer'], dtype=object), array(['account executive'], dtype=object), array(['security officer'], dtype=object), array(['executive assistant'], dtype=object), array(['security officer'], dtype=object), array(['monster'], dtype=object), array(['maintenance technician'], dtype=object), array(['customer service representative'], dtype=object), array(['restaurant manager'], dtype=object), array(['project manager'], dtype=object), array(['maintenance technician'], dtype=object), array(['construction supervisor'], dtype=object), array(['field sales supervisor'], dtype=object), array(['rn'], dtype=object), array(['operating room nurse manager'], dtype=object), array(['security officer'], dtype=object), array(['monster'], dtype=object), array(['security officer'], dtype=object), array(['project manager i'], dtype=object), array(['security officer'], dtype=object), array(['police officer'], dtype=object), array(['territory manager'], dtype=object), array(['quality control inspector'], dtype=object), array(['security guard'], dtype=object), array(['real estate sales associate  sales representative'], dtype=object), array(['security officer'], dtype=object), array(['security officer'], dtype=object), array(['monster'], dtype=object), array(['security officer'], dtype=object), array(['forensic case file manager'], dtype=object), array(['project manager'], dtype=object), array(['security officer'], dtype=object), array(['test engineer'], dtype=object), array(['maintenance technician'], dtype=object), array(['truck driver'], dtype=object), array(['recruiter'], dtype=object), array(['equipment associate'], dtype=object), array(['account manager'], dtype=object), array(['security officer'], dtype=object), array(['security officer'], dtype=object), array(['monster'], dtype=object), array(['teller'], dtype=object), array(['data entry clerk'], dtype=object), array(['police officer'], dtype=object), array(['security officer'], dtype=object), array(['monster'], dtype=object), array(['promotional marketing  advertising representative'], dtype=object), array(['security officer'], dtype=object), array(['program manager'], dtype=object), array(['security officer'], dtype=object), array(['monster'], dtype=object), array(['b military police'], dtype=object), array(['manager'], dtype=object), array(['security officer'], dtype=object), array(['licensed practical nurse lpn'], dtype=object), array(['diesel mechanic'], dtype=object), array(['voice engineer'], dtype=object), array(['security officer'], dtype=object), array(['security officer'], dtype=object), array(['manufacturing – change career to'], dtype=object), array(['truck driver'], dtype=object), array(['experienced cnc operator'], dtype=object), array(['business analyst'], dtype=object), array(['java developer'], dtype=object), array(['security guard'], dtype=object), array(['restaurant general manager'], dtype=object), array(['medical insurance verification specialist'], dtype=object), array(['security officer'], dtype=object), array(['office services associate'], dtype=object), array(['supervisor'], dtype=object), array(['landscaper'], dtype=object), array(['security officer'], dtype=object), array(['security officer'], dtype=object), array(['security officer'], dtype=object), array(['security officer'], dtype=object), array(['security officer'], dtype=object), array(['restaurant manager'], dtype=object), array(['security officer'], dtype=object), array(['security officer'], dtype=object), array(['automotive service technician'], dtype=object), array(['graphic designer'], dtype=object), array(['business development manager'], dtype=object), array(['security officer'], dtype=object), array(['project manager'], dtype=object), array(['security officer'], dtype=object), array(['accountant'], dtype=object), array(['security officer'], dtype=object), array(['security officer'], dtype=object), array(['security officer'], dtype=object), array(['account manager'], dtype=object), array(['recruiter'], dtype=object), array(['case manager'], dtype=object), array(['qa engineer'], dtype=object), array(['security officer'], dtype=object), array(['security officer'], dtype=object), array(['senior accountant'], dtype=object), array(['security officer'], dtype=object), array(['manager'], dtype=object), array(['security officer'], dtype=object), array(['database administrator'], dtype=object), array(['assemblers'], dtype=object), array(['security officer'], dtype=object), array(['quality inspector'], dtype=object), array(['security guard'], dtype=object), array(['security officer'], dtype=object), array(['monster'], dtype=object), array(['monster'], dtype=object), array(['monster'], dtype=object), array(['release coordinator'], dtype=object), array(['performance engineer'], dtype=object), array(['experienced cdla driver needed in california'], dtype=object), array(['cashier'], dtype=object), array(['accounts payable specialist'], dtype=object), array(['security officer'], dtype=object), array(['security officer'], dtype=object), array(['security officer'], dtype=object), array(['teller'], dtype=object), array(['sales associate'], dtype=object), array(['gear forge press operator'], dtype=object), array(['monster'], dtype=object), array(['security officer'], dtype=object), array(['registered nurse rn'], dtype=object), array(['lvn'], dtype=object), array(['sr net developer'], dtype=object), array(['security officer'], dtype=object), array(['general labor'], dtype=object), array(['security officer'], dtype=object), array(['monster'], dtype=object), array(['recruiter'], dtype=object), array(['outside sales – account executive'], dtype=object), array(['security officer'], dtype=object), array(['security officer'], dtype=object), array(['project manager'], dtype=object), array(['asset protection  loss prevention detective'], dtype=object), array(['security officer'], dtype=object), array(['security officer'], dtype=object), array(['disability representative sr'], dtype=object), array(['compliance specialist'], dtype=object), array(['monster'], dtype=object), array(['security officer'], dtype=object), array(['customer service representative'], dtype=object), array(['senior security engineer'], dtype=object), array(['physical therapist'], dtype=object), array(['tmobjp'], dtype=object), array(['security officer'], dtype=object), array(['sap business intelligence manager'], dtype=object), array(['security officer'], dtype=object), array(['security guard'], dtype=object), array(['lead'], dtype=object), array(['manager'], dtype=object), array(['teller'], dtype=object), array(['manager'], dtype=object), array(['project manager'], dtype=object), array(['monster'], dtype=object), array(['monster'], dtype=object), array(['security officer'], dtype=object), array(['licensed practical nurse lpn'], dtype=object), array(['controller'], dtype=object), array(['monster'], dtype=object), array(['administrative assistant'], dtype=object), array(['case manager'], dtype=object), array(['field based rn case manager'], dtype=object), array(['security officer'], dtype=object), array(['security officer'], dtype=object), array(['teller'], dtype=object), array(['residential hvac installer'], dtype=object), array(['it'], dtype=object), array(['business analyst'], dtype=object), array(['quality engineermanufacturing process'], dtype=object), array(['human resources manager'], dtype=object), array([' chattanooga comanager'], dtype=object), array(['security officer'], dtype=object), array(['automotive technicians'], dtype=object), array(['project manager'], dtype=object), array(['sales associate'], dtype=object), array(['identity  access management engineer'], dtype=object), array(['security officer'], dtype=object), array(['security officer'], dtype=object), array(['financial analyst'], dtype=object), array(['php developer'], dtype=object), array(['teller'], dtype=object), array(['net developer'], dtype=object), array(['case manager'], dtype=object), array(['security officer'], dtype=object), array(['sr network engineer'], dtype=object), array(['java developer'], dtype=object), array(['project manager'], dtype=object), array(['registered nurse'], dtype=object), array(['monster'], dtype=object), array(['monster'], dtype=object), array(['construction project manager'], dtype=object), array(['security officer'], dtype=object), array(['program manager'], dtype=object), array(['security officer'], dtype=object), array(['physical therapist  pt'], dtype=object), array(['security officer'], dtype=object), array(['licensed practical nurse lpn'], dtype=object), array(['retail cosmetics sales'], dtype=object), array(['security officer'], dtype=object), array(['delivery driver'], dtype=object), array(['security officer'], dtype=object), array(['servers'], dtype=object), array(['project manager'], dtype=object), array(['accounting clerk'], dtype=object), array(['security officer'], dtype=object), array(['financial analyst'], dtype=object), array(['police officer'], dtype=object), array(['security officer'], dtype=object), array(['customer service representative'], dtype=object), array(['service coordinator'], dtype=object), array(['dock worker fulltime'], dtype=object), array(['receivingstock associate'], dtype=object), array(['help desk technician'], dtype=object), array(['general manager'], dtype=object), array(['security officer'], dtype=object), array(['net developer'], dtype=object), array(['business analyst'], dtype=object), array(['project manager'], dtype=object), array(['project manager'], dtype=object), array(['voice engineer'], dtype=object), array(['monster'], dtype=object), array(['assembler'], dtype=object), array(['sportsminded sales and marketing coordinator'], dtype=object), array(['alterations specialist parttime'], dtype=object), array(['senior network engineer'], dtype=object), array(['office services associate'], dtype=object), array(['monster'], dtype=object), array(['security officer'], dtype=object), array(['supplier quality engineer'], dtype=object), array(['customer service representative'], dtype=object), array(['systems administrator'], dtype=object), array(['security officer'], dtype=object), array(['sr network engineer'], dtype=object), array(['security officer'], dtype=object), array(['business analyst'], dtype=object), array(['account executive'], dtype=object), array(['operations manager'], dtype=object), array(['sales agent'], dtype=object), array(['software engineer'], dtype=object), array(['project manager'], dtype=object), array(['business analyst'], dtype=object), array(['security officer'], dtype=object), array(['project manager'], dtype=object), array(['project manager'], dtype=object), array(['paralegal iii'], dtype=object), array(['security officer'], dtype=object), array(['security officer'], dtype=object), array(['project manager'], dtype=object), array(['ge aviation job application for warehouse workers'], dtype=object), array(['help desk technician'], dtype=object), array(['senior software engineer'], dtype=object), array(['customer service representative'], dtype=object), array(['landscaper'], dtype=object), array(['senior accountant'], dtype=object), array(['monster'], dtype=object), array(['security officer'], dtype=object), array(['security officer'], dtype=object), array(['monster'], dtype=object), array(['security officer'], dtype=object), array(['retail cosmetics sales'], dtype=object), array(['security officer'], dtype=object), array(['public relations assistant'], dtype=object), array(['security officer'], dtype=object), array(['account manager'], dtype=object), array(['senior accountant'], dtype=object), array(['staffing consultant'], dtype=object), array(['security officer'], dtype=object), array(['security officer'], dtype=object), array(['security officer'], dtype=object), array(['promotional marketing  advertising representative'], dtype=object), array(['security officer'], dtype=object), array(['solutions architect'], dtype=object), array(['sales representative'], dtype=object), array(['quality manager'], dtype=object), array(['tooling engineer'], dtype=object), array(['security officer'], dtype=object), array(['police officer'], dtype=object), array(['restaurant manager'], dtype=object), array(['customer service representative'], dtype=object), array(['security officer'], dtype=object), array(['security officer'], dtype=object), array(['sr network engineer'], dtype=object), array(['security officer'], dtype=object), array(['senior accountant'], dtype=object), array(['security officer'], dtype=object), array(['manufacturing – change career to'], dtype=object), array(['security officer'], dtype=object), array(['security officer'], dtype=object), array(['shippingpacker'], dtype=object), array(['teller'], dtype=object), array(['teller'], dtype=object), array(['security officer'], dtype=object), array(['senior software engineer'], dtype=object), array(['security officer'], dtype=object), array(['help desk technician ii job in coppell'], dtype=object), array(['staff accountant'], dtype=object), array(['monster'], dtype=object), array(['police chief'], dtype=object), array(['teller'], dtype=object), array(['staff accountant'], dtype=object), array(['police chief'], dtype=object), array(['entry level sales account manager'], dtype=object), array(['project manager'], dtype=object), array(['service manager'], dtype=object), array(['manager'], dtype=object), array(['security officer'], dtype=object), array(['security officer'], dtype=object), array(['security officer'], dtype=object), array(['security officer'], dtype=object), array(['project manager'], dtype=object), array(['security officer'], dtype=object), array(['property manager'], dtype=object), array(['retail cosmetics sales'], dtype=object), array(['assistant manager'], dtype=object), array(['leasing consultant'], dtype=object), array(['security officer'], dtype=object), array(['security guard'], dtype=object), array(['maintenance mechanic'], dtype=object), array(['registered nurse rn'], dtype=object), array(['cyber security engineer'], dtype=object), array(['maintenance technician'], dtype=object), array(['registered nurse prn'], dtype=object), array(['accounting manager'], dtype=object), array(['security officer'], dtype=object), array(['asset protection  loss prevention detective'], dtype=object), array(['territory sales manager'], dtype=object), array(['sales associate'], dtype=object), array(['associate'], dtype=object), array(['security officer'], dtype=object), array(['security officer'], dtype=object), array(['monster'], dtype=object), array(['security officer'], dtype=object), array(['customer service representative'], dtype=object), array(['security officer'], dtype=object), array(['security officer'], dtype=object), array(['security officer'], dtype=object), array(['software engineer'], dtype=object), array(['sr net developer'], dtype=object), array(['teller'], dtype=object), array(['monster'], dtype=object), array(['project manager'], dtype=object), array(['security officer'], dtype=object), array(['truck driver'], dtype=object), array(['human resources manager'], dtype=object), array(['teller'], dtype=object), array(['monster'], dtype=object), array(['office administrator'], dtype=object), array(['paralegal iii'], dtype=object), array(['customer service representative'], dtype=object), array(['receptionist'], dtype=object), array(['director of nursing'], dtype=object), array(['project manager'], dtype=object), array(['security officer'], dtype=object), array(['retail sales'], dtype=object), array(['security officer'], dtype=object), array(['security officer'], dtype=object), array(['project engineer'], dtype=object), array(['housekeepersfront desk'], dtype=object), array(['regional sales manager'], dtype=object), array(['sales'], dtype=object), array(['security officer'], dtype=object), array(['windows engineer'], dtype=object), array(['general manager'], dtype=object), array(['maintenance mechanic'], dtype=object), array(['security officer'], dtype=object), array(['business development manager'], dtype=object), array(['security officer'], dtype=object), array(['office assistant'], dtype=object), array(['nurse educator'], dtype=object), array(['business analyst'], dtype=object), array(['monster'], dtype=object), array(['class a cdl truck driver'], dtype=object), array(['security officer'], dtype=object), array(['restaurant manager'], dtype=object), array(['project manager'], dtype=object), array(['executive assistant'], dtype=object), array(['paralegal'], dtype=object), array(['teller'], dtype=object), array(['ups fulltime city driver'], dtype=object), array(['monster'], dtype=object), array(['office manager'], dtype=object), array(['recruiter'], dtype=object), array(['help desk technician ii job in coppell'], dtype=object), array(['registered nurse – operating room rn – or rn – operating room nurse'],\n",
            "      dtype=object), array(['event specialist part time sales'], dtype=object), array(['manufacturing – change career to'], dtype=object), array(['monster'], dtype=object), array(['executive assistant'], dtype=object), array(['project manager'], dtype=object), array(['project manager'], dtype=object), array(['ui developer'], dtype=object), array(['field service technician'], dtype=object), array(['financial advisor'], dtype=object), array(['sr product marketing mgr'], dtype=object), array(['software engineer'], dtype=object), array(['project manager'], dtype=object), array(['disability representative sr'], dtype=object), array(['monster'], dtype=object), array(['instructional designer'], dtype=object), array(['teller'], dtype=object), array(['help desk technician ii job in coppell'], dtype=object), array(['project manager'], dtype=object), array(['case manager'], dtype=object), array(['monster'], dtype=object), array(['server'], dtype=object), array(['contract drafter'], dtype=object), array(['net developer'], dtype=object), array(['sr product marketing mgr'], dtype=object), array(['java developer'], dtype=object), array(['it'], dtype=object), array(['monster'], dtype=object), array(['speech language pathologist  slp'], dtype=object), array(['truck driver'], dtype=object), array(['senior project program manager'], dtype=object), array(['field based rn case manager'], dtype=object), array(['help desk technician ii job in coppell'], dtype=object), array(['director'], dtype=object), array(['public relations  marketing communications account coordinator'],\n",
            "      dtype=object), array(['project manager'], dtype=object), array(['cook'], dtype=object), array(['database administrator'], dtype=object), array(['front desk supervisor'], dtype=object), array(['windows engineer'], dtype=object), array(['monster'], dtype=object), array(['project manager'], dtype=object), array(['territory manager'], dtype=object), array(['monster'], dtype=object), array(['commercial sales representative'], dtype=object), array(['dishwasher'], dtype=object), array(['traveling superintendent'], dtype=object), array(['director'], dtype=object), array(['sales representative'], dtype=object), array(['it'], dtype=object), array(['ups package delivery driver'], dtype=object), array(['dishwasher'], dtype=object), array(['field based rn case manager'], dtype=object), array(['event specialist part time sales'], dtype=object), array(['restaurant general manager'], dtype=object), array(['monster'], dtype=object), array(['sales representative'], dtype=object), array(['payroll specialist'], dtype=object), array(['sr network engineer'], dtype=object), array(['truck driver'], dtype=object), array(['monster'], dtype=object), array(['assistant manager'], dtype=object), array(['rf engineer'], dtype=object), array(['help desk technician ii job in coppell'], dtype=object), array(['director'], dtype=object), array(['restaurant manager'], dtype=object), array(['event specialist part time sales'], dtype=object), array(['customer service representative'], dtype=object), array(['truck driver'], dtype=object), array(['service technician'], dtype=object), array(['monster'], dtype=object), array(['payroll supervisor'], dtype=object), array(['bilingual spanish required retail sales consultant queens west hit'],\n",
            "      dtype=object), array(['compensation analyst'], dtype=object), array(['cashier'], dtype=object), array(['electrician'], dtype=object), array(['service manager'], dtype=object), array(['it'], dtype=object), array(['monster'], dtype=object), array(['event specialist part time sales'], dtype=object), array(['sales representative'], dtype=object), array(['hr coordinator'], dtype=object), array(['entry level sales  business trainee'], dtype=object), array(['director of sales'], dtype=object), array(['front desk supervisor'], dtype=object), array(['monster'], dtype=object), array(['real estate sales'], dtype=object), array(['senior network engineer'], dtype=object), array(['project manager'], dtype=object), array(['store manager'], dtype=object), array(['java developer'], dtype=object), array(['monster'], dtype=object), array(['monster'], dtype=object), array(['registered nurse'], dtype=object), array(['truck driver – cdl  class a  transportation – full time  training provided'],\n",
            "      dtype=object), array(['monster'], dtype=object), array(['property manager'], dtype=object), array(['restaurant manager'], dtype=object), array(['production supervisor'], dtype=object), array(['account executive'], dtype=object), array(['project manager'], dtype=object), array(['account executive'], dtype=object), array(['engineer ii'], dtype=object), array(['project manager'], dtype=object), array(['engineer ii'], dtype=object), array(['deskside support representative'], dtype=object), array(['monster'], dtype=object), array(['inspector'], dtype=object), array(['alterations specialist parttime'], dtype=object), array(['paralegal'], dtype=object), array(['teller'], dtype=object), array(['monster'], dtype=object), array(['application developer'], dtype=object), array(['retail sales merchandiser full time'], dtype=object), array(['senior accountant'], dtype=object), array(['sap business intelligence manager'], dtype=object), array(['engineer ii'], dtype=object), array(['net developer'], dtype=object), array(['sales'], dtype=object), array(['financial professional associate'], dtype=object), array(['it'], dtype=object), array(['monster'], dtype=object), array(['monster'], dtype=object), array(['monster'], dtype=object), array(['help desk technician'], dtype=object), array(['senior software engineer'], dtype=object), array(['project manager'], dtype=object), array(['net developer'], dtype=object), array(['broadband technician'], dtype=object), array(['senior project program manager'], dtype=object), array(['receptionist'], dtype=object), array(['web developer'], dtype=object), array(['project manager'], dtype=object), array(['infrastructure analyst'], dtype=object), array(['ux researcher'], dtype=object), array(['project coordinator'], dtype=object), array(['senior software engineer'], dtype=object), array(['senior software engineer'], dtype=object), array(['monster'], dtype=object), array(['senior software engineer'], dtype=object), array(['business analyst'], dtype=object), array(['project manager job'], dtype=object), array(['construction project administrator'], dtype=object), array(['system administrator'], dtype=object), array(['project manager'], dtype=object), array(['java developer'], dtype=object), array(['monster'], dtype=object), array(['cyber security engineer'], dtype=object), array(['sap business intelligence manager'], dtype=object), array(['senior software engineer'], dtype=object), array(['application developer'], dtype=object), array(['project manager'], dtype=object), array(['sr network engineer'], dtype=object), array(['help desk technician'], dtype=object), array(['it'], dtype=object), array(['it'], dtype=object), array(['deskside support'], dtype=object), array(['monster'], dtype=object), array(['data center support datacenter build and implementation'],\n",
            "      dtype=object), array(['it'], dtype=object), array(['engineer ii'], dtype=object), array(['monster'], dtype=object), array(['monster'], dtype=object), array(['network engineer'], dtype=object), array(['it'], dtype=object), array(['deskside support representative'], dtype=object), array(['mechanical design engineer'], dtype=object), array(['graphic designer'], dtype=object), array(['ux researcher'], dtype=object), array(['it project manager'], dtype=object), array(['engineer'], dtype=object), array(['executive assistant'], dtype=object), array(['senior project manager'], dtype=object), array(['monster'], dtype=object), array(['bi developer'], dtype=object), array(['linux systems administrator'], dtype=object), array(['technical support analyst'], dtype=object), array(['java developer'], dtype=object), array(['monster'], dtype=object), array(['quality assurance automation engineer'], dtype=object), array(['monster'], dtype=object), array(['project manager'], dtype=object), array(['scrum master'], dtype=object), array(['sql dba'], dtype=object), array(['software developer'], dtype=object), array(['senior software engineer'], dtype=object), array(['data analyst'], dtype=object), array(['project manager'], dtype=object), array(['project coordinator'], dtype=object), array(['telecommunications analyst'], dtype=object), array(['application packager'], dtype=object), array(['program manager'], dtype=object), array(['cloud engineer'], dtype=object), array(['sap business intelligence manager'], dtype=object), array(['monster'], dtype=object), array(['project manager'], dtype=object), array(['project manager'], dtype=object), array(['data center support datacenter build and implementation'],\n",
            "      dtype=object), array(['monster'], dtype=object), array(['monster'], dtype=object), array(['database administrator'], dtype=object), array(['software engineer'], dtype=object), array(['net developer'], dtype=object), array(['rf engineer'], dtype=object), array(['genius'], dtype=object), array(['hadoop architect'], dtype=object), array(['project coordinator'], dtype=object), array(['desktop support'], dtype=object), array(['engineer ii'], dtype=object), array(['project manager'], dtype=object), array(['project manager'], dtype=object), array(['data center operator datacenter build and implementation'],\n",
            "      dtype=object), array(['it'], dtype=object), array(['ux researcher'], dtype=object), array(['software developer'], dtype=object), array(['outside sales – account executive'], dtype=object), array(['monster'], dtype=object), array(['project manager'], dtype=object), array(['scrum master'], dtype=object), array(['monster'], dtype=object), array(['monster'], dtype=object), array(['sr contracts analyst'], dtype=object), array(['project coordinator'], dtype=object), array(['customer service representative'], dtype=object), array(['it'], dtype=object), array(['broadband technician'], dtype=object), array(['project manager'], dtype=object), array(['inventory specialist'], dtype=object), array(['project manager'], dtype=object), array(['net developer'], dtype=object), array(['monster'], dtype=object), array(['web developer'], dtype=object), array(['project manager'], dtype=object), array(['network communications'], dtype=object), array(['voice engineer'], dtype=object), array(['project coordinator'], dtype=object), array(['custodian'], dtype=object), array(['monster'], dtype=object), array(['software developer'], dtype=object), array(['business analyst'], dtype=object), array(['monster'], dtype=object), array(['manager'], dtype=object), array(['sr network engineer'], dtype=object), array(['help desk technician'], dtype=object), array(['teller'], dtype=object), array(['customer service representative'], dtype=object), array(['senior net developer'], dtype=object), array(['monster'], dtype=object), array(['project manager'], dtype=object), array(['it'], dtype=object), array(['project coordinator'], dtype=object), array(['sap business intelligence manager'], dtype=object), array(['customer service representative'], dtype=object), array(['voice engineer'], dtype=object), array(['monster'], dtype=object), array(['systems administrator government'], dtype=object), array(['monster'], dtype=object), array(['project manager'], dtype=object), array(['help desk technician'], dtype=object), array(['project manager'], dtype=object), array(['systems engineer monitoring'], dtype=object), array(['data center support datacenter build and implementation'],\n",
            "      dtype=object), array(['net developer'], dtype=object), array(['net developer'], dtype=object), array(['linux systems administrator'], dtype=object), array(['ui developer'], dtype=object), array(['system administrator'], dtype=object), array(['sr network engineer'], dtype=object), array(['network security engineer'], dtype=object), array(['ux researcher'], dtype=object), array(['customer service representative'], dtype=object), array(['monster'], dtype=object), array(['maintenance technician'], dtype=object), array(['monster'], dtype=object), array(['quality engineer'], dtype=object), array(['program manager'], dtype=object), array(['qa engineer'], dtype=object), array(['manager'], dtype=object), array(['monster'], dtype=object), array(['business analyst'], dtype=object), array(['deskside support representative'], dtype=object), array(['network technician'], dtype=object), array(['project manager'], dtype=object), array(['project manager'], dtype=object), array(['it'], dtype=object), array(['senior project program manager'], dtype=object), array(['deskside support representative'], dtype=object), array(['monster'], dtype=object), array(['monster'], dtype=object), array(['deskside support'], dtype=object), array(['senior project program manager'], dtype=object), array(['it project manager'], dtype=object), array(['test lead'], dtype=object), array(['program manager'], dtype=object), array(['solution architect'], dtype=object), array(['systems administrator'], dtype=object), array(['executive assistant'], dtype=object), array(['manager'], dtype=object), array(['genius'], dtype=object), array(['desktop support'], dtype=object), array(['it'], dtype=object), array(['monster'], dtype=object), array(['deskside support'], dtype=object), array(['sap business intelligence manager'], dtype=object), array(['sap business intelligence manager'], dtype=object), array(['customer service representative'], dtype=object), array(['devops engineer'], dtype=object), array(['monster'], dtype=object), array(['monster'], dtype=object), array(['mechanical engineer'], dtype=object), array(['cisco network support technician tier i'], dtype=object), array(['sr network engineer'], dtype=object), array(['manager'], dtype=object), array(['net developer'], dtype=object), array(['director'], dtype=object), array(['it'], dtype=object), array(['senior accountant'], dtype=object), array(['technical trainer'], dtype=object), array(['project manager'], dtype=object), array(['deskside support representative'], dtype=object), array(['cyber security engineer'], dtype=object), array(['associate scientist'], dtype=object), array(['business analyst'], dtype=object), array(['senior software engineer'], dtype=object), array(['monster'], dtype=object), array(['systems administrator'], dtype=object), array(['digital marketing manager'], dtype=object), array(['financial analyst'], dtype=object), array(['senior software engineer'], dtype=object), array(['accountant'], dtype=object), array(['help desk technician ii job in coppell'], dtype=object), array(['monster'], dtype=object), array(['internal auditor'], dtype=object), array(['software engineer'], dtype=object), array(['manager'], dtype=object), array(['accounting clerk'], dtype=object), array(['monster'], dtype=object), array(['project manager'], dtype=object), array(['customer followup request specialist'], dtype=object), array(['hr generalist'], dtype=object), array(['ge aviation job application for warehouse workers'], dtype=object), array(['monster'], dtype=object), array(['payroll supervisor'], dtype=object), array(['business analyst'], dtype=object), array(['quality engineer'], dtype=object), array(['software engineer'], dtype=object), array(['project manager'], dtype=object), array(['ui developer'], dtype=object), array(['systems administrator'], dtype=object), array(['net developer'], dtype=object), array(['monster'], dtype=object), array(['monster'], dtype=object), array(['project manager'], dtype=object), array(['java developer'], dtype=object), array(['project manager'], dtype=object), array(['javaangular js developer'], dtype=object), array(['deskside support'], dtype=object), array(['business analyst'], dtype=object), array(['customer service representative'], dtype=object), array(['project manager'], dtype=object), array(['graphic designer'], dtype=object), array(['sr product manager'], dtype=object), array(['deskside support representative'], dtype=object), array(['telecommunications analyst'], dtype=object), array(['manager'], dtype=object), array(['account executive'], dtype=object), array(['it'], dtype=object), array(['it'], dtype=object), array(['net developer'], dtype=object), array(['monster'], dtype=object), array(['monster'], dtype=object), array(['retail sales'], dtype=object), array(['qaqc technician'], dtype=object), array(['monster'], dtype=object), array(['cognos developer'], dtype=object), array(['certified nursing assistant'], dtype=object), array(['controls engineer'], dtype=object), array(['service technician'], dtype=object), array(['retail sales'], dtype=object), array(['controls engineer'], dtype=object), array(['marketing communications assistant'], dtype=object), array(['sales management trainee'], dtype=object), array(['machinist'], dtype=object), array(['compliance specialist'], dtype=object), array(['manager'], dtype=object), array(['assistant manager'], dtype=object), array(['project engineer'], dtype=object), array(['retail sales'], dtype=object), array(['seasonal holiday retail sales'], dtype=object), array(['monster'], dtype=object), array(['sales manager'], dtype=object), array(['retail store manager'], dtype=object), array(['administrative assistant '], dtype=object), array(['counsel'], dtype=object), array(['development specialist'], dtype=object), array(['seasonal holiday retail merchandising'], dtype=object), array(['marketing advertising and branding associate for expanding firm'],\n",
            "      dtype=object), array(['retail commission sales'], dtype=object), array(['macys seasonal holiday retail receiving'], dtype=object), array(['monster'], dtype=object), array(['sasstatisticianremote'], dtype=object), array(['seasonal holiday retail merchandising'], dtype=object), array(['monster'], dtype=object), array(['monster'], dtype=object), array(['controls engineer'], dtype=object), array(['retail cosmetics sales'], dtype=object), array(['manager'], dtype=object), array(['sales management trainee'], dtype=object), array(['macys seasonal holiday retail receiving'], dtype=object), array(['monster'], dtype=object), array(['laboratory technician'], dtype=object), array(['outside sales representative'], dtype=object), array(['laboratory technician'], dtype=object), array(['retail cosmetics sales'], dtype=object), array(['account executive'], dtype=object), array(['monster'], dtype=object), array(['senior technical program manager'], dtype=object), array(['quality control inspector'], dtype=object), array(['technologist'], dtype=object), array(['biostatistician'], dtype=object), array(['specialty sales representative'], dtype=object), array(['retail commission sales'], dtype=object), array(['marketing communications assistant'], dtype=object), array(['myshop captain'], dtype=object), array(['seasonal holiday retail sales'], dtype=object), array(['monster'], dtype=object), array(['marketing representative'], dtype=object), array(['monster'], dtype=object), array(['receptionist'], dtype=object), array(['controls engineer'], dtype=object), array(['laboratory technician'], dtype=object), array(['monster'], dtype=object), array(['manager'], dtype=object), array(['entry level sales  business trainee'], dtype=object), array(['controls engineer'], dtype=object), array(['retail sales associates'], dtype=object), array(['automotive service advisor'], dtype=object), array(['seasonal holiday retail sales'], dtype=object), array(['crisis masters clinical counselor residential'], dtype=object), array(['social services assistant'], dtype=object), array(['monster'], dtype=object), array(['monster'], dtype=object), array(['project manager'], dtype=object), array(['driver'], dtype=object), array(['event specialist part time sales'], dtype=object), array(['monster'], dtype=object), array(['driver'], dtype=object), array(['insurance agent'], dtype=object), array(['project coordinator'], dtype=object), array(['customer service representative'], dtype=object), array(['project manager'], dtype=object), array(['sr product manager'], dtype=object), array(['customer service representative'], dtype=object), array(['public relations assistant'], dtype=object), array(['manager'], dtype=object), array(['retail sales representative'], dtype=object), array(['shift supervisor'], dtype=object), array(['project manager'], dtype=object), array(['accounting manager'], dtype=object), array(['project manager'], dtype=object), array(['associate director'], dtype=object), array(['entry level sales  business trainee'], dtype=object), array(['pharmacy technician'], dtype=object), array(['sales representative'], dtype=object), array(['shift supervisor'], dtype=object), array(['operations analyst'], dtype=object), array(['marketing representative'], dtype=object), array(['quality engineer'], dtype=object), array(['monster'], dtype=object), array(['quality engineer'], dtype=object), array(['systems quality assurance analyst'], dtype=object), array(['monster'], dtype=object), array(['monster'], dtype=object), array(['cognos developer'], dtype=object), array(['quality engineer  manufacturing'], dtype=object), array(['quality control technician  manufacturing'], dtype=object), array(['quality assurance manager'], dtype=object), array(['monster'], dtype=object), array(['java developer'], dtype=object), array(['qaqc technician'], dtype=object), array(['safety manager'], dtype=object), array(['monster'], dtype=object), array(['senior manufacturing engineer'], dtype=object), array(['quality engineer'], dtype=object), array(['monster'], dtype=object), array(['monster'], dtype=object), array(['quality engineer'], dtype=object), array(['supplier quality engineer'], dtype=object), array(['maintenance mechanic'], dtype=object), array(['regulatory affairs specialist'], dtype=object), array(['maintenance mechanic'], dtype=object), array(['quality engineer'], dtype=object), array(['data analyst'], dtype=object), array(['quality control tech'], dtype=object), array(['supplier quality engineer'], dtype=object), array(['quality manager'], dtype=object), array(['chemist'], dtype=object), array(['quality assurance tester'], dtype=object), array(['qa tester'], dtype=object), array(['monster'], dtype=object), array(['monster'], dtype=object), array(['quality engineer'], dtype=object), array(['monster'], dtype=object), array(['safety manager'], dtype=object), array(['quality assurance supervisor'], dtype=object), array(['project manager'], dtype=object), array(['monster'], dtype=object), array(['custodian'], dtype=object), array(['monster'], dtype=object), array(['monster'], dtype=object), array(['monster'], dtype=object), array(['quality engineer'], dtype=object), array(['monster'], dtype=object), array(['monster'], dtype=object), array(['monster'], dtype=object), array(['monster'], dtype=object), array(['safety manager'], dtype=object), array(['tmobjp'], dtype=object), array(['paralegal'], dtype=object), array(['safety manager'], dtype=object), array(['quality engineer'], dtype=object), array(['staff accountant'], dtype=object), array(['senior auditor'], dtype=object), array(['monster'], dtype=object), array(['ehs manager'], dtype=object), array(['monster'], dtype=object), array(['quality assurance manager'], dtype=object), array(['quality engineer'], dtype=object), array(['monster'], dtype=object), array(['instructional designer'], dtype=object), array(['quality control manager'], dtype=object), array(['quality control inspector'], dtype=object), array(['monster'], dtype=object), array(['monster'], dtype=object), array(['quality engineer'], dtype=object), array(['network engineer'], dtype=object), array(['quality assurance automation engineer'], dtype=object), array(['quality manager'], dtype=object), array(['quality manager'], dtype=object), array(['monster'], dtype=object), array(['quality manager'], dtype=object), array(['monster'], dtype=object), array(['maintenance mechanic'], dtype=object), array(['monster'], dtype=object), array(['monster'], dtype=object), array(['staff accountant'], dtype=object), array(['regulatory affairs specialist'], dtype=object), array(['quality engineer'], dtype=object), array(['maintenance mechanic'], dtype=object), array(['quality engineer'], dtype=object), array(['monster'], dtype=object), array(['gauge process engineer'], dtype=object), array(['monster'], dtype=object), array(['quality assurance automation engineer'], dtype=object), array(['monster'], dtype=object), array(['technician'], dtype=object), array(['manager'], dtype=object), array(['quality engineer'], dtype=object), array(['monster'], dtype=object), array(['monster'], dtype=object), array(['quality assurance manager'], dtype=object), array(['quality control technician  manufacturing'], dtype=object), array(['monster'], dtype=object), array(['quality assurance manager'], dtype=object), array(['quality engineer'], dtype=object), array(['assembler'], dtype=object), array(['monster'], dtype=object), array(['test engineer'], dtype=object), array(['quality control technician  manufacturing'], dtype=object), array(['database administrator'], dtype=object), array(['monster'], dtype=object), array(['monster'], dtype=object), array(['test engineer'], dtype=object), array(['test engineer'], dtype=object), array(['program manager'], dtype=object), array(['monster'], dtype=object), array(['quality engineer'], dtype=object), array(['pharmacist'], dtype=object), array(['monster'], dtype=object), array(['net developer'], dtype=object), array(['quality engineer'], dtype=object), array(['quality assurance manager'], dtype=object), array(['laboratory technician'], dtype=object), array(['maintenance mechanic'], dtype=object), array(['quality assurance supervisor'], dtype=object), array(['quality control technician'], dtype=object), array(['monster'], dtype=object), array(['quality assurance manager'], dtype=object), array(['phlebotomist'], dtype=object), array(['quality control technician'], dtype=object), array(['performance engineer'], dtype=object), array(['quality engineer'], dtype=object), array(['paralegal'], dtype=object), array(['monster'], dtype=object), array(['quality engineer'], dtype=object), array(['monster'], dtype=object), array(['quality engineer'], dtype=object), array(['quality assurance manager'], dtype=object), array(['safety manager'], dtype=object), array(['monster'], dtype=object), array(['systems quality assurance analyst'], dtype=object), array(['monster'], dtype=object), array(['quality engineer'], dtype=object), array(['quality engineer'], dtype=object), array(['maintenance mechanic'], dtype=object), array(['quality assurance automation engineer'], dtype=object), array(['monster'], dtype=object), array(['electrical engineer'], dtype=object), array(['police officer'], dtype=object), array(['monster'], dtype=object), array(['monster'], dtype=object), array(['administrative assistant '], dtype=object), array(['quality engineer'], dtype=object), array(['maintenance mechanic'], dtype=object), array(['project manager'], dtype=object), array(['monster'], dtype=object), array(['qc chemist'], dtype=object), array(['monster'], dtype=object), array(['retail cosmetics sales'], dtype=object), array(['project engineer'], dtype=object), array(['monster'], dtype=object), array(['performance engineer'], dtype=object), array(['quality manager'], dtype=object), array(['monster'], dtype=object), array(['quality control technician  manufacturing'], dtype=object), array(['shipping'], dtype=object), array(['quality engineer'], dtype=object), array(['quality manager'], dtype=object), array(['document control specialist'], dtype=object), array(['monster'], dtype=object), array(['monster'], dtype=object), array(['workers compensation paralegal'], dtype=object), array(['quality engineer'], dtype=object), array(['quality engineer'], dtype=object), array(['safety manager'], dtype=object), array(['maintenance mechanic'], dtype=object), array(['monster'], dtype=object), array(['cnet developer'], dtype=object), array(['estimator'], dtype=object), array(['project manager'], dtype=object), array(['office manager'], dtype=object), array(['monster'], dtype=object), array(['qc chemist'], dtype=object), array(['monster'], dtype=object), array(['monster'], dtype=object), array(['automation engineer'], dtype=object), array(['quality assurance automation engineer'], dtype=object), array(['quality manager'], dtype=object), array(['restaurant manager'], dtype=object), array(['repair services associate i'], dtype=object), array(['monster'], dtype=object), array(['tmobjp'], dtype=object), array(['quality inspector fai'], dtype=object), array(['monster'], dtype=object), array(['manager'], dtype=object), array(['monster'], dtype=object), array(['senior manager'], dtype=object), array(['quality engineer'], dtype=object), array(['monster'], dtype=object), array(['manager'], dtype=object), array(['monster'], dtype=object), array(['safety manager'], dtype=object), array(['monster'], dtype=object), array(['monster'], dtype=object), array(['maintenance technician'], dtype=object), array(['monster'], dtype=object), array(['quality technician'], dtype=object), array(['tooling engineer'], dtype=object), array(['monster'], dtype=object), array(['estimator'], dtype=object), array(['project manager'], dtype=object), array(['monster'], dtype=object), array(['manufacturing engineer'], dtype=object), array(['operations manager'], dtype=object), array(['maintenance mechanic'], dtype=object), array(['monster'], dtype=object), array(['forklift operator'], dtype=object), array(['quality engineer'], dtype=object), array(['qulailty project manager'], dtype=object), array(['document control specialist'], dtype=object), array(['monster'], dtype=object), array(['quality engineer'], dtype=object), array(['project manager'], dtype=object), array(['monster'], dtype=object), array(['registered nurse rn'], dtype=object), array(['monster'], dtype=object), array(['teller'], dtype=object), array(['restaurant manager'], dtype=object), array(['restaurant servers'], dtype=object), array(['dietary aide'], dtype=object), array(['rn case manager'], dtype=object), array(['medical biller'], dtype=object), array(['server'], dtype=object), array(['restaurant manager'], dtype=object), array(['warehouse worker'], dtype=object), array(['wellness nurse'], dtype=object), array(['cook'], dtype=object), array(['monster'], dtype=object), array(['retail cosmetics sales'], dtype=object), array(['restaurant manager'], dtype=object), array(['dietary aide'], dtype=object), array(['server'], dtype=object), array(['general manager'], dtype=object), array(['dietary aide'], dtype=object), array(['catering worker'], dtype=object), array(['field service technician'], dtype=object), array(['catering worker'], dtype=object), array(['student worker'], dtype=object), array(['restaurant manager'], dtype=object), array(['server'], dtype=object), array(['qulailty project manager'], dtype=object), array(['server'], dtype=object), array(['payroll lead ii'], dtype=object), array(['server'], dtype=object), array(['host  hostess'], dtype=object), array(['licensed vocational nurse'], dtype=object), array(['receptionist'], dtype=object), array(['licensed vocational nurse'], dtype=object), array(['server'], dtype=object), array(['prepared foods clerk part time'], dtype=object), array(['physical therapist'], dtype=object), array(['baker'], dtype=object), array(['monster'], dtype=object), array(['nurse practitioner'], dtype=object), array(['social services assistant'], dtype=object), array(['host  hostess'], dtype=object), array(['senior assistant restaurant manager'], dtype=object), array(['cook'], dtype=object), array(['server'], dtype=object), array(['payroll lead ii'], dtype=object), array(['server'], dtype=object), array(['registered nurse rn'], dtype=object), array(['lead cook'], dtype=object), array(['diesel mechanic level'], dtype=object), array(['maintenance mechanic'], dtype=object), array(['mobile equipment mechanic'], dtype=object), array(['mobile equipment mechanic'], dtype=object), array(['plant manager'], dtype=object), array(['pest control technician – field service rep entry level'],\n",
            "      dtype=object), array(['project manager'], dtype=object), array(['financial advisor'], dtype=object), array(['devops engineer'], dtype=object), array(['field based rn case manager'], dtype=object), array(['phlebotomist'], dtype=object), array(['restaurant shift leader'], dtype=object), array(['heavy equipment mechanic'], dtype=object), array(['project manager'], dtype=object), array(['senior financial analyst'], dtype=object), array(['quality control inspector'], dtype=object), array(['recruiter'], dtype=object), array(['sales representative'], dtype=object), array(['quality engineer  manufacturing'], dtype=object), array(['payroll specialist'], dtype=object), array(['it'], dtype=object), array(['recruiter'], dtype=object), array(['associate editor'], dtype=object), array(['project coordinator'], dtype=object), array(['diesel mechanic'], dtype=object), array(['sales representative'], dtype=object), array(['maintenance manager'], dtype=object), array(['cash logistics processor'], dtype=object), array(['ultimate placements job application for regional new business development manager  monstercom var monslogvars  jobid'],\n",
            "      dtype=object), array(['general laborer'], dtype=object), array(['litigation paralegals and legal secretaries'], dtype=object), array(['forklift operator'], dtype=object), array(['executive director'], dtype=object), array(['monster'], dtype=object), array(['devops engineer'], dtype=object), array(['truck driver'], dtype=object), array(['cybercoders job application for project manager bilingual spanish'],\n",
            "      dtype=object), array(['monster'], dtype=object), array(['manager'], dtype=object), array(['marketing representative'], dtype=object), array(['assistant manager market management'], dtype=object), array(['sales'], dtype=object), array(['project manager'], dtype=object), array(['truck driver'], dtype=object), array(['shipping clerk'], dtype=object), array(['hr generalist'], dtype=object), array(['maintenance technician'], dtype=object), array(['event planner and coordinator'], dtype=object), array(['monster'], dtype=object), array(['monster'], dtype=object), array(['resident care specialist'], dtype=object), array(['developer'], dtype=object), array(['monster'], dtype=object), array(['quality engineer'], dtype=object), array(['project manager'], dtype=object), array(['unit manager rn'], dtype=object), array(['litigation paralegals and legal secretaries'], dtype=object), array(['buyer'], dtype=object), array(['monster'], dtype=object), array(['litigation paralegals and legal secretaries'], dtype=object), array(['project manager'], dtype=object), array(['light industrial'], dtype=object), array(['monster'], dtype=object), array(['customer service'], dtype=object), array(['monster'], dtype=object), array(['monster'], dtype=object), array(['material handler'], dtype=object), array(['production supervisor'], dtype=object), array(['entry level management'], dtype=object), array(['retail sales merchandiser full time'], dtype=object), array(['sql developer'], dtype=object), array(['quality inspector'], dtype=object), array(['monster'], dtype=object), array(['event planner and coordinator'], dtype=object), array(['monster'], dtype=object), array(['diesel technician'], dtype=object), array(['class a cdl driver'], dtype=object), array(['level  remote support engineer'], dtype=object), array(['desktop support'], dtype=object), array(['program manager'], dtype=object), array(['marketing representative'], dtype=object), array(['monster'], dtype=object), array(['monster'], dtype=object), array(['professional maintenance and cleaning services'], dtype=object), array(['customer service representative'], dtype=object), array(['mechanical engineer'], dtype=object), array(['monster'], dtype=object), array(['java developer'], dtype=object), array(['aflac insurance sales agent'], dtype=object), array(['senior scientist'], dtype=object), array(['business development manager'], dtype=object), array(['litigation paralegals and legal secretaries'], dtype=object), array(['class a cdl driver'], dtype=object), array(['production supervisor'], dtype=object), array(['real estate paralegal'], dtype=object), array(['devops engineer'], dtype=object), array(['monster'], dtype=object), array(['delivery associate'], dtype=object), array(['monster'], dtype=object), array(['net developer'], dtype=object), array(['retail data collector part time'], dtype=object), array(['customer followup request specialist'], dtype=object), array(['customer service representative'], dtype=object), array(['collector  patient account representative'], dtype=object), array(['visual associate'], dtype=object), array(['operations manager'], dtype=object), array(['monster'], dtype=object), array(['customer service representative'], dtype=object), array(['accounts receivable clerk'], dtype=object), array(['forensic case file manager'], dtype=object), array(['monster'], dtype=object), array(['estimator'], dtype=object), array(['project manager'], dtype=object), array(['monster'], dtype=object), array(['monster'], dtype=object), array(['security engineer'], dtype=object), array(['att job application for consultant professional services  atc'],\n",
            "      dtype=object), array(['rn'], dtype=object), array(['entry level accountant'], dtype=object), array(['monster'], dtype=object), array(['maintenance mechanic'], dtype=object), array(['maintenance mechanic'], dtype=object), array(['att job application for consultant professional services  atc'],\n",
            "      dtype=object), array(['food service director'], dtype=object), array(['monster'], dtype=object), array(['monster'], dtype=object), array(['accounts payable specialist'], dtype=object), array(['team lead'], dtype=object), array(['rn'], dtype=object), array(['monster'], dtype=object), array(['forklift operator'], dtype=object), array(['office services associate'], dtype=object), array(['monster'], dtype=object), array(['estimator'], dtype=object), array(['class a cdl driver'], dtype=object), array(['maintenance technician'], dtype=object), array(['account manager'], dtype=object), array(['monster'], dtype=object), array(['business analyst'], dtype=object), array(['sales representative'], dtype=object), array(['medical biller'], dtype=object), array(['sales rep  outside sales  territory sales'], dtype=object), array(['customer service representative'], dtype=object), array(['per diem hospice nurse practitioner'], dtype=object), array(['full time home health registered nurse'], dtype=object), array(['project engineer'], dtype=object), array(['cyber security engineer'], dtype=object), array(['field service technician'], dtype=object), array(['monster'], dtype=object), array(['american income life job application for customer service associate needed before the new year  monstercom var monslogvars  jobid'],\n",
            "      dtype=object), array(['maintenance mechanic'], dtype=object), array(['class a cdl driver'], dtype=object), array(['controls engineer'], dtype=object), array(['paralegal'], dtype=object), array(['customer service representative level iv'], dtype=object), array(['monster'], dtype=object), array(['managing director'], dtype=object), array(['claims adjuster'], dtype=object), array(['business analyst'], dtype=object), array(['real estate sales'], dtype=object), array(['pest control technician – field service rep entry level'],\n",
            "      dtype=object), array(['restaurant manager'], dtype=object), array(['security analyst'], dtype=object), array(['aflac insurance sales agent'], dtype=object), array(['production supervisor'], dtype=object), array(['project manager'], dtype=object), array(['driver'], dtype=object), array(['monster'], dtype=object), array(['production supervisor'], dtype=object), array(['php developer'], dtype=object), array(['tmobjp'], dtype=object), array(['java developer'], dtype=object), array(['government account manager'], dtype=object), array(['preoppacu rn'], dtype=object), array(['financial analyst'], dtype=object), array(['aflac insurance sales agent'], dtype=object), array(['monster'], dtype=object), array(['measure tech'], dtype=object), array(['controller'], dtype=object), array(['quality manager'], dtype=object), array(['quality control tech'], dtype=object), array(['mental health specialist'], dtype=object), array(['american income life job application for customer service associate needed before the new year  monstercom var monslogvars  jobid'],\n",
            "      dtype=object), array(['monster'], dtype=object), array(['driver'], dtype=object), array(['maintenance mechanic'], dtype=object), array(['sales representative'], dtype=object), array(['help desk technician'], dtype=object), array(['quality assurance'], dtype=object), array(['restaurant manager'], dtype=object), array(['monster'], dtype=object), array(['accounts payable specialist'], dtype=object), array(['field service drivers'], dtype=object), array(['monster'], dtype=object), array(['monster'], dtype=object), array(['auto club group job application for valet  monstercom var monslogvars  jobid'],\n",
            "      dtype=object), array(['light industrial'], dtype=object), array(['monster'], dtype=object), array(['lending compliance officer'], dtype=object), array(['financial advisor  financial sales representative'], dtype=object), array(['maintenance mechanic'], dtype=object), array(['tmobjp'], dtype=object), array(['att job application for consultant professional services  atc'],\n",
            "      dtype=object), array(['field engineer'], dtype=object), array(['monster'], dtype=object), array(['net developer'], dtype=object), array(['accounts receivable  payroll'], dtype=object), array(['outside sales'], dtype=object), array(['b military police'], dtype=object), array(['hr generalist'], dtype=object), array(['aflac insurance sales agent'], dtype=object), array(['project manager'], dtype=object), array(['project manager'], dtype=object), array(['financial analyst'], dtype=object), array(['estimator'], dtype=object), array(['b lightwheel vehicle mechanic'], dtype=object), array(['quality assurance manager'], dtype=object), array(['sous chef  kitchen manager'], dtype=object), array(['paralegal'], dtype=object), array(['tmobjp'], dtype=object), array(['monster'], dtype=object), array(['project manager'], dtype=object), array(['monster'], dtype=object), array(['project manager'], dtype=object), array(['sales'], dtype=object), array(['tmobjp'], dtype=object), array(['b lightwheel vehicle mechanic'], dtype=object), array(['resident care specialist'], dtype=object), array(['monster'], dtype=object), array(['per diem hospice nurse practitioner'], dtype=object), array(['software developer'], dtype=object), array(['insurance agent'], dtype=object), array(['territory sales account manager – outside sales'], dtype=object), array(['warehouse associate'], dtype=object), array(['sales representative'], dtype=object), array(['american income life job application for customer service associate needed before the new year  monstercom var monslogvars  jobid'],\n",
            "      dtype=object), array(['n horizontal construction engineers'], dtype=object), array(['project manager'], dtype=object), array(['surgery center administrator'], dtype=object), array(['aflac insurance sales agent'], dtype=object), array(['monster'], dtype=object), array(['business analyst'], dtype=object), array(['administrative assistant'], dtype=object), array(['maintenance mechanic'], dtype=object), array(['monster'], dtype=object), array(['maintenance mechanic'], dtype=object), array(['tmobjp'], dtype=object), array(['rn'], dtype=object), array(['retail supervisor full time'], dtype=object), array(['monster'], dtype=object), array(['quality assurance supervisor'], dtype=object), array(['maintenance technician'], dtype=object), array(['customer service representative'], dtype=object), array(['tmobjp'], dtype=object), array(['production manager'], dtype=object), array(['quality control technician  manufacturing'], dtype=object), array(['warehouse team lead'], dtype=object), array(['monster'], dtype=object), array(['truck driver  cdl a  home nightly'], dtype=object)]\n"
          ]
        }
      ],
      "source": [
        "print(predictions)"
      ]
    },
    {
      "cell_type": "code",
      "execution_count": null,
      "id": "eeaf3f72",
      "metadata": {
        "id": "eeaf3f72"
      },
      "outputs": [],
      "source": [
        "prediction_df = pd.DataFrame(predictions, columns=['Title'])\n"
      ]
    },
    {
      "cell_type": "code",
      "execution_count": null,
      "id": "97a2caa3",
      "metadata": {
        "id": "97a2caa3"
      },
      "outputs": [],
      "source": [
        "prediction_df.to_csv('predictions_final_optimal.csv',sep=',',index=True)"
      ]
    }
  ],
  "metadata": {
    "kernelspec": {
      "display_name": "Python 3 (ipykernel)",
      "language": "python",
      "name": "python3"
    },
    "language_info": {
      "codemirror_mode": {
        "name": "ipython",
        "version": 3
      },
      "file_extension": ".py",
      "mimetype": "text/x-python",
      "name": "python",
      "nbconvert_exporter": "python",
      "pygments_lexer": "ipython3",
      "version": "3.9.7"
    },
    "colab": {
      "name": "Job_Title_Prediction_reduced_class.ipynb",
      "provenance": [],
      "include_colab_link": true
    }
  },
  "nbformat": 4,
  "nbformat_minor": 5
}